{
 "cells": [
  {
   "cell_type": "code",
   "execution_count": 1,
   "metadata": {},
   "outputs": [],
   "source": [
    "import os\n",
    "os.chdir('..')"
   ]
  },
  {
   "cell_type": "code",
   "execution_count": 2,
   "metadata": {},
   "outputs": [],
   "source": [
    "import numpy as np\n",
    "import math\n",
    "import torch\n",
    "from torch import nn\n",
    "from torch import functional as F\n",
    "import scipy.stats as stats\n",
    "import matplotlib\n",
    "import matplotlib.pyplot as plt\n",
    "from livelossplot import PlotLosses\n",
    "from Inference.Variational import MeanFieldVariationalDistribution\n",
    "#from Inference.VariationalBoosting import MeanFieldVariationalMixtureDistribution\n",
    "from Tools.NNtools import *"
   ]
  },
  {
   "cell_type": "code",
   "execution_count": 3,
   "metadata": {},
   "outputs": [
    {
     "data": {
      "text/plain": [
       "device(type='cpu')"
      ]
     },
     "execution_count": 3,
     "metadata": {},
     "output_type": "execute_result"
    }
   ],
   "source": [
    "device = torch.device('cuda:0' if torch.cuda.is_available() else 'cpu')\n",
    "device"
   ]
  },
  {
   "cell_type": "code",
   "execution_count": null,
   "metadata": {},
   "outputs": [],
   "source": []
  },
  {
   "cell_type": "code",
   "execution_count": 4,
   "metadata": {},
   "outputs": [],
   "source": [
    "# load data and make it in proper shape\n",
    "data = torch.load('data/foong_data.pt')\n",
    "x_data = data[0].to(device)\n",
    "y_data = data[1].to(device)\n",
    "y_data = y_data.unsqueeze(-1)"
   ]
  },
  {
   "cell_type": "code",
   "execution_count": 5,
   "metadata": {},
   "outputs": [],
   "source": [
    "model = nn.Sequential( nn.Linear(1, 20),\n",
    "                       nn.Tanh(), \n",
    "                       nn.Linear(20, 1),\n",
    "                     ).to(device)"
   ]
  },
  {
   "cell_type": "code",
   "execution_count": 6,
   "metadata": {},
   "outputs": [],
   "source": [
    "param_count = get_param(model).shape[0]"
   ]
  },
  {
   "cell_type": "code",
   "execution_count": 7,
   "metadata": {},
   "outputs": [],
   "source": [
    "flip_parameters_to_tensors(model)"
   ]
  },
  {
   "cell_type": "code",
   "execution_count": null,
   "metadata": {},
   "outputs": [],
   "source": []
  },
  {
   "cell_type": "code",
   "execution_count": 8,
   "metadata": {},
   "outputs": [],
   "source": [
    "prior = MeanFieldVariationalDistribution(param_count, sigma=1.0, device=device)\n",
    "prior.mu.requires_grad = False\n",
    "prior.rho.requires_grad = False"
   ]
  },
  {
   "cell_type": "code",
   "execution_count": 9,
   "metadata": {},
   "outputs": [],
   "source": [
    "def logprior(x):\n",
    "    return prior.log_prob(x)"
   ]
  },
  {
   "cell_type": "code",
   "execution_count": 10,
   "metadata": {},
   "outputs": [],
   "source": [
    "def loglikelihood(theta, model, x, y, sigma_noise):\n",
    "    def _log_norm(x, mu, std):\n",
    "        return -0.5 * torch.log(2*np.pi*std**2) -(0.5 * (1/(std**2))* (x-mu)**2)\n",
    "    #set_param(model, theta)\n",
    "    set_all_parameters(model, theta)\n",
    "    y_pred = model(x)\n",
    "    L = _log_norm(y_pred, y, torch.tensor([sigma_noise],device=device))\n",
    "    return torch.sum(L).unsqueeze(-1)"
   ]
  },
  {
   "cell_type": "code",
   "execution_count": 11,
   "metadata": {},
   "outputs": [],
   "source": [
    "def logposterior(theta, model, x, y, sigma_noise):\n",
    "    return logprior(theta) + loglikelihood(theta, model, x, y, sigma_noise)"
   ]
  },
  {
   "cell_type": "code",
   "execution_count": null,
   "metadata": {},
   "outputs": [],
   "source": []
  },
  {
   "cell_type": "code",
   "execution_count": 153,
   "metadata": {},
   "outputs": [],
   "source": [
    "def Boost(qC, n_samples_ELBO):\n",
    "    qC.requires_grad_(False)\n",
    "    for c in qC.components:\n",
    "        c.mu.detach_()\n",
    "        c.rho.detach_()\n",
    "    \n",
    "    std = torch.distributions.Gamma(torch.tensor([1.0]), torch.tensor([1.0])).sample()[0].float()\n",
    "    \n",
    "    q_new = MeanFieldVariationalDistribution(param_count, sigma=0.0000001, device=device)\n",
    "    unbounded_prop_new = torch.tensor(2.0, device=device).requires_grad_(True)\n",
    "\n",
    "    q_new.mu = nn.Parameter( torch.empty([1,param_count],device=device).normal_(std=std), requires_grad=True)\n",
    "    #q_new.mu = nn.Parameter(prior.sample()[0,:].detach().clone().to(device), requires_grad=True) \n",
    "\n",
    "    q_new.rho.requires_grad = True\n",
    "    q_new.mu.requires_grad = True\n",
    "    \n",
    "    optimizer = torch.optim.Adam(list(q_new.parameters())+[unbounded_prop_new], lr=0.01)\n",
    "    scheduler = torch.optim.lr_scheduler.ReduceLROnPlateau(optimizer, patience=100, factor=0.9)\n",
    "\n",
    "    %matplotlib inline\n",
    "    liveloss = PlotLosses()\n",
    "    for t in range(10000):\n",
    "        logs = {}\n",
    "        optimizer.zero_grad()\n",
    "\n",
    "        Ln = []\n",
    "        for j in range(n_samples_ELBO):\n",
    "            Xc = qC.sample(1)\n",
    "            Xnew = q_new.sample(1)\n",
    "            prop_new = torch.sigmoid(unbounded_prop_new)\n",
    "\n",
    "            v = -(1-prop_new)*torch.mean(logposterior(Xc, model, x_data, y_data, sigma_noise=0.1) - qC.log_prob_augmented(Xc, q_new, unbounded_prop_new)) - \\\n",
    "            prop_new*torch.mean(logposterior(Xnew, model, x_data, y_data, sigma_noise=0.1) - qC.log_prob_augmented(Xnew, q_new, unbounded_prop_new))\n",
    "\n",
    "            Ln.append(v)\n",
    "            \n",
    "        L = torch.stack(Ln).mean()\n",
    "        L.backward()\n",
    "\n",
    "        learning_rate = optimizer.param_groups[0]['lr']\n",
    "\n",
    "        scheduler.step(L.detach().clone().cpu().numpy())\n",
    "        logs['ELBO'] = L.detach().clone().cpu().numpy()\n",
    "        logs['learning rate'] = learning_rate\n",
    "        liveloss.update(logs)\n",
    "\n",
    "        if t % 10 == 0:\n",
    "            liveloss.draw()\n",
    "\n",
    "        optimizer.step()\n",
    "\n",
    "        if learning_rate < 0.001:\n",
    "            break\n",
    "\n",
    "    q_new.rho.detach_().requires_grad_(False)\n",
    "    q_new.mu.detach_().requires_grad_(False)\n",
    "\n",
    "    optimizer = torch.optim.Adam(list(q_new.parameters())+[unbounded_prop_new], lr=0.01)\n",
    "    scheduler = torch.optim.lr_scheduler.ReduceLROnPlateau(optimizer, patience=100, factor=0.5)\n",
    "\n",
    "    for t in range(1000):\n",
    "        logs = {}\n",
    "        optimizer.zero_grad()\n",
    "\n",
    "        Ln = []\n",
    "        for j in range(n_samples_ELBO):\n",
    "            Xc = qC.sample(1)\n",
    "            Xnew = q_new.sample(1)\n",
    "            prop_new = torch.sigmoid(unbounded_prop_new)\n",
    "\n",
    "            v = -(1-prop_new)*torch.mean(logposterior(Xc, model, x_data, y_data, sigma_noise=0.1) - qC.log_prob_augmented(Xc, q_new, unbounded_prop_new)) - \\\n",
    "            prop_new*torch.mean(logposterior(Xnew, model, x_data, y_data, sigma_noise=0.1) - qC.log_prob_augmented(Xnew, q_new, unbounded_prop_new))\n",
    "\n",
    "            Ln.append(v)\n",
    "\n",
    "        L = torch.stack(Ln).mean()\n",
    "        L.backward()\n",
    "\n",
    "        learning_rate = optimizer.param_groups[0]['lr']\n",
    "\n",
    "        scheduler.step(L.detach().clone().cpu().numpy())\n",
    "        logs['ELBO'] = L.detach().clone().cpu().numpy()\n",
    "        logs['learning rate'] = learning_rate\n",
    "        liveloss.update(logs)\n",
    "\n",
    "        if t % 10 == 0:\n",
    "            liveloss.draw()\n",
    "\n",
    "        optimizer.step()\n",
    "\n",
    "        if learning_rate < 0.001:\n",
    "            break\n",
    "\n",
    "    print(torch.sigmoid(unbounded_prop_new))\n",
    "            \n",
    "    if torch.sigmoid(unbounded_prop_new) > 0.05/len(qC.components):\n",
    "        components = qC.components + [q_new]\n",
    "        proportions = torch.cat([(1-torch.sigmoid(unbounded_prop_new))*qC.proportions, torch.tensor([torch.sigmoid(unbounded_prop_new)],device=device)]).detach()\n",
    "\n",
    "        qC_new = MeanFieldVariationalMixtureDistribution(proportions, components, device=device)\n",
    "    else:\n",
    "        qC_new = qC\n",
    "    return qC_new"
   ]
  },
  {
   "cell_type": "code",
   "execution_count": null,
   "metadata": {},
   "outputs": [],
   "source": []
  },
  {
   "cell_type": "code",
   "execution_count": null,
   "metadata": {},
   "outputs": [],
   "source": []
  },
  {
   "cell_type": "markdown",
   "metadata": {},
   "source": [
    "# Variational Distribution #"
   ]
  },
  {
   "cell_type": "code",
   "execution_count": 13,
   "metadata": {},
   "outputs": [],
   "source": [
    "std = torch.distributions.Gamma(torch.tensor([1.0]), torch.tensor([1.0])).sample()[0].float()\n",
    "q = MeanFieldVariationalDistribution(param_count, sigma=0.0000001, device=device)\n",
    "q.mu = nn.Parameter( torch.empty([1,param_count],device=device).normal_(std=std), requires_grad=True)\n",
    "q.rho.requires_grad = True\n",
    "q.mu.requires_grad = True"
   ]
  },
  {
   "cell_type": "code",
   "execution_count": 14,
   "metadata": {},
   "outputs": [],
   "source": [
    "q.mu.detach_().requires_grad_(True)\n",
    "q.rho.detach_().requires_grad_(True);"
   ]
  },
  {
   "cell_type": "code",
   "execution_count": 15,
   "metadata": {},
   "outputs": [],
   "source": [
    "n_samples_ELBO = 5"
   ]
  },
  {
   "cell_type": "code",
   "execution_count": 16,
   "metadata": {},
   "outputs": [],
   "source": [
    "optimizer = torch.optim.Adam(q.parameters(), lr=0.01)\n",
    "scheduler = torch.optim.lr_scheduler.ReduceLROnPlateau(optimizer, patience=100, factor=0.9)"
   ]
  },
  {
   "cell_type": "code",
   "execution_count": 17,
   "metadata": {},
   "outputs": [
    {
     "data": {
      "image/png": "[encoded data removed]",
      "text/plain": [
       "<Figure size 864x576 with 2 Axes>"
      ]
     },
     "metadata": {
      "needs_background": "light"
     },
     "output_type": "display_data"
    },
    {
     "name": "stdout",
     "output_type": "stream",
     "text": [
      "ELBO:\n",
      "training   (min:  -11.345, max: 5114.258, cur:    8.136)\n",
      "\n",
      "learning rate:\n",
      "training   (min:    0.003, max:    0.010, cur:    0.003)\n"
     ]
    },
    {
     "ename": "KeyboardInterrupt",
     "evalue": "",
     "output_type": "error",
     "traceback": [
      "\u001b[1;31m---------------------------------------------------------------------------\u001b[0m",
      "\u001b[1;31mKeyboardInterrupt\u001b[0m                         Traceback (most recent call last)",
      "\u001b[1;32m<ipython-input-17-87d4d1f3c0db>\u001b[0m in \u001b[0;36m<module>\u001b[1;34m\u001b[0m\n\u001b[0;32m     13\u001b[0m \u001b[1;33m\u001b[0m\u001b[0m\n\u001b[0;32m     14\u001b[0m     \u001b[0mL\u001b[0m \u001b[1;33m=\u001b[0m \u001b[0mtorch\u001b[0m\u001b[1;33m.\u001b[0m\u001b[0mstack\u001b[0m\u001b[1;33m(\u001b[0m\u001b[0mLn\u001b[0m\u001b[1;33m)\u001b[0m\u001b[1;33m.\u001b[0m\u001b[0mmean\u001b[0m\u001b[1;33m(\u001b[0m\u001b[1;33m)\u001b[0m\u001b[1;33m\u001b[0m\u001b[1;33m\u001b[0m\u001b[0m\n\u001b[1;32m---> 15\u001b[1;33m     \u001b[0mL\u001b[0m\u001b[1;33m.\u001b[0m\u001b[0mbackward\u001b[0m\u001b[1;33m(\u001b[0m\u001b[1;33m)\u001b[0m\u001b[1;33m\u001b[0m\u001b[1;33m\u001b[0m\u001b[0m\n\u001b[0m\u001b[0;32m     16\u001b[0m \u001b[1;33m\u001b[0m\u001b[0m\n\u001b[0;32m     17\u001b[0m     \u001b[0mlearning_rate\u001b[0m \u001b[1;33m=\u001b[0m \u001b[0moptimizer\u001b[0m\u001b[1;33m.\u001b[0m\u001b[0mparam_groups\u001b[0m\u001b[1;33m[\u001b[0m\u001b[1;36m0\u001b[0m\u001b[1;33m]\u001b[0m\u001b[1;33m[\u001b[0m\u001b[1;34m'lr'\u001b[0m\u001b[1;33m]\u001b[0m\u001b[1;33m\u001b[0m\u001b[1;33m\u001b[0m\u001b[0m\n",
      "\u001b[1;32m~\\Anaconda3\\envs\\MachineLearningV1\\lib\\site-packages\\torch\\tensor.py\u001b[0m in \u001b[0;36mbackward\u001b[1;34m(self, gradient, retain_graph, create_graph)\u001b[0m\n\u001b[0;32m    100\u001b[0m                 \u001b[0mproducts\u001b[0m\u001b[1;33m.\u001b[0m \u001b[0mDefaults\u001b[0m \u001b[0mto\u001b[0m\u001b[0;31m \u001b[0m\u001b[0;31m`\u001b[0m\u001b[0;31m`\u001b[0m\u001b[1;32mFalse\u001b[0m\u001b[0;31m`\u001b[0m\u001b[0;31m`\u001b[0m\u001b[1;33m.\u001b[0m\u001b[1;33m\u001b[0m\u001b[1;33m\u001b[0m\u001b[0m\n\u001b[0;32m    101\u001b[0m         \"\"\"\n\u001b[1;32m--> 102\u001b[1;33m         \u001b[0mtorch\u001b[0m\u001b[1;33m.\u001b[0m\u001b[0mautograd\u001b[0m\u001b[1;33m.\u001b[0m\u001b[0mbackward\u001b[0m\u001b[1;33m(\u001b[0m\u001b[0mself\u001b[0m\u001b[1;33m,\u001b[0m \u001b[0mgradient\u001b[0m\u001b[1;33m,\u001b[0m \u001b[0mretain_graph\u001b[0m\u001b[1;33m,\u001b[0m \u001b[0mcreate_graph\u001b[0m\u001b[1;33m)\u001b[0m\u001b[1;33m\u001b[0m\u001b[1;33m\u001b[0m\u001b[0m\n\u001b[0m\u001b[0;32m    103\u001b[0m \u001b[1;33m\u001b[0m\u001b[0m\n\u001b[0;32m    104\u001b[0m     \u001b[1;32mdef\u001b[0m \u001b[0mregister_hook\u001b[0m\u001b[1;33m(\u001b[0m\u001b[0mself\u001b[0m\u001b[1;33m,\u001b[0m \u001b[0mhook\u001b[0m\u001b[1;33m)\u001b[0m\u001b[1;33m:\u001b[0m\u001b[1;33m\u001b[0m\u001b[1;33m\u001b[0m\u001b[0m\n",
      "\u001b[1;32m~\\Anaconda3\\envs\\MachineLearningV1\\lib\\site-packages\\torch\\autograd\\__init__.py\u001b[0m in \u001b[0;36mbackward\u001b[1;34m(tensors, grad_tensors, retain_graph, create_graph, grad_variables)\u001b[0m\n\u001b[0;32m     88\u001b[0m     Variable._execution_engine.run_backward(\n\u001b[0;32m     89\u001b[0m         \u001b[0mtensors\u001b[0m\u001b[1;33m,\u001b[0m \u001b[0mgrad_tensors\u001b[0m\u001b[1;33m,\u001b[0m \u001b[0mretain_graph\u001b[0m\u001b[1;33m,\u001b[0m \u001b[0mcreate_graph\u001b[0m\u001b[1;33m,\u001b[0m\u001b[1;33m\u001b[0m\u001b[1;33m\u001b[0m\u001b[0m\n\u001b[1;32m---> 90\u001b[1;33m         allow_unreachable=True)  # allow_unreachable flag\n\u001b[0m\u001b[0;32m     91\u001b[0m \u001b[1;33m\u001b[0m\u001b[0m\n\u001b[0;32m     92\u001b[0m \u001b[1;33m\u001b[0m\u001b[0m\n",
      "\u001b[1;31mKeyboardInterrupt\u001b[0m: "
     ]
    }
   ],
   "source": [
    "%matplotlib inline\n",
    "liveloss = PlotLosses()\n",
    "for t in range(10000):\n",
    "    logs = {}\n",
    "    optimizer.zero_grad()\n",
    "\n",
    "    Ln = []\n",
    "    for j in range(n_samples_ELBO):\n",
    "        z = q.sample(1)\n",
    "        LQ = q.log_prob(z)\n",
    "        LP = logposterior(z, model, x_data, y_data, sigma_noise=0.1)\n",
    "        Ln.append(LQ - LP)\n",
    "\n",
    "    L = torch.stack(Ln).mean()\n",
    "    L.backward()\n",
    "    \n",
    "    learning_rate = optimizer.param_groups[0]['lr']\n",
    "    \n",
    "    scheduler.step(L.detach().clone().cpu().numpy())\n",
    "    logs['ELBO'] = L.detach().clone().cpu().numpy()\n",
    "    logs['learning rate'] = learning_rate\n",
    "    liveloss.update(logs)\n",
    "    \n",
    "    if t % 10 == 0:\n",
    "        liveloss.draw()\n",
    "\n",
    "    optimizer.step()\n",
    "    \n",
    "    if learning_rate < 0.001:\n",
    "        break"
   ]
  },
  {
   "cell_type": "code",
   "execution_count": null,
   "metadata": {},
   "outputs": [],
   "source": []
  },
  {
   "cell_type": "code",
   "execution_count": null,
   "metadata": {},
   "outputs": [],
   "source": []
  },
  {
   "cell_type": "code",
   "execution_count": null,
   "metadata": {},
   "outputs": [],
   "source": []
  },
  {
   "cell_type": "code",
   "execution_count": 156,
   "metadata": {},
   "outputs": [],
   "source": [
    "class MeanFieldVariationalMixtureDistribution(nn.Module):\n",
    "    def __init__(self, proportions, components, device='cpu'):\n",
    "        self.proportions = proportions.to(device)\n",
    "        self.components = components\n",
    "        self.requires_grad_(False)\n",
    "        self.device = device\n",
    "        \n",
    "    def sample(self, n=1):\n",
    "        d = torch.distributions.multinomial.Multinomial(n, self.proportions)\n",
    "        m = d.sample()\n",
    "        return torch.cat([self.components[c].sample(int(m[c])) for c in range(len(self.components))])\n",
    "        \n",
    "    def requires_grad_(self, b):\n",
    "        self.proportions.requires_grad_(b) \n",
    "        for c in self.components:\n",
    "            c.requires_grad_(b)\n",
    "            \n",
    "    def log_prob(self, x):\n",
    "        return torch.logsumexp(torch.stack([torch.log(self.proportions[c]) + self.components[c].log_prob(x) for c in range(len(self.proportions))],dim=1),dim=1)\n",
    "        #MU = torch.cat([c.mu for c in self.components], dim=0)\n",
    "        #SIGMA = torch.stack([c.sigma for c in self.components])\n",
    "        #P = -0.5*torch.log(2*np.pi*SIGMA**2) - ( 0.5*(MU-x)**2)/(SIGMA**2) \n",
    "        #return torch.logsumexp(torch.log(self.proportions) + P.sum(dim=1), dim=0).unsqueeze(0).unsqueeze(0)\n",
    "\n",
    "    def log_prob_augmented(self, x, q_new, unbounded_prop_new):\n",
    "        prop_new = torch.sigmoid(unbounded_prop_new).to(self.device)\n",
    "        A = torch.log(1-prop_new) + self.log_prob(x)\n",
    "        B = torch.log(prop_new) + q_new.log_prob(x)\n",
    "        return torch.logsumexp(torch.stack([A,B]),dim=0)"
   ]
  },
  {
   "cell_type": "code",
   "execution_count": null,
   "metadata": {},
   "outputs": [],
   "source": []
  },
  {
   "cell_type": "code",
   "execution_count": 144,
   "metadata": {},
   "outputs": [],
   "source": [
    "components = [q]\n",
    "proportions = torch.tensor([1.0], device=device)\n",
    "qC = MeanFieldVariationalMixtureDistribution(proportions, components, device=device)"
   ]
  },
  {
   "cell_type": "code",
   "execution_count": null,
   "metadata": {},
   "outputs": [],
   "source": []
  },
  {
   "cell_type": "code",
   "execution_count": null,
   "metadata": {},
   "outputs": [],
   "source": []
  },
  {
   "cell_type": "code",
   "execution_count": 145,
   "metadata": {},
   "outputs": [],
   "source": [
    "x_test = torch.linspace(-2.0, 2.0).unsqueeze(1).to(device)"
   ]
  },
  {
   "cell_type": "code",
   "execution_count": 146,
   "metadata": {},
   "outputs": [
    {
     "data": {
      "image/png": "[encoded data removed]",
      "text/plain": [
       "<Figure size 842.4x595.44 with 1 Axes>"
      ]
     },
     "metadata": {
      "needs_background": "light"
     },
     "output_type": "display_data"
    }
   ],
   "source": [
    "# Sampling the distribution over Neural Networks 1000 times, and plotting with transparency to make it appear as a smooth distribution\n",
    "fig, ax = plt.subplots()\n",
    "fig.set_size_inches(11.7, 8.27)\n",
    "plt.xlim(-2, 2) \n",
    "plt.ylim(-4, 4) \n",
    "plt.scatter(x_data.cpu(), y_data.cpu())\n",
    "for _ in range(1000):\n",
    "    z = qC.sample()\n",
    "    set_all_parameters(model, z)\n",
    "    y_test = model(x_test)\n",
    "\n",
    "    plt.plot(x_test.detach().cpu().numpy(), y_test.squeeze(0).detach().cpu().numpy(), alpha=0.05, linewidth=1, color='lightblue')"
   ]
  },
  {
   "cell_type": "code",
   "execution_count": null,
   "metadata": {},
   "outputs": [],
   "source": []
  },
  {
   "cell_type": "code",
   "execution_count": null,
   "metadata": {},
   "outputs": [],
   "source": []
  },
  {
   "cell_type": "code",
   "execution_count": null,
   "metadata": {},
   "outputs": [],
   "source": []
  },
  {
   "cell_type": "code",
   "execution_count": 157,
   "metadata": {},
   "outputs": [
    {
     "data": {
      "image/png": "[encoded data removed]",
      "text/plain": [
       "<Figure size 864x576 with 2 Axes>"
      ]
     },
     "metadata": {
      "needs_background": "light"
     },
     "output_type": "display_data"
    },
    {
     "name": "stdout",
     "output_type": "stream",
     "text": [
      "ELBO:\n",
      "training   (min:   -4.772, max: 2051298.375, cur:    7.282)\n",
      "\n",
      "learning rate:\n",
      "training   (min:    0.001, max:    0.010, cur:    0.003)\n",
      "tensor(0.0269, grad_fn=<SigmoidBackward>)\n"
     ]
    }
   ],
   "source": [
    "qC = Boost(qC, 5)"
   ]
  },
  {
   "cell_type": "code",
   "execution_count": 158,
   "metadata": {},
   "outputs": [
    {
     "data": {
      "text/plain": [
       "tensor([1.])"
      ]
     },
     "execution_count": 158,
     "metadata": {},
     "output_type": "execute_result"
    }
   ],
   "source": [
    "qC.proportions"
   ]
  },
  {
   "cell_type": "code",
   "execution_count": null,
   "metadata": {},
   "outputs": [],
   "source": []
  },
  {
   "cell_type": "code",
   "execution_count": 155,
   "metadata": {},
   "outputs": [
    {
     "data": {
      "image/png": "[encoded data removed]",
      "text/plain": [
       "<Figure size 842.4x595.44 with 1 Axes>"
      ]
     },
     "metadata": {
      "needs_background": "light"
     },
     "output_type": "display_data"
    }
   ],
   "source": [
    "# Sampling the distribution over Neural Networks 1000 times, and plotting with transparency to make it appear as a smooth distribution\n",
    "fig, ax = plt.subplots()\n",
    "fig.set_size_inches(11.7, 8.27)\n",
    "plt.xlim(-2, 2) \n",
    "plt.ylim(-4, 4) \n",
    "plt.scatter(x_data.cpu(), y_data.cpu())\n",
    "for _ in range(1000):\n",
    "    z = qC.sample()\n",
    "    set_all_parameters(model, z)\n",
    "    y_test = model(x_test)\n",
    "\n",
    "    plt.plot(x_test.detach().cpu().numpy(), y_test.squeeze(0).detach().cpu().numpy(), alpha=0.05, linewidth=1, color='lightblue')"
   ]
  },
  {
   "cell_type": "code",
   "execution_count": null,
   "metadata": {},
   "outputs": [],
   "source": []
  },
  {
   "cell_type": "code",
   "execution_count": null,
   "metadata": {},
   "outputs": [],
   "source": []
  },
  {
   "cell_type": "code",
   "execution_count": null,
   "metadata": {},
   "outputs": [],
   "source": []
  },
  {
   "cell_type": "code",
   "execution_count": null,
   "metadata": {},
   "outputs": [],
   "source": []
  },
  {
   "cell_type": "code",
   "execution_count": null,
   "metadata": {},
   "outputs": [],
   "source": []
  },
  {
   "cell_type": "code",
   "execution_count": 137,
   "metadata": {},
   "outputs": [],
   "source": [
    "qC.requires_grad_(False)\n",
    "for c in qC.components:\n",
    "    c.mu.detach_()\n",
    "    c.rho.detach_()"
   ]
  },
  {
   "cell_type": "code",
   "execution_count": 138,
   "metadata": {},
   "outputs": [],
   "source": [
    "std = torch.distributions.Gamma(torch.tensor([1.0]), torch.tensor([1.0])).sample()[0].float()\n",
    "\n",
    "q_new = MeanFieldVariationalDistribution(param_count, sigma=0.0000001, device=device)\n",
    "unbounded_prop_new = torch.tensor(2.0, device=device).requires_grad_(True)\n",
    "\n",
    "q_new.mu = nn.Parameter( torch.empty([1,param_count],device=device).normal_(std=std), requires_grad=True)\n",
    "#q_new.mu = nn.Parameter(prior.sample()[0,:].detach().clone().to(device), requires_grad=True) "
   ]
  },
  {
   "cell_type": "code",
   "execution_count": 139,
   "metadata": {},
   "outputs": [],
   "source": [
    "q_new.rho.requires_grad = True\n",
    "q_new.mu.requires_grad = True\n",
    "\n",
    "optimizer = torch.optim.Adam(list(q_new.parameters())+[unbounded_prop_new], lr=0.01)\n",
    "scheduler = torch.optim.lr_scheduler.ReduceLROnPlateau(optimizer, patience=100, factor=0.9)"
   ]
  },
  {
   "cell_type": "code",
   "execution_count": 140,
   "metadata": {},
   "outputs": [
    {
     "data": {
      "image/png": "[encoded data removed]",
      "text/plain": [
       "<Figure size 864x576 with 2 Axes>"
      ]
     },
     "metadata": {
      "needs_background": "light"
     },
     "output_type": "display_data"
    },
    {
     "name": "stdout",
     "output_type": "stream",
     "text": [
      "ELBO:\n",
      "training   (min:  -10.294, max: 12950.318, cur:   34.513)\n",
      "\n",
      "learning rate:\n",
      "training   (min:    0.001, max:    0.010, cur:    0.004)\n"
     ]
    }
   ],
   "source": [
    "%matplotlib inline\n",
    "liveloss = PlotLosses()\n",
    "for t in range(10000):\n",
    "    logs = {}\n",
    "    optimizer.zero_grad()\n",
    "\n",
    "    Ln = []\n",
    "    for j in range(n_samples_ELBO):\n",
    "        Xc = qC.sample(1)\n",
    "        Xnew = q_new.sample(1)\n",
    "        prop_new = torch.sigmoid(unbounded_prop_new)\n",
    "\n",
    "        v = -(1-prop_new)*torch.mean(logposterior(Xc, model, x_data, y_data, sigma_noise=0.1) - qC.log_prob_augmented(Xc, q_new, unbounded_prop_new)) - \\\n",
    "        prop_new*torch.mean(logposterior(Xnew, model, x_data, y_data, sigma_noise=0.1) - qC.log_prob_augmented(Xnew, q_new, unbounded_prop_new))\n",
    "\n",
    "        Ln.append(v)\n",
    "\n",
    "    L = torch.stack(Ln).mean()\n",
    "    L.backward()\n",
    "\n",
    "    learning_rate = optimizer.param_groups[0]['lr']\n",
    "\n",
    "    scheduler.step(L.detach().clone().cpu().numpy())\n",
    "    logs['ELBO'] = L.detach().clone().cpu().numpy()\n",
    "    logs['learning rate'] = learning_rate\n",
    "    liveloss.update(logs)\n",
    "\n",
    "    if t % 10 == 0:\n",
    "        liveloss.draw()\n",
    "\n",
    "    optimizer.step()\n",
    "\n",
    "    if learning_rate < 0.001:\n",
    "        break\n",
    "\n",
    "q_new.rho.detach_().requires_grad_(False)\n",
    "q_new.mu.detach_().requires_grad_(False)\n",
    "\n",
    "optimizer = torch.optim.Adam(list(q_new.parameters())+[unbounded_prop_new], lr=0.01)\n",
    "scheduler = torch.optim.lr_scheduler.ReduceLROnPlateau(optimizer, patience=100, factor=0.5)\n",
    "\n",
    "for t in range(1000):\n",
    "    logs = {}\n",
    "    optimizer.zero_grad()\n",
    "\n",
    "    Ln = []\n",
    "    for j in range(n_samples_ELBO):\n",
    "        Xc = qC.sample(1)\n",
    "        Xnew = q_new.sample(1)\n",
    "        prop_new = torch.sigmoid(unbounded_prop_new)\n",
    "\n",
    "        v = -(1-prop_new)*torch.mean(logposterior(Xc, model, x_data, y_data, sigma_noise=0.1) - qC.log_prob_augmented(Xc, q_new, unbounded_prop_new)) - \\\n",
    "        prop_new*torch.mean(logposterior(Xnew, model, x_data, y_data, sigma_noise=0.1) - qC.log_prob_augmented(Xnew, q_new, unbounded_prop_new))\n",
    "\n",
    "        Ln.append(v)\n",
    "\n",
    "    L = torch.stack(Ln).mean()\n",
    "    L.backward()\n",
    "\n",
    "    learning_rate = optimizer.param_groups[0]['lr']\n",
    "\n",
    "    scheduler.step(L.detach().clone().cpu().numpy())\n",
    "    logs['ELBO'] = L.detach().clone().cpu().numpy()\n",
    "    logs['learning rate'] = learning_rate\n",
    "    liveloss.update(logs)\n",
    "\n",
    "    if t % 10 == 0:\n",
    "        liveloss.draw()\n",
    "\n",
    "    optimizer.step()\n",
    "\n",
    "    if learning_rate < 0.001:\n",
    "        break\n",
    "        \n",
    "if torch.sigmoid(unbounded_prop_new) > 0.05/len(qC.components):\n",
    "    components = qC.components + [q_new]\n",
    "    proportions = torch.cat([(1-torch.sigmoid(unbounded_prop_new))*qC.proportions, torch.tensor([torch.sigmoid(unbounded_prop_new)],device=device)]).detach()\n",
    "\n",
    "    qC_new = MeanFieldVariationalMixtureDistribution(proportions, components, device=device)\n",
    "else:\n",
    "    qC_new = qC\n",
    "return qC_new"
   ]
  },
  {
   "cell_type": "code",
   "execution_count": 142,
   "metadata": {},
   "outputs": [
    {
     "data": {
      "text/plain": [
       "tensor(0.0004, grad_fn=<SigmoidBackward>)"
      ]
     },
     "execution_count": 142,
     "metadata": {},
     "output_type": "execute_result"
    }
   ],
   "source": [
    "torch.sigmoid(unbounded_prop_new)"
   ]
  },
  {
   "cell_type": "code",
   "execution_count": 141,
   "metadata": {},
   "outputs": [
    {
     "data": {
      "text/plain": [
       "tensor(0, dtype=torch.uint8)"
      ]
     },
     "execution_count": 141,
     "metadata": {},
     "output_type": "execute_result"
    }
   ],
   "source": []
  },
  {
   "cell_type": "code",
   "execution_count": null,
   "metadata": {},
   "outputs": [],
   "source": []
  },
  {
   "cell_type": "code",
   "execution_count": null,
   "metadata": {},
   "outputs": [],
   "source": []
  },
  {
   "cell_type": "code",
   "execution_count": null,
   "metadata": {},
   "outputs": [],
   "source": []
  },
  {
   "cell_type": "code",
   "execution_count": null,
   "metadata": {},
   "outputs": [],
   "source": []
  },
  {
   "cell_type": "code",
   "execution_count": null,
   "metadata": {},
   "outputs": [],
   "source": []
  },
  {
   "cell_type": "code",
   "execution_count": null,
   "metadata": {},
   "outputs": [],
   "source": []
  },
  {
   "cell_type": "code",
   "execution_count": null,
   "metadata": {},
   "outputs": [],
   "source": []
  },
  {
   "cell_type": "code",
   "execution_count": null,
   "metadata": {},
   "outputs": [],
   "source": []
  },
  {
   "cell_type": "code",
   "execution_count": null,
   "metadata": {},
   "outputs": [],
   "source": []
  },
  {
   "cell_type": "code",
   "execution_count": null,
   "metadata": {},
   "outputs": [],
   "source": []
  },
  {
   "cell_type": "code",
   "execution_count": null,
   "metadata": {},
   "outputs": [],
   "source": []
  },
  {
   "cell_type": "code",
   "execution_count": null,
   "metadata": {},
   "outputs": [],
   "source": []
  },
  {
   "cell_type": "code",
   "execution_count": null,
   "metadata": {},
   "outputs": [],
   "source": []
  },
  {
   "cell_type": "code",
   "execution_count": null,
   "metadata": {},
   "outputs": [],
   "source": []
  },
  {
   "cell_type": "code",
   "execution_count": null,
   "metadata": {},
   "outputs": [],
   "source": []
  }
 ],
 "metadata": {
  "kernelspec": {
   "display_name": "Python 3",
   "language": "python",
   "name": "python3"
  },
  "language_info": {
   "codemirror_mode": {
    "name": "ipython",
    "version": 3
   },
   "file_extension": ".py",
   "mimetype": "text/x-python",
   "name": "python",
   "nbconvert_exporter": "python",
   "pygments_lexer": "ipython3",
   "version": "3.7.3"
  }
 },
 "nbformat": 4,
 "nbformat_minor": 2
}
