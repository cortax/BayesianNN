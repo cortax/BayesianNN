{
 "cells": [
  {
   "cell_type": "code",
   "execution_count": 1,
   "metadata": {},
   "outputs": [],
   "source": [
    "import numpy as np\n",
    "import matplotlib.pyplot as plt\n",
    "import torch\n",
    "import torch.nn as nn\n",
    "import torch.nn.functional as F\n",
    "import pyro\n",
    "import pyro.distributions as dist\n",
    "from pyro.infer.mcmc import MCMC, HMC, NUTS\n",
    "from pyro.infer.mcmc.api import MCMC\n",
    "import pyro.poutine as poutine\n",
    "from pyro.infer import EmpiricalMarginal, SVI, Trace_ELBO, TracePredictive\n",
    "\n",
    "from pyro.infer.mcmc.util import predictive\n",
    "from pyro.distributions.util import sum_rightmost\n",
    "\n",
    "from torch.autograd import Variable\n",
    "import matplotlib.pyplot as plt\n",
    "\n",
    "pyro.set_rng_seed(42)"
   ]
  },
  {
   "cell_type": "code",
   "execution_count": 2,
   "metadata": {},
   "outputs": [],
   "source": [
    "N = 50 # Size of the dataset\n",
    "X_data = torch.rand(N,1) # Sampling of N uniformly distributed points\n",
    "a, b = 10, 5\n",
    "sigma = 5 \n",
    "Y_data = a * X_data + b + dist.Normal(loc=0, scale=sigma).sample([N,1]) # Computing Y_data with normal noise"
   ]
  },
  {
   "cell_type": "code",
   "execution_count": 3,
   "metadata": {},
   "outputs": [],
   "source": [
    "def model(x, y):\n",
    "    \n",
    "    A = pyro.sample('A', dist.Normal(0,1))\n",
    "    B = pyro.sample('B', dist.Normal(0,1))\n",
    "\n",
    "    sigma = pyro.sample('sigma', dist.Uniform(0,1))    \n",
    "\n",
    "    prediction = A*x + B\n",
    "    return pyro.sample(\"obs\", dist.Normal(prediction, sigma),  obs=y)"
   ]
  },
  {
   "cell_type": "code",
   "execution_count": 20,
   "metadata": {},
   "outputs": [],
   "source": [
    "nuts_kernel = NUTS(model)\n",
    "mcmc = MCMC(nuts_kernel, num_samples=60, warmup_steps=0, num_chains=1)"
   ]
  },
  {
   "cell_type": "code",
   "execution_count": 21,
   "metadata": {},
   "outputs": [
    {
     "name": "stderr",
     "output_type": "stream",
     "text": [
      "sample: 100%|██████████| 60/60 [00:44<00:00,  1.43s/it, step size=3.91e-03, acc. prob=1.000]"
     ]
    },
    {
     "name": "stdout",
     "output_type": "stream",
     "text": [
      "\n",
      "\n",
      "                mean       std    median      5.0%     95.0%     n_eff     r_hat\n",
      "         A      4.98      5.40      5.03     -1.59     10.76      2.40      3.27\n",
      "         B      3.77      3.28      4.96     -0.38      8.65      4.44      1.31\n",
      "     sigma      0.92      0.13      1.00      0.74      1.00      4.18      1.41\n",
      "\n",
      "\n"
     ]
    },
    {
     "name": "stderr",
     "output_type": "stream",
     "text": [
      "\n"
     ]
    }
   ],
   "source": [
    "mcmc.run(X_data, Y_data)\n",
    "mcmc.summary()"
   ]
  },
  {
   "cell_type": "code",
   "execution_count": 26,
   "metadata": {},
   "outputs": [],
   "source": [
    "from pyro.infer.mcmc.util import predictive\n",
    "samples = mcmc.get_samples()\n"
   ]
  },
  {
   "cell_type": "code",
   "execution_count": 37,
   "metadata": {},
   "outputs": [
    {
     "data": {
      "text/plain": [
       "torch.Size([60])"
      ]
     },
     "execution_count": 37,
     "metadata": {},
     "output_type": "execute_result"
    }
   ],
   "source": [
    "samples['B'].shape\n",
    "samples['A'].shape"
   ]
  },
  {
   "cell_type": "code",
   "execution_count": 38,
   "metadata": {},
   "outputs": [
    {
     "data": {
      "text/plain": [
       "{'A': tensor([-1.5919, -1.5729, -1.5629, -1.5461, -1.4656, -1.4639, -1.3832, -1.3660,\n",
       "         -1.3605, -1.3566, -1.3540, -1.3084, -1.3027, -1.2823, -1.2733, -1.2593,\n",
       "         -1.2594, -1.2541, -1.2499, -1.2004, -1.1966, -1.1971, -1.1637,  4.8613,\n",
       "          4.9437,  4.8319,  4.8484,  4.6741,  4.7236,  5.0392,  5.0320,  5.6243,\n",
       "          6.5540,  6.7215, 11.7084,  9.3853, 10.7626, 10.0524, 10.8032, 10.5241,\n",
       "         10.5447, 10.4374,  9.9782, 10.7427, 10.7114, 10.2598, 10.3310,  9.9177,\n",
       "          9.5031, 11.5683, 10.3961, 10.6714, 10.2148,  9.9109, 10.6928, 11.1219,\n",
       "         10.8143, 10.4378, 10.1244, 10.5912]),\n",
       " 'B': tensor([-0.4121, -0.3794, -0.3550, -0.3377, -0.2033, -0.1979, -0.0903, -0.0777,\n",
       "         -0.0690, -0.0693, -0.0683,  0.0191,  0.0279,  0.0708,  0.0771,  0.0963,\n",
       "          0.1217,  0.1239,  0.1243,  0.2243,  0.2277,  0.2416,  0.3343,  9.4318,\n",
       "          9.3195,  9.0640,  8.9471,  8.6157,  8.6471,  8.2595,  8.2617,  7.9498,\n",
       "          7.6205,  7.5153,  4.2795,  5.6118,  5.1550,  5.4938,  4.8547,  5.1414,\n",
       "          5.1560,  5.0922,  5.3535,  4.9908,  5.0788,  5.2548,  5.2365,  5.4622,\n",
       "          5.7086,  4.5296,  5.2302,  5.0383,  5.3190,  5.4813,  5.0184,  4.7618,\n",
       "          4.7577,  4.9586,  5.5031,  4.9310]),\n",
       " 'sigma': tensor([0.4365, 0.4873, 0.5258, 0.5563, 0.7327, 0.7381, 0.8199, 0.8294, 0.8314,\n",
       "         0.8335, 0.8351, 0.8667, 0.8677, 0.8789, 0.8795, 0.8825, 0.8869, 0.8875,\n",
       "         0.8886, 0.8994, 0.9001, 0.9032, 0.9115, 0.9997, 0.9997, 0.9997, 0.9997,\n",
       "         0.9998, 0.9998, 0.9998, 0.9998, 0.9998, 0.9999, 0.9999, 0.9997, 1.0000,\n",
       "         0.9998, 0.9990, 0.9999, 0.9999, 0.9999, 0.9999, 0.9973, 0.9995, 0.9992,\n",
       "         0.9989, 0.9987, 0.9972, 0.9970, 0.9980, 0.9990, 0.9964, 0.9980, 0.9991,\n",
       "         0.9993, 0.9995, 0.9996, 0.9989, 0.9995, 0.9996])}"
      ]
     },
     "execution_count": 38,
     "metadata": {},
     "output_type": "execute_result"
    }
   ],
   "source": []
  },
  {
   "cell_type": "code",
   "execution_count": null,
   "metadata": {},
   "outputs": [],
   "source": [
    "trace = predictive(model, samples, X_data, Y_data, return_trace=True)"
   ]
  },
  {
   "cell_type": "code",
   "execution_count": 27,
   "metadata": {},
   "outputs": [],
   "source": [
    "trace.compute_log_prob()"
   ]
  },
  {
   "cell_type": "code",
   "execution_count": 28,
   "metadata": {},
   "outputs": [],
   "source": [
    "log = trace.nodes['obs']['log_prob']"
   ]
  },
  {
   "cell_type": "code",
   "execution_count": 30,
   "metadata": {},
   "outputs": [
    {
     "data": {
      "text/plain": [
       "torch.Size([50, 60])"
      ]
     },
     "execution_count": 30,
     "metadata": {},
     "output_type": "execute_result"
    }
   ],
   "source": [
    "log.shape"
   ]
  },
  {
   "cell_type": "code",
   "execution_count": 48,
   "metadata": {},
   "outputs": [
    {
     "data": {
      "text/plain": [
       "{'name': '_INPUT', 'type': 'args', 'args': (tensor([[0.8823],\n",
       "          [0.9150],\n",
       "          [0.3829],\n",
       "          [0.9593],\n",
       "          [0.3904],\n",
       "          [0.6009],\n",
       "          [0.2566],\n",
       "          [0.7936],\n",
       "          [0.9408],\n",
       "          [0.1332],\n",
       "          [0.9346],\n",
       "          [0.5936],\n",
       "          [0.8694],\n",
       "          [0.5677],\n",
       "          [0.7411],\n",
       "          [0.4294],\n",
       "          [0.8854],\n",
       "          [0.5739],\n",
       "          [0.2666],\n",
       "          [0.6274],\n",
       "          [0.2696],\n",
       "          [0.4414],\n",
       "          [0.2969],\n",
       "          [0.8317],\n",
       "          [0.1053],\n",
       "          [0.2695],\n",
       "          [0.3588],\n",
       "          [0.1994],\n",
       "          [0.5472],\n",
       "          [0.0062],\n",
       "          [0.9516],\n",
       "          [0.0753],\n",
       "          [0.8860],\n",
       "          [0.5832],\n",
       "          [0.3376],\n",
       "          [0.8090],\n",
       "          [0.5779],\n",
       "          [0.9040],\n",
       "          [0.5547],\n",
       "          [0.3423],\n",
       "          [0.6343],\n",
       "          [0.3644],\n",
       "          [0.7104],\n",
       "          [0.9464],\n",
       "          [0.7890],\n",
       "          [0.2814],\n",
       "          [0.7886],\n",
       "          [0.5895],\n",
       "          [0.7539],\n",
       "          [0.1952]]), tensor([[14.2128],\n",
       "          [16.7791],\n",
       "          [ 6.3887],\n",
       "          [20.5499],\n",
       "          [ 4.8344],\n",
       "          [ 7.3290],\n",
       "          [ 3.3801],\n",
       "          [ 8.3245],\n",
       "          [14.0903],\n",
       "          [ 9.7099],\n",
       "          [13.8569],\n",
       "          [20.1588],\n",
       "          [ 7.7714],\n",
       "          [17.5949],\n",
       "          [ 6.3987],\n",
       "          [12.8331],\n",
       "          [24.9448],\n",
       "          [13.3549],\n",
       "          [ 9.3990],\n",
       "          [10.2878],\n",
       "          [ 2.4234],\n",
       "          [15.8036],\n",
       "          [ 8.6959],\n",
       "          [14.4721],\n",
       "          [ 6.3363],\n",
       "          [ 9.8264],\n",
       "          [11.4632],\n",
       "          [ 3.7850],\n",
       "          [-0.5601],\n",
       "          [ 1.3076],\n",
       "          [28.5857],\n",
       "          [ 7.5516],\n",
       "          [ 7.1567],\n",
       "          [ 7.9052],\n",
       "          [11.5803],\n",
       "          [16.0060],\n",
       "          [16.1139],\n",
       "          [11.7891],\n",
       "          [ 7.1528],\n",
       "          [11.2947],\n",
       "          [12.2822],\n",
       "          [ 6.8560],\n",
       "          [13.4288],\n",
       "          [20.8300],\n",
       "          [12.8837],\n",
       "          [ 6.2961],\n",
       "          [ 7.9541],\n",
       "          [11.5111],\n",
       "          [14.2885],\n",
       "          [10.0389]])), 'kwargs': {}}"
      ]
     },
     "execution_count": 48,
     "metadata": {},
     "output_type": "execute_result"
    }
   ],
   "source": [
    "trace.nodes['_INPUT']"
   ]
  },
  {
   "cell_type": "code",
   "execution_count": null,
   "metadata": {},
   "outputs": [],
   "source": []
  }
 ],
 "metadata": {
  "kernelspec": {
   "display_name": "Python 3",
   "language": "python",
   "name": "python3"
  },
  "language_info": {
   "codemirror_mode": {
    "name": "ipython",
    "version": 3
   },
   "file_extension": ".py",
   "mimetype": "text/x-python",
   "name": "python",
   "nbconvert_exporter": "python",
   "pygments_lexer": "ipython3",
   "version": "3.7.1"
  }
 },
 "nbformat": 4,
 "nbformat_minor": 2
}
