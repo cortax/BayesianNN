{
 "cells": [
  {
   "cell_type": "markdown",
   "metadata": {},
   "source": [
    "### IMPORTS"
   ]
  },
  {
   "cell_type": "code",
   "execution_count": 1,
   "metadata": {
    "scrolled": true
   },
   "outputs": [],
   "source": [
    "import torch\n",
    "from torch import nn\n",
    "from torch import functional as F\n",
    "import matplotlib.pyplot as plt\n",
    "import numpy as np\n",
    "from livelossplot import PlotLosses\n",
    "from Tools.NNtools import *\n",
    "import math\n",
    "from torch.distributions.multivariate_normal import MultivariateNormal\n"
   ]
  },
  {
   "cell_type": "code",
   "execution_count": 2,
   "metadata": {
    "scrolled": true
   },
   "outputs": [
    {
     "data": {
      "text/plain": [
       "device(type='cpu')"
      ]
     },
     "execution_count": 2,
     "metadata": {},
     "output_type": "execute_result"
    }
   ],
   "source": [
    "# Find what device to work with\n",
    "device = torch.device('cuda:0' if torch.cuda.is_available() else 'cpu')\n",
    "device"
   ]
  },
  {
   "cell_type": "code",
   "execution_count": 3,
   "metadata": {},
   "outputs": [],
   "source": [
    "def identity(m):\n",
    "    return m"
   ]
  },
  {
   "cell_type": "code",
   "execution_count": 4,
   "metadata": {},
   "outputs": [],
   "source": [
    "class parallel_MLP(nn.Module):\n",
    "            def __init__(self, layerwidth,nb_layers=1):\n",
    "                super(parallel_MLP, self).__init__()\n",
    "                self.layerwidth = layerwidth\n",
    "                self.activation=nn.Tanh()# use identity for debugging\n",
    "                self.requires_grad_(False)\n",
    "                self.nb_layers=nb_layers\n",
    "                self.param_count=2*layerwidth+(nb_layers-1)*(layerwidth**2+layerwidth)+layerwidth+1\n",
    "                self.splitting=[layerwidth]*2+[layerwidth**2,layerwidth]*(nb_layers-1)+[layerwidth,1]\n",
    "                \n",
    "            def forward(self,theta,x):\n",
    "                nb_theta=theta.shape[0]\n",
    "                nb_x=x.shape[0]\n",
    "                theta=theta.split(self.splitting,dim=1)\n",
    "                input_x=x.view(nb_x,1,1)\n",
    "                print(input_x.shape)\n",
    "                m=torch.matmul(theta[0].view(nb_theta,1,self.layerwidth,1),input_x)\n",
    "                print(m.shape)\n",
    "                m=m.add(theta[1].reshape(nb_theta,1,self.layerwidth,1))\n",
    "                print(m.shape)\n",
    "                m=self.activation(m)\n",
    "                print(m.shape)\n",
    "                for i in range(self.nb_layers-1):\n",
    "                    print(m.shape)                   \n",
    "                    m=torch.matmul(theta[2*i+2].view(-1,1,self.layerwidth,self.layerwidth),m)\n",
    "                    print(m.shape)\n",
    "                    m=m.add(theta[2*i+3].reshape(-1,1,self.layerwidth,1))\n",
    "                    print(m.shape)\n",
    "                    m=self.activation(m)\n",
    "                    print(m.shape)\n",
    "                m=torch.matmul(theta[2*(self.nb_layers-1)+2].view(nb_theta,1,1,self.layerwidth),m)\n",
    "                print(m.shape)\n",
    "                m=m.add(theta[2*(self.nb_layers-1)+3].reshape(nb_theta,1,1,1))\n",
    "                print(m.shape)\n",
    "                return m.squeeze(-1)\n"
   ]
  },
  {
   "cell_type": "code",
   "execution_count": 5,
   "metadata": {},
   "outputs": [],
   "source": [
    "model=parallel_MLP(10,2)"
   ]
  },
  {
   "cell_type": "code",
   "execution_count": 6,
   "metadata": {},
   "outputs": [
    {
     "data": {
      "text/plain": [
       "[10, 10, 100, 10, 10, 1]"
      ]
     },
     "execution_count": 6,
     "metadata": {},
     "output_type": "execute_result"
    }
   ],
   "source": [
    "\n",
    "model.splitting"
   ]
  },
  {
   "cell_type": "code",
   "execution_count": 7,
   "metadata": {},
   "outputs": [
    {
     "data": {
      "text/plain": [
       "141"
      ]
     },
     "execution_count": 7,
     "metadata": {},
     "output_type": "execute_result"
    }
   ],
   "source": [
    "param_count=model.param_count\n",
    "param_count"
   ]
  },
  {
   "cell_type": "code",
   "execution_count": 8,
   "metadata": {},
   "outputs": [
    {
     "name": "stdout",
     "output_type": "stream",
     "text": [
      "torch.Size([1, 1, 1])\n",
      "torch.Size([1, 1, 10, 1])\n",
      "torch.Size([1, 1, 10, 1])\n",
      "torch.Size([1, 1, 10, 1])\n",
      "torch.Size([1, 1, 10, 1])\n",
      "torch.Size([1, 1, 10, 1])\n",
      "torch.Size([1, 1, 10, 1])\n",
      "torch.Size([1, 1, 10, 1])\n",
      "torch.Size([1, 1, 1, 1])\n",
      "torch.Size([1, 1, 1, 1])\n"
     ]
    },
    {
     "data": {
      "text/plain": [
       "tensor([[[5.0836]]])"
      ]
     },
     "execution_count": 8,
     "metadata": {},
     "output_type": "execute_result"
    }
   ],
   "source": [
    "x=torch.rand(1,1)\n",
    "\n",
    "theta=torch.rand(1,param_count)\n",
    "\n",
    "model(theta,x)"
   ]
  },
  {
   "cell_type": "code",
   "execution_count": 9,
   "metadata": {},
   "outputs": [
    {
     "name": "stdout",
     "output_type": "stream",
     "text": [
      "torch.Size([1, 1, 1])\n",
      "torch.Size([1, 1, 10, 1])\n",
      "torch.Size([1, 1, 10, 1])\n",
      "torch.Size([1, 1, 10, 1])\n",
      "torch.Size([1, 1, 10, 1])\n",
      "torch.Size([1, 1, 10, 1])\n",
      "torch.Size([1, 1, 10, 1])\n",
      "torch.Size([1, 1, 10, 1])\n",
      "torch.Size([1, 1, 1, 1])\n",
      "torch.Size([1, 1, 1, 1])\n",
      "torch.Size([1, 1, 1])\n",
      "torch.Size([1, 1, 10, 1])\n",
      "torch.Size([1, 1, 10, 1])\n",
      "torch.Size([1, 1, 10, 1])\n",
      "torch.Size([1, 1, 10, 1])\n",
      "torch.Size([1, 1, 10, 1])\n",
      "torch.Size([1, 1, 10, 1])\n",
      "torch.Size([1, 1, 10, 1])\n",
      "torch.Size([1, 1, 1, 1])\n",
      "torch.Size([1, 1, 1, 1])\n",
      "torch.Size([1, 1, 1])\n",
      "torch.Size([2, 1, 10, 1])\n",
      "torch.Size([2, 1, 10, 1])\n",
      "torch.Size([2, 1, 10, 1])\n",
      "torch.Size([2, 1, 10, 1])\n",
      "torch.Size([2, 1, 10, 1])\n",
      "torch.Size([2, 1, 10, 1])\n",
      "torch.Size([2, 1, 10, 1])\n",
      "torch.Size([2, 1, 1, 1])\n",
      "torch.Size([2, 1, 1, 1])\n"
     ]
    },
    {
     "data": {
      "text/plain": [
       "tensor([[[True]],\n",
       "\n",
       "        [[True]]])"
      ]
     },
     "execution_count": 9,
     "metadata": {},
     "output_type": "execute_result"
    }
   ],
   "source": [
    "x=torch.rand(1,1)\n",
    "\n",
    "theta=torch.rand(1,param_count)\n",
    "theta_=torch.rand(1,param_count)\n",
    "\n",
    "y=model(theta,x)\n",
    "y_=model(theta_,x)\n",
    "y_m=torch.cat([y,y_],dim=0)\n",
    "y_M=model(torch.stack([theta.squeeze(),theta_.squeeze()]),x)\n",
    "#print(torch.stack([y_m,y_M],dim=2))\n",
    "torch.eq(y_m,y_M)\n",
    "#y_m,y_M"
   ]
  },
  {
   "cell_type": "code",
   "execution_count": 10,
   "metadata": {},
   "outputs": [
    {
     "name": "stdout",
     "output_type": "stream",
     "text": [
      "torch.Size([3, 1, 1])\n",
      "torch.Size([1, 3, 10, 1])\n",
      "torch.Size([1, 3, 10, 1])\n",
      "torch.Size([1, 3, 10, 1])\n",
      "torch.Size([1, 3, 10, 1])\n",
      "torch.Size([1, 3, 10, 1])\n",
      "torch.Size([1, 3, 10, 1])\n",
      "torch.Size([1, 3, 10, 1])\n",
      "torch.Size([1, 3, 1, 1])\n",
      "torch.Size([1, 3, 1, 1])\n",
      "torch.Size([5, 1, 1])\n",
      "torch.Size([1, 5, 10, 1])\n",
      "torch.Size([1, 5, 10, 1])\n",
      "torch.Size([1, 5, 10, 1])\n",
      "torch.Size([1, 5, 10, 1])\n",
      "torch.Size([1, 5, 10, 1])\n",
      "torch.Size([1, 5, 10, 1])\n",
      "torch.Size([1, 5, 10, 1])\n",
      "torch.Size([1, 5, 1, 1])\n",
      "torch.Size([1, 5, 1, 1])\n",
      "torch.Size([8, 1, 1])\n",
      "torch.Size([1, 8, 10, 1])\n",
      "torch.Size([1, 8, 10, 1])\n",
      "torch.Size([1, 8, 10, 1])\n",
      "torch.Size([1, 8, 10, 1])\n",
      "torch.Size([1, 8, 10, 1])\n",
      "torch.Size([1, 8, 10, 1])\n",
      "torch.Size([1, 8, 10, 1])\n",
      "torch.Size([1, 8, 1, 1])\n",
      "torch.Size([1, 8, 1, 1])\n",
      "tensor([[[True],\n",
      "         [True],\n",
      "         [True],\n",
      "         [True],\n",
      "         [True],\n",
      "         [True],\n",
      "         [True],\n",
      "         [True]]])\n"
     ]
    }
   ],
   "source": [
    "x=torch.rand(3,1)\n",
    "x_=torch.rand(5,1)\n",
    "theta=torch.rand(1,param_count)\n",
    "\n",
    "y=model(theta,x)\n",
    "y_=model(theta,x_)\n",
    "y_m=torch.cat([y,y_],dim=1)\n",
    "y_M=model(theta,torch.cat([x,x_],dim=0))\n",
    "#print(torch.stack([y_m,y_M],dim=2))\n",
    "print(y_m==y_M)"
   ]
  },
  {
   "cell_type": "code",
   "execution_count": 11,
   "metadata": {},
   "outputs": [
    {
     "name": "stdout",
     "output_type": "stream",
     "text": [
      "torch.Size([200, 1, 1])\n",
      "torch.Size([100, 200, 10, 1])\n",
      "torch.Size([100, 200, 10, 1])\n",
      "torch.Size([100, 200, 10, 1])\n",
      "torch.Size([100, 200, 10, 1])\n",
      "torch.Size([100, 200, 10, 1])\n",
      "torch.Size([100, 200, 10, 1])\n",
      "torch.Size([100, 200, 10, 1])\n",
      "torch.Size([100, 200, 1, 1])\n",
      "torch.Size([100, 200, 1, 1])\n"
     ]
    }
   ],
   "source": [
    "x=torch.rand(200,1)\n",
    "theta=torch.rand(100,param_count)\n",
    "\n",
    "y=model(theta,x)"
   ]
  },
  {
   "cell_type": "code",
   "execution_count": null,
   "metadata": {},
   "outputs": [],
   "source": []
  },
  {
   "cell_type": "code",
   "execution_count": null,
   "metadata": {},
   "outputs": [],
   "source": []
  },
  {
   "cell_type": "code",
   "execution_count": 12,
   "metadata": {},
   "outputs": [],
   "source": [
    "def get_logprior_fn(device):\n",
    "    S = torch.eye(param_count).to(device)\n",
    "    mu = torch.zeros(param_count).to(device)\n",
    "    prior = MultivariateNormal(mu, scale_tril=S)\n",
    "    def logprior(x):\n",
    "        v = prior.log_prob(x).unsqueeze(-1)\n",
    "        return v\n",
    "    return logprior\n",
    "\n",
    "def _log_norm(x, mu, std):\n",
    "    return -0.5 * torch.log(2*np.pi*std**2) -(0.5 * (1/(std**2))* (x-mu)**2)\n",
    "\n",
    "# added parallelized versions\n",
    "def get_loglikelihood_parallel_fn(device):\n",
    "    def loglikelihood_parallel(theta, model, x, y, sigma_noise):\n",
    "        y_pred = model(theta,x)\n",
    "        L = _log_norm(y_pred, y, torch.tensor([sigma_noise],device=device))\n",
    "        return torch.sum(L,1)\n",
    "    return loglikelihood_parallel\n",
    "\n",
    "# added parallelized versions\n",
    "def get_logposterior_parallel_fn(device):\n",
    "    logprior = get_logprior_fn(device)\n",
    "    loglikelihood_parallel = get_loglikelihood_parallel_fn(device)\n",
    "    def logposterior_parallel(theta, model, x, y, sigma_noise):\n",
    "        return logprior(theta).add(loglikelihood_parallel(theta, model, x, y, sigma_noise))\n",
    "    return logposterior_parallel\n",
    "\n",
    "loglikelihood_parallel=get_loglikelihood_parallel_fn('cpu')\n",
    "logposterior_parallel=get_logposterior_parallel_fn('cpu')"
   ]
  },
  {
   "cell_type": "code",
   "execution_count": 13,
   "metadata": {},
   "outputs": [],
   "source": [
    "x=torch.rand(200,1)\n",
    "y=torch.rand(200,1)\n"
   ]
  },
  {
   "cell_type": "code",
   "execution_count": 15,
   "metadata": {},
   "outputs": [
    {
     "name": "stdout",
     "output_type": "stream",
     "text": [
      "torch.Size([200, 1, 1])\n",
      "torch.Size([10, 200, 10, 1])\n",
      "torch.Size([10, 200, 10, 1])\n",
      "torch.Size([10, 200, 10, 1])\n",
      "torch.Size([10, 200, 10, 1])\n",
      "torch.Size([10, 200, 10, 1])\n",
      "torch.Size([10, 200, 10, 1])\n",
      "torch.Size([10, 200, 10, 1])\n",
      "torch.Size([10, 200, 1, 1])\n",
      "torch.Size([10, 200, 1, 1])\n"
     ]
    },
    {
     "data": {
      "text/plain": [
       "torch.Size([10, 1])"
      ]
     },
     "execution_count": 15,
     "metadata": {},
     "output_type": "execute_result"
    }
   ],
   "source": [
    "theta=torch.rand(10,param_count)\n",
    "logposterior_parallel(theta,model,x,y,0.1).shape"
   ]
  },
  {
   "cell_type": "code",
   "execution_count": 16,
   "metadata": {},
   "outputs": [
    {
     "name": "stdout",
     "output_type": "stream",
     "text": [
      "torch.Size([200, 1, 1])\n",
      "torch.Size([100, 200, 10, 1])\n",
      "torch.Size([100, 200, 10, 1])\n",
      "torch.Size([100, 200, 10, 1])\n",
      "torch.Size([100, 200, 10, 1])\n",
      "torch.Size([100, 200, 10, 1])\n",
      "torch.Size([100, 200, 10, 1])\n",
      "torch.Size([100, 200, 10, 1])\n",
      "torch.Size([100, 200, 1, 1])\n",
      "torch.Size([100, 200, 1, 1])\n"
     ]
    },
    {
     "data": {
      "text/plain": [
       "torch.Size([100, 1])"
      ]
     },
     "execution_count": 16,
     "metadata": {},
     "output_type": "execute_result"
    }
   ],
   "source": [
    "theta=torch.rand(100,param_count)\n",
    "logposterior_parallel(theta,model,x,y,0.1).shape"
   ]
  },
  {
   "cell_type": "code",
   "execution_count": null,
   "metadata": {},
   "outputs": [],
   "source": []
  }
 ],
 "metadata": {
  "kernelspec": {
   "display_name": "Python 3",
   "language": "python",
   "name": "python3"
  },
  "language_info": {
   "codemirror_mode": {
    "name": "ipython",
    "version": 3
   },
   "file_extension": ".py",
   "mimetype": "text/x-python",
   "name": "python",
   "nbconvert_exporter": "python",
   "pygments_lexer": "ipython3",
   "version": "3.7.4"
  }
 },
 "nbformat": 4,
 "nbformat_minor": 2
}
