{
 "cells": [
  {
   "cell_type": "code",
   "execution_count": 4,
   "metadata": {
    "scrolled": true
   },
   "outputs": [
    {
     "name": "stdout",
     "output_type": "stream",
     "text": [
      "1.4.0\n"
     ]
    }
   ],
   "source": [
    "import numpy as np\n",
    "import math\n",
    "import torch\n",
    "from torch import nn\n",
    "\n",
    "import scipy.stats as stats\n",
    "import matplotlib\n",
    "import matplotlib.pyplot as plt\n",
    "\n",
    "from tempfile import TemporaryDirectory\n",
    "\n",
    "from Models import BigGenerator\n",
    "from Tools import KL, batchKL, sw, FunSW, FunKL\n",
    "\n",
    "from tqdm import trange\n",
    "\n",
    "from Experiments import get_setup\n",
    "\n",
    "import itertools\n",
    "\n",
    "from pandas import DataFrame\n",
    "import pandas as pd\n",
    "\n",
    "print(torch.__version__)\n"
   ]
  },
  {
   "cell_type": "code",
   "execution_count": 33,
   "metadata": {
    "scrolled": true
   },
   "outputs": [
    {
     "data": {
      "text/plain": [
       "device(type='cuda', index=0)"
      ]
     },
     "execution_count": 33,
     "metadata": {},
     "output_type": "execute_result"
    }
   ],
   "source": [
    "device = torch.device('cuda:0' if torch.cuda.is_available() else 'cpu')\n",
    "device"
   ]
  },
  {
   "cell_type": "code",
   "execution_count": 32,
   "metadata": {},
   "outputs": [],
   "source": [
    "lat_dim=5"
   ]
  },
  {
   "cell_type": "code",
   "execution_count": 2,
   "metadata": {},
   "outputs": [],
   "source": [
    "models={'foong':{'HMC': None,\n",
    "                 'GeNNeVI':None,\n",
    "                 'FuNNeVI':None},\n",
    "        'foong_sparse':{'HMC': None,\n",
    "                 'GeNNeVI':None,\n",
    "                 'FuNNeVI':None},\n",
    "        'foong_mixed':{'HMC':None,\n",
    "                  'GeNNeVI':None,\n",
    "                  'FuNNeVI':None},\n",
    "        'boston':{'HMC': None,\n",
    "                 'GeNNeVI':None,\n",
    "                 'FuNNeVI':None},\n",
    "        'concrete':{'HMC':None,\n",
    "                 'GeNNeVI':None,\n",
    "                 'FuNNeVI':None},\n",
    "        'energy':{'HMC':None,\n",
    "                 'GeNNeVI':None,\n",
    "                 'FuNNeVI':None},\n",
    "       'powerplant':{'HMC': None,\n",
    "                 'GeNNeVI':None,\n",
    "                 'FuNNeVI':None},\n",
    "       'wine':  {'HMC': None,\n",
    "                 'GeNNeVI':None,\n",
    "                 'FuNNeVI':None},\n",
    "       'yacht': {'HMC': None,\n",
    "                 'GeNNeVI':None,\n",
    "                 'FuNNeVI':None}}"
   ]
  },
  {
   "cell_type": "code",
   "execution_count": 47,
   "metadata": {},
   "outputs": [
    {
     "data": {
      "text/plain": [
       "['foong',\n",
       " 'foong_sparse',\n",
       " 'foong_mixed',\n",
       " 'boston',\n",
       " 'concrete',\n",
       " 'energy',\n",
       " 'powerplant',\n",
       " 'wine',\n",
       " 'yacht']"
      ]
     },
     "execution_count": 47,
     "metadata": {},
     "output_type": "execute_result"
    }
   ],
   "source": [
    "datasets=[d for d,i in models.items()]\n",
    "datasets_foong=['foong', 'foong_sparse', 'foong_mixed']\n",
    "datasets"
   ]
  },
  {
   "cell_type": "code",
   "execution_count": 11,
   "metadata": {},
   "outputs": [],
   "source": [
    "models_HMC=torch.load('Results/models_HMC.pt')\n",
    "for d in datasets:\n",
    "    models[d]['HMC']=[models_HMC[d]]\n",
    "    "
   ]
  },
  {
   "cell_type": "code",
   "execution_count": 17,
   "metadata": {},
   "outputs": [],
   "source": [
    "FuNmodelsFoong=torch.load('Results/FuNmodelsFoong.pt')"
   ]
  },
  {
   "cell_type": "code",
   "execution_count": 18,
   "metadata": {},
   "outputs": [],
   "source": [
    "FuNmodels=torch.load('Results/FuNmodels.pt')\n",
    "for d in datasets_foong:\n",
    "    FuNmodels[d]=FuNmodelsFoong[d]"
   ]
  },
  {
   "cell_type": "code",
   "execution_count": 21,
   "metadata": {},
   "outputs": [],
   "source": [
    "torch.save(FuNmodels,'Results/FuNmodels.pt')"
   ]
  },
  {
   "cell_type": "code",
   "execution_count": 23,
   "metadata": {},
   "outputs": [],
   "source": [
    "for d in datasets:\n",
    "    models[d]['FuNNeVI']=FuNmodels[d]"
   ]
  },
  {
   "cell_type": "code",
   "execution_count": 27,
   "metadata": {},
   "outputs": [
    {
     "data": {
      "text/html": [
       "<div>\n",
       "<style scoped>\n",
       "    .dataframe tbody tr th:only-of-type {\n",
       "        vertical-align: middle;\n",
       "    }\n",
       "\n",
       "    .dataframe tbody tr th {\n",
       "        vertical-align: top;\n",
       "    }\n",
       "\n",
       "    .dataframe thead th {\n",
       "        text-align: right;\n",
       "    }\n",
       "</style>\n",
       "<table border=\"1\" class=\"dataframe\">\n",
       "  <thead>\n",
       "    <tr style=\"text-align: right;\">\n",
       "      <th></th>\n",
       "      <th>KL(G,HMC)</th>\n",
       "      <th>KL(F,HMC)</th>\n",
       "      <th>KL(HMC,G)</th>\n",
       "      <th>KL(HMC,F)</th>\n",
       "      <th>SW(HMC,G)</th>\n",
       "      <th>SW(HMC,F)</th>\n",
       "      <th>KL(G,G)</th>\n",
       "      <th>KL(F,F)</th>\n",
       "      <th>SW(G,G)</th>\n",
       "      <th>SW(F,F)</th>\n",
       "    </tr>\n",
       "  </thead>\n",
       "  <tbody>\n",
       "    <tr>\n",
       "      <th>foong</th>\n",
       "      <td>(93.609, 3.109)</td>\n",
       "      <td>(71.562, 15.695)</td>\n",
       "      <td>(93.524, 4.952)</td>\n",
       "      <td>(61.826, 20.352)</td>\n",
       "      <td>(0.056, 0.001)</td>\n",
       "      <td>(0.078, 0.019)</td>\n",
       "      <td>(48.479, 17.907)</td>\n",
       "      <td>(45.12, 22.522)</td>\n",
       "      <td>(1.022, 0.028)</td>\n",
       "      <td>(1.191, 0.14)</td>\n",
       "    </tr>\n",
       "    <tr>\n",
       "      <th>foong_sparse</th>\n",
       "      <td>(74.764, 3.025)</td>\n",
       "      <td>(45.143, 1.499)</td>\n",
       "      <td>(40.717, 4.308)</td>\n",
       "      <td>(50.954, 5.457)</td>\n",
       "      <td>(0.019, 0.002)</td>\n",
       "      <td>(0.017, 0.003)</td>\n",
       "      <td>(39.101, 3.057)</td>\n",
       "      <td>(47.446, 14.567)</td>\n",
       "      <td>(0.841, 0.062)</td>\n",
       "      <td>(0.754, 0.026)</td>\n",
       "    </tr>\n",
       "    <tr>\n",
       "      <th>foong_mixed</th>\n",
       "      <td>NaN</td>\n",
       "      <td>(48.198, 3.087)</td>\n",
       "      <td>NaN</td>\n",
       "      <td>(49.068, 6.669)</td>\n",
       "      <td>NaN</td>\n",
       "      <td>(0.012, 0.001)</td>\n",
       "      <td>NaN</td>\n",
       "      <td>(31.927, 2.951)</td>\n",
       "      <td>NaN</td>\n",
       "      <td>(0.86, 0.003)</td>\n",
       "    </tr>\n",
       "    <tr>\n",
       "      <th>boston</th>\n",
       "      <td>(66.876, 2.614)</td>\n",
       "      <td>(3.661, 0.471)</td>\n",
       "      <td>(9.968, 0.375)</td>\n",
       "      <td>(66.12, 0.482)</td>\n",
       "      <td>(0.427, 0.002)</td>\n",
       "      <td>(1.543, 0.024)</td>\n",
       "      <td>(12.405, 3.185)</td>\n",
       "      <td>(2.973, 0.489)</td>\n",
       "      <td>(0.314, 0.003)</td>\n",
       "      <td>(3.152, 0.226)</td>\n",
       "    </tr>\n",
       "    <tr>\n",
       "      <th>concrete</th>\n",
       "      <td>(61.895, 1.988)</td>\n",
       "      <td>(2.967, 0.313)</td>\n",
       "      <td>(5.907, 0.21)</td>\n",
       "      <td>(61.125, 1.301)</td>\n",
       "      <td>(0.315, 0.004)</td>\n",
       "      <td>(0.963, 0.028)</td>\n",
       "      <td>(3.585, 0.841)</td>\n",
       "      <td>(2.861, 1.133)</td>\n",
       "      <td>(0.306, 0.016)</td>\n",
       "      <td>(3.665, 0.1)</td>\n",
       "    </tr>\n",
       "    <tr>\n",
       "      <th>energy</th>\n",
       "      <td>(44.847, 12.241)</td>\n",
       "      <td>(4.747, 0.443)</td>\n",
       "      <td>(12.987, 3.607)</td>\n",
       "      <td>(63.431, 0.583)</td>\n",
       "      <td>(1.077, 1.059)</td>\n",
       "      <td>(0.552, 0.006)</td>\n",
       "      <td>(34.873, 9.787)</td>\n",
       "      <td>(3.769, 0.457)</td>\n",
       "      <td>(0.408, 0.017)</td>\n",
       "      <td>(3.129, 0.038)</td>\n",
       "    </tr>\n",
       "    <tr>\n",
       "      <th>powerplant</th>\n",
       "      <td>(99.755, 1.941)</td>\n",
       "      <td>(10.413, 1.031)</td>\n",
       "      <td>(9.343, 0.337)</td>\n",
       "      <td>(84.998, 2.472)</td>\n",
       "      <td>(0.108, 0.0)</td>\n",
       "      <td>(0.604, 0.016)</td>\n",
       "      <td>(26.304, 13.344)</td>\n",
       "      <td>(7.367, 1.449)</td>\n",
       "      <td>(0.284, 0.002)</td>\n",
       "      <td>(4.619, 0.087)</td>\n",
       "    </tr>\n",
       "    <tr>\n",
       "      <th>wine</th>\n",
       "      <td>(79.141, 5.465)</td>\n",
       "      <td>(56.156, 4.475)</td>\n",
       "      <td>(20.131, 3.774)</td>\n",
       "      <td>(42.665, 0.464)</td>\n",
       "      <td>(0.623, 0.077)</td>\n",
       "      <td>(1.769, 0.059)</td>\n",
       "      <td>(63.66, 5.092)</td>\n",
       "      <td>(28.65, 3.819)</td>\n",
       "      <td>(0.848, 0.026)</td>\n",
       "      <td>(0.967, 0.057)</td>\n",
       "    </tr>\n",
       "    <tr>\n",
       "      <th>yacht</th>\n",
       "      <td>(97.657, 4.306)</td>\n",
       "      <td>(7.737, 1.614)</td>\n",
       "      <td>(14.405, 1.089)</td>\n",
       "      <td>(65.408, 2.995)</td>\n",
       "      <td>(0.238, 0.001)</td>\n",
       "      <td>(0.533, 0.027)</td>\n",
       "      <td>(13.611, 1.388)</td>\n",
       "      <td>(4.921, 2.939)</td>\n",
       "      <td>(0.313, 0.007)</td>\n",
       "      <td>(4.433, 0.103)</td>\n",
       "    </tr>\n",
       "  </tbody>\n",
       "</table>\n",
       "</div>"
      ],
      "text/plain": [
       "                     KL(G,HMC)         KL(F,HMC)        KL(HMC,G)  \\\n",
       "foong          (93.609, 3.109)  (71.562, 15.695)  (93.524, 4.952)   \n",
       "foong_sparse   (74.764, 3.025)   (45.143, 1.499)  (40.717, 4.308)   \n",
       "foong_mixed                NaN   (48.198, 3.087)              NaN   \n",
       "boston         (66.876, 2.614)    (3.661, 0.471)   (9.968, 0.375)   \n",
       "concrete       (61.895, 1.988)    (2.967, 0.313)    (5.907, 0.21)   \n",
       "energy        (44.847, 12.241)    (4.747, 0.443)  (12.987, 3.607)   \n",
       "powerplant     (99.755, 1.941)   (10.413, 1.031)   (9.343, 0.337)   \n",
       "wine           (79.141, 5.465)   (56.156, 4.475)  (20.131, 3.774)   \n",
       "yacht          (97.657, 4.306)    (7.737, 1.614)  (14.405, 1.089)   \n",
       "\n",
       "                     KL(HMC,F)       SW(HMC,G)       SW(HMC,F)  \\\n",
       "foong         (61.826, 20.352)  (0.056, 0.001)  (0.078, 0.019)   \n",
       "foong_sparse   (50.954, 5.457)  (0.019, 0.002)  (0.017, 0.003)   \n",
       "foong_mixed    (49.068, 6.669)             NaN  (0.012, 0.001)   \n",
       "boston          (66.12, 0.482)  (0.427, 0.002)  (1.543, 0.024)   \n",
       "concrete       (61.125, 1.301)  (0.315, 0.004)  (0.963, 0.028)   \n",
       "energy         (63.431, 0.583)  (1.077, 1.059)  (0.552, 0.006)   \n",
       "powerplant     (84.998, 2.472)    (0.108, 0.0)  (0.604, 0.016)   \n",
       "wine           (42.665, 0.464)  (0.623, 0.077)  (1.769, 0.059)   \n",
       "yacht          (65.408, 2.995)  (0.238, 0.001)  (0.533, 0.027)   \n",
       "\n",
       "                       KL(G,G)           KL(F,F)         SW(G,G)  \\\n",
       "foong         (48.479, 17.907)   (45.12, 22.522)  (1.022, 0.028)   \n",
       "foong_sparse   (39.101, 3.057)  (47.446, 14.567)  (0.841, 0.062)   \n",
       "foong_mixed                NaN   (31.927, 2.951)             NaN   \n",
       "boston         (12.405, 3.185)    (2.973, 0.489)  (0.314, 0.003)   \n",
       "concrete        (3.585, 0.841)    (2.861, 1.133)  (0.306, 0.016)   \n",
       "energy         (34.873, 9.787)    (3.769, 0.457)  (0.408, 0.017)   \n",
       "powerplant    (26.304, 13.344)    (7.367, 1.449)  (0.284, 0.002)   \n",
       "wine            (63.66, 5.092)    (28.65, 3.819)  (0.848, 0.026)   \n",
       "yacht          (13.611, 1.388)    (4.921, 2.939)  (0.313, 0.007)   \n",
       "\n",
       "                     SW(F,F)  \n",
       "foong          (1.191, 0.14)  \n",
       "foong_sparse  (0.754, 0.026)  \n",
       "foong_mixed    (0.86, 0.003)  \n",
       "boston        (3.152, 0.226)  \n",
       "concrete        (3.665, 0.1)  \n",
       "energy        (3.129, 0.038)  \n",
       "powerplant    (4.619, 0.087)  \n",
       "wine          (0.967, 0.057)  \n",
       "yacht         (4.433, 0.103)  "
      ]
     },
     "execution_count": 27,
     "metadata": {},
     "output_type": "execute_result"
    }
   ],
   "source": [
    "results_f=torch.load('Results/results_new_bis.pt')\n",
    "pd.DataFrame(results_f, index=datasets)"
   ]
  },
  {
   "cell_type": "code",
   "execution_count": 52,
   "metadata": {},
   "outputs": [],
   "source": [
    "torch.save(models, \"Results/The_models.pt\")"
   ]
  },
  {
   "cell_type": "code",
   "execution_count": 28,
   "metadata": {},
   "outputs": [
    {
     "data": {
      "text/plain": [
       "['KL(G,HMC)',\n",
       " 'KL(F,HMC)',\n",
       " 'KL(HMC,G)',\n",
       " 'KL(HMC,F)',\n",
       " 'SW(HMC,G)',\n",
       " 'SW(HMC,F)',\n",
       " 'KL(G,G)',\n",
       " 'KL(F,F)',\n",
       " 'SW(G,G)',\n",
       " 'SW(F,F)']"
      ]
     },
     "execution_count": 28,
     "metadata": {},
     "output_type": "execute_result"
    }
   ],
   "source": [
    "metrics=[m for m,d in results_f.items()]\n",
    "metrics"
   ]
  },
  {
   "cell_type": "code",
   "execution_count": 37,
   "metadata": {},
   "outputs": [],
   "source": [
    "datasets=datasets_foong"
   ]
  },
  {
   "cell_type": "code",
   "execution_count": 38,
   "metadata": {
    "scrolled": true
   },
   "outputs": [
    {
     "name": "stdout",
     "output_type": "stream",
     "text": [
      "foong: 54.94859313964844\n",
      "foong: 53.53559112548828\n",
      "foong: 53.171634674072266\n",
      "foong_sparse: 40.3542366027832\n",
      "foong_sparse: 55.23053741455078\n",
      "foong_sparse: 47.725990295410156\n",
      "foong_mixed: 53.08280944824219\n",
      "foong_mixed: 57.857879638671875\n",
      "foong_mixed: 43.379451751708984\n"
     ]
    }
   ],
   "source": [
    "metric='KL(F,HMC)'\n",
    "for dataset in datasets:\n",
    "\n",
    "    setup_ = get_setup(dataset)\n",
    "    setup=setup_.Setup(device) \n",
    "    G=BigGenerator(lat_dim, setup.param_count, device).to(device)\n",
    "    models_pairs=list(itertools.combinations(models[dataset][method].items(),2))\n",
    "\n",
    "    def projection(t,s,m):\n",
    "        return setup.projection(t,s,m,ratio_ood=1)\n",
    "    \n",
    "    KLs=[]\n",
    "    for i,m in models[dataset][method].items():\n",
    "        t=models[dataset]['HMC'][0].to(device)\n",
    "        G.load_state_dict(m)\n",
    "        s=G(t.shape[0]).detach()\n",
    "        K=FunKL(s,t,projection,device)\n",
    "        print(dataset+': '+str(K.item()))\n",
    "        KLs.append(K.item())\n",
    "\n",
    "    results_f[metric][dataset]=(np.mean(KLs).round(decimals=3), np.std(KLs).round(decimals=3))\n"
   ]
  },
  {
   "cell_type": "code",
   "execution_count": 39,
   "metadata": {
    "scrolled": true
   },
   "outputs": [
    {
     "name": "stdout",
     "output_type": "stream",
     "text": [
      "foong: 43.25922775268555\n",
      "foong: 34.87715530395508\n",
      "foong: 39.90632247924805\n",
      "foong_sparse: 41.45333480834961\n",
      "foong_sparse: 50.55454635620117\n",
      "foong_sparse: 43.761695861816406\n",
      "foong_mixed: 59.61448287963867\n",
      "foong_mixed: 65.65032958984375\n",
      "foong_mixed: 43.787601470947266\n"
     ]
    }
   ],
   "source": [
    "metric='KL(HMC,F)'\n",
    "for dataset in datasets:\n",
    "    method='FuNNeVI'\n",
    "\n",
    "    setup_ = get_setup(dataset)\n",
    "    setup=setup_.Setup(device) \n",
    "    G=BigGenerator(lat_dim, setup.param_count, device).to(device)\n",
    "    models_pairs=list(itertools.combinations(models[dataset][method].items(),2))\n",
    "\n",
    "    def projection(t,s,m):\n",
    "        return setup.projection(t,s,m,ratio_ood=1)\n",
    "\n",
    "    \n",
    "    KLs=[]\n",
    "    for i,m in models[dataset][method].items():\n",
    "        t=models[dataset]['HMC'][0].to(device)\n",
    "        G.load_state_dict(m)\n",
    "        s=G(t.shape[0]).detach()\n",
    "        K=FunKL(t,s,projection,device)\n",
    "        if dataset == 'powerplant' or dataset == 'wine':\n",
    "            K=FunKL(t,s,projection,device,k=2)\n",
    "\n",
    "        print(dataset+': '+str(K.item()))\n",
    "        KLs.append(K.item())\n",
    "\n",
    "    results_f[metric][dataset]=(np.mean(KLs).round(decimals=3), np.std(KLs).round(decimals=3))\n"
   ]
  },
  {
   "cell_type": "code",
   "execution_count": 40,
   "metadata": {
    "scrolled": true
   },
   "outputs": [
    {
     "name": "stdout",
     "output_type": "stream",
     "text": [
      "foong: 0.06357075273990631\n",
      "foong: 0.0486682653427124\n",
      "foong: 0.060762859880924225\n",
      "foong_sparse: 0.017405826598405838\n",
      "foong_sparse: 0.028838658705353737\n",
      "foong_sparse: 0.023587116971611977\n",
      "foong_mixed: 0.013164439238607883\n",
      "foong_mixed: 0.016316985711455345\n",
      "foong_mixed: 0.00915541872382164\n"
     ]
    }
   ],
   "source": [
    "metric='SW(HMC,F)'\n",
    "for dataset in datasets:\n",
    "    method='FuNNeVI'\n",
    "\n",
    "    setup_ = get_setup(dataset)\n",
    "    setup=setup_.Setup(device) \n",
    "    G=BigGenerator(lat_dim, setup.param_count, device).to(device)\n",
    "    \n",
    "    def projection(t,s,m):\n",
    "        return setup.projection(t,s,m,ratio_ood=1)\n",
    "    KLs=[]\n",
    "    for i,m in models[dataset][method].items():\n",
    "        t=models[dataset]['HMC'][0].to(device)\n",
    "        G.load_state_dict(m)\n",
    "        s=G(t.shape[0]).detach()\n",
    "        K=FunSW(t,s, projection, device)\n",
    "        print(dataset+': '+str(K.item()))\n",
    "        KLs.append(K.item())\n",
    "    results_f[metric][dataset]=(np.mean(KLs).round(decimals=3), np.std(KLs).round(decimals=3))\n",
    "\n"
   ]
  },
  {
   "cell_type": "code",
   "execution_count": 41,
   "metadata": {
    "scrolled": true
   },
   "outputs": [
    {
     "name": "stdout",
     "output_type": "stream",
     "text": [
      "foong: (25.953933715820312, 26.312511444091797)\n",
      "foong: (18.016586303710938, 18.546812057495117)\n",
      "foong: (17.462556838989258, 17.998811721801758)\n",
      "foong_sparse: (29.38646697998047, 26.8703556060791)\n",
      "foong_sparse: (20.645307540893555, 20.444438934326172)\n",
      "foong_sparse: (18.565528869628906, 18.93509292602539)\n",
      "foong_mixed: (24.31157875061035, 28.666982650756836)\n",
      "foong_mixed: (40.3663444519043, 35.92378234863281)\n",
      "foong_mixed: (47.655818939208984, 35.288307189941406)\n"
     ]
    }
   ],
   "source": [
    "metric='KL(F,F)'\n",
    "for dataset in datasets:\n",
    "    method='FuNNeVI'\n",
    "\n",
    "    setup_ = get_setup(dataset)\n",
    "    setup=setup_.Setup(device) \n",
    "    G=BigGenerator(lat_dim, setup.param_count, device).to(device)\n",
    "    models_pairs=list(itertools.combinations(models[dataset][method].items(),2))\n",
    "    \n",
    "    def projection(t,s,m):\n",
    "        return setup.projection(t,s,m,ratio_ood=1)\n",
    "    \n",
    "    \n",
    "    KLs=[]\n",
    "    for (i,m),(j,n) in models_pairs:\n",
    "        G.load_state_dict(m)\n",
    "        s=G(10000).detach()\n",
    "        G.load_state_dict(n)\n",
    "        t=G(10000).detach()\n",
    "        K=FunKL(t,s, projection,device)\n",
    "        K_=FunKL(s,t, projection,device)\n",
    "        print(dataset+': '+str((K.item(), K_.item())))\n",
    "        KLs.append(K.item())\n",
    "        KLs.append(K_.item())\n",
    "    results_f[metric][dataset]=(np.mean(KLs).round(decimals=3), np.std(KLs).round(decimals=3))\n"
   ]
  },
  {
   "cell_type": "code",
   "execution_count": 42,
   "metadata": {
    "scrolled": false
   },
   "outputs": [
    {
     "name": "stdout",
     "output_type": "stream",
     "text": [
      "0.7202625842285777\n",
      "0.7600973131923526\n",
      "0.8162232281721759\n",
      "0.8392144144502784\n",
      "0.7753943617308598\n",
      "0.8675571039706714\n",
      "0.7407402978842316\n",
      "0.8828219287238174\n",
      "0.9445834493885477\n"
     ]
    }
   ],
   "source": [
    "metric='SW(F,F)'\n",
    "for dataset in datasets:\n",
    "    method='FuNNeVI'\n",
    "\n",
    "    setup_ = get_setup(dataset)\n",
    "    setup=setup_.Setup(device) \n",
    "    G=BigGenerator(lat_dim, setup.param_count, device).to(device)\n",
    "    models_pairs=list(itertools.combinations(models[dataset][method].items(),2))\n",
    "\n",
    "    SWs=[]\n",
    "    for (i,m),(j,n) in models_pairs:\n",
    "        G.load_state_dict(m)\n",
    "        s=G(10000).detach()\n",
    "        G.load_state_dict(n)\n",
    "        t=G(10000).detach()\n",
    "        SW=sw(s.cpu(),t.cpu(),'cpu')\n",
    "        print(SW)\n",
    "        SWs.append(SW.item())\n",
    "    \n",
    "    results_f[metric][dataset]=(np.mean(SWs).round(decimals=3), np.std(SWs).round(decimals=3))\n"
   ]
  },
  {
   "cell_type": "code",
   "execution_count": 51,
   "metadata": {},
   "outputs": [
    {
     "data": {
      "text/html": [
       "<div>\n",
       "<style scoped>\n",
       "    .dataframe tbody tr th:only-of-type {\n",
       "        vertical-align: middle;\n",
       "    }\n",
       "\n",
       "    .dataframe tbody tr th {\n",
       "        vertical-align: top;\n",
       "    }\n",
       "\n",
       "    .dataframe thead th {\n",
       "        text-align: right;\n",
       "    }\n",
       "</style>\n",
       "<table border=\"1\" class=\"dataframe\">\n",
       "  <thead>\n",
       "    <tr style=\"text-align: right;\">\n",
       "      <th></th>\n",
       "      <th>KL(G,HMC)</th>\n",
       "      <th>KL(F,HMC)</th>\n",
       "      <th>KL(HMC,G)</th>\n",
       "      <th>KL(HMC,F)</th>\n",
       "      <th>SW(HMC,G)</th>\n",
       "      <th>SW(HMC,F)</th>\n",
       "      <th>KL(G,G)</th>\n",
       "      <th>KL(F,F)</th>\n",
       "      <th>SW(G,G)</th>\n",
       "      <th>SW(F,F)</th>\n",
       "    </tr>\n",
       "  </thead>\n",
       "  <tbody>\n",
       "    <tr>\n",
       "      <th>foong</th>\n",
       "      <td>(93.609, 3.109)</td>\n",
       "      <td>(53.885, 0.766)</td>\n",
       "      <td>(93.524, 4.952)</td>\n",
       "      <td>(39.348, 3.445)</td>\n",
       "      <td>(0.056, 0.001)</td>\n",
       "      <td>(0.058, 0.006)</td>\n",
       "      <td>(48.479, 17.907)</td>\n",
       "      <td>(20.715, 3.845)</td>\n",
       "      <td>(1.022, 0.028)</td>\n",
       "      <td>(0.766, 0.039)</td>\n",
       "    </tr>\n",
       "    <tr>\n",
       "      <th>foong_sparse</th>\n",
       "      <td>(74.764, 3.025)</td>\n",
       "      <td>(47.77, 6.073)</td>\n",
       "      <td>(40.717, 4.308)</td>\n",
       "      <td>(45.257, 3.863)</td>\n",
       "      <td>(0.019, 0.002)</td>\n",
       "      <td>(0.023, 0.005)</td>\n",
       "      <td>(39.101, 3.057)</td>\n",
       "      <td>(22.475, 4.131)</td>\n",
       "      <td>(0.841, 0.062)</td>\n",
       "      <td>(0.827, 0.039)</td>\n",
       "    </tr>\n",
       "    <tr>\n",
       "      <th>foong_mixed</th>\n",
       "      <td>NaN</td>\n",
       "      <td>(51.44, 6.024)</td>\n",
       "      <td>NaN</td>\n",
       "      <td>(56.351, 9.219)</td>\n",
       "      <td>NaN</td>\n",
       "      <td>(0.013, 0.003)</td>\n",
       "      <td>NaN</td>\n",
       "      <td>(35.369, 7.566)</td>\n",
       "      <td>NaN</td>\n",
       "      <td>(0.856, 0.085)</td>\n",
       "    </tr>\n",
       "    <tr>\n",
       "      <th>boston</th>\n",
       "      <td>(66.876, 2.614)</td>\n",
       "      <td>(3.713, 0.457)</td>\n",
       "      <td>(9.968, 0.375)</td>\n",
       "      <td>(66.41, 0.321)</td>\n",
       "      <td>(0.427, 0.002)</td>\n",
       "      <td>(1.543, 0.024)</td>\n",
       "      <td>(12.405, 3.185)</td>\n",
       "      <td>(2.973, 0.489)</td>\n",
       "      <td>(0.314, 0.003)</td>\n",
       "      <td>(3.152, 0.226)</td>\n",
       "    </tr>\n",
       "    <tr>\n",
       "      <th>concrete</th>\n",
       "      <td>(61.895, 1.988)</td>\n",
       "      <td>(3.092, 0.396)</td>\n",
       "      <td>(5.907, 0.21)</td>\n",
       "      <td>(61.223, 1.48)</td>\n",
       "      <td>(0.315, 0.004)</td>\n",
       "      <td>(0.963, 0.028)</td>\n",
       "      <td>(3.585, 0.841)</td>\n",
       "      <td>(2.861, 1.133)</td>\n",
       "      <td>(0.306, 0.016)</td>\n",
       "      <td>(3.665, 0.1)</td>\n",
       "    </tr>\n",
       "    <tr>\n",
       "      <th>energy</th>\n",
       "      <td>(44.847, 12.241)</td>\n",
       "      <td>(4.666, 0.39)</td>\n",
       "      <td>(12.987, 3.607)</td>\n",
       "      <td>(63.492, 0.493)</td>\n",
       "      <td>(1.077, 1.059)</td>\n",
       "      <td>(0.552, 0.006)</td>\n",
       "      <td>(34.873, 9.787)</td>\n",
       "      <td>(3.769, 0.457)</td>\n",
       "      <td>(0.408, 0.017)</td>\n",
       "      <td>(3.129, 0.038)</td>\n",
       "    </tr>\n",
       "    <tr>\n",
       "      <th>powerplant</th>\n",
       "      <td>(99.755, 1.941)</td>\n",
       "      <td>(10.611, 0.845)</td>\n",
       "      <td>(9.343, 0.337)</td>\n",
       "      <td>(84.8, 2.366)</td>\n",
       "      <td>(0.108, 0.0)</td>\n",
       "      <td>(0.604, 0.016)</td>\n",
       "      <td>(26.304, 13.344)</td>\n",
       "      <td>(7.367, 1.449)</td>\n",
       "      <td>(0.284, 0.002)</td>\n",
       "      <td>(4.619, 0.087)</td>\n",
       "    </tr>\n",
       "    <tr>\n",
       "      <th>wine</th>\n",
       "      <td>(79.141, 5.465)</td>\n",
       "      <td>(56.074, 4.187)</td>\n",
       "      <td>(20.131, 3.774)</td>\n",
       "      <td>(42.665, 0.464)</td>\n",
       "      <td>(0.623, 0.077)</td>\n",
       "      <td>(1.769, 0.059)</td>\n",
       "      <td>(63.66, 5.092)</td>\n",
       "      <td>(28.65, 3.819)</td>\n",
       "      <td>(0.848, 0.026)</td>\n",
       "      <td>(0.967, 0.057)</td>\n",
       "    </tr>\n",
       "    <tr>\n",
       "      <th>yacht</th>\n",
       "      <td>(97.657, 4.306)</td>\n",
       "      <td>(7.647, 1.742)</td>\n",
       "      <td>(14.405, 1.089)</td>\n",
       "      <td>(65.408, 2.995)</td>\n",
       "      <td>(0.238, 0.001)</td>\n",
       "      <td>(0.533, 0.027)</td>\n",
       "      <td>(13.611, 1.388)</td>\n",
       "      <td>(4.921, 2.939)</td>\n",
       "      <td>(0.313, 0.007)</td>\n",
       "      <td>(4.433, 0.103)</td>\n",
       "    </tr>\n",
       "  </tbody>\n",
       "</table>\n",
       "</div>"
      ],
      "text/plain": [
       "                     KL(G,HMC)        KL(F,HMC)        KL(HMC,G)  \\\n",
       "foong          (93.609, 3.109)  (53.885, 0.766)  (93.524, 4.952)   \n",
       "foong_sparse   (74.764, 3.025)   (47.77, 6.073)  (40.717, 4.308)   \n",
       "foong_mixed                NaN   (51.44, 6.024)              NaN   \n",
       "boston         (66.876, 2.614)   (3.713, 0.457)   (9.968, 0.375)   \n",
       "concrete       (61.895, 1.988)   (3.092, 0.396)    (5.907, 0.21)   \n",
       "energy        (44.847, 12.241)    (4.666, 0.39)  (12.987, 3.607)   \n",
       "powerplant     (99.755, 1.941)  (10.611, 0.845)   (9.343, 0.337)   \n",
       "wine           (79.141, 5.465)  (56.074, 4.187)  (20.131, 3.774)   \n",
       "yacht          (97.657, 4.306)   (7.647, 1.742)  (14.405, 1.089)   \n",
       "\n",
       "                    KL(HMC,F)       SW(HMC,G)       SW(HMC,F)  \\\n",
       "foong         (39.348, 3.445)  (0.056, 0.001)  (0.058, 0.006)   \n",
       "foong_sparse  (45.257, 3.863)  (0.019, 0.002)  (0.023, 0.005)   \n",
       "foong_mixed   (56.351, 9.219)             NaN  (0.013, 0.003)   \n",
       "boston         (66.41, 0.321)  (0.427, 0.002)  (1.543, 0.024)   \n",
       "concrete       (61.223, 1.48)  (0.315, 0.004)  (0.963, 0.028)   \n",
       "energy        (63.492, 0.493)  (1.077, 1.059)  (0.552, 0.006)   \n",
       "powerplant      (84.8, 2.366)    (0.108, 0.0)  (0.604, 0.016)   \n",
       "wine          (42.665, 0.464)  (0.623, 0.077)  (1.769, 0.059)   \n",
       "yacht         (65.408, 2.995)  (0.238, 0.001)  (0.533, 0.027)   \n",
       "\n",
       "                       KL(G,G)          KL(F,F)         SW(G,G)  \\\n",
       "foong         (48.479, 17.907)  (20.715, 3.845)  (1.022, 0.028)   \n",
       "foong_sparse   (39.101, 3.057)  (22.475, 4.131)  (0.841, 0.062)   \n",
       "foong_mixed                NaN  (35.369, 7.566)             NaN   \n",
       "boston         (12.405, 3.185)   (2.973, 0.489)  (0.314, 0.003)   \n",
       "concrete        (3.585, 0.841)   (2.861, 1.133)  (0.306, 0.016)   \n",
       "energy         (34.873, 9.787)   (3.769, 0.457)  (0.408, 0.017)   \n",
       "powerplant    (26.304, 13.344)   (7.367, 1.449)  (0.284, 0.002)   \n",
       "wine            (63.66, 5.092)   (28.65, 3.819)  (0.848, 0.026)   \n",
       "yacht          (13.611, 1.388)   (4.921, 2.939)  (0.313, 0.007)   \n",
       "\n",
       "                     SW(F,F)  \n",
       "foong         (0.766, 0.039)  \n",
       "foong_sparse  (0.827, 0.039)  \n",
       "foong_mixed   (0.856, 0.085)  \n",
       "boston        (3.152, 0.226)  \n",
       "concrete        (3.665, 0.1)  \n",
       "energy        (3.129, 0.038)  \n",
       "powerplant    (4.619, 0.087)  \n",
       "wine          (0.967, 0.057)  \n",
       "yacht         (4.433, 0.103)  "
      ]
     },
     "execution_count": 51,
     "metadata": {},
     "output_type": "execute_result"
    }
   ],
   "source": [
    "torch.save(results_f, 'Results/The_results-FuS.pt')\n",
    "pd.DataFrame(results_f,index=datasets)\n"
   ]
  },
  {
   "cell_type": "code",
   "execution_count": null,
   "metadata": {},
   "outputs": [],
   "source": []
  },
  {
   "cell_type": "code",
   "execution_count": null,
   "metadata": {},
   "outputs": [],
   "source": []
  }
 ],
 "metadata": {
  "kernelspec": {
   "display_name": "Python 3",
   "language": "python",
   "name": "python3"
  },
  "language_info": {
   "codemirror_mode": {
    "name": "ipython",
    "version": 3
   },
   "file_extension": ".py",
   "mimetype": "text/x-python",
   "name": "python",
   "nbconvert_exporter": "python",
   "pygments_lexer": "ipython3",
   "version": "3.8.2"
  }
 },
 "nbformat": 4,
 "nbformat_minor": 2
}
