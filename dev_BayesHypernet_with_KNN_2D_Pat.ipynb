{
 "cells": [
  {
   "cell_type": "code",
   "execution_count": 1,
   "metadata": {},
   "outputs": [],
   "source": [
    "import torch\n",
    "from torch import nn\n",
    "from torch import functional as F\n",
    "import matplotlib.pyplot as plt\n",
    "import numpy as np\n",
    "from livelossplot import PlotLosses\n",
    "from Tools.NNtools import *\n",
    "import seaborn as sns, numpy as np\n",
    "import functools\n",
    "from scipy.spatial.distance import squareform\n",
    "import math"
   ]
  },
  {
   "cell_type": "markdown",
   "metadata": {},
   "source": [
    "### IMPORTS"
   ]
  },
  {
   "cell_type": "code",
   "execution_count": 2,
   "metadata": {},
   "outputs": [],
   "source": [
    "from Inference.Variational import MeanFieldVariationalDistribution"
   ]
  },
  {
   "cell_type": "code",
   "execution_count": 3,
   "metadata": {},
   "outputs": [],
   "source": [
    "class VariationalGenerativeNetwork(nn.Module):\n",
    "    def __init__(self, nntransform, lat_dim, mu=0.0, sigma=1.0, device='cpu'):\n",
    "        super(VariationalGenerativeNetwork, self).__init__()\n",
    "        self.device = device\n",
    "        self.lat_dim = lat_dim\n",
    "        \n",
    "        self.mfvar = MeanFieldVariationalDistribution(lat_dim,mu,sigma, device)\n",
    "        self.nntransform = nntransform\n",
    "        \n",
    "          \n",
    "    def sample(self, n=1):\n",
    "        return self.nntransform(self.mfvar.sample(n))"
   ]
  },
  {
   "cell_type": "code",
   "execution_count": 4,
   "metadata": {},
   "outputs": [],
   "source": [
    "def show_variational_posterior_predictive(q):\n",
    "    x_test = torch.linspace(-2.0, 2.0).unsqueeze(1).to(device)\n",
    "    # Sampling the distribution over Neural Networks 1000 times, and plotting with transparency to make it appear as a smooth distribution\n",
    "    fig, ax = plt.subplots()\n",
    "    fig.set_size_inches(11.7, 8.27)\n",
    "    plt.xlim(-2, 2) \n",
    "    plt.ylim(-4, 4) \n",
    "    plt.scatter(x_data.cpu(), y_data.cpu())\n",
    "    for _ in range(1000):\n",
    "        z = q.sample()\n",
    "        set_all_parameters(model, z)\n",
    "        y_test = model(x_test)\n",
    "\n",
    "        plt.plot(x_test.detach().cpu().numpy(), y_test.squeeze(0).detach().cpu().numpy(), alpha=0.05, linewidth=1, color='lightblue')"
   ]
  },
  {
   "cell_type": "code",
   "execution_count": 5,
   "metadata": {},
   "outputs": [
    {
     "data": {
      "text/plain": [
       "device(type='cuda', index=2)"
      ]
     },
     "execution_count": 5,
     "metadata": {},
     "output_type": "execute_result"
    }
   ],
   "source": [
    "# Find what device to work with\n",
    "device = torch.device('cuda:2' if torch.cuda.is_available() else 'cpu')\n",
    "device "
   ]
  },
  {
   "cell_type": "code",
   "execution_count": 6,
   "metadata": {},
   "outputs": [],
   "source": [
    "torch.set_default_dtype(torch.float64)"
   ]
  },
  {
   "cell_type": "markdown",
   "metadata": {},
   "source": [
    "# Model principal"
   ]
  },
  {
   "cell_type": "code",
   "execution_count": 7,
   "metadata": {},
   "outputs": [],
   "source": [
    "Target = torch.distributions.MultivariateNormal(torch.zeros(2, device=device), torch.tensor([[1,0.9],[0.9,1]], device=device))"
   ]
  },
  {
   "cell_type": "code",
   "execution_count": 18,
   "metadata": {},
   "outputs": [],
   "source": [
    "def logposterior(y):\n",
    "    x = torch.zeros(y.size(),device=device)\n",
    "    x[:,0] = y[:,0]\n",
    "    x[:,1] = -y[:,0]**2 + y[:,1] - 1\n",
    "    return Target.log_prob(x) "
   ]
  },
  {
   "cell_type": "code",
   "execution_count": 42,
   "metadata": {},
   "outputs": [],
   "source": [
    "N = 10000"
   ]
  },
  {
   "cell_type": "code",
   "execution_count": 43,
   "metadata": {},
   "outputs": [],
   "source": [
    "x = Target.sample((N,))\n",
    "Y = torch.zeros(x.size(),device=device)\n",
    "Y[:,0] = x[:,0]\n",
    "Y[:,1] = x[:,0]**2 + x[:,1] + 1"
   ]
  },
  {
   "cell_type": "code",
   "execution_count": 44,
   "metadata": {},
   "outputs": [
    {
     "data": {
      "image/png": "[encoded data removed]",
      "text/plain": [
       "<Figure size 432x288 with 1 Axes>"
      ]
     },
     "metadata": {
      "needs_background": "light"
     },
     "output_type": "display_data"
    }
   ],
   "source": [
    "ax = sns.scatterplot(Y[:,0].detach().cpu().numpy(), Y[:,1].detach().cpu().numpy())"
   ]
  },
  {
   "cell_type": "code",
   "execution_count": null,
   "metadata": {},
   "outputs": [],
   "source": []
  },
  {
   "cell_type": "code",
   "execution_count": 109,
   "metadata": {},
   "outputs": [
    {
     "data": {
      "text/plain": [
       "tensor(2.0066)"
      ]
     },
     "execution_count": 109,
     "metadata": {},
     "output_type": "execute_result"
    }
   ],
   "source": [
    "E = torch.tensor(0.0)\n",
    "for r in range(N):\n",
    "    E += logposterior(Y[r,:].unsqueeze(0)).squeeze()\n",
    "E /= N\n",
    "-E"
   ]
  },
  {
   "cell_type": "code",
   "execution_count": null,
   "metadata": {},
   "outputs": [],
   "source": []
  },
  {
   "cell_type": "code",
   "execution_count": 22,
   "metadata": {},
   "outputs": [],
   "source": [
    "delta = 0.1\n",
    "xi = torch.arange(-2.5, 3.0, delta, device=device)\n",
    "yi = torch.arange(-2.0, 10.0, delta, device=device)\n",
    "Xi, Yi = torch.meshgrid(xi, yi)\n",
    "Zi = torch.zeros((Yi.shape), device=device)"
   ]
  },
  {
   "cell_type": "code",
   "execution_count": 23,
   "metadata": {},
   "outputs": [],
   "source": [
    "for i in range(len(xi)):\n",
    "    for j in range(len(yi)):\n",
    "        Zi[i,j] = logposterior(torch.tensor([Xi[i,j],Yi[i,j]], device=device).unsqueeze(0)).exp()"
   ]
  },
  {
   "cell_type": "code",
   "execution_count": 41,
   "metadata": {},
   "outputs": [
    {
     "data": {
      "image/png": "[encoded data removed]",
      "text/plain": [
       "<Figure size 432x288 with 1 Axes>"
      ]
     },
     "metadata": {
      "needs_background": "light"
     },
     "output_type": "display_data"
    }
   ],
   "source": [
    "fig, ax = plt.subplots()\n",
    "CS = ax.contour(Xi.detach().cpu().numpy(), Yi.detach().cpu().numpy(), Zi.detach().cpu().numpy())\n",
    "ax.clabel(CS, inline=1, fontsize=10)\n",
    "ax = sns.scatterplot(Y[:,0].detach().cpu().numpy(), Y[:,1].detach().cpu().numpy())"
   ]
  },
  {
   "cell_type": "code",
   "execution_count": null,
   "metadata": {},
   "outputs": [],
   "source": []
  },
  {
   "cell_type": "code",
   "execution_count": null,
   "metadata": {},
   "outputs": [],
   "source": []
  },
  {
   "cell_type": "markdown",
   "metadata": {},
   "source": [
    "# Modèle génératif: Hypernet autoencodeur"
   ]
  },
  {
   "cell_type": "code",
   "execution_count": null,
   "metadata": {},
   "outputs": [],
   "source": []
  },
  {
   "cell_type": "code",
   "execution_count": null,
   "metadata": {},
   "outputs": [],
   "source": [
    "def LinSigmoid(x):\n",
    "    return 1/(1+(math.e**-x)) + 0.05*x"
   ]
  },
  {
   "cell_type": "code",
   "execution_count": null,
   "metadata": {},
   "outputs": [],
   "source": [
    "def LinTanh(x):\n",
    "    return torch.tanh(x) + 0.05*x"
   ]
  },
  {
   "cell_type": "code",
   "execution_count": null,
   "metadata": {},
   "outputs": [],
   "source": [
    "def LinELU(x):\n",
    "    return torch.nn.functional.elu(x) + 0.01*x + 1.0"
   ]
  },
  {
   "cell_type": "code",
   "execution_count": null,
   "metadata": {},
   "outputs": [],
   "source": [
    "def RBF(x):\n",
    "    return torch.exp(-x**2)"
   ]
  },
  {
   "cell_type": "code",
   "execution_count": null,
   "metadata": {},
   "outputs": [],
   "source": [
    "def RectifiedQuad(x):\n",
    "    return nn.functional.relu(x)**2"
   ]
  },
  {
   "cell_type": "code",
   "execution_count": null,
   "metadata": {},
   "outputs": [],
   "source": [
    "def swish(x, beta = 1):\n",
    "    return (x * torch.sigmoid(beta * x))"
   ]
  },
  {
   "cell_type": "code",
   "execution_count": null,
   "metadata": {},
   "outputs": [],
   "source": [
    "plt.plot(x_lin.detach().cpu().numpy(), LinELU(x_lin).detach().cpu().numpy())"
   ]
  },
  {
   "cell_type": "code",
   "execution_count": null,
   "metadata": {},
   "outputs": [],
   "source": []
  },
  {
   "cell_type": "code",
   "execution_count": null,
   "metadata": {},
   "outputs": [],
   "source": []
  },
  {
   "cell_type": "code",
   "execution_count": null,
   "metadata": {},
   "outputs": [],
   "source": [
    "class Net(nn.Module):\n",
    "    def __init__(self,lat_dim, H):\n",
    "        super(Net, self).__init__()\n",
    "        self.L1 = nn.Linear(lat_dim, H)\n",
    "        self.L2 = nn.Linear(H, H)\n",
    "        self.L3 = nn.Linear(H, H)\n",
    "        self.L4 = nn.Linear(H, H)\n",
    "        self.L5 = nn.Linear(H, H)\n",
    "        self.L6 = nn.Linear(H, 2)\n",
    "\n",
    "    def forward(self, input):\n",
    "        h = nn.functional.relu(self.L1(input))\n",
    "        h = nn.functional.relu(self.L2(h))\n",
    "        h = nn.functional.relu(self.L3(h))\n",
    "        h = nn.functional.relu(self.L4(h))\n",
    "        h = nn.functional.relu(self.L5(h))\n",
    "        h = self.L6(h)\n",
    "        return h\n",
    "    \n",
    "lat_dim = 20\n",
    "H = 50\n",
    "nntransform = Net(lat_dim,H)\n",
    "nntransform.to(device)\n",
    "\n",
    "def init_weights(m):\n",
    "    if type(m) == nn.Linear:\n",
    "        #torch.nn.init.normal_(m.weight, mean=0.0, std=0.2)\n",
    "        #torch.nn.init.normal_(m.bias, mean=0.0, std=0.2)\n",
    "        torch.nn.init.xavier_uniform_(m.weight)\n",
    "        torch.nn.init.uniform_(m.bias)\n",
    "        \n",
    "\n",
    "nntransform.apply(init_weights)\n",
    "\n",
    "q = VariationalGenerativeNetwork(nntransform, lat_dim, mu=0.0, sigma=1.0, device=device)\n",
    "q.mfvar.mu.requires_grad_(False)\n",
    "q.mfvar.rho.requires_grad_(False)"
   ]
  },
  {
   "cell_type": "code",
   "execution_count": null,
   "metadata": {},
   "outputs": [],
   "source": []
  },
  {
   "cell_type": "code",
   "execution_count": null,
   "metadata": {},
   "outputs": [],
   "source": [
    "class PolynomialNet(nn.Module):\n",
    "    def __init__(self,lat_dim, H):\n",
    "        super(PolynomialNet, self).__init__()\n",
    "        self.L1 = nn.Linear(lat_dim, H)\n",
    "        self.L2 = nn.Linear(2*H, H)\n",
    "        self.L3 = nn.Linear(2*H, H)\n",
    "        self.L4 = nn.Linear(2*H, H)\n",
    "        self.L5 = nn.Linear(2*H, H)\n",
    "        self.L6 = nn.Linear(2*H, 1)\n",
    "\n",
    "    def forward(self, input):\n",
    "        h = torch.cat([nn.functional.relu(self.L1(input)), nn.functional.relu(self.L1(input))**2], dim=1) \n",
    "        h = torch.cat([nn.functional.relu(self.L2(h)), nn.functional.relu(self.L2(h))**2], dim=1) \n",
    "        h = torch.cat([nn.functional.relu(self.L3(h)), nn.functional.relu(self.L3(h))**2], dim=1)\n",
    "        h = torch.cat([nn.functional.relu(self.L4(h)), nn.functional.relu(self.L4(h))**2], dim=1) \n",
    "        h = torch.cat([nn.functional.relu(self.L5(h)), nn.functional.relu(self.L5(h))**2], dim=1) \n",
    "        h = self.L6(h)\n",
    "        return h\n",
    "    \n",
    "lat_dim = 10\n",
    "H = 50\n",
    "nntransform = PolynomialNet(lat_dim,H)\n",
    "nntransform.to(device)\n",
    "\n",
    "def init_weights(m):\n",
    "    if type(m) == nn.Linear:\n",
    "        torch.nn.init.normal_(m.weight, mean=0.0, std=0.1)\n",
    "        torch.nn.init.normal_(m.bias, mean=0.0, std=1.0)\n",
    "        #torch.nn.init.xavier_uniform_(m.weight)\n",
    "        #torch.nn.init.uniform_(m.bias)\n",
    "        \n",
    "\n",
    "nntransform.apply(init_weights)\n",
    "\n",
    "q = VariationalGenerativeNetwork(nntransform, lat_dim, mu=0.0, sigma=1.0, device=device)\n",
    "q.mfvar.mu.requires_grad_(False)\n",
    "q.mfvar.rho.requires_grad_(False)"
   ]
  },
  {
   "cell_type": "code",
   "execution_count": null,
   "metadata": {},
   "outputs": [],
   "source": []
  },
  {
   "cell_type": "code",
   "execution_count": null,
   "metadata": {},
   "outputs": [],
   "source": [
    "class DenseBlockEncoder(torch.nn.Module):\n",
    "    def __init__(self, wSequence, activation):\n",
    "        super().__init__()\n",
    "        self.fullyConnectedList = nn.ModuleList()\n",
    "        self.activation = activation\n",
    "        for j in range(len(wSequence) - 1):\n",
    "            self.fullyConnectedList.append(nn.Linear(sum(wSequence[:j + 1]), wSequence[j + 1]))\n",
    "\n",
    "    def forward(self, *inputs):\n",
    "        hidden, = inputs\n",
    "        for j in range(len(self.fullyConnectedList) - 1):\n",
    "            layer = self.fullyConnectedList[j]\n",
    "            hidden = self.activation(torch.cat([layer(hidden), hidden], dim=1))\n",
    "        layer = self.fullyConnectedList[-1]\n",
    "        hidden = layer(hidden)\n",
    "        return hidden\n",
    "\n",
    "lat_dim = 10\n",
    "H = 20\n",
    "nntransform = DenseBlockEncoder([lat_dim,H,H,H,H,1], nn.functional.relu)\n",
    "nntransform.to(device)\n",
    "\n",
    "def init_weights(m):\n",
    "    if type(m) == nn.Linear:\n",
    "        #torch.nn.init.normal_(m.weight, mean=0.0, std=0.2)\n",
    "        #torch.nn.init.normal_(m.bias, mean=0.0, std=0.2)\n",
    "        torch.nn.init.xavier_uniform_(m.weight)\n",
    "        torch.nn.init.uniform_(m.bias)\n",
    "        \n",
    "\n",
    "nntransform.apply(init_weights)\n",
    "\n",
    "q = VariationalGenerativeNetwork(nntransform, lat_dim, mu=0.0, sigma=5.0, device=device)\n",
    "q.mfvar.mu.requires_grad_(False)\n",
    "q.mfvar.rho.requires_grad_(False)"
   ]
  },
  {
   "cell_type": "code",
   "execution_count": null,
   "metadata": {},
   "outputs": [],
   "source": []
  },
  {
   "cell_type": "code",
   "execution_count": null,
   "metadata": {},
   "outputs": [],
   "source": []
  },
  {
   "cell_type": "code",
   "execution_count": null,
   "metadata": {},
   "outputs": [],
   "source": [
    "X = q.sample(1000)\n",
    "fig, ax = plt.subplots()\n",
    "CS = ax.contour(Xi.detach().cpu().numpy(), Yi.detach().cpu().numpy(), Zi.detach().cpu().numpy())\n",
    "ax.clabel(CS, inline=1, fontsize=10)\n",
    "ax = sns.kdeplot(X[:,0].detach().cpu().numpy(), X[:,1].detach().cpu().numpy())"
   ]
  },
  {
   "cell_type": "code",
   "execution_count": null,
   "metadata": {},
   "outputs": [],
   "source": []
  },
  {
   "cell_type": "markdown",
   "metadata": {},
   "source": [
    "# Training #"
   ]
  },
  {
   "cell_type": "code",
   "execution_count": null,
   "metadata": {},
   "outputs": [],
   "source": [
    "N_ELBO = 1200"
   ]
  },
  {
   "cell_type": "code",
   "execution_count": null,
   "metadata": {},
   "outputs": [],
   "source": [
    "optimizer = torch.optim.Adagrad(q.parameters(), lr=0.02)"
   ]
  },
  {
   "cell_type": "code",
   "execution_count": null,
   "metadata": {},
   "outputs": [],
   "source": [
    "#scheduler = torch.optim.lr_scheduler.ReduceLROnPlateau(optimizer, patience=200, factor=0.1)"
   ]
  },
  {
   "cell_type": "code",
   "execution_count": null,
   "metadata": {},
   "outputs": [],
   "source": [
    "scheduler = torch.optim.lr_scheduler.ExponentialLR(optimizer, gamma=0.9995)"
   ]
  },
  {
   "cell_type": "code",
   "execution_count": null,
   "metadata": {},
   "outputs": [],
   "source": [
    "%matplotlib inline\n",
    "liveloss = PlotLosses()"
   ]
  },
  {
   "cell_type": "code",
   "execution_count": null,
   "metadata": {},
   "outputs": [],
   "source": []
  },
  {
   "cell_type": "code",
   "execution_count": null,
   "metadata": {},
   "outputs": [],
   "source": [
    "for t in range(100000):\n",
    "    with torch.autograd.set_detect_anomaly(True):\n",
    "        logs = {}\n",
    "        optimizer.zero_grad()\n",
    "\n",
    "        X = q.sample(N_ELBO)\n",
    "        ExpectedPosterior = logposterior(X).mean()\n",
    "\n",
    "        D = torch.nn.functional.pdist(X,p=2.0)\n",
    "\n",
    "        Entropy = torch.log(D).mean()\n",
    "\n",
    "        L = -ExpectedPosterior-Entropy\n",
    "\n",
    "        if not torch.isfinite(L):\n",
    "            break\n",
    "\n",
    "        L.backward(retain_graph=True)\n",
    "        torch.nn.utils.clip_grad_value_(q.parameters(), 0.01)\n",
    "\n",
    "        optimizer.step()\n",
    "\n",
    "        with torch.no_grad():\n",
    "            learning_rate = optimizer.param_groups[0]['lr']\n",
    "\n",
    "            scheduler.step() #L.detach().clone().cpu().numpy())\n",
    "\n",
    "            logs['KL'] = L.detach().clone().cpu().numpy()\n",
    "            logs['learning rate'] = learning_rate\n",
    "            logs['Entropy'] = Entropy.detach().clone().cpu().numpy()\n",
    "            liveloss.update(logs)\n",
    "\n",
    "            if t % 25 == 0:\n",
    "                liveloss.draw()\n",
    "                X = q.sample(1000)\n",
    "                fig, ax = plt.subplots()\n",
    "                ax.contour(Xi.detach().cpu().numpy(), Yi.detach().cpu().numpy(), Zi.detach().cpu().numpy(), levels=5, alpha=0.5)\n",
    "                #ax.clabel(CS, inline=1, fontsize=10)\n",
    "                ax = sns.kdeplot(X[:,0].detach().cpu().numpy(), X[:,1].detach().cpu().numpy(), shade=True)\n",
    "\n",
    "        if learning_rate < 0.00001:\n",
    "            break"
   ]
  },
  {
   "cell_type": "code",
   "execution_count": null,
   "metadata": {},
   "outputs": [],
   "source": []
  },
  {
   "cell_type": "code",
   "execution_count": null,
   "metadata": {},
   "outputs": [],
   "source": []
  },
  {
   "cell_type": "code",
   "execution_count": 101,
   "metadata": {},
   "outputs": [],
   "source": [
    "N = 10000"
   ]
  },
  {
   "cell_type": "code",
   "execution_count": 102,
   "metadata": {},
   "outputs": [],
   "source": [
    "x = Target.sample((N,))\n",
    "Y = torch.zeros(x.size(),device=device)\n",
    "Y[:,0] = x[:,0]\n",
    "Y[:,1] = x[:,0]**2 + x[:,1] + 1"
   ]
  },
  {
   "cell_type": "code",
   "execution_count": null,
   "metadata": {},
   "outputs": [],
   "source": []
  },
  {
   "cell_type": "code",
   "execution_count": 103,
   "metadata": {
    "scrolled": true
   },
   "outputs": [
    {
     "data": {
      "image/png": "[encoded data removed]",
      "text/plain": [
       "<Figure size 432x288 with 1 Axes>"
      ]
     },
     "metadata": {
      "needs_background": "light"
     },
     "output_type": "display_data"
    }
   ],
   "source": [
    "ax = sns.scatterplot(Y[:,0].detach().cpu().numpy(), Y[:,1].detach().cpu().numpy())"
   ]
  },
  {
   "cell_type": "code",
   "execution_count": null,
   "metadata": {},
   "outputs": [],
   "source": []
  },
  {
   "cell_type": "code",
   "execution_count": null,
   "metadata": {},
   "outputs": [],
   "source": []
  },
  {
   "cell_type": "code",
   "execution_count": null,
   "metadata": {},
   "outputs": [],
   "source": [
    "k = 1\n",
    "d = 2\n",
    "\n",
    "D = torch.cdist(Y,Y,p=2.0)\n",
    "\n",
    "a = torch.topk(D, k=k+1, dim=0, largest=False, sorted=True)[0][1,:]\n",
    "\n",
    "lcd = (d/2.0*torch.log(torch.tensor(np.pi))) - torch.lgamma(torch.tensor(1.0 + d/2.0))\n",
    "\n",
    "torch.digamma(torch.tensor(N).float()).double() - torch.digamma(torch.tensor(k).float()).double() + lcd + d/N*torch.sum(torch.log(a))"
   ]
  },
  {
   "cell_type": "code",
   "execution_count": null,
   "metadata": {},
   "outputs": [],
   "source": []
  }
 ],
 "metadata": {
  "kernelspec": {
   "display_name": "Python 3",
   "language": "python",
   "name": "python3"
  },
  "language_info": {
   "codemirror_mode": {
    "name": "ipython",
    "version": 3
   },
   "file_extension": ".py",
   "mimetype": "text/x-python",
   "name": "python",
   "nbconvert_exporter": "python",
   "pygments_lexer": "ipython3",
   "version": "3.7.5"
  }
 },
 "nbformat": 4,
 "nbformat_minor": 2
}
