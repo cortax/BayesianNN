{
 "cells": [
  {
   "cell_type": "code",
   "execution_count": null,
   "metadata": {},
   "outputs": [],
   "source": [
    "import numpy as np\n",
    "import math\n",
    "import torch\n",
    "from torch import nn\n",
    "from torch import functional as F\n",
    "import scipy.stats as stats\n",
    "import matplotlib\n",
    "import matplotlib.pyplot as plt\n",
    "from livelossplot import PlotLosses"
   ]
  },
  {
   "cell_type": "code",
   "execution_count": null,
   "metadata": {},
   "outputs": [],
   "source": [
    "device = torch.device('cuda:0' if torch.cuda.is_available() else 'cpu')\n",
    "device"
   ]
  },
  {
   "cell_type": "code",
   "execution_count": null,
   "metadata": {},
   "outputs": [],
   "source": [
    "class MeanFieldVariationalDistribution(nn.Module):\n",
    "    def __init__(self, nb_dim, mu=0.0, sigma=1.0, device='cpu'):\n",
    "        super(MeanFieldVariationalDistribution, self).__init__()\n",
    "        self.device = device\n",
    "        self.nb_dim = nb_dim\n",
    "        self.mu = nn.Parameter(torch.Tensor(nb_dim), requires_grad=True)\n",
    "        self.rho = nn.Parameter(torch.Tensor(nb_dim), requires_grad=True)\n",
    "        \n",
    "        if not torch.is_tensor(mu):\n",
    "            mu = torch.tensor(mu)\n",
    "            \n",
    "        if not torch.is_tensor(sigma):\n",
    "            sigma = torch.tensor(sigma)\n",
    "        \n",
    "        rho = torch.log(torch.exp(sigma) - 1)\n",
    "        \n",
    "        nn.init.constant_(self.mu, mu)\n",
    "        nn.init.constant_(self.rho, rho)\n",
    "        \n",
    "    def set_mu(self, mu):\n",
    "        if not torch.is_tensor(mu):\n",
    "            mu = torch.tensor(mu).float()\n",
    "        nn.init.constant_(self.mu, mu)\n",
    "        \n",
    "        \n",
    "    def set_rho(self, rho):\n",
    "        if not torch.is_tensor(rho):\n",
    "            rho = torch.tensor(rho).float()\n",
    "        nn.init.constant_(self.rho, rho)\n",
    "       \n",
    "    def set_sigma(self, sigma):\n",
    "        if not torch.is_tensor(sigma):\n",
    "            sigma = torch.tensor(sigma).float()\n",
    "        rho = self._sigma_to_rho(sigma)\n",
    "        self.set_rho(rho)\n",
    "        \n",
    "    @property\n",
    "    def sigma(self):\n",
    "        return self._rho_to_sigma(self.rho)\n",
    "        \n",
    "    def sample(self, n=1):\n",
    "        sigma = self._rho_to_sigma(self.rho)\n",
    "        epsilon = torch.randn(size=(n,self.nb_dim)).to(self.device)\n",
    "        return epsilon.mul(sigma).add(self.mu)\n",
    "    \n",
    "    def _rho_to_sigma(self, rho):\n",
    "        sigma = torch.log(1 + torch.exp(rho))\n",
    "        return sigma\n",
    "\n",
    "    def _sigma_to_rho(self, sigma):\n",
    "        rho = torch.log(torch.exp(sigma) - 1)\n",
    "        return rho\n",
    "    \n",
    "    def log_prob(self, z):\n",
    "        S = torch.diag(self.sigma)\n",
    "        return torch.distributions.multivariate_normal.MultivariateNormal(self.mu, scale_tril=S).log_prob(z).unsqueeze(-1)"
   ]
  },
  {
   "cell_type": "markdown",
   "metadata": {},
   "source": [
    "# Variational Distribution #"
   ]
  },
  {
   "cell_type": "code",
   "execution_count": null,
   "metadata": {},
   "outputs": [],
   "source": [
    "q = MeanFieldVariationalDistribution(1)"
   ]
  },
  {
   "cell_type": "code",
   "execution_count": null,
   "metadata": {},
   "outputs": [],
   "source": [
    "%matplotlib notebook\n",
    "x_lin = torch.arange(-10, 10.0, 0.01).unsqueeze(-1)\n",
    "plt.plot(x_lin.detach().cpu().numpy(), q.log_prob(x_lin).exp().detach().cpu().numpy())\n",
    "plt.show()"
   ]
  },
  {
   "cell_type": "markdown",
   "metadata": {},
   "source": [
    "# Prior #"
   ]
  },
  {
   "cell_type": "code",
   "execution_count": null,
   "metadata": {},
   "outputs": [],
   "source": [
    "prior_mu = torch.tensor([0.0])\n",
    "prior_sigma = torch.tensor([[1.0]])"
   ]
  },
  {
   "cell_type": "code",
   "execution_count": null,
   "metadata": {},
   "outputs": [],
   "source": [
    "def prior(x):\n",
    "    return torch.exp(logprior(x))\n",
    "\n",
    "def logprior(x):\n",
    "    return torch.distributions.multivariate_normal.MultivariateNormal(prior_mu, scale_tril=prior_sigma).log_prob(x).unsqueeze(-1)"
   ]
  },
  {
   "cell_type": "markdown",
   "metadata": {},
   "source": [
    "# Likelihood #"
   ]
  },
  {
   "cell_type": "code",
   "execution_count": null,
   "metadata": {},
   "outputs": [],
   "source": [
    "mixture = [torch.distributions.normal.Normal(-5.0, 0.1),\n",
    "           torch.distributions.normal.Normal(-5.5, 0.2),\n",
    "           torch.distributions.normal.Normal(-6.0, 0.1)]\n",
    "proportions = torch.tensor([0.01, 0.19, 0.8])"
   ]
  },
  {
   "cell_type": "code",
   "execution_count": null,
   "metadata": {},
   "outputs": [],
   "source": [
    "def likelihood(x):\n",
    "    return torch.exp(loglikelihood(x))\n",
    "\n",
    "def loglikelihood(x):\n",
    "    logp = [None]*len(mixture)\n",
    "    for j in range(len(mixture)):\n",
    "        logp[j] = mixture[j].log_prob(x) + proportions[j].log()\n",
    "    return torch.logsumexp(torch.cat(logp,dim=1),dim=1).unsqueeze(-1)"
   ]
  },
  {
   "cell_type": "markdown",
   "metadata": {},
   "source": [
    "# Posterior #"
   ]
  },
  {
   "cell_type": "code",
   "execution_count": null,
   "metadata": {},
   "outputs": [],
   "source": [
    "def posterior(x):\n",
    "    return prior(x)*likelihood(x)"
   ]
  },
  {
   "cell_type": "code",
   "execution_count": null,
   "metadata": {},
   "outputs": [],
   "source": [
    "def logposterior(x):\n",
    "    return logprior(x) + loglikelihood(x)"
   ]
  },
  {
   "cell_type": "code",
   "execution_count": null,
   "metadata": {},
   "outputs": [],
   "source": [
    "%matplotlib notebook\n",
    "%matplotlib notebook\n",
    "\n",
    "x_lin = torch.arange(-10, 10.0, 0.01).unsqueeze(-1)\n",
    "plt.plot(x_lin.detach().cpu().numpy(), prior(x_lin).detach().cpu().numpy())\n",
    "plt.plot(x_lin.detach().cpu().numpy(), likelihood(x_lin).detach().cpu().numpy())\n",
    "\n",
    "Z = (1/(torch.sum(posterior(x_lin),dim=0)*0.01)).detach().cpu().numpy()\n",
    "plt.plot(x_lin.detach().cpu().numpy(), Z*posterior(x_lin).detach().cpu().numpy())\n",
    "plt.show()"
   ]
  },
  {
   "cell_type": "code",
   "execution_count": null,
   "metadata": {},
   "outputs": [],
   "source": [
    "q = MeanFieldVariationalDistribution(1)"
   ]
  },
  {
   "cell_type": "code",
   "execution_count": null,
   "metadata": {},
   "outputs": [],
   "source": [
    "n_samples_ELBO = 1"
   ]
  },
  {
   "cell_type": "code",
   "execution_count": null,
   "metadata": {},
   "outputs": [],
   "source": [
    "optimizer = torch.optim.Adam(q.parameters(), lr=0.01)\n",
    "scheduler = torch.optim.lr_scheduler.ReduceLROnPlateau(optimizer, patience=500, factor=0.5)"
   ]
  },
  {
   "cell_type": "code",
   "execution_count": null,
   "metadata": {},
   "outputs": [],
   "source": [
    "%matplotlib inline\n",
    "liveloss = PlotLosses()\n",
    "for t in range(10000):\n",
    "    logs = {}\n",
    "    optimizer.zero_grad()\n",
    "\n",
    "    z = q.sample(n_samples_ELBO)\n",
    "    LQ = q.log_prob(z)\n",
    "    LP = logposterior(z)\n",
    "    L = (LQ - LP).sum()/n_samples_ELBO\n",
    "\n",
    "    L.backward()\n",
    "    \n",
    "    learning_rate = optimizer.param_groups[0]['lr']\n",
    "    \n",
    "    scheduler.step(L.detach().clone().cpu().numpy())\n",
    "    logs['ELBO'] = L.detach().clone().cpu().numpy()\n",
    "    logs['learning rate'] = learning_rate\n",
    "    liveloss.update(logs)\n",
    "    \n",
    "    if t % 10 == 0:\n",
    "        liveloss.draw()\n",
    "\n",
    "    optimizer.step()\n",
    "    \n",
    "    if learning_rate < 0.0001:\n",
    "        break"
   ]
  },
  {
   "cell_type": "code",
   "execution_count": null,
   "metadata": {},
   "outputs": [],
   "source": []
  },
  {
   "cell_type": "code",
   "execution_count": null,
   "metadata": {},
   "outputs": [],
   "source": [
    "%matplotlib notebook\n",
    "%matplotlib notebook\n",
    "\n",
    "x_lin = torch.arange(-10, 10.0, 0.01).unsqueeze(-1)\n",
    "plt.plot(x_lin.detach().cpu().numpy(), prior(x_lin).detach().cpu().numpy())\n",
    "plt.plot(x_lin.detach().cpu().numpy(), likelihood(x_lin).detach().cpu().numpy())\n",
    "\n",
    "Z = (1/(torch.sum(posterior(x_lin),dim=0)*0.01)).detach().cpu().numpy()\n",
    "plt.plot(x_lin.detach().cpu().numpy(), Z*posterior(x_lin).detach().cpu().numpy())\n",
    "\n",
    "plt.plot(x_lin.detach().numpy(), q.log_prob(x_lin).exp().detach().numpy())\n",
    "plt.legend(['prior', 'likelihood', 'posterior', 'q'])\n",
    "plt.show()"
   ]
  },
  {
   "cell_type": "code",
   "execution_count": null,
   "metadata": {},
   "outputs": [],
   "source": [
    "%matplotlib notebook\n",
    "%matplotlib notebook\n",
    "\n",
    "x_lin = torch.arange(-10, 10.0, 0.01).unsqueeze(-1)\n",
    "\n",
    "Z = (1/(torch.sum(posterior(x_lin),dim=0)*0.01)).detach().cpu().numpy()\n",
    "plt.plot(x_lin.detach().cpu().numpy(), Z*posterior(x_lin).detach().cpu().numpy())\n",
    "\n",
    "plt.plot(x_lin.detach().numpy(), q.log_prob(x_lin).exp().detach().numpy())\n",
    "plt.legend(['posterior', 'q'])\n",
    "plt.show()"
   ]
  },
  {
   "cell_type": "code",
   "execution_count": null,
   "metadata": {},
   "outputs": [],
   "source": []
  }
 ],
 "metadata": {
  "kernelspec": {
   "display_name": "Python 3",
   "language": "python",
   "name": "python3"
  },
  "language_info": {
   "codemirror_mode": {
    "name": "ipython",
    "version": 3
   },
   "file_extension": ".py",
   "mimetype": "text/x-python",
   "name": "python",
   "nbconvert_exporter": "python",
   "pygments_lexer": "ipython3",
   "version": "3.7.3"
  }
 },
 "nbformat": 4,
 "nbformat_minor": 2
}
