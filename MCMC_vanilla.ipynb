{
 "cells": [
  {
   "cell_type": "code",
   "execution_count": 1,
   "metadata": {},
   "outputs": [],
   "source": [
    "import torch\n",
    "import pyro\n",
    "\n",
    "import pyro.distributions as dist\n",
    "from pyro.infer.mcmc import MCMC, HMC, NUTS\n",
    "from pyro.infer.mcmc.api import MCMC\n",
    "\n",
    "from scipy.stats import uniform, norm\n",
    "\n",
    "import matplotlib.pyplot as plt\n",
    "\n",
    "pyro.set_rng_seed(42)"
   ]
  },
  {
   "cell_type": "markdown",
   "metadata": {},
   "source": [
    "# Data Generation"
   ]
  },
  {
   "cell_type": "code",
   "execution_count": 2,
   "metadata": {},
   "outputs": [
    {
     "data": {
      "text/plain": [
       "<matplotlib.collections.PathCollection at 0x7f0a69df97f0>"
      ]
     },
     "execution_count": 2,
     "metadata": {},
     "output_type": "execute_result"
    },
    {
     "data": {
      "image/png": "[encoded data removed]",
      "text/plain": [
       "<Figure size 432x288 with 1 Axes>"
      ]
     },
     "metadata": {
      "needs_background": "light"
     },
     "output_type": "display_data"
    }
   ],
   "source": [
    "N = 100\n",
    "X = torch.rand(N)\n",
    "#a, b = 10, 5\n",
    "#noise = torch.from_numpy(norm.rvs(loc=0, scale=0.05, size=N)).float()\n",
    "#labels = a * X + b + noise\n",
    "\n",
    "a, b, c, e = 3, 5, 1, 20\n",
    "#labels = a * X + b + c * torch.rand(X.size()) \n",
    "labels = a * X  + b + c * torch.rand(X.size()) \n",
    "\n",
    "plt.scatter(X, labels, s=5)"
   ]
  },
  {
   "cell_type": "markdown",
   "metadata": {},
   "source": [
    "# Model"
   ]
  },
  {
   "cell_type": "code",
   "execution_count": 3,
   "metadata": {},
   "outputs": [],
   "source": [
    "def model(X):\n",
    "    a = pyro.sample('a', dist.Normal(0.,10))\n",
    "    b = pyro.sample('b', dist.Normal(0.,10))\n",
    "#    e = pyro.sample('e', dist.Normal(0.,10))\n",
    "    mu = a*X+b\n",
    "#    mu = a*X + e*X*X + b\n",
    "    sigma = pyro.sample('sigma', dist.Uniform(0,1))\n",
    "    return pyro.sample('obs', dist.Normal(mu,sigma), obs=labels)"
   ]
  },
  {
   "cell_type": "code",
   "execution_count": 4,
   "metadata": {},
   "outputs": [],
   "source": [
    "nuts_kernel = NUTS(model)\n",
    "mcmc = MCMC(nuts_kernel, num_samples=200, warmup_steps=50)"
   ]
  },
  {
   "cell_type": "code",
   "execution_count": 5,
   "metadata": {},
   "outputs": [
    {
     "name": "stderr",
     "output_type": "stream",
     "text": [
      "sample: 100%|██████████| 250/250 [00:05<00:00, 37.67it/s, step size=6.56e-02, acc. prob=0.900]\n"
     ]
    },
    {
     "name": "stdout",
     "output_type": "stream",
     "text": [
      "\n",
      "\n",
      "                mean       std    median      5.0%     95.0%     n_eff     r_hat\n",
      "         a      3.11      0.07      3.11      2.96      3.21     24.87      1.08\n",
      "         b      5.40      0.05      5.40      5.32      5.47     36.50      1.07\n",
      "     sigma      0.28      0.02      0.28      0.25      0.31    159.43      1.00\n",
      "\n",
      "\n"
     ]
    }
   ],
   "source": [
    "mcmc.run(X)\n",
    "mcmc.summary()"
   ]
  }
 ],
 "metadata": {
  "kernelspec": {
   "display_name": "Python 3",
   "language": "python",
   "name": "python3"
  },
  "language_info": {
   "codemirror_mode": {
    "name": "ipython",
    "version": 3
   },
   "file_extension": ".py",
   "mimetype": "text/x-python",
   "name": "python",
   "nbconvert_exporter": "python",
   "pygments_lexer": "ipython3",
   "version": "3.7.1"
  }
 },
 "nbformat": 4,
 "nbformat_minor": 2
}
