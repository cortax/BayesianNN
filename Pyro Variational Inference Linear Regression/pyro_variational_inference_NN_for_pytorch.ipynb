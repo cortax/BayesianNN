{
 "cells": [
  {
   "cell_type": "code",
   "execution_count": 22,
   "metadata": {},
   "outputs": [],
   "source": [
    "import pandas as pd\n",
    "import os\n",
    "import numpy as np\n",
    "import scipy as sp\n",
    "import torch\n",
    "import torch.nn as nn\n",
    "import torch.nn.functional as F"
   ]
  },
  {
   "cell_type": "code",
   "execution_count": 23,
   "metadata": {},
   "outputs": [],
   "source": [
    "import pyro\n",
    "import pyro.distributions as dist\n",
    "from pyro.distributions import Normal, Uniform, Delta\n",
    "from pyro.infer.mcmc import MCMC, HMC, NUTS\n",
    "from pyro.infer.mcmc.api import MCMC\n",
    "import pyro.poutine as poutine\n",
    "from pyro.infer import EmpiricalMarginal, SVI, Trace_ELBO, TracePredictive, JitTrace_ELBO\n",
    "from pyro.optim import Adam\n",
    "from pyro.infer.mcmc.util import predictive\n",
    "from pyro.distributions.util import sum_rightmost"
   ]
  },
  {
   "cell_type": "code",
   "execution_count": 24,
   "metadata": {},
   "outputs": [],
   "source": [
    "from scipy.stats import uniform, norm\n",
    "import seaborn as sns; sns.set()\n",
    "import matplotlib.pyplot as plt"
   ]
  },
  {
   "cell_type": "code",
   "execution_count": 25,
   "metadata": {},
   "outputs": [],
   "source": [
    "# for CI testing\n",
    "assert pyro.__version__.startswith('0.3.4')\n",
    "pyro.enable_validation(True)\n",
    "pyro.set_rng_seed(1)\n",
    "pyro.enable_validation(True)"
   ]
  },
  {
   "cell_type": "code",
   "execution_count": null,
   "metadata": {},
   "outputs": [],
   "source": []
  },
  {
   "cell_type": "code",
   "execution_count": 26,
   "metadata": {},
   "outputs": [],
   "source": [
    "A = 10.2\n",
    "b = -10.3\n",
    "c = 1.0\n",
    "sigma = 0.2\n",
    "N = 100"
   ]
  },
  {
   "cell_type": "code",
   "execution_count": 27,
   "metadata": {},
   "outputs": [],
   "source": [
    "np.random.seed(0)\n",
    "X = torch.from_numpy(uniform.rvs(size=N))\n",
    "X.detach()\n",
    "X = X.float()"
   ]
  },
  {
   "cell_type": "code",
   "execution_count": 28,
   "metadata": {},
   "outputs": [],
   "source": [
    "e = torch.from_numpy(norm.rvs(loc=0, scale=sigma, size=N)).float()\n",
    "y = A*X.pow(2) + b*X + c + e\n",
    "y.detach()\n",
    "y = y.float()"
   ]
  },
  {
   "cell_type": "code",
   "execution_count": 29,
   "metadata": {},
   "outputs": [
    {
     "data": {
      "text/plain": [
       "<matplotlib.collections.PathCollection at 0x7f06c49707b8>"
      ]
     },
     "execution_count": 29,
     "metadata": {},
     "output_type": "execute_result"
    },
    {
     "data": {
      "image/png": "[encoded data removed]",
      "text/plain": [
       "<Figure size 432x288 with 1 Axes>"
      ]
     },
     "metadata": {},
     "output_type": "display_data"
    }
   ],
   "source": [
    "plt.scatter(X.numpy(), y.numpy())"
   ]
  },
  {
   "cell_type": "code",
   "execution_count": 30,
   "metadata": {},
   "outputs": [],
   "source": [
    "x_data, y_data = X.unsqueeze(1), y"
   ]
  },
  {
   "cell_type": "code",
   "execution_count": 31,
   "metadata": {},
   "outputs": [],
   "source": [
    "H = 50"
   ]
  },
  {
   "cell_type": "code",
   "execution_count": 32,
   "metadata": {},
   "outputs": [],
   "source": [
    "class RegressionModel(nn.Module):\n",
    "    def __init__(self, p):\n",
    "        super(RegressionModel, self).__init__()\n",
    "        self.linear1 = nn.Linear(p, H)\n",
    "        self.linear2 = nn.Linear(H,1)\n",
    "\n",
    "    def forward(self, x):\n",
    "        out = F.relu(self.linear1(x))\n",
    "        out = self.linear2(out)\n",
    "        return out\n",
    "\n",
    "p = 1\n",
    "softplus = nn.Softplus()\n",
    "regression_model = RegressionModel(p)"
   ]
  },
  {
   "cell_type": "code",
   "execution_count": 33,
   "metadata": {},
   "outputs": [
    {
     "name": "stdout",
     "output_type": "stream",
     "text": [
      "linear1.weight torch.Size([50, 1])\n",
      "linear1.bias torch.Size([50])\n",
      "linear2.weight torch.Size([1, 50])\n",
      "linear2.bias torch.Size([1])\n"
     ]
    }
   ],
   "source": [
    "for name, param in regression_model.named_parameters():\n",
    "    if param.requires_grad:\n",
    "        print(name, param.data.shape)"
   ]
  },
  {
   "cell_type": "code",
   "execution_count": 34,
   "metadata": {},
   "outputs": [],
   "source": [
    "def model(x_data, y_data):\n",
    "    options = dict(dtype=x_data.dtype, device=x_data.device)\n",
    "    \n",
    "    weight_loc = torch.zeros(H, p, **options)\n",
    "    weight_scale = 5*torch.ones(H, p, **options)\n",
    "    bias_loc = torch.zeros(H, **options)\n",
    "    bias_scale = 5*torch.ones(H, **options)\n",
    "    \n",
    "    linear1_w_prior = Normal(weight_loc, weight_scale).independent(2)\n",
    "    linear1_b_prior = Normal(bias_loc, bias_scale).independent(1)\n",
    "    \n",
    "    weight_loc = torch.zeros(1, H, **options)\n",
    "    weight_scale = 5*torch.ones(1, H, **options)\n",
    "    bias_loc = torch.zeros(1, **options)\n",
    "    bias_scale = 5*torch.ones(1, **options)\n",
    "    \n",
    "    linear2_w_prior = Normal(weight_loc, weight_scale).independent(2)\n",
    "    linear2_b_prior = Normal(bias_loc, bias_scale).independent(1)\n",
    "    \n",
    "    priors = {'linear1.weight': linear1_w_prior, 'linear1.bias': linear1_b_prior,\n",
    "              'linear2.weight': linear2_w_prior, 'linear2.bias': linear2_b_prior,}\n",
    "    \n",
    "    lifted_module = pyro.random_module(\"module\", regression_model, priors)\n",
    "    \n",
    "    lifted_reg_model = lifted_module()\n",
    "    \n",
    "    with pyro.plate(\"map\"):\n",
    "        prediction_mean = lifted_reg_model(x_data).squeeze(-1)\n",
    "        pyro.sample(\"obs\", Normal(prediction_mean, 0.2), obs=y_data)\n",
    "    return prediction_mean"
   ]
  },
  {
   "cell_type": "code",
   "execution_count": 35,
   "metadata": {},
   "outputs": [],
   "source": [
    "from pyro.contrib.autoguide import AutoDiagonalNormal\n",
    "guide = AutoDiagonalNormal(model)"
   ]
  },
  {
   "cell_type": "code",
   "execution_count": null,
   "metadata": {},
   "outputs": [],
   "source": []
  },
  {
   "cell_type": "code",
   "execution_count": 36,
   "metadata": {},
   "outputs": [],
   "source": [
    "pyro.clear_param_store()"
   ]
  },
  {
   "cell_type": "code",
   "execution_count": 37,
   "metadata": {},
   "outputs": [],
   "source": [
    "optim = Adam({\"lr\": 0.01})\n",
    "svi = SVI(model, guide, optim, loss=Trace_ELBO(), num_samples=1000)"
   ]
  },
  {
   "cell_type": "code",
   "execution_count": 41,
   "metadata": {},
   "outputs": [
    {
     "name": "stdout",
     "output_type": "stream",
     "text": [
      "[iteration 0001] loss: 1.5129\n",
      "[iteration 0101] loss: 1.6450\n",
      "[iteration 0201] loss: 1.5400\n",
      "[iteration 0301] loss: 1.6424\n",
      "[iteration 0401] loss: 1.6463\n",
      "[iteration 0501] loss: 1.6098\n",
      "[iteration 0601] loss: 1.5819\n",
      "[iteration 0701] loss: 1.7035\n",
      "[iteration 0801] loss: 1.7276\n",
      "[iteration 0901] loss: 1.6616\n",
      "[iteration 1001] loss: 52.8428\n",
      "[iteration 1101] loss: 1.5501\n",
      "[iteration 1201] loss: 1.6052\n",
      "[iteration 1301] loss: 1.6215\n",
      "[iteration 1401] loss: 1.6933\n",
      "[iteration 1501] loss: 1.7278\n",
      "[iteration 1601] loss: 1.7274\n",
      "[iteration 1701] loss: 1.7065\n",
      "[iteration 1801] loss: 1.7806\n",
      "[iteration 1901] loss: 1.7572\n",
      "[iteration 2001] loss: 1.5986\n",
      "[iteration 2101] loss: 1.6418\n",
      "[iteration 2201] loss: 1.7485\n",
      "[iteration 2301] loss: 1.7985\n",
      "[iteration 2401] loss: 1.5796\n",
      "[iteration 2501] loss: 1.5133\n",
      "[iteration 2601] loss: 1.4681\n",
      "[iteration 2701] loss: 1.5855\n",
      "[iteration 2801] loss: 1.6980\n",
      "[iteration 2901] loss: 1.6136\n",
      "[iteration 3001] loss: 1.7856\n",
      "[iteration 3101] loss: 1.5914\n",
      "[iteration 3201] loss: 1.8617\n",
      "[iteration 3301] loss: 1.5196\n",
      "[iteration 3401] loss: 1.6586\n",
      "[iteration 3501] loss: 1.6777\n",
      "[iteration 3601] loss: 1.6342\n",
      "[iteration 3701] loss: 2.1818\n",
      "[iteration 3801] loss: 1.7906\n",
      "[iteration 3901] loss: 1.6074\n",
      "[iteration 4001] loss: 1.6890\n",
      "[iteration 4101] loss: 1.8268\n",
      "[iteration 4201] loss: 1.5896\n",
      "[iteration 4301] loss: 1.6916\n",
      "[iteration 4401] loss: 1.6119\n",
      "[iteration 4501] loss: 1.6292\n",
      "[iteration 4601] loss: 1.5917\n",
      "[iteration 4701] loss: 1.5667\n",
      "[iteration 4801] loss: 1.5856\n",
      "[iteration 4901] loss: 1.5117\n",
      "[iteration 5001] loss: 1.5082\n",
      "[iteration 5101] loss: 2.8935\n",
      "[iteration 5201] loss: 1.6895\n",
      "[iteration 5301] loss: 1.6961\n",
      "[iteration 5401] loss: 1.4936\n",
      "[iteration 5501] loss: 1.7233\n",
      "[iteration 5601] loss: 1.5797\n",
      "[iteration 5701] loss: 1.6802\n",
      "[iteration 5801] loss: 1.6904\n",
      "[iteration 5901] loss: 1.6349\n",
      "[iteration 6001] loss: 1.7291\n",
      "[iteration 6101] loss: 1.5965\n",
      "[iteration 6201] loss: 1.8009\n",
      "[iteration 6301] loss: 1.6442\n",
      "[iteration 6401] loss: 1.6651\n",
      "[iteration 6501] loss: 1.5951\n",
      "[iteration 6601] loss: 1.5375\n",
      "[iteration 6701] loss: 1.5371\n",
      "[iteration 6801] loss: 1.5049\n",
      "[iteration 6901] loss: 1.6470\n",
      "[iteration 7001] loss: 1.6011\n",
      "[iteration 7101] loss: 1.4853\n",
      "[iteration 7201] loss: 1.5492\n",
      "[iteration 7301] loss: 1.5616\n",
      "[iteration 7401] loss: 1.4735\n",
      "[iteration 7501] loss: 1.4889\n",
      "[iteration 7601] loss: 1.5327\n",
      "[iteration 7701] loss: 1.6183\n",
      "[iteration 7801] loss: 1.3572\n",
      "[iteration 7901] loss: 1.6866\n",
      "[iteration 8001] loss: 2.5125\n",
      "[iteration 8101] loss: 1.6740\n",
      "[iteration 8201] loss: 1.4335\n",
      "[iteration 8301] loss: 1.5775\n",
      "[iteration 8401] loss: 1.5495\n",
      "[iteration 8501] loss: 1.5318\n",
      "[iteration 8601] loss: 1.5752\n",
      "[iteration 8701] loss: 1.4969\n",
      "[iteration 8801] loss: 1.5032\n",
      "[iteration 8901] loss: 1.6091\n",
      "[iteration 9001] loss: 1.6271\n",
      "[iteration 9101] loss: 1.8873\n",
      "[iteration 9201] loss: 1.7791\n",
      "[iteration 9301] loss: 1.5131\n",
      "[iteration 9401] loss: 1.5764\n",
      "[iteration 9501] loss: 1.7073\n",
      "[iteration 9601] loss: 1.6969\n",
      "[iteration 9701] loss: 1.5131\n",
      "[iteration 9801] loss: 2.0384\n",
      "[iteration 9901] loss: 1.5575\n"
     ]
    }
   ],
   "source": [
    "num_iterations = 10000\n",
    "for j in range(num_iterations):\n",
    "    # calculate the loss and take a gradient step\n",
    "    loss = svi.step(x_data, y_data)\n",
    "    if j % 100 == 0:\n",
    "        print(\"[iteration %04d] loss: %.4f\" % (j + 1, loss / len(y_data)))"
   ]
  },
  {
   "cell_type": "code",
   "execution_count": null,
   "metadata": {},
   "outputs": [],
   "source": []
  },
  {
   "cell_type": "code",
   "execution_count": 42,
   "metadata": {},
   "outputs": [],
   "source": [
    "get_marginal = lambda traces, sites:EmpiricalMarginal(traces, sites)._get_samples_and_weights()[0].detach().cpu().numpy()\n",
    "\n",
    "def wrapped_model(x_data, y_data):\n",
    "    pyro.sample(\"prediction\", Delta(model(x_data, y_data)))\n",
    "\n",
    "posterior = svi.run(x_data, y_data)"
   ]
  },
  {
   "cell_type": "code",
   "execution_count": 43,
   "metadata": {},
   "outputs": [],
   "source": [
    "x_test = torch.linspace(0.0, 1.0).unsqueeze(1)"
   ]
  },
  {
   "cell_type": "code",
   "execution_count": 44,
   "metadata": {},
   "outputs": [
    {
     "data": {
      "image/png": "[encoded data removed]",
      "text/plain": [
       "<Figure size 842.4x595.44 with 1 Axes>"
      ]
     },
     "metadata": {},
     "output_type": "display_data"
    }
   ],
   "source": [
    "fig, ax = plt.subplots()\n",
    "fig.set_size_inches(11.7, 8.27)\n",
    "\n",
    "plt.scatter(X,y)\n",
    "for _ in range(1000):\n",
    "    guide_trace = poutine.trace(guide).get_trace(x_test, None)\n",
    "    lifted_reg_model = poutine.replay(model, guide_trace)\n",
    "    y_test = lifted_reg_model(x_test, None)\n",
    "    plt.plot(x_test.detach().cpu().numpy(), y_test.detach().cpu().numpy(), alpha=0.05, linewidth=1, color='lightblue')"
   ]
  },
  {
   "cell_type": "code",
   "execution_count": null,
   "metadata": {},
   "outputs": [],
   "source": []
  },
  {
   "cell_type": "code",
   "execution_count": 21,
   "metadata": {},
   "outputs": [
    {
     "name": "stdout",
     "output_type": "stream",
     "text": [
      "auto_loc tensor([-0.1230, -2.2260, -2.4973, -0.0123, -3.5632, -0.6358, -0.4926, -0.7853,\n",
      "        -4.2915,  2.8750, -2.8906, -1.5027, -0.7422, -2.6805, -1.4446, -3.3045,\n",
      "        -2.6496, -1.9266,  1.4222, -1.9845,  0.8113, -0.1373,  0.1595,  1.5636,\n",
      "         0.4178, -0.2736,  0.5059,  0.2236,  1.5914,  2.3502, -1.4142],\n",
      "       requires_grad=True)\n",
      "auto_scale tensor([1.0098, 0.8436, 0.9415, 0.6131, 1.4568, 0.7515, 0.6159, 0.8215, 0.1394,\n",
      "        0.0223, 0.6928, 0.4565, 0.4036, 0.4830, 0.4957, 0.6910, 0.4495, 0.5640,\n",
      "        0.0258, 0.0218, 3.3881, 0.7367, 0.5325, 1.1649, 1.3053, 3.4871, 1.4642,\n",
      "        1.3569, 0.0467, 0.0800, 0.0225], grad_fn=<AddBackward0>)\n"
     ]
    }
   ],
   "source": [
    "for name, value in pyro.get_param_store().items():\n",
    "    print(name, pyro.param(name))"
   ]
  }
 ],
 "metadata": {
  "kernelspec": {
   "display_name": "Python 3",
   "language": "python",
   "name": "python3"
  },
  "language_info": {
   "codemirror_mode": {
    "name": "ipython",
    "version": 3
   },
   "file_extension": ".py",
   "mimetype": "text/x-python",
   "name": "python",
   "nbconvert_exporter": "python",
   "pygments_lexer": "ipython3",
   "version": "3.7.3"
  }
 },
 "nbformat": 4,
 "nbformat_minor": 2
}
