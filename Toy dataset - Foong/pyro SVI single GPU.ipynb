{
 "cells": [
  {
   "cell_type": "code",
   "execution_count": 1,
   "metadata": {},
   "outputs": [],
   "source": [
    "import pandas as pd\n",
    "import os\n",
    "import numpy as np\n",
    "import scipy as sp\n",
    "import torch\n",
    "import torch.nn as nn\n",
    "import torch.nn.functional as F\n",
    "import pycuda.driver as cuda"
   ]
  },
  {
   "cell_type": "code",
   "execution_count": 2,
   "metadata": {},
   "outputs": [],
   "source": [
    "from livelossplot import PlotLosses\n",
    "from time import sleep\n",
    "import timeit"
   ]
  },
  {
   "cell_type": "code",
   "execution_count": 3,
   "metadata": {},
   "outputs": [],
   "source": [
    "import pyro\n",
    "import pyro.distributions as dist\n",
    "from pyro.distributions import Normal, Uniform, Delta\n",
    "from pyro.infer.mcmc import MCMC, HMC, NUTS\n",
    "from pyro.infer.mcmc.api import MCMC\n",
    "import pyro.poutine as poutine\n",
    "from pyro.infer import EmpiricalMarginal, SVI, Trace_ELBO, TracePredictive, JitTrace_ELBO, TraceGraph_ELBO, TraceEnum_ELBO\n",
    "from pyro.optim import Adam\n",
    "from pyro.infer.mcmc.util import predictive\n",
    "from pyro.distributions.util import sum_rightmost"
   ]
  },
  {
   "cell_type": "code",
   "execution_count": 4,
   "metadata": {},
   "outputs": [],
   "source": [
    "from scipy.stats import uniform, norm\n",
    "import seaborn as sns; sns.set()\n",
    "import matplotlib.pyplot as plt"
   ]
  },
  {
   "cell_type": "code",
   "execution_count": 5,
   "metadata": {},
   "outputs": [],
   "source": [
    "# for CI testing\n",
    "pyro.enable_validation(True)\n",
    "pyro.set_rng_seed(1)\n",
    "pyro.enable_validation(True)"
   ]
  },
  {
   "cell_type": "code",
   "execution_count": 6,
   "metadata": {},
   "outputs": [],
   "source": [
    "device = torch.device('cuda:0' if torch.cuda.is_available() else 'cpu')"
   ]
  },
  {
   "cell_type": "code",
   "execution_count": 7,
   "metadata": {},
   "outputs": [
    {
     "data": {
      "text/plain": [
       "device(type='cuda', index=0)"
      ]
     },
     "execution_count": 7,
     "metadata": {},
     "output_type": "execute_result"
    }
   ],
   "source": [
    "device"
   ]
  },
  {
   "cell_type": "code",
   "execution_count": null,
   "metadata": {},
   "outputs": [],
   "source": []
  },
  {
   "cell_type": "code",
   "execution_count": 8,
   "metadata": {},
   "outputs": [],
   "source": [
    "sigma_noise = 0.1\n",
    "(x_data, y_data) = torch.load('foong_data.pt')\n",
    "x_data = x_data.to(device)\n",
    "y_data = y_data.to(device)"
   ]
  },
  {
   "cell_type": "code",
   "execution_count": null,
   "metadata": {},
   "outputs": [],
   "source": []
  },
  {
   "cell_type": "code",
   "execution_count": null,
   "metadata": {},
   "outputs": [],
   "source": [
    "H = 50"
   ]
  },
  {
   "cell_type": "code",
   "execution_count": null,
   "metadata": {},
   "outputs": [],
   "source": [
    "class RegressionModel(nn.Module):\n",
    "    def __init__(self, p):\n",
    "        super(RegressionModel, self).__init__()\n",
    "        self.linear1 = nn.Linear(p, H)\n",
    "        self.linear2 = nn.Linear(H,1)\n",
    "        self.to(device)\n",
    "\n",
    "    def forward(self, x):\n",
    "        out = torch.tanh(self.linear1(x))\n",
    "        out = self.linear2(out)\n",
    "        return out\n",
    "\n",
    "p = 1\n",
    "softplus = nn.Softplus()\n",
    "regression_model = RegressionModel(p)"
   ]
  },
  {
   "cell_type": "code",
   "execution_count": null,
   "metadata": {},
   "outputs": [],
   "source": []
  },
  {
   "cell_type": "code",
   "execution_count": null,
   "metadata": {},
   "outputs": [],
   "source": [
    "def model(x_data, y_data):\n",
    "    options = dict(dtype=x_data.dtype, device=x_data.device)\n",
    "    \n",
    "    weight_loc = torch.zeros(H, p, **options)\n",
    "    weight_scale = 5*torch.ones(H, p, **options)\n",
    "    bias_loc = torch.zeros(H, **options)\n",
    "    bias_scale = 5*torch.ones(H, **options)\n",
    "    \n",
    "    linear1_w_prior = Normal(weight_loc, weight_scale).independent(2)\n",
    "    linear1_b_prior = Normal(bias_loc, bias_scale).independent(1)\n",
    "    \n",
    "    weight_loc = torch.zeros(1, H, **options)\n",
    "    weight_scale = 5*torch.ones(1, H, **options)\n",
    "    bias_loc = torch.zeros(1, **options)\n",
    "    bias_scale = 5*torch.ones(1, **options)\n",
    "    \n",
    "    linear2_w_prior = Normal(weight_loc, weight_scale).independent(2)\n",
    "    linear2_b_prior = Normal(bias_loc, bias_scale).independent(1)\n",
    "    \n",
    "    priors = {'linear1.weight': linear1_w_prior, 'linear1.bias': linear1_b_prior,\n",
    "              'linear2.weight': linear2_w_prior, 'linear2.bias': linear2_b_prior,}\n",
    "    \n",
    "    lifted_module = pyro.random_module(\"module\", regression_model, priors)\n",
    "    \n",
    "    lifted_reg_model = lifted_module()\n",
    "    \n",
    "    with pyro.plate(\"map\", device=x_data.device):\n",
    "        prediction_mean = lifted_reg_model(x_data).squeeze(-1)\n",
    "        pyro.sample(\"obs\", Normal(prediction_mean, sigma_noise), obs=y_data)\n",
    "    return prediction_mean"
   ]
  },
  {
   "cell_type": "code",
   "execution_count": null,
   "metadata": {},
   "outputs": [],
   "source": [
    "from pyro.contrib.autoguide import AutoDiagonalNormal\n",
    "guide = AutoDiagonalNormal(model, prefix='modelA')"
   ]
  },
  {
   "cell_type": "code",
   "execution_count": null,
   "metadata": {},
   "outputs": [],
   "source": []
  },
  {
   "cell_type": "code",
   "execution_count": null,
   "metadata": {},
   "outputs": [],
   "source": [
    "pyro.clear_param_store()"
   ]
  },
  {
   "cell_type": "code",
   "execution_count": null,
   "metadata": {},
   "outputs": [],
   "source": [
    "scheduler = pyro.optim.ReduceLROnPlateau({'optimizer': torch.optim.Adam, 'optim_args': {'lr': 0.05}, 'factor': 0.5, 'patience': 2})\n",
    "svi = SVI(model, guide, scheduler, num_samples=100, loss=Trace_ELBO(num_particles=1, vectorize_particles=True))\n",
    "svi.step(x_data, y_data)"
   ]
  },
  {
   "cell_type": "code",
   "execution_count": null,
   "metadata": {},
   "outputs": [],
   "source": [
    "%matplotlib inline\n",
    "num_epoch = 100\n",
    "num_iterations = 1000\n",
    "liveloss = PlotLosses()\n",
    "for j in range(num_epoch):\n",
    "    logs = {}\n",
    "    losses = [None] * num_iterations\n",
    "    for k in range(num_iterations):\n",
    "        loss = svi.step(x_data, y_data)\n",
    "        losses[k] = loss\n",
    "    scheduler.step(np.mean(losses))\n",
    "    L = next(iter(scheduler.optim_objs.values()))\n",
    "    logs['expected_loss'] = np.mean(losses)\n",
    "    logs['learning_rate'] = L.optimizer.param_groups[0]['lr']\n",
    "    liveloss.update(logs)\n",
    "    liveloss.draw()"
   ]
  },
  {
   "cell_type": "code",
   "execution_count": null,
   "metadata": {},
   "outputs": [],
   "source": []
  },
  {
   "cell_type": "code",
   "execution_count": null,
   "metadata": {},
   "outputs": [],
   "source": [
    "get_marginal = lambda traces, sites:EmpiricalMarginal(traces, sites)._get_samples_and_weights()[0].detach().cpu().numpy()\n",
    "\n",
    "def wrapped_model(x_data, y_data):\n",
    "    pyro.sample(\"prediction\", Delta(model(x_data, y_data)))\n",
    "\n",
    "posterior = svi.run(x_data, y_data)"
   ]
  },
  {
   "cell_type": "code",
   "execution_count": null,
   "metadata": {},
   "outputs": [],
   "source": [
    "x_test = torch.linspace(-2.0, 2.0).unsqueeze(1).cuda()"
   ]
  },
  {
   "cell_type": "code",
   "execution_count": null,
   "metadata": {},
   "outputs": [],
   "source": [
    "fig, ax = plt.subplots()\n",
    "fig.set_size_inches(11.7, 8.27)\n",
    "\n",
    "plt.scatter(x_data.cpu(), y_data.cpu())\n",
    "for _ in range(1000):\n",
    "    guide_trace = poutine.trace(guide).get_trace(x_test, None)\n",
    "    lifted_reg_model = poutine.replay(model, guide_trace)\n",
    "    y_test = lifted_reg_model(x_test, None)\n",
    "    plt.plot(x_test.detach().cpu().numpy(), y_test.detach().cpu().numpy(), alpha=0.05, linewidth=1, color='lightblue')"
   ]
  },
  {
   "cell_type": "code",
   "execution_count": null,
   "metadata": {},
   "outputs": [],
   "source": []
  },
  {
   "cell_type": "code",
   "execution_count": null,
   "metadata": {},
   "outputs": [],
   "source": [
    "for name, value in pyro.get_param_store().items():\n",
    "    print(name, pyro.param(name))"
   ]
  }
 ],
 "metadata": {
  "kernelspec": {
   "display_name": "Python 3",
   "language": "python",
   "name": "python3"
  },
  "language_info": {
   "codemirror_mode": {
    "name": "ipython",
    "version": 3
   },
   "file_extension": ".py",
   "mimetype": "text/x-python",
   "name": "python",
   "nbconvert_exporter": "python",
   "pygments_lexer": "ipython3",
   "version": "3.7.3"
  }
 },
 "nbformat": 4,
 "nbformat_minor": 2
}
