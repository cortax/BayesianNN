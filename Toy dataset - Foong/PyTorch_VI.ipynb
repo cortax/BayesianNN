{
 "cells": [
  {
   "cell_type": "code",
   "execution_count": 1,
   "metadata": {},
   "outputs": [],
   "source": [
    "import numpy as np\n",
    "import torch\n",
    "from torch import nn\n",
    "from torch import functional as F\n",
    "import math"
   ]
  },
  {
   "cell_type": "code",
   "execution_count": 2,
   "metadata": {},
   "outputs": [],
   "source": [
    "from torch.autograd import Variable\n",
    "import matplotlib.pyplot as plt\n",
    "%matplotlib inline\n",
    "plt.style.use('ggplot')"
   ]
  },
  {
   "cell_type": "code",
   "execution_count": 33,
   "metadata": {},
   "outputs": [],
   "source": [
    "from livelossplot import PlotLosses"
   ]
  },
  {
   "cell_type": "code",
   "execution_count": 3,
   "metadata": {},
   "outputs": [],
   "source": [
    "#device = torch.device('cuda:0' if torch.cuda.is_available() else 'cpu')"
   ]
  },
  {
   "cell_type": "code",
   "execution_count": 4,
   "metadata": {},
   "outputs": [],
   "source": [
    "device = 'cpu'"
   ]
  },
  {
   "cell_type": "code",
   "execution_count": 5,
   "metadata": {},
   "outputs": [],
   "source": [
    "sigma_noise = 0.1\n",
    "(x_data, y_data) = torch.load('foong_data.pt')\n",
    "#x_data = x_data.to(device)\n",
    "#y_data = y_data.to(device)"
   ]
  },
  {
   "cell_type": "code",
   "execution_count": null,
   "metadata": {},
   "outputs": [],
   "source": []
  },
  {
   "cell_type": "code",
   "execution_count": 6,
   "metadata": {},
   "outputs": [],
   "source": [
    "def log_norm(x, mu, std):\n",
    "    \"\"\"Compute the log pdf of x,\n",
    "    under a normal distribution with mean mu and standard deviation std.\"\"\"\n",
    "    return -0.5 * torch.log(2*np.pi*std**2) -(0.5 * (1/(std**2))* (x-mu)**2)"
   ]
  },
  {
   "cell_type": "code",
   "execution_count": 7,
   "metadata": {},
   "outputs": [],
   "source": [
    "def rho_to_sigma(rho):\n",
    "    sigma = torch.log(1 + torch.exp(rho))\n",
    "    return sigma"
   ]
  },
  {
   "cell_type": "code",
   "execution_count": 8,
   "metadata": {},
   "outputs": [],
   "source": [
    "def sigma_to_rho(sigma):\n",
    "    rho = torch.log(torch.exp(sigma) - 1)\n",
    "    return rho"
   ]
  },
  {
   "cell_type": "code",
   "execution_count": null,
   "metadata": {},
   "outputs": [],
   "source": []
  },
  {
   "cell_type": "code",
   "execution_count": 9,
   "metadata": {},
   "outputs": [],
   "source": [
    "class ProbabilisticLinear(nn.Module):\n",
    "    __constants__ = ['bias', 'in_features', 'out_features']\n",
    "\n",
    "    def __init__(self, in_features, out_features, bias=True):\n",
    "        super(ProbabilisticLinear, self).__init__()\n",
    "        self.softplus = torch.nn.Softplus()\n",
    "        \n",
    "        self.in_features = in_features\n",
    "        self.out_features = out_features\n",
    "        self.weight_mu = nn.Parameter(torch.Tensor(out_features, in_features))\n",
    "        self.weight_rho = nn.Parameter(torch.Tensor(out_features, in_features))\n",
    "        \n",
    "        self.weight = torch.Tensor(out_features, in_features)\n",
    "        self.bias = torch.Tensor(out_features, in_features)\n",
    "        \n",
    "        if bias:\n",
    "            self.bias_mu = nn.Parameter(torch.Tensor(out_features))\n",
    "            self.bias_rho = nn.Parameter(torch.Tensor(out_features))\n",
    "        else:\n",
    "            self.register_parameter('bias_mu', None)\n",
    "            self.register_parameter('bias_rho', None)\n",
    "        self.reset_parameters()\n",
    "        \n",
    "    def generate_rand(self):\n",
    "        weight_epsilon = torch.randn(size=self.weight_mu.size())\n",
    "        bias_epsilon = torch.randn(size=self.bias_mu.size())\n",
    "        return (weight_epsilon, bias_epsilon)\n",
    "    \n",
    "    def reparameterization(self, weight_epsilon, bias_epsilon):\n",
    "        sigma = self.softplus(self.weight_rho)\n",
    "        weight_sample = weight_epsilon.mul(sigma).add(self.weight_mu)\n",
    "        sigma = self.softplus(self.bias_rho)\n",
    "        bias_sample = bias_epsilon.mul(sigma).add(self.bias_mu)\n",
    "        return (weight_sample, bias_sample)\n",
    "\n",
    "    def log_pdf(self, weight_sample, bias_sample):\n",
    "        sigmaw = self.softplus(self.weight_rho)\n",
    "        nw = torch.distributions.Normal(self.weight_mu, sigmaw)\n",
    "        sigmab = self.softplus(self.bias_rho)\n",
    "        nb = torch.distributions.Normal(self.bias_mu, sigmab)\n",
    "        return nw.log_prob(weight_sample).sum() + nb.log_prob(bias_sample).sum()\n",
    "    \n",
    "    def reset_parameters(self):\n",
    "        nn.init.kaiming_uniform_(self.weight_mu, a=math.sqrt(5))\n",
    "        nn.init.kaiming_uniform_(self.weight_rho, a=math.sqrt(5))\n",
    "        if self.bias_mu is not None:\n",
    "            fan_in, _ = nn.init._calculate_fan_in_and_fan_out(self.weight_mu)\n",
    "            bound = 1 / math.sqrt(fan_in)\n",
    "            nn.init.uniform_(self.bias_mu, -bound, bound)\n",
    "            fan_in, _ = nn.init._calculate_fan_in_and_fan_out(self.weight_rho)\n",
    "            bound = 1 / math.sqrt(fan_in)\n",
    "            nn.init.uniform_(self.bias_rho, -bound, bound)\n",
    "    \n",
    "    def set_parameters(self, weight, bias):\n",
    "        self.weight = weight\n",
    "        self.bias = bias\n",
    "    \n",
    "    def forward(self, input):\n",
    "        return torch.nn.functional.linear(input, self.weight, self.bias)\n",
    "\n",
    "    #def extra_repr(self):\n",
    "    #    return 'in_features={}, out_features={}, bias={}'.format(\n",
    "    #        self.in_features, self.out_features, self.bias is not None\n",
    "    #    )"
   ]
  },
  {
   "cell_type": "code",
   "execution_count": null,
   "metadata": {},
   "outputs": [],
   "source": []
  },
  {
   "cell_type": "code",
   "execution_count": 83,
   "metadata": {},
   "outputs": [],
   "source": [
    "class RegressionModel(nn.Module):\n",
    "    def __init__(self, H):\n",
    "        super(RegressionModel, self).__init__()\n",
    "        \n",
    "        #The parameters of variation distribution q(w)\n",
    "        self.q_linear1 = ProbabilisticLinear(1, H)\n",
    "        self.q_linear2 = ProbabilisticLinear(H,1)\n",
    "        \n",
    "        #The prior distribution p(w)\n",
    "        mu = torch.tensor(0.0)\n",
    "        rho = sigma_to_rho(torch.tensor(1.0))\n",
    "        \n",
    "        self.prior_linear1 = ProbabilisticLinear(1, H)\n",
    "        nn.init.constant_(self.prior_linear1.weight_mu, mu)\n",
    "        nn.init.constant_(self.prior_linear1.weight_rho, rho)\n",
    "        nn.init.constant_(self.prior_linear1.bias_mu, mu)\n",
    "        nn.init.constant_(self.prior_linear1.bias_rho, rho)\n",
    "        \n",
    "        self.prior_linear1.weight_mu.requires_grad = False\n",
    "        self.prior_linear1.weight_rho.requires_grad = False\n",
    "        self.prior_linear1.bias_mu.requires_grad = False\n",
    "        self.prior_linear1.bias_rho.requires_grad = False\n",
    "        \n",
    "        self.prior_linear2 = ProbabilisticLinear(H,1)\n",
    "        nn.init.constant_(self.prior_linear2.weight_mu, mu)\n",
    "        nn.init.constant_(self.prior_linear2.weight_rho, rho)\n",
    "        nn.init.constant_(self.prior_linear2.bias_mu, mu)\n",
    "        nn.init.constant_(self.prior_linear2.bias_rho, rho)\n",
    "        \n",
    "        self.prior_linear2.weight_mu.requires_grad = False\n",
    "        self.prior_linear2.weight_rho.requires_grad = False\n",
    "        self.prior_linear2.bias_mu.requires_grad = False\n",
    "        self.prior_linear2.bias_rho.requires_grad = False\n",
    "        \n",
    "        self.nb_parameters = self.count_parameters()\n",
    "        \n",
    "    def forward(self, x):\n",
    "        out = torch.tanh(self.q_linear1(x))\n",
    "        out = self.q_linear2(out)\n",
    "        return out\n",
    "        \n",
    "\n",
    "    def count_parameters(self):\n",
    "        return sum(p.numel() for p in self.parameters() if p.requires_grad)\n",
    "          \n",
    "    def generate_rand_(self):\n",
    "        self.q_linear1.weight_epsilon = torch.randn(size=self.q_linear1.weight_mu.size())\n",
    "        self.q_linear1.bias_epsilon = torch.randn(size=self.q_linear1.bias_mu.size())\n",
    "        self.q_linear2.weight_epsilon = torch.randn(size=self.q_linear2.weight_mu.size())\n",
    "        self.q_linear2.bias_epsilon = torch.randn(size=self.q_linear2.bias_mu.size())\n",
    "    \n",
    "    def reparam(self):\n",
    "        sigma = self.softplus(self.q_linear1.weight_rho)\n",
    "        self.q_linear1.weight_sample = self.q_linear1.weight_epsilon.mul(sigma).add(self.q_linear1.weight_mu)\n",
    "        sigma = self.softplus(self.q_linear1.bias_rho)\n",
    "        self.q_linear1.bias_sample = self.q_linear1.bias_epsilon.mul(sigma).add(self.q_linear1.bias_mu)\n",
    "        sigma = self.softplus(self.q_linear2.weight_rho)\n",
    "        self.q_linear2.weight_sample = self.q_linear2.weight_epsilon.mul(sigma).add(self.q_linear2.weight_mu)\n",
    "        sigma = self.softplus(self.q_linear2.bias_rho)\n",
    "        self.q_linear2.bias_sample = self.q_linear2.bias_epsilon.mul(sigma).add(self.q_linear2.bias_mu)\n",
    "        \n",
    "    def compute_elbo(self, x_data, y_data):        \n",
    "        (q1_weight_epsilon, q1_bias_epsilon) = self.q_linear1.generate_rand()\n",
    "        (q1_weight_sample, q1_bias_sample) = self.q_linear1.reparameterization(q1_weight_epsilon, q1_bias_epsilon)\n",
    "        \n",
    "        (q2_weight_epsilon, q2_bias_epsilon) = self.q_linear2.generate_rand()\n",
    "        (q2_weight_sample, q2_bias_sample) = self.q_linear2.reparameterization(q2_weight_epsilon, q2_bias_epsilon)\n",
    "        \n",
    "        LQ = self.q_linear1.log_pdf(q1_weight_sample, q1_bias_sample) + self.q_linear2.log_pdf(q2_weight_sample, q2_bias_sample)\n",
    "        \n",
    "        LP = self.prior_linear1.log_pdf(q1_weight_sample, q1_bias_sample) + self.prior_linear2.log_pdf(q2_weight_sample, q2_bias_sample)\n",
    "        \n",
    "        self.q_linear1.set_parameters(q1_weight_sample, q1_bias_sample)\n",
    "        self.q_linear2.set_parameters(q2_weight_sample, q2_bias_sample)\n",
    "        y_pred = self.forward(x_data)\n",
    "        n = torch.distributions.Normal(y_pred, sigma_noise)\n",
    "        LL = n.log_prob(y_data).sum()\n",
    "        \n",
    "        loss = LQ - LP - LL\n",
    "        \n",
    "        return loss"
   ]
  },
  {
   "cell_type": "code",
   "execution_count": 87,
   "metadata": {},
   "outputs": [],
   "source": [
    "model = RegressionModel(50)"
   ]
  },
  {
   "cell_type": "code",
   "execution_count": null,
   "metadata": {},
   "outputs": [],
   "source": []
  },
  {
   "cell_type": "code",
   "execution_count": null,
   "metadata": {},
   "outputs": [],
   "source": []
  },
  {
   "cell_type": "code",
   "execution_count": 88,
   "metadata": {},
   "outputs": [],
   "source": [
    "learning_rate = 1e-7\n",
    "optimizer = torch.optim.Adam(model.parameters(), lr=learning_rate)"
   ]
  },
  {
   "cell_type": "code",
   "execution_count": 89,
   "metadata": {},
   "outputs": [
    {
     "data": {
      "image/png": "[encoded data removed]",
      "text/plain": [
       "<Figure size 864x576 with 1 Axes>"
      ]
     },
     "metadata": {
      "needs_background": "light"
     },
     "output_type": "display_data"
    },
    {
     "name": "stdout",
     "output_type": "stream",
     "text": [
      "expected_loss:\n",
      "training   (min: 22680940.000, max: 26378592.000, cur: 25468326.000)\n"
     ]
    },
    {
     "ename": "KeyboardInterrupt",
     "evalue": "",
     "output_type": "error",
     "traceback": [
      "\u001b[1;31m---------------------------------------------------------------------------\u001b[0m",
      "\u001b[1;31mKeyboardInterrupt\u001b[0m                         Traceback (most recent call last)",
      "\u001b[1;32m<ipython-input-89-8bc68734ab7c>\u001b[0m in \u001b[0;36m<module>\u001b[1;34m\u001b[0m\n\u001b[0;32m     11\u001b[0m \u001b[1;33m\u001b[0m\u001b[0m\n\u001b[0;32m     12\u001b[0m         \u001b[0moptimizer\u001b[0m\u001b[1;33m.\u001b[0m\u001b[0mzero_grad\u001b[0m\u001b[1;33m(\u001b[0m\u001b[1;33m)\u001b[0m\u001b[1;33m\u001b[0m\u001b[1;33m\u001b[0m\u001b[0m\n\u001b[1;32m---> 13\u001b[1;33m         \u001b[0mloss\u001b[0m \u001b[1;33m=\u001b[0m \u001b[0mmodel\u001b[0m\u001b[1;33m.\u001b[0m\u001b[0mcompute_elbo\u001b[0m\u001b[1;33m(\u001b[0m\u001b[0mx_data\u001b[0m\u001b[1;33m,\u001b[0m \u001b[0my_data\u001b[0m\u001b[1;33m)\u001b[0m\u001b[1;33m\u001b[0m\u001b[1;33m\u001b[0m\u001b[0m\n\u001b[0m\u001b[0;32m     14\u001b[0m         \u001b[0mlosses\u001b[0m\u001b[1;33m[\u001b[0m\u001b[0mk\u001b[0m\u001b[1;33m]\u001b[0m \u001b[1;33m=\u001b[0m \u001b[0mloss\u001b[0m\u001b[1;33m\u001b[0m\u001b[1;33m\u001b[0m\u001b[0m\n\u001b[0;32m     15\u001b[0m \u001b[1;33m\u001b[0m\u001b[0m\n",
      "\u001b[1;32m<ipython-input-83-93c7f8ee67e6>\u001b[0m in \u001b[0;36mcompute_elbo\u001b[1;34m(self, x_data, y_data)\u001b[0m\n\u001b[0;32m     69\u001b[0m         \u001b[0mLQ\u001b[0m \u001b[1;33m=\u001b[0m \u001b[0mself\u001b[0m\u001b[1;33m.\u001b[0m\u001b[0mq_linear1\u001b[0m\u001b[1;33m.\u001b[0m\u001b[0mlog_pdf\u001b[0m\u001b[1;33m(\u001b[0m\u001b[0mq1_weight_sample\u001b[0m\u001b[1;33m,\u001b[0m \u001b[0mq1_bias_sample\u001b[0m\u001b[1;33m)\u001b[0m \u001b[1;33m+\u001b[0m \u001b[0mself\u001b[0m\u001b[1;33m.\u001b[0m\u001b[0mq_linear2\u001b[0m\u001b[1;33m.\u001b[0m\u001b[0mlog_pdf\u001b[0m\u001b[1;33m(\u001b[0m\u001b[0mq2_weight_sample\u001b[0m\u001b[1;33m,\u001b[0m \u001b[0mq2_bias_sample\u001b[0m\u001b[1;33m)\u001b[0m\u001b[1;33m\u001b[0m\u001b[1;33m\u001b[0m\u001b[0m\n\u001b[0;32m     70\u001b[0m \u001b[1;33m\u001b[0m\u001b[0m\n\u001b[1;32m---> 71\u001b[1;33m         \u001b[0mLP\u001b[0m \u001b[1;33m=\u001b[0m \u001b[0mself\u001b[0m\u001b[1;33m.\u001b[0m\u001b[0mprior_linear1\u001b[0m\u001b[1;33m.\u001b[0m\u001b[0mlog_pdf\u001b[0m\u001b[1;33m(\u001b[0m\u001b[0mq1_weight_sample\u001b[0m\u001b[1;33m,\u001b[0m \u001b[0mq1_bias_sample\u001b[0m\u001b[1;33m)\u001b[0m \u001b[1;33m+\u001b[0m \u001b[0mself\u001b[0m\u001b[1;33m.\u001b[0m\u001b[0mprior_linear2\u001b[0m\u001b[1;33m.\u001b[0m\u001b[0mlog_pdf\u001b[0m\u001b[1;33m(\u001b[0m\u001b[0mq2_weight_sample\u001b[0m\u001b[1;33m,\u001b[0m \u001b[0mq2_bias_sample\u001b[0m\u001b[1;33m)\u001b[0m\u001b[1;33m\u001b[0m\u001b[1;33m\u001b[0m\u001b[0m\n\u001b[0m\u001b[0;32m     72\u001b[0m \u001b[1;33m\u001b[0m\u001b[0m\n\u001b[0;32m     73\u001b[0m         \u001b[0mself\u001b[0m\u001b[1;33m.\u001b[0m\u001b[0mq_linear1\u001b[0m\u001b[1;33m.\u001b[0m\u001b[0mset_parameters\u001b[0m\u001b[1;33m(\u001b[0m\u001b[0mq1_weight_sample\u001b[0m\u001b[1;33m,\u001b[0m \u001b[0mq1_bias_sample\u001b[0m\u001b[1;33m)\u001b[0m\u001b[1;33m\u001b[0m\u001b[1;33m\u001b[0m\u001b[0m\n",
      "\u001b[1;32m<ipython-input-9-4a15aa411c19>\u001b[0m in \u001b[0;36mlog_pdf\u001b[1;34m(self, weight_sample, bias_sample)\u001b[0m\n\u001b[0;32m     37\u001b[0m         \u001b[0msigmaw\u001b[0m \u001b[1;33m=\u001b[0m \u001b[0mself\u001b[0m\u001b[1;33m.\u001b[0m\u001b[0msoftplus\u001b[0m\u001b[1;33m(\u001b[0m\u001b[0mself\u001b[0m\u001b[1;33m.\u001b[0m\u001b[0mweight_rho\u001b[0m\u001b[1;33m)\u001b[0m\u001b[1;33m\u001b[0m\u001b[1;33m\u001b[0m\u001b[0m\n\u001b[0;32m     38\u001b[0m         \u001b[0mnw\u001b[0m \u001b[1;33m=\u001b[0m \u001b[0mtorch\u001b[0m\u001b[1;33m.\u001b[0m\u001b[0mdistributions\u001b[0m\u001b[1;33m.\u001b[0m\u001b[0mNormal\u001b[0m\u001b[1;33m(\u001b[0m\u001b[0mself\u001b[0m\u001b[1;33m.\u001b[0m\u001b[0mweight_mu\u001b[0m\u001b[1;33m,\u001b[0m \u001b[0msigmaw\u001b[0m\u001b[1;33m)\u001b[0m\u001b[1;33m\u001b[0m\u001b[1;33m\u001b[0m\u001b[0m\n\u001b[1;32m---> 39\u001b[1;33m         \u001b[0msigmab\u001b[0m \u001b[1;33m=\u001b[0m \u001b[0mself\u001b[0m\u001b[1;33m.\u001b[0m\u001b[0msoftplus\u001b[0m\u001b[1;33m(\u001b[0m\u001b[0mself\u001b[0m\u001b[1;33m.\u001b[0m\u001b[0mbias_rho\u001b[0m\u001b[1;33m)\u001b[0m\u001b[1;33m\u001b[0m\u001b[1;33m\u001b[0m\u001b[0m\n\u001b[0m\u001b[0;32m     40\u001b[0m         \u001b[0mnb\u001b[0m \u001b[1;33m=\u001b[0m \u001b[0mtorch\u001b[0m\u001b[1;33m.\u001b[0m\u001b[0mdistributions\u001b[0m\u001b[1;33m.\u001b[0m\u001b[0mNormal\u001b[0m\u001b[1;33m(\u001b[0m\u001b[0mself\u001b[0m\u001b[1;33m.\u001b[0m\u001b[0mbias_mu\u001b[0m\u001b[1;33m,\u001b[0m \u001b[0msigmab\u001b[0m\u001b[1;33m)\u001b[0m\u001b[1;33m\u001b[0m\u001b[1;33m\u001b[0m\u001b[0m\n\u001b[0;32m     41\u001b[0m         \u001b[1;32mreturn\u001b[0m \u001b[0mnw\u001b[0m\u001b[1;33m.\u001b[0m\u001b[0mlog_prob\u001b[0m\u001b[1;33m(\u001b[0m\u001b[0mweight_sample\u001b[0m\u001b[1;33m)\u001b[0m\u001b[1;33m.\u001b[0m\u001b[0msum\u001b[0m\u001b[1;33m(\u001b[0m\u001b[1;33m)\u001b[0m \u001b[1;33m+\u001b[0m \u001b[0mnb\u001b[0m\u001b[1;33m.\u001b[0m\u001b[0mlog_prob\u001b[0m\u001b[1;33m(\u001b[0m\u001b[0mbias_sample\u001b[0m\u001b[1;33m)\u001b[0m\u001b[1;33m.\u001b[0m\u001b[0msum\u001b[0m\u001b[1;33m(\u001b[0m\u001b[1;33m)\u001b[0m\u001b[1;33m\u001b[0m\u001b[1;33m\u001b[0m\u001b[0m\n",
      "\u001b[1;32m~\\Anaconda3\\envs\\MachineLearningV1\\lib\\site-packages\\torch\\nn\\modules\\module.py\u001b[0m in \u001b[0;36m__call__\u001b[1;34m(self, *input, **kwargs)\u001b[0m\n\u001b[0;32m    487\u001b[0m             \u001b[0mresult\u001b[0m \u001b[1;33m=\u001b[0m \u001b[0mself\u001b[0m\u001b[1;33m.\u001b[0m\u001b[0m_slow_forward\u001b[0m\u001b[1;33m(\u001b[0m\u001b[1;33m*\u001b[0m\u001b[0minput\u001b[0m\u001b[1;33m,\u001b[0m \u001b[1;33m**\u001b[0m\u001b[0mkwargs\u001b[0m\u001b[1;33m)\u001b[0m\u001b[1;33m\u001b[0m\u001b[1;33m\u001b[0m\u001b[0m\n\u001b[0;32m    488\u001b[0m         \u001b[1;32melse\u001b[0m\u001b[1;33m:\u001b[0m\u001b[1;33m\u001b[0m\u001b[1;33m\u001b[0m\u001b[0m\n\u001b[1;32m--> 489\u001b[1;33m             \u001b[0mresult\u001b[0m \u001b[1;33m=\u001b[0m \u001b[0mself\u001b[0m\u001b[1;33m.\u001b[0m\u001b[0mforward\u001b[0m\u001b[1;33m(\u001b[0m\u001b[1;33m*\u001b[0m\u001b[0minput\u001b[0m\u001b[1;33m,\u001b[0m \u001b[1;33m**\u001b[0m\u001b[0mkwargs\u001b[0m\u001b[1;33m)\u001b[0m\u001b[1;33m\u001b[0m\u001b[1;33m\u001b[0m\u001b[0m\n\u001b[0m\u001b[0;32m    490\u001b[0m         \u001b[1;32mfor\u001b[0m \u001b[0mhook\u001b[0m \u001b[1;32min\u001b[0m \u001b[0mself\u001b[0m\u001b[1;33m.\u001b[0m\u001b[0m_forward_hooks\u001b[0m\u001b[1;33m.\u001b[0m\u001b[0mvalues\u001b[0m\u001b[1;33m(\u001b[0m\u001b[1;33m)\u001b[0m\u001b[1;33m:\u001b[0m\u001b[1;33m\u001b[0m\u001b[1;33m\u001b[0m\u001b[0m\n\u001b[0;32m    491\u001b[0m             \u001b[0mhook_result\u001b[0m \u001b[1;33m=\u001b[0m \u001b[0mhook\u001b[0m\u001b[1;33m(\u001b[0m\u001b[0mself\u001b[0m\u001b[1;33m,\u001b[0m \u001b[0minput\u001b[0m\u001b[1;33m,\u001b[0m \u001b[0mresult\u001b[0m\u001b[1;33m)\u001b[0m\u001b[1;33m\u001b[0m\u001b[1;33m\u001b[0m\u001b[0m\n",
      "\u001b[1;32m~\\Anaconda3\\envs\\MachineLearningV1\\lib\\site-packages\\torch\\nn\\modules\\activation.py\u001b[0m in \u001b[0;36mforward\u001b[1;34m(self, input)\u001b[0m\n\u001b[0;32m    613\u001b[0m     \u001b[1;33m@\u001b[0m\u001b[0mweak_script_method\u001b[0m\u001b[1;33m\u001b[0m\u001b[1;33m\u001b[0m\u001b[0m\n\u001b[0;32m    614\u001b[0m     \u001b[1;32mdef\u001b[0m \u001b[0mforward\u001b[0m\u001b[1;33m(\u001b[0m\u001b[0mself\u001b[0m\u001b[1;33m,\u001b[0m \u001b[0minput\u001b[0m\u001b[1;33m)\u001b[0m\u001b[1;33m:\u001b[0m\u001b[1;33m\u001b[0m\u001b[1;33m\u001b[0m\u001b[0m\n\u001b[1;32m--> 615\u001b[1;33m         \u001b[1;32mreturn\u001b[0m \u001b[0mF\u001b[0m\u001b[1;33m.\u001b[0m\u001b[0msoftplus\u001b[0m\u001b[1;33m(\u001b[0m\u001b[0minput\u001b[0m\u001b[1;33m,\u001b[0m \u001b[0mself\u001b[0m\u001b[1;33m.\u001b[0m\u001b[0mbeta\u001b[0m\u001b[1;33m,\u001b[0m \u001b[0mself\u001b[0m\u001b[1;33m.\u001b[0m\u001b[0mthreshold\u001b[0m\u001b[1;33m)\u001b[0m\u001b[1;33m\u001b[0m\u001b[1;33m\u001b[0m\u001b[0m\n\u001b[0m\u001b[0;32m    616\u001b[0m \u001b[1;33m\u001b[0m\u001b[0m\n\u001b[0;32m    617\u001b[0m     \u001b[1;32mdef\u001b[0m \u001b[0mextra_repr\u001b[0m\u001b[1;33m(\u001b[0m\u001b[0mself\u001b[0m\u001b[1;33m)\u001b[0m\u001b[1;33m:\u001b[0m\u001b[1;33m\u001b[0m\u001b[1;33m\u001b[0m\u001b[0m\n",
      "\u001b[1;31mKeyboardInterrupt\u001b[0m: "
     ]
    }
   ],
   "source": [
    "%matplotlib inline\n",
    "num_epoch = 100\n",
    "num_iterations = 1000\n",
    "liveloss = PlotLosses()\n",
    "\n",
    "for j in range(num_epoch):\n",
    "    logs = {}\n",
    "    losses = [None] * num_iterations\n",
    "    \n",
    "    for k in range(num_iterations):\n",
    "        \n",
    "        optimizer.zero_grad()\n",
    "        loss = model.compute_elbo(x_data, y_data)\n",
    "        losses[k] = loss\n",
    "    \n",
    "    logs['expected_loss'] = torch.stack(losses).mean().detach().clone().numpy()\n",
    "    liveloss.update(logs)\n",
    "    liveloss.draw()\n",
    "    \n",
    "    loss.backward()\n",
    "    optimizer.step()\n",
    "    "
   ]
  },
  {
   "cell_type": "code",
   "execution_count": 29,
   "metadata": {},
   "outputs": [],
   "source": []
  },
  {
   "cell_type": "code",
   "execution_count": 30,
   "metadata": {},
   "outputs": [],
   "source": []
  },
  {
   "cell_type": "code",
   "execution_count": null,
   "metadata": {},
   "outputs": [],
   "source": []
  },
  {
   "cell_type": "code",
   "execution_count": 31,
   "metadata": {},
   "outputs": [
    {
     "name": "stdout",
     "output_type": "stream",
     "text": [
      "q_linear1.weight_mu tensor([[-0.9806]])\n",
      "q_linear1.weight_rho tensor([[0.4877]])\n",
      "q_linear1.bias_mu tensor([0.9229])\n",
      "q_linear1.bias_rho tensor([-0.5760])\n",
      "q_linear2.weight_mu tensor([[-0.9828]])\n",
      "q_linear2.weight_rho tensor([[-0.0885]])\n",
      "q_linear2.bias_mu tensor([-0.5145])\n",
      "q_linear2.bias_rho tensor([-0.7653])\n"
     ]
    }
   ],
   "source": [
    "for name, param in model.named_parameters():\n",
    "    if param.requires_grad:\n",
    "        print(name, param.data)"
   ]
  },
  {
   "cell_type": "code",
   "execution_count": 24,
   "metadata": {},
   "outputs": [
    {
     "name": "stdout",
     "output_type": "stream",
     "text": [
      "q_linear1.weight_mu tensor([[-0.9807]])\n",
      "q_linear1.weight_rho tensor([[0.4876]])\n",
      "q_linear1.bias_mu tensor([0.9230])\n",
      "q_linear1.bias_rho tensor([-0.5759])\n",
      "q_linear2.weight_mu tensor([[-0.9829]])\n",
      "q_linear2.weight_rho tensor([[-0.0884]])\n",
      "q_linear2.bias_mu tensor([-0.5146])\n",
      "q_linear2.bias_rho tensor([-0.7654])\n"
     ]
    }
   ],
   "source": [
    "for name, param in model.named_parameters():\n",
    "    if param.requires_grad:\n",
    "        print(name, param.data)"
   ]
  },
  {
   "cell_type": "code",
   "execution_count": null,
   "metadata": {},
   "outputs": [],
   "source": [
    "alpha = torch.tensor(10e-5)"
   ]
  },
  {
   "cell_type": "code",
   "execution_count": null,
   "metadata": {},
   "outputs": [],
   "source": [
    "for i in range(0,1000):\n",
    "    lst_grad_mu = []\n",
    "    lst_grad_rho = []\n",
    "    lst_v = []\n",
    "    for j in range(0,20):\n",
    "        epsilon = torch.distributions.normal.Normal(torch.tensor(0.0) , torch.tensor(1.0)).sample(torch.Size([2,]))\n",
    "\n",
    "        with torch.no_grad():\n",
    "            w = theta[0:2].clone().detach() + torch.log(1 + torch.exp(theta[2:4].clone().detach()))*epsilon\n",
    "        w.requires_grad = True\n",
    "\n",
    "        v = f(w, theta)   \n",
    "        v.backward()\n",
    "        lst_v.append(v.data)\n",
    "        v = torch.tensor([])\n",
    "\n",
    "        with torch.no_grad():\n",
    "            grad_mu = w.grad + theta.grad[0:2]\n",
    "            grad_rho = w.grad*epsilon/(1 + torch.exp(-theta[2:4])) + -theta.grad[2:4]\n",
    "\n",
    "\n",
    "        lst_grad_mu.append(grad_mu)\n",
    "        lst_grad_rho.append(grad_rho)\n",
    "\n",
    "        theta.grad.zero_()\n",
    "        w.grad.zero_()\n",
    "        v.detach()\n",
    "    grad_mu = torch.stack(lst_grad_mu).mean(dim=0)\n",
    "    grad_rho = torch.stack(lst_grad_rho).mean(dim=0)\n",
    "    \n",
    "    print(torch.stack(lst_v).mean())\n",
    "    #print(grad_mu)\n",
    "    #print(grad_rho)\n",
    "        \n",
    "    with torch.no_grad():\n",
    "        theta[0:2] -= alpha*grad_mu\n",
    "        theta[2:4] -= alpha*grad_rho\n",
    "    \n",
    "    print(theta)\n"
   ]
  },
  {
   "cell_type": "code",
   "execution_count": null,
   "metadata": {},
   "outputs": [],
   "source": []
  },
  {
   "cell_type": "code",
   "execution_count": null,
   "metadata": {},
   "outputs": [],
   "source": []
  },
  {
   "cell_type": "code",
   "execution_count": null,
   "metadata": {},
   "outputs": [],
   "source": []
  }
 ],
 "metadata": {
  "kernelspec": {
   "display_name": "Python 3",
   "language": "python",
   "name": "python3"
  },
  "language_info": {
   "codemirror_mode": {
    "name": "ipython",
    "version": 3
   },
   "file_extension": ".py",
   "mimetype": "text/x-python",
   "name": "python",
   "nbconvert_exporter": "python",
   "pygments_lexer": "ipython3",
   "version": "3.7.3"
  }
 },
 "nbformat": 4,
 "nbformat_minor": 2
}
