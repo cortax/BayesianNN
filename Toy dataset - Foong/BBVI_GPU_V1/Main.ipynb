{
 "cells": [
  {
   "cell_type": "markdown",
   "metadata": {},
   "source": [
    "### IMPORTS"
   ]
  },
  {
   "cell_type": "code",
   "execution_count": 1,
   "metadata": {},
   "outputs": [],
   "source": [
    "import BBVI\n",
    "import torch\n",
    "import matplotlib.pyplot as plt"
   ]
  },
  {
   "cell_type": "markdown",
   "metadata": {},
   "source": [
    "### EXAMPLE"
   ]
  },
  {
   "cell_type": "code",
   "execution_count": null,
   "metadata": {},
   "outputs": [],
   "source": [
    "data = torch.load('foong_data.pt')\n",
    "optimizer_params = [0.1, 3, 0.5]               # [learning_rate, patience, factor]\n",
    "sigma_noise = 0.1\n",
    "gpu = '1'\n",
    "n_seed = 0\n",
    "name = '_SampleELBO'"
   ]
  },
  {
   "cell_type": "code",
   "execution_count": null,
   "metadata": {},
   "outputs": [],
   "source": [
    "BBVI_trained = BBVI.BBVI(data=data, n_neurons=50, n_epoch=10, n_iter=10, n_samples_ELBO=1, sigma_noise=sigma_noise, \n",
    "              opti_params=optimizer_params, n_seed=n_seed, gpu=gpu, name=name)"
   ]
  },
  {
   "cell_type": "code",
   "execution_count": null,
   "metadata": {},
   "outputs": [],
   "source": [
    "BBVI.plot_BBVI_Uncertainty(BBVI_trained, data, name, gpu)"
   ]
  },
  {
   "cell_type": "markdown",
   "metadata": {},
   "source": [
    "### TRAINING LOOP FOR DIFFERENT NUMBERS OF SAMPLING"
   ]
  },
  {
   "cell_type": "code",
   "execution_count": null,
   "metadata": {},
   "outputs": [],
   "source": [
    "data = torch.load('foong_data.pt')\n",
    "optimizer_params = [0.1, 3, 0.5]               # [learning_rate, patience, factor]\n",
    "sigma_noise = 0.1\n",
    "gpu = '1'\n",
    "n_seed = 0"
   ]
  },
  {
   "cell_type": "code",
   "execution_count": null,
   "metadata": {},
   "outputs": [],
   "source": [
    "for i in [1,5,10,20]:\n",
    "    name = '_SamplingELBO_'+str(i)\n",
    "    BBVI_trained = BBVI.BBVI(data=data, n_neurons=50, n_epoch=5, n_iter=10, n_samples_ELBO=i, sigma_noise=sigma_noise, \n",
    "              opti_params=optimizer_params, n_seed=n_seed, gpu=gpu, name=name);\n",
    "    BBVI.plot_BBVI_Uncertainty(BBVI_trained, data, name, gpu);"
   ]
  }
 ],
 "metadata": {
  "kernelspec": {
   "display_name": "Python 3",
   "language": "python",
   "name": "python3"
  },
  "language_info": {
   "codemirror_mode": {
    "name": "ipython",
    "version": 3
   },
   "file_extension": ".py",
   "mimetype": "text/x-python",
   "name": "python",
   "nbconvert_exporter": "python",
   "pygments_lexer": "ipython3",
   "version": "3.7.3"
  }
 },
 "nbformat": 4,
 "nbformat_minor": 2
}
