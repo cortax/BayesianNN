{
 "cells": [
  {
   "cell_type": "code",
   "execution_count": 2,
   "metadata": {},
   "outputs": [],
   "source": [
    "import pandas as pd\n",
    "import os\n",
    "import numpy as np\n",
    "import scipy as sp\n",
    "import torch"
   ]
  },
  {
   "cell_type": "code",
   "execution_count": 3,
   "metadata": {},
   "outputs": [],
   "source": [
    "from scipy.stats import uniform, norm\n",
    "import seaborn as sns; sns.set()\n",
    "import matplotlib.pyplot as plt"
   ]
  },
  {
   "cell_type": "code",
   "execution_count": 4,
   "metadata": {},
   "outputs": [],
   "source": [
    "np.random.seed(0)\n",
    "A = 1.2\n",
    "b = -0.3\n",
    "sigma = 0.2\n",
    "N = 100"
   ]
  },
  {
   "cell_type": "code",
   "execution_count": 5,
   "metadata": {},
   "outputs": [],
   "source": [
    "X = torch.from_numpy(uniform.rvs(size=N))\n",
    "X.detach()\n",
    "X = X.float()"
   ]
  },
  {
   "cell_type": "code",
   "execution_count": 6,
   "metadata": {},
   "outputs": [],
   "source": [
    "e = torch.from_numpy(norm.rvs(loc=0, scale=sigma, size=N)).float()"
   ]
  },
  {
   "cell_type": "code",
   "execution_count": 7,
   "metadata": {},
   "outputs": [],
   "source": [
    "y = A*X + b + e"
   ]
  },
  {
   "cell_type": "code",
   "execution_count": 8,
   "metadata": {},
   "outputs": [],
   "source": [
    "y.detach()\n",
    "y = y.float()"
   ]
  },
  {
   "cell_type": "code",
   "execution_count": null,
   "metadata": {},
   "outputs": [],
   "source": []
  },
  {
   "cell_type": "code",
   "execution_count": 18,
   "metadata": {},
   "outputs": [],
   "source": [
    "mu_A = 0.5\n",
    "sigma_A = 0.3\n",
    "qA = torch.distributions.normal.Normal(mu_A, sigma_A)\n",
    "\n",
    "mu_b = -0.1\n",
    "sigma_b = 0.1\n",
    "qb = torch.distributions.normal.Normal(mu_b, sigma_b)"
   ]
  },
  {
   "cell_type": "code",
   "execution_count": 96,
   "metadata": {},
   "outputs": [],
   "source": [
    "lst_lp1 = []\n",
    "for j in range(0,100000):\n",
    "    A = qA.sample()\n",
    "    b = qb.sample()\n",
    "\n",
    "    y_pred = A*X + b\n",
    "    pData = torch.distributions.normal.Normal(y_pred, 0.2)\n",
    "\n",
    "    lp = pData.log_prob(y).sum()\n",
    "    lst_lp1.append(lp)\n",
    "LP1 = torch.stack(lst_lp1)"
   ]
  },
  {
   "cell_type": "code",
   "execution_count": 97,
   "metadata": {},
   "outputs": [],
   "source": [
    "pA = torch.distributions.normal.Normal(0.0, 1.0)\n",
    "pb = torch.distributions.normal.Normal(0.0, 1.0)"
   ]
  },
  {
   "cell_type": "code",
   "execution_count": 98,
   "metadata": {},
   "outputs": [
    {
     "data": {
      "text/plain": [
       "tensor(115.1674)"
      ]
     },
     "execution_count": 98,
     "metadata": {},
     "output_type": "execute_result"
    }
   ],
   "source": [
    "F1 = torch.distributions.kl_divergence(qA, pA) + torch.distributions.kl_divergence(qb, pb) - LP1.mean()\n",
    "F1"
   ]
  },
  {
   "cell_type": "code",
   "execution_count": null,
   "metadata": {},
   "outputs": [],
   "source": []
  },
  {
   "cell_type": "code",
   "execution_count": 99,
   "metadata": {},
   "outputs": [],
   "source": [
    "lst_lp2 = []\n",
    "for j in range(0,100000):\n",
    "    A = qA.sample()\n",
    "    b = qb.sample()\n",
    "\n",
    "    y_pred = A*X + b\n",
    "    pData = torch.distributions.normal.Normal(y_pred, 0.2)\n",
    "\n",
    "    lp = 0\n",
    "    lp += qA.log_prob(A) + qb.log_prob(b)\n",
    "    lp -= pA.log_prob(A) + pb.log_prob(b)\n",
    "    lp -= pData.log_prob(y).sum()\n",
    "    \n",
    "    lst_lp2.append(lp)\n",
    "LP2 = torch.stack(lst_lp2)"
   ]
  },
  {
   "cell_type": "code",
   "execution_count": 100,
   "metadata": {},
   "outputs": [
    {
     "data": {
      "text/plain": [
       "tensor(115.3062)"
      ]
     },
     "execution_count": 100,
     "metadata": {},
     "output_type": "execute_result"
    }
   ],
   "source": [
    "F2 = LP2.mean()\n",
    "F2"
   ]
  },
  {
   "cell_type": "code",
   "execution_count": null,
   "metadata": {},
   "outputs": [],
   "source": []
  }
 ],
 "metadata": {
  "kernelspec": {
   "display_name": "Python 3",
   "language": "python",
   "name": "python3"
  },
  "language_info": {
   "codemirror_mode": {
    "name": "ipython",
    "version": 3
   },
   "file_extension": ".py",
   "mimetype": "text/x-python",
   "name": "python",
   "nbconvert_exporter": "python",
   "pygments_lexer": "ipython3",
   "version": "3.7.3"
  }
 },
 "nbformat": 4,
 "nbformat_minor": 2
}
