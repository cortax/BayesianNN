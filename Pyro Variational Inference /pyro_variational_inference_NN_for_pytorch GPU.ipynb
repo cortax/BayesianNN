{
 "cells": [
  {
   "cell_type": "code",
   "execution_count": 1,
   "metadata": {},
   "outputs": [],
   "source": [
    "import pandas as pd\n",
    "import os\n",
    "import numpy as np\n",
    "import scipy as sp\n",
    "import torch\n",
    "import torch.nn as nn\n",
    "import torch.nn.functional as F\n",
    "import pycuda.driver as cuda"
   ]
  },
  {
   "cell_type": "code",
   "execution_count": 2,
   "metadata": {},
   "outputs": [],
   "source": [
    "from livelossplot import PlotLosses\n",
    "from time import sleep"
   ]
  },
  {
   "cell_type": "code",
   "execution_count": 3,
   "metadata": {},
   "outputs": [],
   "source": [
    "import pyro\n",
    "import pyro.distributions as dist\n",
    "from pyro.distributions import Normal, Uniform, Delta\n",
    "from pyro.infer.mcmc import MCMC, HMC, NUTS\n",
    "from pyro.infer.mcmc.api import MCMC\n",
    "import pyro.poutine as poutine\n",
    "from pyro.infer import EmpiricalMarginal, SVI, Trace_ELBO, TracePredictive, JitTrace_ELBO, TraceGraph_ELBO, TraceEnum_ELBO\n",
    "from pyro.optim import Adam\n",
    "from pyro.infer.mcmc.util import predictive\n",
    "from pyro.distributions.util import sum_rightmost"
   ]
  },
  {
   "cell_type": "code",
   "execution_count": 4,
   "metadata": {},
   "outputs": [],
   "source": [
    "from scipy.stats import uniform, norm\n",
    "import seaborn as sns; sns.set()\n",
    "import matplotlib.pyplot as plt"
   ]
  },
  {
   "cell_type": "code",
   "execution_count": 5,
   "metadata": {},
   "outputs": [],
   "source": [
    "# for CI testing\n",
    "pyro.enable_validation(True)\n",
    "pyro.set_rng_seed(1)\n",
    "pyro.enable_validation(True)"
   ]
  },
  {
   "cell_type": "code",
   "execution_count": 6,
   "metadata": {},
   "outputs": [],
   "source": [
    "device = torch.device('cuda:0' if torch.cuda.is_available() else 'cpu')"
   ]
  },
  {
   "cell_type": "code",
   "execution_count": 7,
   "metadata": {},
   "outputs": [
    {
     "data": {
      "text/plain": [
       "device(type='cuda', index=0)"
      ]
     },
     "execution_count": 7,
     "metadata": {},
     "output_type": "execute_result"
    }
   ],
   "source": [
    "device"
   ]
  },
  {
   "cell_type": "code",
   "execution_count": 8,
   "metadata": {},
   "outputs": [],
   "source": [
    "sigma_noise = 0.1\n",
    "N = 200\n",
    "np.random.seed(40)"
   ]
  },
  {
   "cell_type": "code",
   "execution_count": 9,
   "metadata": {},
   "outputs": [
    {
     "data": {
      "text/plain": [
       "tensor([-0.7197, -0.8967, -0.8509, -0.7282, -0.9892, -0.7041, -0.8531, -0.7209,\n",
       "        -0.7893, -0.8377, -0.7637, -0.8059, -0.7474, -0.8871, -0.8285, -0.8317,\n",
       "        -0.7882, -0.8157, -0.6533, -0.7574, -0.8839, -0.9267, -0.8460, -0.8948,\n",
       "        -0.8743, -0.8061, -0.7047, -0.7144, -0.9958, -0.7003, -0.7633, -0.6395,\n",
       "        -0.6929, -0.9836, -0.9909, -0.9042, -0.6525, -0.8458, -0.7358, -0.9010,\n",
       "        -0.6335, -0.8933, -0.6763, -0.8128, -0.9125, -0.7199, -0.9132, -0.7606,\n",
       "        -0.8684, -0.8353, -0.9929, -0.9032, -0.7146, -0.8600, -0.6307, -0.6667,\n",
       "        -0.8237, -0.9385, -0.7023, -0.7576, -0.9346, -0.6948, -0.7027, -0.6509,\n",
       "        -0.9187, -0.8455, -0.8186, -0.7880, -0.9554, -0.9463, -0.7144, -0.8584,\n",
       "        -0.7246, -0.8045, -0.7543, -0.7743, -0.7477, -0.7233, -0.9863, -0.7219,\n",
       "        -0.9451, -0.9546, -0.8037, -0.8465, -0.7063, -0.9221, -0.9795, -0.6804,\n",
       "        -0.8424, -0.7109, -0.7555, -0.9537, -0.7778, -0.7706, -0.9389, -0.9028,\n",
       "        -0.7519, -0.7819, -0.8937, -0.8710,  1.0727,  0.7149,  0.9582,  0.9157,\n",
       "         0.5649,  0.4986,  1.0870,  0.7920,  0.9978,  0.8424,  0.8795,  1.0178,\n",
       "         1.0832,  0.5593,  0.8156,  1.0175,  1.0104,  0.9769,  0.5398,  0.5410,\n",
       "         0.5784,  0.8158,  1.0989,  0.5697,  0.9482,  0.5951,  0.4694,  0.7059,\n",
       "         0.9623,  1.0767,  0.5732,  0.8455,  1.0554,  0.9904,  0.9775,  1.0060,\n",
       "         0.9806,  0.8589,  0.5528,  0.5021,  0.6261,  0.7372,  0.5758,  0.8939,\n",
       "         0.8756,  0.7014,  0.8999,  0.8800,  0.9734,  0.9939,  0.6649,  1.0925,\n",
       "         0.7374,  0.7638,  0.4682,  0.5658,  0.5851,  0.6360,  1.0061,  0.6688,\n",
       "         0.5321,  0.9000,  0.8791,  0.9855,  0.6068,  0.8455,  0.6567,  0.7020,\n",
       "         0.5160,  0.6269,  0.6755,  0.9140,  0.8344,  0.8553,  1.0994,  1.0918,\n",
       "         0.9967,  0.7853,  0.5502,  1.0290,  0.6937,  0.7487,  0.4950,  0.7108,\n",
       "         0.5654,  1.0736,  0.4940,  0.5217,  0.7640,  0.5993,  0.8913,  0.6499,\n",
       "         0.6224,  0.7934,  1.0103,  0.5464,  0.9276,  0.9838,  1.0929,  0.5475],\n",
       "       device='cuda:0')"
      ]
     },
     "execution_count": 9,
     "metadata": {},
     "output_type": "execute_result"
    }
   ],
   "source": [
    "X1 = Uniform(torch.tensor([-1.0]), torch.tensor([-0.63])).sample(sample_shape=torch.Size([int(N/2)])).squeeze()\n",
    "X2 = Uniform(torch.tensor([0.45]), torch.tensor([1.1])).sample(sample_shape=torch.Size([int(N/2)])).squeeze()\n",
    "X = torch.cat((X1, X2), 0).cuda()\n",
    "X.detach()"
   ]
  },
  {
   "cell_type": "code",
   "execution_count": 10,
   "metadata": {},
   "outputs": [
    {
     "data": {
      "text/plain": [
       "tensor([-5.4711e-01, -9.5027e-01, -9.2713e-01, -4.2287e-01, -1.1843e+00,\n",
       "        -4.7753e-01, -6.3388e-01, -4.4168e-01, -6.3674e-01, -7.2484e-01,\n",
       "        -6.2646e-01, -7.2726e-01, -5.2134e-01, -8.3516e-01, -9.1112e-01,\n",
       "        -8.3016e-01, -7.4848e-01, -7.2909e-01, -2.5986e-01, -7.3976e-01,\n",
       "        -8.8935e-01, -9.6170e-01, -8.4538e-01, -8.0778e-01, -7.9570e-01,\n",
       "        -7.1218e-01, -2.7816e-01, -4.9910e-01, -1.1371e+00, -2.8015e-01,\n",
       "        -6.2794e-01, -2.1822e-01, -4.7473e-01, -1.0433e+00, -1.1335e+00,\n",
       "        -9.2684e-01, -3.7955e-01, -9.0349e-01, -5.3427e-01, -9.9408e-01,\n",
       "        -5.7140e-02, -8.3573e-01, -3.2039e-01, -8.1452e-01, -9.0244e-01,\n",
       "        -4.6049e-01, -9.5769e-01, -5.5810e-01, -9.1028e-01, -7.5545e-01,\n",
       "        -1.1184e+00, -9.7961e-01, -4.6555e-01, -9.8755e-01, -2.0653e-01,\n",
       "        -4.9501e-01, -6.5714e-01, -9.1913e-01, -2.0337e-01, -6.6541e-01,\n",
       "        -9.2513e-01, -4.0572e-01, -2.9669e-01, -2.4847e-01, -7.9585e-01,\n",
       "        -9.5203e-01, -7.2131e-01, -7.2137e-01, -1.1040e+00, -9.8985e-01,\n",
       "        -6.4901e-01, -8.5333e-01, -4.5039e-01, -8.5101e-01, -7.8698e-01,\n",
       "        -6.4699e-01, -5.0253e-01, -5.0609e-01, -9.1636e-01, -5.1386e-01,\n",
       "        -9.9625e-01, -9.0534e-01, -8.3136e-01, -7.6732e-01, -3.6891e-01,\n",
       "        -9.0832e-01, -1.0505e+00, -3.2990e-01, -9.9011e-01, -3.9438e-01,\n",
       "        -4.6927e-01, -1.1623e+00, -7.2656e-01, -7.7641e-01, -1.2708e+00,\n",
       "        -9.4746e-01, -7.6396e-01, -7.4845e-01, -8.4604e-01, -7.2517e-01,\n",
       "         3.7273e-01, -9.5371e-01, -5.2493e-02, -4.2104e-01, -9.8400e-01,\n",
       "        -9.5583e-01,  5.0253e-01, -7.6674e-01,  7.2170e-02, -5.3032e-01,\n",
       "        -4.0153e-01,  2.9016e-01,  2.5117e-01, -1.0524e+00, -5.6147e-01,\n",
       "         8.1802e-02,  3.6606e-02, -2.4848e-01, -1.1422e+00, -1.0770e+00,\n",
       "        -1.0549e+00, -6.2570e-01,  3.9133e-01, -9.6096e-01, -1.6268e-02,\n",
       "        -9.6885e-01, -8.3702e-01, -1.0079e+00, -1.4047e-01,  3.4909e-01,\n",
       "        -6.5506e-01, -4.7000e-01,  3.2688e-01,  8.0773e-02, -2.3424e-02,\n",
       "         7.9846e-02,  1.7286e-01, -4.4142e-01, -9.8004e-01, -9.3617e-01,\n",
       "        -9.5639e-01, -8.5930e-01, -1.0883e+00, -2.4160e-01, -3.1287e-01,\n",
       "        -8.1741e-01, -2.4731e-01, -3.5640e-01, -2.1369e-01, -9.3843e-04,\n",
       "        -9.9114e-01,  4.6508e-01, -8.9372e-01, -5.9412e-01, -1.0439e+00,\n",
       "        -9.5134e-01, -1.0860e+00, -1.0855e+00,  3.7401e-02, -9.6351e-01,\n",
       "        -1.0101e+00, -2.2673e-01, -3.6509e-01,  2.5791e-02, -9.0430e-01,\n",
       "        -5.6038e-01, -7.7280e-01, -7.1629e-01, -1.0067e+00, -1.1202e+00,\n",
       "        -8.4096e-01, -1.0088e-01, -5.6944e-01, -6.1123e-01,  4.7461e-01,\n",
       "         4.1311e-01,  1.1869e-01, -6.0812e-01, -1.1203e+00,  1.8549e-01,\n",
       "        -1.0782e+00, -8.1611e-01, -8.8073e-01, -7.9480e-01, -1.0272e+00,\n",
       "         5.4713e-01, -8.4635e-01, -8.8817e-01, -7.9473e-01, -1.1111e+00,\n",
       "        -1.6420e-01, -8.6685e-01, -1.2011e+00, -4.8256e-01,  2.3076e-02,\n",
       "        -9.7972e-01, -1.0582e-01, -3.0588e-02,  4.4465e-01, -1.1324e+00],\n",
       "       device='cuda:0')"
      ]
     },
     "execution_count": 10,
     "metadata": {},
     "output_type": "execute_result"
    }
   ],
   "source": [
    "e = torch.from_numpy(norm.rvs(loc=0, scale=sigma_noise, size=N)).detach().float().cuda()\n",
    "y = torch.cos(4.0*(X+0.2)) + e\n",
    "y.detach()"
   ]
  },
  {
   "cell_type": "code",
   "execution_count": 11,
   "metadata": {},
   "outputs": [],
   "source": [
    "x_data, y_data = X.unsqueeze(1), y"
   ]
  },
  {
   "cell_type": "code",
   "execution_count": null,
   "metadata": {},
   "outputs": [],
   "source": []
  },
  {
   "cell_type": "code",
   "execution_count": 12,
   "metadata": {},
   "outputs": [],
   "source": [
    "H = 50"
   ]
  },
  {
   "cell_type": "code",
   "execution_count": 13,
   "metadata": {},
   "outputs": [],
   "source": [
    "class RegressionModel(nn.Module):\n",
    "    def __init__(self, p):\n",
    "        super(RegressionModel, self).__init__()\n",
    "        self.linear1 = nn.Linear(p, H)\n",
    "        self.linear2 = nn.Linear(H,1)\n",
    "        self.to(device)\n",
    "\n",
    "    def forward(self, x):\n",
    "        out = torch.tanh(self.linear1(x))\n",
    "        out = self.linear2(out)\n",
    "        return out\n",
    "\n",
    "p = 1\n",
    "softplus = nn.Softplus()\n",
    "regression_model = RegressionModel(p)"
   ]
  },
  {
   "cell_type": "code",
   "execution_count": null,
   "metadata": {},
   "outputs": [],
   "source": []
  },
  {
   "cell_type": "code",
   "execution_count": 14,
   "metadata": {},
   "outputs": [],
   "source": [
    "def model(x_data, y_data):\n",
    "    options = dict(dtype=x_data.dtype, device=x_data.device)\n",
    "    \n",
    "    weight_loc = torch.zeros(H, p, **options)\n",
    "    weight_scale = 5*torch.ones(H, p, **options)\n",
    "    bias_loc = torch.zeros(H, **options)\n",
    "    bias_scale = 5*torch.ones(H, **options)\n",
    "    \n",
    "    linear1_w_prior = Normal(weight_loc, weight_scale).independent(2)\n",
    "    linear1_b_prior = Normal(bias_loc, bias_scale).independent(1)\n",
    "    \n",
    "    weight_loc = torch.zeros(1, H, **options)\n",
    "    weight_scale = 5*torch.ones(1, H, **options)\n",
    "    bias_loc = torch.zeros(1, **options)\n",
    "    bias_scale = 5*torch.ones(1, **options)\n",
    "    \n",
    "    linear2_w_prior = Normal(weight_loc, weight_scale).independent(2)\n",
    "    linear2_b_prior = Normal(bias_loc, bias_scale).independent(1)\n",
    "    \n",
    "    priors = {'linear1.weight': linear1_w_prior, 'linear1.bias': linear1_b_prior,\n",
    "              'linear2.weight': linear2_w_prior, 'linear2.bias': linear2_b_prior,}\n",
    "    \n",
    "    lifted_module = pyro.random_module(\"module\", regression_model, priors)\n",
    "    \n",
    "    lifted_reg_model = lifted_module()\n",
    "    \n",
    "    with pyro.plate(\"map\", device=x_data.device):\n",
    "        prediction_mean = lifted_reg_model(x_data).squeeze(-1)\n",
    "        pyro.sample(\"obs\", Normal(prediction_mean, sigma_noise), obs=y_data)\n",
    "    return prediction_mean"
   ]
  },
  {
   "cell_type": "code",
   "execution_count": 15,
   "metadata": {},
   "outputs": [],
   "source": [
    "from pyro.contrib.autoguide import AutoDiagonalNormal\n",
    "guide = AutoDiagonalNormal(model)"
   ]
  },
  {
   "cell_type": "code",
   "execution_count": null,
   "metadata": {},
   "outputs": [],
   "source": []
  },
  {
   "cell_type": "code",
   "execution_count": 16,
   "metadata": {},
   "outputs": [],
   "source": [
    "pyro.clear_param_store()"
   ]
  },
  {
   "cell_type": "code",
   "execution_count": 48,
   "metadata": {},
   "outputs": [],
   "source": [
    "scheduler = pyro.optim.ReduceLROnPlateau({'optimizer': torch.optim.Adam, 'optim_args': {'lr': 0.01}, 'factor': 0.5, 'patience': 2})\n",
    "svi = SVI(model, guide, scheduler, loss=Trace_ELBO())"
   ]
  },
  {
   "cell_type": "code",
   "execution_count": null,
   "metadata": {},
   "outputs": [],
   "source": [
    "%matplotlib inline\n",
    "num_epoch = 100\n",
    "num_iterations = 1000\n",
    "liveloss = PlotLosses()\n",
    "for j in range(num_epoch):\n",
    "    logs = {}\n",
    "    losses = [None] * num_iterations\n",
    "    for k in range(num_iterations):\n",
    "        loss = svi.step(x_data, y_data)\n",
    "        losses[k] = loss\n",
    "    scheduler.step(np.mean(losses))\n",
    "    L = next(iter(scheduler.optim_objs.values()))\n",
    "    logs['expected_loss'] = np.mean(losses)\n",
    "    logs['learning_rate'] = L.optimizer.param_groups[0]['lr']\n",
    "    liveloss.update(logs)\n",
    "    liveloss.draw()"
   ]
  },
  {
   "cell_type": "code",
   "execution_count": null,
   "metadata": {},
   "outputs": [],
   "source": []
  },
  {
   "cell_type": "code",
   "execution_count": null,
   "metadata": {},
   "outputs": [],
   "source": []
  },
  {
   "cell_type": "code",
   "execution_count": null,
   "metadata": {},
   "outputs": [],
   "source": [
    "get_marginal = lambda traces, sites:EmpiricalMarginal(traces, sites)._get_samples_and_weights()[0].detach().cpu().numpy()\n",
    "\n",
    "def wrapped_model(x_data, y_data):\n",
    "    pyro.sample(\"prediction\", Delta(model(x_data, y_data)))\n",
    "\n",
    "posterior = svi.run(x_data, y_data)"
   ]
  },
  {
   "cell_type": "code",
   "execution_count": null,
   "metadata": {},
   "outputs": [],
   "source": [
    "x_test = torch.linspace(-2.0, 2.0).unsqueeze(1)"
   ]
  },
  {
   "cell_type": "code",
   "execution_count": null,
   "metadata": {},
   "outputs": [],
   "source": [
    "fig, ax = plt.subplots()\n",
    "fig.set_size_inches(11.7, 8.27)\n",
    "\n",
    "plt.scatter(X,y)\n",
    "for _ in range(1000):\n",
    "    guide_trace = poutine.trace(guide).get_trace(x_test, None)\n",
    "    lifted_reg_model = poutine.replay(model, guide_trace)\n",
    "    y_test = lifted_reg_model(x_test, None)\n",
    "    plt.plot(x_test.detach().cpu().numpy(), y_test.detach().cpu().numpy(), alpha=0.05, linewidth=1, color='lightblue')"
   ]
  },
  {
   "cell_type": "code",
   "execution_count": null,
   "metadata": {},
   "outputs": [],
   "source": []
  },
  {
   "cell_type": "code",
   "execution_count": null,
   "metadata": {},
   "outputs": [],
   "source": [
    "for name, value in pyro.get_param_store().items():\n",
    "    print(name, pyro.param(name))"
   ]
  }
 ],
 "metadata": {
  "kernelspec": {
   "display_name": "Python 3",
   "language": "python",
   "name": "python3"
  },
  "language_info": {
   "codemirror_mode": {
    "name": "ipython",
    "version": 3
   },
   "file_extension": ".py",
   "mimetype": "text/x-python",
   "name": "python",
   "nbconvert_exporter": "python",
   "pygments_lexer": "ipython3",
   "version": "3.7.4"
  }
 },
 "nbformat": 4,
 "nbformat_minor": 2
}
