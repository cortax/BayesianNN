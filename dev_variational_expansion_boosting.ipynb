{
 "cells": [
  {
   "cell_type": "code",
   "execution_count": 1,
   "metadata": {},
   "outputs": [],
   "source": [
    "import numpy as np\n",
    "import math\n",
    "import torch\n",
    "from torch import nn\n",
    "from torch import functional as F\n",
    "import scipy.stats as stats\n",
    "import matplotlib\n",
    "import matplotlib.pyplot as plt\n",
    "from livelossplot import PlotLosses\n",
    "from Inference.Variational import MeanFieldVariationalDistribution\n",
    "from Inference.VariationalBoosting import MeanFieldVariationalMixtureDistribution\n",
    "from Tools.NNtools import *"
   ]
  },
  {
   "cell_type": "code",
   "execution_count": 2,
   "metadata": {},
   "outputs": [],
   "source": [
    "device = torch.device('cuda:0' if torch.cuda.is_available() else 'cpu')\n",
    "device = 'cpu'"
   ]
  },
  {
   "cell_type": "code",
   "execution_count": null,
   "metadata": {},
   "outputs": [],
   "source": []
  },
  {
   "cell_type": "code",
   "execution_count": 3,
   "metadata": {},
   "outputs": [],
   "source": [
    "# load data and make it in proper shape\n",
    "data = torch.load('Data/foong_data.pt')\n",
    "x_data = data[0].to(device)\n",
    "y_data = data[1].to(device)\n",
    "y_data = y_data.unsqueeze(-1)"
   ]
  },
  {
   "cell_type": "code",
   "execution_count": 4,
   "metadata": {},
   "outputs": [],
   "source": [
    "model = nn.Sequential( nn.Linear(1, 50),\n",
    "                       nn.Tanh(), \n",
    "                       nn.Linear(50, 1),\n",
    "                     ).to(device)"
   ]
  },
  {
   "cell_type": "code",
   "execution_count": 5,
   "metadata": {},
   "outputs": [],
   "source": [
    "param_count = get_param(model).shape[0]"
   ]
  },
  {
   "cell_type": "code",
   "execution_count": 6,
   "metadata": {},
   "outputs": [],
   "source": [
    "flip_parameters_to_tensors(model)"
   ]
  },
  {
   "cell_type": "code",
   "execution_count": null,
   "metadata": {},
   "outputs": [],
   "source": []
  },
  {
   "cell_type": "code",
   "execution_count": 7,
   "metadata": {},
   "outputs": [],
   "source": [
    "prior = MeanFieldVariationalDistribution(param_count, sigma=1.0, device=device)\n",
    "prior.mu.requires_grad = False\n",
    "prior.rho.requires_grad = False"
   ]
  },
  {
   "cell_type": "code",
   "execution_count": 8,
   "metadata": {},
   "outputs": [],
   "source": [
    "def logprior(x):\n",
    "    return prior.log_prob(x)"
   ]
  },
  {
   "cell_type": "code",
   "execution_count": 9,
   "metadata": {},
   "outputs": [],
   "source": [
    "def loglikelihood(theta, model, x, y, sigma_noise):\n",
    "    def _log_norm(x, mu, std):\n",
    "        return -0.5 * torch.log(2*np.pi*std**2) -(0.5 * (1/(std**2))* (x-mu)**2)\n",
    "    #set_param(model, theta)\n",
    "    set_all_parameters(model, theta)\n",
    "    y_pred = model(x)\n",
    "    L = _log_norm(y_pred, y, torch.tensor([sigma_noise],device=device))\n",
    "    return torch.sum(L).unsqueeze(-1)"
   ]
  },
  {
   "cell_type": "code",
   "execution_count": 10,
   "metadata": {},
   "outputs": [],
   "source": [
    "def logposterior(theta, model, x, y, sigma_noise):\n",
    "    return logprior(theta) + loglikelihood(theta, model, x, y, sigma_noise)"
   ]
  },
  {
   "cell_type": "code",
   "execution_count": 11,
   "metadata": {},
   "outputs": [],
   "source": [
    "def show_variational_posterior_predictive(q):\n",
    "    x_test = torch.linspace(-2.0, 2.0).unsqueeze(1).to(device)\n",
    "    # Sampling the distribution over Neural Networks 1000 times, and plotting with transparency to make it appear as a smooth distribution\n",
    "    fig, ax = plt.subplots()\n",
    "    fig.set_size_inches(11.7, 8.27)\n",
    "    plt.xlim(-2, 2) \n",
    "    plt.ylim(-4, 4) \n",
    "    plt.scatter(x_data.cpu(), y_data.cpu())\n",
    "    for _ in range(1000):\n",
    "        z = q.sample()\n",
    "        set_all_parameters(model, z)\n",
    "        y_test = model(x_test)\n",
    "\n",
    "        plt.plot(x_test.detach().cpu().numpy(), y_test.squeeze(0).detach().cpu().numpy(), alpha=0.05, linewidth=1, color='lightblue')"
   ]
  },
  {
   "cell_type": "code",
   "execution_count": 12,
   "metadata": {},
   "outputs": [],
   "source": [
    "std = torch.distributions.Gamma(torch.tensor([1.0]), torch.tensor([1.0])).sample()[0].float()\n",
    "theta = torch.nn.Parameter( torch.empty([1,param_count],device=device).normal_(std=std), requires_grad=True)"
   ]
  },
  {
   "cell_type": "code",
   "execution_count": 13,
   "metadata": {},
   "outputs": [],
   "source": [
    "optimizer = torch.optim.Adam([theta], lr=0.01)\n",
    "scheduler = torch.optim.lr_scheduler.ReduceLROnPlateau(optimizer, patience=200, factor=0.5, threshold=1e-5, threshold_mode='abs' )"
   ]
  },
  {
   "cell_type": "code",
   "execution_count": null,
   "metadata": {},
   "outputs": [],
   "source": []
  },
  {
   "cell_type": "code",
   "execution_count": null,
   "metadata": {},
   "outputs": [],
   "source": [
    "#def Boost(qC, n_samples_ELBO):\n",
    "qC.requires_grad_(False)\n",
    "for c in qC.components:\n",
    "    c.mu.detach_()\n",
    "    c.rho.detach_()"
   ]
  },
  {
   "cell_type": "code",
   "execution_count": null,
   "metadata": {},
   "outputs": [],
   "source": [
    "q_new = MeanFieldVariationalDistribution(param_count, sigma=0.0000001, device=device)\n",
    "std = torch.distributions.Gamma(torch.tensor([1.0]), torch.tensor([1.0])).sample()[0].float()\n",
    "q_new.mu = nn.Parameter( torch.empty([1,param_count],device=device).normal_(std=std), requires_grad=True)\n",
    "q_new.rho.requires_grad = False\n",
    "q_new.mu.requires_grad = True\n",
    "\n",
    "\n",
    "optimizer = torch.optim.Adam(q_new.parameters(), lr=0.01)\n",
    "scheduler = torch.optim.lr_scheduler.ReduceLROnPlateau(optimizer, patience=100, factor=0.5)\n",
    "\n",
    "liveloss = PlotLosses()\n",
    "for t in range(100000):\n",
    "    logs = {}\n",
    "    optimizer.zero_grad()\n",
    "\n",
    "    Ln = []\n",
    "    for j in range(5):\n",
    "        z = q_new.sample(1)\n",
    "        LQ = q_new.log_prob(z)\n",
    "        LP = logposterior(z, model, x_data, y_data, sigma_noise=0.1)\n",
    "        Ln.append(LQ - LP)\n",
    "\n",
    "    L = torch.stack(Ln).mean()\n",
    "    L.backward()\n",
    "\n",
    "    learning_rate = optimizer.param_groups[0]['lr']\n",
    "\n",
    "    scheduler.step(L.detach().clone().cpu().numpy())\n",
    "    logs['loss'] = L.detach().clone().cpu().numpy()\n",
    "    logs['learning rate'] = learning_rate\n",
    "    liveloss.update(logs)\n",
    "\n",
    "    if t % 100 == 0:\n",
    "        liveloss.draw()\n",
    "\n",
    "    optimizer.step()\n",
    "\n",
    "    if learning_rate < 0.001:\n",
    "        break"
   ]
  },
  {
   "cell_type": "code",
   "execution_count": null,
   "metadata": {},
   "outputs": [],
   "source": [
    "unbounded_prop_new = torch.tensor(0.0, device=device).requires_grad_(False)"
   ]
  },
  {
   "cell_type": "code",
   "execution_count": null,
   "metadata": {},
   "outputs": [],
   "source": [
    "q_new.rho.detach_().requires_grad_(True)\n",
    "q_new.mu.detach_().requires_grad_(True)\n",
    "\n",
    "optimizer = torch.optim.Adam(list(q_new.parameters())+[unbounded_prop_new], lr=0.01)\n",
    "scheduler = torch.optim.lr_scheduler.ReduceLROnPlateau(optimizer, patience=100, factor=0.9)\n",
    "\n",
    "liveloss = PlotLosses()\n",
    "for t in range(1000000):\n",
    "    logs = {}\n",
    "    optimizer.zero_grad()\n",
    "\n",
    "    Ln = []\n",
    "    for j in range(n_samples_ELBO):\n",
    "        Xc = qC.sample(1)\n",
    "        Xnew = q_new.sample(1)\n",
    "        prop_new = torch.sigmoid(unbounded_prop_new)\n",
    "\n",
    "        v = -(1-prop_new)*torch.mean(logposterior(Xc, model, x_data, y_data, sigma_noise=0.1) - qC.log_prob_augmented(Xc, q_new, unbounded_prop_new)) - \\\n",
    "        prop_new*torch.mean(logposterior(Xnew, model, x_data, y_data, sigma_noise=0.1) - qC.log_prob_augmented(Xnew, q_new, unbounded_prop_new))\n",
    "\n",
    "        Ln.append(v)\n",
    "\n",
    "    L = torch.stack(Ln).mean()\n",
    "    L.backward()\n",
    "\n",
    "    learning_rate = optimizer.param_groups[0]['lr']\n",
    "\n",
    "    scheduler.step(L.detach().clone().cpu().numpy())\n",
    "    logs['ELBO'] = L.detach().clone().cpu().numpy()\n",
    "    logs['learning rate'] = learning_rate\n",
    "    liveloss.update(logs)\n",
    "\n",
    "    if t % 100 == 0:\n",
    "        liveloss.draw()\n",
    "\n",
    "    optimizer.step()\n",
    "\n",
    "    if learning_rate < 0.001:\n",
    "        break"
   ]
  },
  {
   "cell_type": "code",
   "execution_count": null,
   "metadata": {},
   "outputs": [],
   "source": [
    "components = qC.components + [q_new]\n",
    "proportions = torch.cat([(1-torch.sigmoid(unbounded_prop_new))*qC.proportions, torch.tensor([torch.sigmoid(unbounded_prop_new)],device=device)]).detach()\n",
    "qC_new = MeanFieldVariationalMixtureDistribution(proportions, components, device=device)\n",
    "\n",
    "return qC_new"
   ]
  },
  {
   "cell_type": "markdown",
   "metadata": {},
   "source": [
    "# MAP"
   ]
  },
  {
   "cell_type": "code",
   "execution_count": 14,
   "metadata": {},
   "outputs": [],
   "source": [
    "q = MeanFieldVariationalDistribution(param_count, sigma=0.0000001, device=device)\n",
    "std = torch.distributions.Gamma(torch.tensor([1.0]), torch.tensor([1.0])).sample()[0].float()\n",
    "q.mu = nn.Parameter( torch.empty([1,param_count],device=device).normal_(std=std), requires_grad=True)\n",
    "\n",
    "q.rho.requires_grad = False\n",
    "q.mu.requires_grad = True\n",
    "\n",
    "n_samples_ELBO =10\n",
    "\n",
    "optimizer = torch.optim.Adam(q.parameters(), lr=0.01)\n",
    "scheduler = torch.optim.lr_scheduler.ReduceLROnPlateau(optimizer, patience=200, factor=0.9)"
   ]
  },
  {
   "cell_type": "code",
   "execution_count": 15,
   "metadata": {},
   "outputs": [
    {
     "data": {
      "image/png": "[encoded data removed]",
      "text/plain": [
       "<Figure size 864x576 with 2 Axes>"
      ]
     },
     "metadata": {
      "needs_background": "light"
     },
     "output_type": "display_data"
    },
    {
     "name": "stdout",
     "output_type": "stream",
     "text": [
      "ELBO:\n",
      "training   (min: 2182.463, max: 430952.094, cur: 2191.830)\n",
      "\n",
      "learning rate:\n",
      "training   (min:    0.000, max:    0.010, cur:    0.000)\n"
     ]
    }
   ],
   "source": [
    "%matplotlib inline\n",
    "liveloss = PlotLosses()\n",
    "for t in range(100000):\n",
    "    logs = {}\n",
    "    optimizer.zero_grad()\n",
    "\n",
    "    Ln = []\n",
    "    for j in range(n_samples_ELBO):\n",
    "        z = q.sample(1)\n",
    "        LQ = q.log_prob(z)\n",
    "        LP = logposterior(z, model, x_data, y_data, sigma_noise=0.1)\n",
    "        Ln.append(LQ - LP)\n",
    "\n",
    "    L = torch.stack(Ln).mean()\n",
    "    L.backward()\n",
    "    \n",
    "    learning_rate = optimizer.param_groups[0]['lr']\n",
    "    \n",
    "    scheduler.step(L.detach().clone().cpu().numpy())\n",
    "    logs['ELBO'] = L.detach().clone().cpu().numpy()\n",
    "    logs['learning rate'] = learning_rate\n",
    "    liveloss.update(logs)\n",
    "    \n",
    "    if t % 10 == 0:\n",
    "        liveloss.draw()\n",
    "\n",
    "    optimizer.step()\n",
    "    \n",
    "    if learning_rate < 0.0001:\n",
    "        break"
   ]
  },
  {
   "cell_type": "code",
   "execution_count": 32,
   "metadata": {},
   "outputs": [],
   "source": [
    "q.rho.detach_().requires_grad_(True)\n",
    "q.mu.detach_().requires_grad_(True)\n",
    "\n",
    "n_samples_ELBO = 10\n",
    "\n",
    "optimizer = torch.optim.Adam(q.parameters(), lr=0.01)\n",
    "scheduler = torch.optim.lr_scheduler.ReduceLROnPlateau(optimizer, patience=200, factor=0.99999)"
   ]
  },
  {
   "cell_type": "code",
   "execution_count": 33,
   "metadata": {},
   "outputs": [
    {
     "data": {
      "image/png": "[encoded data removed]",
      "text/plain": [
       "<Figure size 864x576 with 2 Axes>"
      ]
     },
     "metadata": {
      "needs_background": "light"
     },
     "output_type": "display_data"
    },
    {
     "name": "stdout",
     "output_type": "stream",
     "text": [
      "ELBO:\n",
      "training   (min:   80.057, max:  283.167, cur:   87.629)\n",
      "\n",
      "learning rate:\n",
      "training   (min:    0.010, max:    0.010, cur:    0.010)\n"
     ]
    },
    {
     "ename": "KeyboardInterrupt",
     "evalue": "",
     "output_type": "error",
     "traceback": [
      "\u001b[0;31m---------------------------------------------------------------------------\u001b[0m",
      "\u001b[0;31mKeyboardInterrupt\u001b[0m                         Traceback (most recent call last)",
      "\u001b[0;32m<ipython-input-33-f6bd6f5b33ad>\u001b[0m in \u001b[0;36m<module>\u001b[0;34m\u001b[0m\n\u001b[1;32m     12\u001b[0m         \u001b[0mLn\u001b[0m\u001b[0;34m.\u001b[0m\u001b[0mappend\u001b[0m\u001b[0;34m(\u001b[0m\u001b[0mLQ\u001b[0m \u001b[0;34m-\u001b[0m \u001b[0mLP\u001b[0m\u001b[0;34m)\u001b[0m\u001b[0;34m\u001b[0m\u001b[0;34m\u001b[0m\u001b[0m\n\u001b[1;32m     13\u001b[0m \u001b[0;34m\u001b[0m\u001b[0m\n\u001b[0;32m---> 14\u001b[0;31m     \u001b[0mL\u001b[0m \u001b[0;34m=\u001b[0m \u001b[0mtorch\u001b[0m\u001b[0;34m.\u001b[0m\u001b[0mstack\u001b[0m\u001b[0;34m(\u001b[0m\u001b[0mLn\u001b[0m\u001b[0;34m)\u001b[0m\u001b[0;34m.\u001b[0m\u001b[0mmean\u001b[0m\u001b[0;34m(\u001b[0m\u001b[0;34m)\u001b[0m\u001b[0;34m\u001b[0m\u001b[0;34m\u001b[0m\u001b[0m\n\u001b[0m\u001b[1;32m     15\u001b[0m     \u001b[0mL\u001b[0m\u001b[0;34m.\u001b[0m\u001b[0mbackward\u001b[0m\u001b[0;34m(\u001b[0m\u001b[0;34m)\u001b[0m\u001b[0;34m\u001b[0m\u001b[0;34m\u001b[0m\u001b[0m\n\u001b[1;32m     16\u001b[0m \u001b[0;34m\u001b[0m\u001b[0m\n",
      "\u001b[0;31mKeyboardInterrupt\u001b[0m: "
     ]
    }
   ],
   "source": [
    "%matplotlib inline\n",
    "liveloss = PlotLosses()\n",
    "for t in range(100000):\n",
    "    logs = {}\n",
    "    optimizer.zero_grad()\n",
    "\n",
    "    Ln = []\n",
    "    for j in range(n_samples_ELBO):\n",
    "        z = q.sample(1)\n",
    "        LQ = q.log_prob(z)\n",
    "        LP = logposterior(z, model, x_data, y_data, sigma_noise=0.1)\n",
    "        Ln.append(LQ - LP)\n",
    "\n",
    "    L = torch.stack(Ln).mean()\n",
    "    L.backward()\n",
    "    \n",
    "    learning_rate = optimizer.param_groups[0]['lr']\n",
    "    \n",
    "    scheduler.step(L.detach().clone().cpu().numpy())\n",
    "    logs['ELBO'] = L.detach().clone().cpu().numpy()\n",
    "    logs['learning rate'] = learning_rate\n",
    "    liveloss.update(logs)\n",
    "    \n",
    "    if t % 20 == 0:\n",
    "        liveloss.draw()\n",
    "        \n",
    "    if scheduler.num_bad_epochs >= scheduler.patience:\n",
    "        n_samples_ELBO += 5\n",
    "\n",
    "    optimizer.step()\n",
    "    \n",
    "    if n_samples_ELBO > 1000:\n",
    "        break"
   ]
  },
  {
   "cell_type": "code",
   "execution_count": 34,
   "metadata": {},
   "outputs": [
    {
     "data": {
      "image/png": "[encoded data removed]",
      "text/plain": [
       "<Figure size 842.4x595.44 with 1 Axes>"
      ]
     },
     "metadata": {
      "needs_background": "light"
     },
     "output_type": "display_data"
    }
   ],
   "source": [
    "show_variational_posterior_predictive(q)"
   ]
  },
  {
   "cell_type": "markdown",
   "metadata": {},
   "source": [
    "# Variational Distribution #"
   ]
  },
  {
   "cell_type": "code",
   "execution_count": null,
   "metadata": {
    "scrolled": true
   },
   "outputs": [],
   "source": [
    "q = MeanFieldVariationalDistribution(param_count, sigma=0.0000001, device=device)\n",
    "#theta = MAP()\n",
    "#q.mu = nn.Parameter(theta.squeeze(0).to(device), requires_grad=True) \n",
    "std = torch.distributions.Gamma(torch.tensor([1.0]), torch.tensor([1.0])).sample()[0].float()\n",
    "q.mu = nn.Parameter( torch.empty([1,param_count],device=device).normal_(std=std), requires_grad=True)\n",
    "\n",
    "q.rho.requires_grad = True\n",
    "q.mu.requires_grad = True\n",
    "\n",
    "n_samples_ELBO =10\n",
    "\n",
    "optimizer = torch.optim.Adam(q.parameters(), lr=0.01)\n",
    "scheduler = torch.optim.lr_scheduler.ReduceLROnPlateau(optimizer, patience=50, factor=0.9)\n",
    "\n",
    "%matplotlib inline\n",
    "liveloss = PlotLosses()\n",
    "for t in range(100000):\n",
    "    logs = {}\n",
    "    optimizer.zero_grad()\n",
    "\n",
    "    Ln = []\n",
    "    for j in range(n_samples_ELBO):\n",
    "        z = q.sample(1)\n",
    "        LQ = q.log_prob(z)\n",
    "        LP = logposterior(z, model, x_data, y_data, sigma_noise=0.1)\n",
    "        Ln.append(LQ - LP)\n",
    "\n",
    "    L = torch.stack(Ln).mean()\n",
    "    L.backward()\n",
    "    \n",
    "    learning_rate = optimizer.param_groups[0]['lr']\n",
    "    \n",
    "    scheduler.step(L.detach().clone().cpu().numpy())\n",
    "    logs['ELBO'] = L.detach().clone().cpu().numpy()\n",
    "    logs['learning rate'] = n_samples_ELBO\n",
    "    liveloss.update(logs)\n",
    "    \n",
    "    if scheduler.num_bad_epochs >= scheduler.patience:\n",
    "        n_samples_ELBO += 10\n",
    "        scheduler._reset()\n",
    "    \n",
    "    if t % 10 == 0:\n",
    "        liveloss.draw()\n",
    "\n",
    "    optimizer.step()\n",
    "    \n",
    "    if n_samples_ELBO >= 1000:\n",
    "        break"
   ]
  },
  {
   "cell_type": "code",
   "execution_count": null,
   "metadata": {},
   "outputs": [],
   "source": []
  },
  {
   "cell_type": "code",
   "execution_count": null,
   "metadata": {},
   "outputs": [],
   "source": [
    "components = [q]\n",
    "proportions = torch.tensor([1.0], device=device)\n",
    "qC = MeanFieldVariationalMixtureDistribution(proportions, components, device=device)"
   ]
  },
  {
   "cell_type": "code",
   "execution_count": null,
   "metadata": {},
   "outputs": [],
   "source": []
  },
  {
   "cell_type": "code",
   "execution_count": null,
   "metadata": {},
   "outputs": [],
   "source": []
  },
  {
   "cell_type": "code",
   "execution_count": null,
   "metadata": {},
   "outputs": [],
   "source": [
    "x_test = torch.linspace(-2.0, 2.0).unsqueeze(1).to(device)\n",
    "# Sampling the distribution over Neural Networks 1000 times, and plotting with transparency to make it appear as a smooth distribution\n",
    "fig, ax = plt.subplots()\n",
    "fig.set_size_inches(11.7, 8.27)\n",
    "plt.xlim(-2, 2) \n",
    "plt.ylim(-4, 4) \n",
    "plt.scatter(x_data.cpu(), y_data.cpu())\n",
    "for _ in range(1000):\n",
    "    z = qC.sample()\n",
    "    set_all_parameters(model, z)\n",
    "    y_test = model(x_test)\n",
    "\n",
    "    plt.plot(x_test.detach().cpu().numpy(), y_test.squeeze(0).detach().cpu().numpy(), alpha=0.05, linewidth=1, color='lightblue')"
   ]
  },
  {
   "cell_type": "code",
   "execution_count": null,
   "metadata": {},
   "outputs": [],
   "source": []
  },
  {
   "cell_type": "code",
   "execution_count": null,
   "metadata": {},
   "outputs": [],
   "source": [
    "qC.proportions"
   ]
  },
  {
   "cell_type": "code",
   "execution_count": null,
   "metadata": {
    "scrolled": true
   },
   "outputs": [],
   "source": [
    "qC = Boost(qC, 50)"
   ]
  },
  {
   "cell_type": "code",
   "execution_count": null,
   "metadata": {},
   "outputs": [],
   "source": [
    "qC = Boost(qC, 25)"
   ]
  },
  {
   "cell_type": "code",
   "execution_count": null,
   "metadata": {},
   "outputs": [],
   "source": [
    "qC = Boost(qC, 10)"
   ]
  },
  {
   "cell_type": "code",
   "execution_count": null,
   "metadata": {},
   "outputs": [],
   "source": [
    "qC = Boost(qC, 10)"
   ]
  },
  {
   "cell_type": "code",
   "execution_count": null,
   "metadata": {},
   "outputs": [],
   "source": [
    "qC = Boost(qC, 10)"
   ]
  },
  {
   "cell_type": "code",
   "execution_count": null,
   "metadata": {},
   "outputs": [],
   "source": [
    "qC = Boost(qC, 10)"
   ]
  },
  {
   "cell_type": "code",
   "execution_count": null,
   "metadata": {},
   "outputs": [],
   "source": [
    "    "
   ]
  },
  {
   "cell_type": "code",
   "execution_count": null,
   "metadata": {},
   "outputs": [],
   "source": [
    "qC = Boost(qC, 10)\n",
    "show_variational_posterior_predictive(qC)"
   ]
  },
  {
   "cell_type": "code",
   "execution_count": null,
   "metadata": {},
   "outputs": [],
   "source": [
    "qC = Boost(qC, 10)\n",
    "show_variational_posterior_predictive(qC)"
   ]
  },
  {
   "cell_type": "code",
   "execution_count": null,
   "metadata": {},
   "outputs": [],
   "source": [
    "qC = Boost(qC, 10)\n",
    "show_variational_posterior_predictive(qC)"
   ]
  },
  {
   "cell_type": "code",
   "execution_count": null,
   "metadata": {},
   "outputs": [],
   "source": [
    "qC = Boost(qC, 10)\n",
    "show_variational_posterior_predictive(qC)"
   ]
  },
  {
   "cell_type": "code",
   "execution_count": null,
   "metadata": {},
   "outputs": [],
   "source": [
    "qC = Boost(qC, 10)\n",
    "show_variational_posterior_predictive(qC)"
   ]
  },
  {
   "cell_type": "code",
   "execution_count": null,
   "metadata": {},
   "outputs": [],
   "source": [
    "qC = Boost(qC, 10)\n",
    "show_variational_posterior_predictive(qC)"
   ]
  },
  {
   "cell_type": "code",
   "execution_count": null,
   "metadata": {},
   "outputs": [],
   "source": [
    "qC = Boost(qC, 10)\n",
    "show_variational_posterior_predictive(qC)"
   ]
  },
  {
   "cell_type": "code",
   "execution_count": null,
   "metadata": {},
   "outputs": [],
   "source": [
    "qC = Boost(qC, 10)\n",
    "show_variational_posterior_predictive(qC)"
   ]
  },
  {
   "cell_type": "code",
   "execution_count": null,
   "metadata": {},
   "outputs": [],
   "source": [
    "qC = Boost(qC, 10)\n",
    "show_variational_posterior_predictive(qC)"
   ]
  },
  {
   "cell_type": "code",
   "execution_count": null,
   "metadata": {},
   "outputs": [],
   "source": [
    "qC = Boost(qC, 10)\n",
    "show_variational_posterior_predictive(qC)"
   ]
  },
  {
   "cell_type": "code",
   "execution_count": null,
   "metadata": {},
   "outputs": [],
   "source": [
    "qC = Boost(qC, 10)\n",
    "show_variational_posterior_predictive(qC)"
   ]
  },
  {
   "cell_type": "code",
   "execution_count": null,
   "metadata": {},
   "outputs": [],
   "source": [
    "qC = Boost(qC, 10)\n",
    "show_variational_posterior_predictive(qC)"
   ]
  },
  {
   "cell_type": "code",
   "execution_count": null,
   "metadata": {},
   "outputs": [],
   "source": [
    "qC = Boost(qC, 10)\n",
    "show_variational_posterior_predictive(qC)"
   ]
  },
  {
   "cell_type": "code",
   "execution_count": null,
   "metadata": {},
   "outputs": [],
   "source": [
    "qC = Boost(qC, 10)\n",
    "show_variational_posterior_predictive(qC)"
   ]
  },
  {
   "cell_type": "code",
   "execution_count": null,
   "metadata": {},
   "outputs": [],
   "source": [
    "qC = Boost(qC, 10)\n",
    "show_variational_posterior_predictive(qC)"
   ]
  },
  {
   "cell_type": "code",
   "execution_count": null,
   "metadata": {},
   "outputs": [],
   "source": [
    "qC = Boost(qC, 10)\n",
    "show_variational_posterior_predictive(qC)"
   ]
  },
  {
   "cell_type": "code",
   "execution_count": null,
   "metadata": {},
   "outputs": [],
   "source": [
    "qC = Boost(qC, 10)\n",
    "show_variational_posterior_predictive(qC)"
   ]
  },
  {
   "cell_type": "code",
   "execution_count": null,
   "metadata": {},
   "outputs": [],
   "source": [
    "qC = Boost(qC, 10)\n",
    "show_variational_posterior_predictive(qC)"
   ]
  },
  {
   "cell_type": "code",
   "execution_count": null,
   "metadata": {},
   "outputs": [],
   "source": [
    "qC = Boost(qC, 10)\n",
    "show_variational_posterior_predictive(qC)"
   ]
  },
  {
   "cell_type": "code",
   "execution_count": null,
   "metadata": {},
   "outputs": [],
   "source": [
    "qC.proportions"
   ]
  }
 ],
 "metadata": {
  "kernelspec": {
   "display_name": "Python 3",
   "language": "python",
   "name": "python3"
  },
  "language_info": {
   "codemirror_mode": {
    "name": "ipython",
    "version": 3
   },
   "file_extension": ".py",
   "mimetype": "text/x-python",
   "name": "python",
   "nbconvert_exporter": "python",
   "pygments_lexer": "ipython3",
   "version": "3.7.5"
  }
 },
 "nbformat": 4,
 "nbformat_minor": 2
}
