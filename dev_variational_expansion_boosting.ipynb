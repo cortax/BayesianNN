{
 "cells": [
  {
   "cell_type": "code",
   "execution_count": 1,
   "metadata": {},
   "outputs": [],
   "source": [
    "import numpy as np\n",
    "import math\n",
    "import torch\n",
    "from torch import nn\n",
    "from torch import functional as F\n",
    "import scipy.stats as stats\n",
    "import matplotlib\n",
    "import matplotlib.pyplot as plt\n",
    "from livelossplot import PlotLosses\n",
    "from Inference.Variational import MeanFieldVariationalDistribution\n",
    "from Inference.VariationalBoosting import MeanFieldVariationalMixtureDistribution\n",
    "from Tools.NNtools import *"
   ]
  },
  {
   "cell_type": "code",
   "execution_count": 2,
   "metadata": {},
   "outputs": [
    {
     "data": {
      "text/plain": [
       "device(type='cpu')"
      ]
     },
     "execution_count": 2,
     "metadata": {},
     "output_type": "execute_result"
    }
   ],
   "source": [
    "device = torch.device('cuda:0' if torch.cuda.is_available() else 'cpu')\n",
    "device"
   ]
  },
  {
   "cell_type": "code",
   "execution_count": null,
   "metadata": {},
   "outputs": [],
   "source": []
  },
  {
   "cell_type": "code",
   "execution_count": 3,
   "metadata": {},
   "outputs": [],
   "source": [
    "# load data and make it in proper shape\n",
    "data = torch.load('Data/foong_data.pt')\n",
    "x_data = data[0].to(device)\n",
    "y_data = data[1].to(device)\n",
    "y_data = y_data.unsqueeze(-1)"
   ]
  },
  {
   "cell_type": "code",
   "execution_count": 4,
   "metadata": {},
   "outputs": [],
   "source": [
    "model = nn.Sequential( nn.Linear(1, 50),\n",
    "                       nn.Tanh(), \n",
    "                       nn.Linear(50, 1),\n",
    "                     ).to(device)"
   ]
  },
  {
   "cell_type": "code",
   "execution_count": 5,
   "metadata": {},
   "outputs": [],
   "source": [
    "param_count = get_param(model).shape[0]"
   ]
  },
  {
   "cell_type": "code",
   "execution_count": 6,
   "metadata": {},
   "outputs": [],
   "source": [
    "flip_parameters_to_tensors(model)"
   ]
  },
  {
   "cell_type": "code",
   "execution_count": null,
   "metadata": {},
   "outputs": [],
   "source": []
  },
  {
   "cell_type": "code",
   "execution_count": 7,
   "metadata": {},
   "outputs": [],
   "source": [
    "prior = MeanFieldVariationalDistribution(param_count, sigma=1.0, device=device)\n",
    "prior.mu.requires_grad = False\n",
    "prior.rho.requires_grad = False"
   ]
  },
  {
   "cell_type": "code",
   "execution_count": 8,
   "metadata": {},
   "outputs": [],
   "source": [
    "def logprior(x):\n",
    "    return prior.log_prob(x)"
   ]
  },
  {
   "cell_type": "code",
   "execution_count": 9,
   "metadata": {},
   "outputs": [],
   "source": [
    "def loglikelihood(theta, model, x, y, sigma_noise):\n",
    "    def _log_norm(x, mu, std):\n",
    "        return -0.5 * torch.log(2*np.pi*std**2) -(0.5 * (1/(std**2))* (x-mu)**2)\n",
    "    #set_param(model, theta)\n",
    "    set_all_parameters(model, theta)\n",
    "    y_pred = model(x)\n",
    "    L = _log_norm(y_pred, y, torch.tensor([sigma_noise],device=device))\n",
    "    return torch.sum(L).unsqueeze(-1)"
   ]
  },
  {
   "cell_type": "code",
   "execution_count": 10,
   "metadata": {},
   "outputs": [],
   "source": [
    "def logposterior(theta, model, x, y, sigma_noise):\n",
    "    return logprior(theta) + loglikelihood(theta, model, x, y, sigma_noise)"
   ]
  },
  {
   "cell_type": "code",
   "execution_count": 11,
   "metadata": {},
   "outputs": [],
   "source": [
    "def show_variational_posterior_predictive(q):\n",
    "    x_test = torch.linspace(-2.0, 2.0).unsqueeze(1).to(device)\n",
    "    # Sampling the distribution over Neural Networks 1000 times, and plotting with transparency to make it appear as a smooth distribution\n",
    "    fig, ax = plt.subplots()\n",
    "    fig.set_size_inches(11.7, 8.27)\n",
    "    plt.xlim(-2, 2) \n",
    "    plt.ylim(-4, 4) \n",
    "    plt.scatter(x_data.cpu(), y_data.cpu())\n",
    "    for _ in range(1000):\n",
    "        z = q.sample()\n",
    "        set_all_parameters(model, z)\n",
    "        y_test = model(x_test)\n",
    "\n",
    "        plt.plot(x_test.detach().cpu().numpy(), y_test.squeeze(0).detach().cpu().numpy(), alpha=0.05, linewidth=1, color='lightblue')"
   ]
  },
  {
   "cell_type": "code",
   "execution_count": 54,
   "metadata": {},
   "outputs": [],
   "source": [
    "std = torch.distributions.Gamma(torch.tensor([1.0]), torch.tensor([1.0])).sample()[0].float()\n",
    "theta = torch.nn.Parameter( torch.empty([1,param_count],device=device).normal_(std=std), requires_grad=True)"
   ]
  },
  {
   "cell_type": "code",
   "execution_count": 55,
   "metadata": {},
   "outputs": [],
   "source": [
    "optimizer = torch.optim.Adam([theta], lr=0.01)\n",
    "scheduler = torch.optim.lr_scheduler.ReduceLROnPlateau(optimizer, patience=200, factor=0.5, threshold=1e-5, threshold_mode='abs' )"
   ]
  },
  {
   "cell_type": "code",
   "execution_count": 56,
   "metadata": {},
   "outputs": [
    {
     "data": {
      "image/png": "[encoded data removed]",
      "text/plain": [
       "<Figure size 864x576 with 2 Axes>"
      ]
     },
     "metadata": {
      "needs_background": "light"
     },
     "output_type": "display_data"
    },
    {
     "name": "stdout",
     "output_type": "stream",
     "text": [
      "loss:\n",
      "training   (min:  -24.346, max: 2169.963, cur:  -24.346)\n",
      "\n",
      "learning rate:\n",
      "training   (min:    0.000, max:    0.010, cur:    0.000)\n"
     ]
    },
    {
     "data": {
      "text/plain": [
       "tensor([[ 1.2183e-01, -3.4291e-01,  1.5893e+00,  2.2206e+00,  1.5207e-01,\n",
       "          2.8429e-02,  5.5059e-03,  1.0774e-03,  2.1098e-04,  4.1299e-05,\n",
       "          8.0889e-06,  1.5864e-06,  3.3176e-07,  1.7342e-07,  5.8907e-07,\n",
       "          2.9508e-06,  1.5067e-05,  7.6986e-05,  3.9320e-04,  2.0095e-03,\n",
       "          1.0301e-02,  5.4480e-02,  4.4427e-01,  2.2815e+00, -2.1921e+00,\n",
       "         -1.5194e-01, -2.8406e-02, -5.5014e-03, -1.0765e-03, -2.1082e-04,\n",
       "         -4.1274e-05, -8.0820e-06, -1.5808e-06, -3.0948e-07, -6.0472e-08,\n",
       "         -1.1830e-08, -2.2927e-09, -3.5754e-10,  3.9484e-10,  2.4554e-09,\n",
       "          1.2641e-08,  6.4602e-08,  3.3022e-07,  1.6869e-06,  8.6148e-06,\n",
       "          4.3981e-05,  2.2450e-04,  1.1465e-03,  5.8607e-03,  3.0368e-02,\n",
       "          1.7051e-01, -5.1646e-01,  2.8859e+00, -2.7038e-03, -1.0839e-02,\n",
       "         -2.1920e-03, -4.2983e-04, -8.4190e-05, -1.6479e-05, -3.2273e-06,\n",
       "         -6.3299e-07, -1.3235e-07, -6.9189e-08, -2.3499e-07, -1.1774e-06,\n",
       "         -6.0120e-06, -3.0716e-05, -1.5689e-04, -8.0152e-04, -4.1018e-03,\n",
       "         -2.1534e-02, -1.4049e-01, -1.8416e+00, -2.6209e+00,  2.8510e-03,\n",
       "          1.0831e-02,  2.1903e-03,  4.2949e-04,  8.4130e-05,  1.6470e-05,\n",
       "          3.2236e-06,  6.3079e-07,  1.2347e-07,  2.4129e-08,  4.7188e-09,\n",
       "          9.1469e-10,  1.4261e-10, -1.5752e-10, -9.7956e-10, -5.0429e-09,\n",
       "         -2.5777e-08, -1.3175e-07, -6.7312e-07, -3.4378e-06, -1.7550e-05,\n",
       "         -8.9586e-05, -4.5743e-04, -2.3367e-03, -1.2080e-02, -6.4477e-02,\n",
       "         -3.2230e-44, -2.5491e-39, -1.6816e-44,  1.2236e-36, -5.6052e-44,\n",
       "         -2.9427e-44, -2.1019e-44,  1.8217e-44, -5.0447e-44,  2.6674e-37,\n",
       "          3.6188e-40,  5.4651e-44,  1.4013e-44,  4.7644e-44,  3.9236e-44,\n",
       "          1.2612e-44, -4.2039e-45,  1.0793e-39,  5.6052e-44,  7.1466e-44,\n",
       "          2.8218e-36,  2.6625e-44, -2.8026e-45,  5.2829e-43,  7.0065e-44,\n",
       "         -1.2612e-44, -4.2039e-44, -1.8217e-44, -2.5223e-44,  9.8091e-45,\n",
       "          7.0065e-44,  7.2868e-44,  7.2856e-38, -5.3249e-44,  7.0065e-45,\n",
       "         -2.9427e-44, -5.1848e-44,  3.5873e-43, -2.7512e-41,  7.0100e-41,\n",
       "          1.4013e-45, -1.6759e-34,  6.5861e-44, -1.2719e-36, -3.7835e-44,\n",
       "          3.7827e-41, -6.8803e-36, -3.5032e-44, -4.6243e-44,  2.9427e-44,\n",
       "          3.6656e-40]])"
      ]
     },
     "execution_count": 56,
     "metadata": {},
     "output_type": "execute_result"
    }
   ],
   "source": [
    "%matplotlib inline\n",
    "liveloss = PlotLosses()\n",
    "for t in range(1000000):\n",
    "    logs = {}\n",
    "    optimizer.zero_grad()\n",
    "\n",
    "    L = -torch.mean(logposterior(theta, model, x_data, y_data, sigma_noise=0.1))\n",
    "    L.backward()\n",
    "\n",
    "    learning_rate = optimizer.param_groups[0]['lr']\n",
    "\n",
    "    logs['loss'] = L.detach().clone().cpu().numpy()\n",
    "    logs['learning rate'] = learning_rate\n",
    "    liveloss.update(logs)\n",
    "\n",
    "    if t % 100 == 0:\n",
    "        liveloss.draw()\n",
    "\n",
    "    scheduler.step(L.detach().clone().cpu().numpy())\n",
    "    optimizer.step()\n",
    "\n",
    "    if learning_rate < 0.0001:\n",
    "        break\n",
    "theta.detach().clone()"
   ]
  },
  {
   "cell_type": "code",
   "execution_count": 57,
   "metadata": {},
   "outputs": [
    {
     "data": {
      "text/plain": [
       "[<matplotlib.lines.Line2D at 0x23aec898b38>]"
      ]
     },
     "execution_count": 57,
     "metadata": {},
     "output_type": "execute_result"
    },
    {
     "data": {
      "image/png": "[encoded data removed]",
      "text/plain": [
       "<Figure size 842.4x595.44 with 1 Axes>"
      ]
     },
     "metadata": {
      "needs_background": "light"
     },
     "output_type": "display_data"
    }
   ],
   "source": [
    "x_test = torch.linspace(-2.0, 2.0).unsqueeze(1).to(device)\n",
    "# Sampling the distribution over Neural Networks 1000 times, and plotting with transparency to make it appear as a smooth distribution\n",
    "fig, ax = plt.subplots()\n",
    "fig.set_size_inches(11.7, 8.27)\n",
    "plt.xlim(-2, 2) \n",
    "plt.ylim(-4, 4) \n",
    "plt.scatter(x_data.cpu(), y_data.cpu())\n",
    "\n",
    "z = theta\n",
    "set_all_parameters(model, z)\n",
    "y_test = model(x_test)\n",
    "\n",
    "plt.plot(x_test.detach().cpu().numpy(), y_test.squeeze(0).detach().cpu().numpy(), alpha=1.0, linewidth=1, color='lightblue')"
   ]
  },
  {
   "cell_type": "code",
   "execution_count": null,
   "metadata": {},
   "outputs": [],
   "source": []
  },
  {
   "cell_type": "code",
   "execution_count": null,
   "metadata": {},
   "outputs": [],
   "source": []
  },
  {
   "cell_type": "code",
   "execution_count": 116,
   "metadata": {},
   "outputs": [],
   "source": [
    "def Boost(qC, n_samples_ELBO):\n",
    "    qC.requires_grad_(False)\n",
    "    for c in qC.components:\n",
    "        c.mu.detach_()\n",
    "        c.rho.detach_()\n",
    "        \n",
    "    unbounded_prop_new = torch.tensor(2.0, device=device).requires_grad_(True)\n",
    "    q_new = MeanFieldVariationalDistribution(param_count, sigma=0.0000001, device=device)\n",
    "    std = torch.distributions.Gamma(torch.tensor([1.0]), torch.tensor([1.0])).sample()[0].float()\n",
    "    q_new.mu = nn.Parameter( torch.empty([1,param_count],device=device).normal_(std=std), requires_grad=True)\n",
    "    q_new.rho.requires_grad = False\n",
    "    q_new.mu.requires_grad = True\n",
    "\n",
    "    \n",
    "    optimizer = torch.optim.Adam(q.parameters(), lr=0.01)\n",
    "    scheduler = torch.optim.lr_scheduler.ReduceLROnPlateau(optimizer, patience=100, factor=0.9)\n",
    "    \n",
    "    liveloss = PlotLosses()\n",
    "    for t in range(10000):\n",
    "        logs = {}\n",
    "        optimizer.zero_grad()\n",
    "\n",
    "        Ln = []\n",
    "        for j in range(10):\n",
    "            z = q.sample(1)\n",
    "            LQ = q.log_prob(z)\n",
    "            LP = logposterior(z, model, x_data, y_data, sigma_noise=0.1)\n",
    "            Ln.append(LQ - LP)\n",
    "\n",
    "        L = torch.stack(Ln).mean()\n",
    "        L.backward()\n",
    "\n",
    "        learning_rate = optimizer.param_groups[0]['lr']\n",
    "\n",
    "        scheduler.step(L.detach().clone().cpu().numpy())\n",
    "        logs['loss'] = L.detach().clone().cpu().numpy()\n",
    "        logs['learning rate'] = learning_rate\n",
    "        liveloss.update(logs)\n",
    "\n",
    "        if t % 100 == 0:\n",
    "            liveloss.draw()\n",
    "\n",
    "        optimizer.step()\n",
    "\n",
    "        if learning_rate < 0.001:\n",
    "            break\n",
    "    \n",
    "    \n",
    "    \n",
    "    q_new.rho.requires_grad = True\n",
    "    q_new.mu.requires_grad = False\n",
    "    \n",
    "    optimizer = torch.optim.Adam(list(q_new.parameters())+[unbounded_prop_new], lr=0.01)\n",
    "    scheduler = torch.optim.lr_scheduler.ReduceLROnPlateau(optimizer, patience=100, factor=0.9)\n",
    "\n",
    "    liveloss = PlotLosses()\n",
    "    for t in range(1000000):\n",
    "        logs = {}\n",
    "        optimizer.zero_grad()\n",
    "\n",
    "        Ln = []\n",
    "        for j in range(n_samples_ELBO):\n",
    "            Xc = qC.sample(1)\n",
    "            Xnew = q_new.sample(1)\n",
    "            prop_new = torch.sigmoid(unbounded_prop_new)\n",
    "\n",
    "            v = -(1-prop_new)*torch.mean(logposterior(Xc, model, x_data, y_data, sigma_noise=0.1) - qC.log_prob_augmented(Xc, q_new, unbounded_prop_new)) - \\\n",
    "            prop_new*torch.mean(logposterior(Xnew, model, x_data, y_data, sigma_noise=0.1) - qC.log_prob_augmented(Xnew, q_new, unbounded_prop_new))\n",
    "\n",
    "            Ln.append(v)\n",
    "            \n",
    "        L = torch.stack(Ln).mean()\n",
    "        L.backward()\n",
    "\n",
    "        learning_rate = optimizer.param_groups[0]['lr']\n",
    "\n",
    "        scheduler.step(L.detach().clone().cpu().numpy())\n",
    "        logs['ELBO'] = L.detach().clone().cpu().numpy()\n",
    "        logs['learning rate'] = learning_rate\n",
    "        liveloss.update(logs)\n",
    "\n",
    "        if t % 100 == 0:\n",
    "            liveloss.draw()\n",
    "\n",
    "        optimizer.step()\n",
    "\n",
    "        if learning_rate < 0.00001:\n",
    "            break\n",
    "\n",
    "    components = qC.components + [q_new]\n",
    "    proportions = torch.cat([(1-torch.sigmoid(unbounded_prop_new))*qC.proportions, torch.tensor([torch.sigmoid(unbounded_prop_new)],device=device)]).detach()\n",
    "    qC_new = MeanFieldVariationalMixtureDistribution(proportions, components, device=device)\n",
    "    \n",
    "    return qC_new"
   ]
  },
  {
   "cell_type": "code",
   "execution_count": null,
   "metadata": {},
   "outputs": [],
   "source": []
  },
  {
   "cell_type": "code",
   "execution_count": null,
   "metadata": {},
   "outputs": [],
   "source": []
  },
  {
   "cell_type": "markdown",
   "metadata": {},
   "source": [
    "# Variational Distribution #"
   ]
  },
  {
   "cell_type": "code",
   "execution_count": 118,
   "metadata": {},
   "outputs": [
    {
     "data": {
      "image/png": "[encoded data removed]",
      "text/plain": [
       "<Figure size 864x576 with 2 Axes>"
      ]
     },
     "metadata": {
      "needs_background": "light"
     },
     "output_type": "display_data"
    },
    {
     "name": "stdout",
     "output_type": "stream",
     "text": [
      "ELBO:\n",
      "training   (min:  151.404, max: 14412.768, cur:  182.605)\n",
      "\n",
      "learning rate:\n",
      "training   (min:    0.001, max:    0.010, cur:    0.001)\n"
     ]
    }
   ],
   "source": [
    "q = MeanFieldVariationalDistribution(param_count, sigma=0.0000001, device=device)\n",
    "#theta = MAP()\n",
    "#q.mu = nn.Parameter(theta.squeeze(0).to(device), requires_grad=True) \n",
    "std = torch.distributions.Gamma(torch.tensor([1.0]), torch.tensor([1.0])).sample()[0].float()\n",
    "q.mu = nn.Parameter( torch.empty([1,param_count],device=device).normal_(std=std), requires_grad=True)\n",
    "\n",
    "q.rho.requires_grad = True\n",
    "q.mu.requires_grad = True\n",
    "\n",
    "n_samples_ELBO = 25\n",
    "\n",
    "optimizer = torch.optim.Adam(q.parameters(), lr=0.01)\n",
    "scheduler = torch.optim.lr_scheduler.ReduceLROnPlateau(optimizer, patience=100, factor=0.9)\n",
    "\n",
    "%matplotlib inline\n",
    "liveloss = PlotLosses()\n",
    "for t in range(100000):\n",
    "    logs = {}\n",
    "    optimizer.zero_grad()\n",
    "\n",
    "    Ln = []\n",
    "    for j in range(n_samples_ELBO):\n",
    "        z = q.sample(1)\n",
    "        LQ = q.log_prob(z)\n",
    "        LP = logposterior(z, model, x_data, y_data, sigma_noise=0.1)\n",
    "        Ln.append(LQ - LP)\n",
    "\n",
    "    L = torch.stack(Ln).mean()\n",
    "    L.backward()\n",
    "    \n",
    "    learning_rate = optimizer.param_groups[0]['lr']\n",
    "    \n",
    "    scheduler.step(L.detach().clone().cpu().numpy())\n",
    "    logs['ELBO'] = L.detach().clone().cpu().numpy()\n",
    "    logs['learning rate'] = learning_rate\n",
    "    liveloss.update(logs)\n",
    "    \n",
    "    if t % 10 == 0:\n",
    "        liveloss.draw()\n",
    "\n",
    "    optimizer.step()\n",
    "    \n",
    "    if learning_rate < 0.001:\n",
    "        break"
   ]
  },
  {
   "cell_type": "code",
   "execution_count": null,
   "metadata": {},
   "outputs": [],
   "source": []
  },
  {
   "cell_type": "code",
   "execution_count": 119,
   "metadata": {},
   "outputs": [],
   "source": [
    "components = [q]\n",
    "proportions = torch.tensor([1.0], device=device)\n",
    "qC = MeanFieldVariationalMixtureDistribution(proportions, components, device=device)"
   ]
  },
  {
   "cell_type": "code",
   "execution_count": null,
   "metadata": {},
   "outputs": [],
   "source": []
  },
  {
   "cell_type": "code",
   "execution_count": null,
   "metadata": {},
   "outputs": [],
   "source": []
  },
  {
   "cell_type": "code",
   "execution_count": 120,
   "metadata": {},
   "outputs": [
    {
     "data": {
      "image/png": "[encoded data removed]",
      "text/plain": [
       "<Figure size 842.4x595.44 with 1 Axes>"
      ]
     },
     "metadata": {
      "needs_background": "light"
     },
     "output_type": "display_data"
    }
   ],
   "source": [
    "x_test = torch.linspace(-2.0, 2.0).unsqueeze(1).to(device)\n",
    "# Sampling the distribution over Neural Networks 1000 times, and plotting with transparency to make it appear as a smooth distribution\n",
    "fig, ax = plt.subplots()\n",
    "fig.set_size_inches(11.7, 8.27)\n",
    "plt.xlim(-2, 2) \n",
    "plt.ylim(-4, 4) \n",
    "plt.scatter(x_data.cpu(), y_data.cpu())\n",
    "for _ in range(1000):\n",
    "    z = qC.sample()\n",
    "    set_all_parameters(model, z)\n",
    "    y_test = model(x_test)\n",
    "\n",
    "    plt.plot(x_test.detach().cpu().numpy(), y_test.squeeze(0).detach().cpu().numpy(), alpha=0.05, linewidth=1, color='lightblue')"
   ]
  },
  {
   "cell_type": "code",
   "execution_count": null,
   "metadata": {},
   "outputs": [],
   "source": []
  },
  {
   "cell_type": "code",
   "execution_count": null,
   "metadata": {},
   "outputs": [],
   "source": [
    "qC.proportions"
   ]
  },
  {
   "cell_type": "code",
   "execution_count": null,
   "metadata": {},
   "outputs": [],
   "source": [
    "\n",
    "qC = Boost(qC, 50)"
   ]
  },
  {
   "cell_type": "code",
   "execution_count": null,
   "metadata": {},
   "outputs": [],
   "source": [
    "qC = Boost(qC, 25)"
   ]
  },
  {
   "cell_type": "code",
   "execution_count": null,
   "metadata": {},
   "outputs": [],
   "source": [
    "qC = Boost(qC, 10)"
   ]
  },
  {
   "cell_type": "code",
   "execution_count": null,
   "metadata": {},
   "outputs": [],
   "source": [
    "qC = Boost(qC, 10)"
   ]
  },
  {
   "cell_type": "code",
   "execution_count": null,
   "metadata": {},
   "outputs": [],
   "source": [
    "qC = Boost(qC, 10)"
   ]
  },
  {
   "cell_type": "code",
   "execution_count": null,
   "metadata": {},
   "outputs": [],
   "source": [
    "qC = Boost(qC, 10)"
   ]
  },
  {
   "cell_type": "code",
   "execution_count": null,
   "metadata": {},
   "outputs": [],
   "source": [
    "    "
   ]
  },
  {
   "cell_type": "code",
   "execution_count": null,
   "metadata": {},
   "outputs": [],
   "source": [
    "qC = Boost(qC, 10)\n",
    "show_variational_posterior_predictive(qC)"
   ]
  },
  {
   "cell_type": "code",
   "execution_count": null,
   "metadata": {},
   "outputs": [],
   "source": [
    "qC = Boost(qC, 10)\n",
    "show_variational_posterior_predictive(qC)"
   ]
  },
  {
   "cell_type": "code",
   "execution_count": null,
   "metadata": {},
   "outputs": [],
   "source": [
    "qC = Boost(qC, 10)\n",
    "show_variational_posterior_predictive(qC)"
   ]
  },
  {
   "cell_type": "code",
   "execution_count": null,
   "metadata": {},
   "outputs": [],
   "source": [
    "qC = Boost(qC, 10)\n",
    "show_variational_posterior_predictive(qC)"
   ]
  },
  {
   "cell_type": "code",
   "execution_count": null,
   "metadata": {},
   "outputs": [],
   "source": [
    "qC = Boost(qC, 10)\n",
    "show_variational_posterior_predictive(qC)"
   ]
  },
  {
   "cell_type": "code",
   "execution_count": null,
   "metadata": {},
   "outputs": [],
   "source": [
    "qC = Boost(qC, 10)\n",
    "show_variational_posterior_predictive(qC)"
   ]
  },
  {
   "cell_type": "code",
   "execution_count": null,
   "metadata": {},
   "outputs": [],
   "source": [
    "qC = Boost(qC, 10)\n",
    "show_variational_posterior_predictive(qC)"
   ]
  },
  {
   "cell_type": "code",
   "execution_count": null,
   "metadata": {},
   "outputs": [],
   "source": [
    "qC = Boost(qC, 10)\n",
    "show_variational_posterior_predictive(qC)"
   ]
  },
  {
   "cell_type": "code",
   "execution_count": null,
   "metadata": {},
   "outputs": [],
   "source": [
    "qC = Boost(qC, 10)\n",
    "show_variational_posterior_predictive(qC)"
   ]
  },
  {
   "cell_type": "code",
   "execution_count": null,
   "metadata": {},
   "outputs": [],
   "source": [
    "qC = Boost(qC, 10)\n",
    "show_variational_posterior_predictive(qC)"
   ]
  },
  {
   "cell_type": "code",
   "execution_count": null,
   "metadata": {},
   "outputs": [],
   "source": [
    "qC = Boost(qC, 10)\n",
    "show_variational_posterior_predictive(qC)"
   ]
  },
  {
   "cell_type": "code",
   "execution_count": null,
   "metadata": {},
   "outputs": [],
   "source": [
    "qC = Boost(qC, 10)\n",
    "show_variational_posterior_predictive(qC)"
   ]
  },
  {
   "cell_type": "code",
   "execution_count": null,
   "metadata": {},
   "outputs": [],
   "source": [
    "qC = Boost(qC, 10)\n",
    "show_variational_posterior_predictive(qC)"
   ]
  },
  {
   "cell_type": "code",
   "execution_count": null,
   "metadata": {},
   "outputs": [],
   "source": [
    "qC = Boost(qC, 10)\n",
    "show_variational_posterior_predictive(qC)"
   ]
  },
  {
   "cell_type": "code",
   "execution_count": null,
   "metadata": {},
   "outputs": [],
   "source": [
    "qC = Boost(qC, 10)\n",
    "show_variational_posterior_predictive(qC)"
   ]
  },
  {
   "cell_type": "code",
   "execution_count": null,
   "metadata": {},
   "outputs": [],
   "source": [
    "qC = Boost(qC, 10)\n",
    "show_variational_posterior_predictive(qC)"
   ]
  },
  {
   "cell_type": "code",
   "execution_count": null,
   "metadata": {},
   "outputs": [],
   "source": [
    "qC = Boost(qC, 10)\n",
    "show_variational_posterior_predictive(qC)"
   ]
  },
  {
   "cell_type": "code",
   "execution_count": null,
   "metadata": {},
   "outputs": [],
   "source": [
    "qC = Boost(qC, 10)\n",
    "show_variational_posterior_predictive(qC)"
   ]
  },
  {
   "cell_type": "code",
   "execution_count": null,
   "metadata": {},
   "outputs": [],
   "source": [
    "qC = Boost(qC, 10)\n",
    "show_variational_posterior_predictive(qC)"
   ]
  },
  {
   "cell_type": "code",
   "execution_count": null,
   "metadata": {},
   "outputs": [],
   "source": [
    "qC.proportions"
   ]
  }
 ],
 "metadata": {
  "kernelspec": {
   "display_name": "Python 3",
   "language": "python",
   "name": "python3"
  },
  "language_info": {
   "codemirror_mode": {
    "name": "ipython",
    "version": 3
   },
   "file_extension": ".py",
   "mimetype": "text/x-python",
   "name": "python",
   "nbconvert_exporter": "python",
   "pygments_lexer": "ipython3",
   "version": "3.7.3"
  }
 },
 "nbformat": 4,
 "nbformat_minor": 2
}
