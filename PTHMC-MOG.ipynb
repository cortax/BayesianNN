{
 "cells": [
  {
   "cell_type": "code",
   "execution_count": 453,
   "metadata": {},
   "outputs": [],
   "source": [
    "from torch import nn\n",
    "import torch\n",
    "import numpy as np\n",
    "from torch.distributions.multivariate_normal import MultivariateNormal\n",
    "from torch.distributions.categorical import Categorical"
   ]
  },
  {
   "cell_type": "code",
   "execution_count": 454,
   "metadata": {},
   "outputs": [],
   "source": [
    "import matplotlib.pyplot as plt"
   ]
  },
  {
   "cell_type": "code",
   "execution_count": null,
   "metadata": {},
   "outputs": [],
   "source": []
  },
  {
   "cell_type": "code",
   "execution_count": 455,
   "metadata": {},
   "outputs": [],
   "source": [
    "c = [MultivariateNormal(torch.tensor([-5.0, 5.0]), torch.eye(2)*0.01**2),\n",
    "    MultivariateNormal(torch.tensor([5.0, 5.0]), torch.eye(2)*0.01**2),\n",
    "    MultivariateNormal(torch.tensor([5.0, -5.0]), torch.eye(2)*0.01**2),\n",
    "    MultivariateNormal(torch.tensor([-5.0, -5.0]), torch.eye(2)*0.01**2)]\n",
    "\n",
    "pi = torch.tensor([0.25, 0.25, 0.25, 0.25])\n",
    "\n",
    "def logtarget(x):\n",
    "    assert x.shape[1] == 2\n",
    "    logProbaComponent = torch.stack([c[i].log_prob(x) + pi[i].log() for i in range(len(c))])\n",
    "    return torch.logsumexp(logProbaComponent, 0)"
   ]
  },
  {
   "cell_type": "code",
   "execution_count": null,
   "metadata": {},
   "outputs": [],
   "source": []
  },
  {
   "cell_type": "code",
   "execution_count": 456,
   "metadata": {},
   "outputs": [],
   "source": [
    "log_prob_func = logtarget"
   ]
  },
  {
   "cell_type": "code",
   "execution_count": null,
   "metadata": {},
   "outputs": [],
   "source": []
  },
  {
   "cell_type": "code",
   "execution_count": 457,
   "metadata": {},
   "outputs": [],
   "source": [
    "def leapfrog(params, momentum, log_prob_func, temperature, steps=10, step_size=0.1):\n",
    "    def params_grad(p):\n",
    "        p = p.detach().requires_grad_()\n",
    "        global_log_prob = (log_prob_func(params)/temperature).sum()\n",
    "        return torch.autograd.grad(global_log_prob, params)[0]\n",
    "\n",
    "    momentum += 0.5 * step_size * params_grad(params)\n",
    "    for n in range(steps):\n",
    "        params = params + step_size * momentum\n",
    "        p_grad = params_grad(params)\n",
    "        momentum += step_size * p_grad\n",
    "    momentum -= 0.5 * step_size * p_grad.clone()\n",
    "    return params, momentum"
   ]
  },
  {
   "cell_type": "code",
   "execution_count": 458,
   "metadata": {},
   "outputs": [],
   "source": [
    "def sample(log_prob_func, params_init, num_samples=10, num_steps_per_sample=10, step_size=0.1, burn=0):\n",
    "\n",
    "    params = params_init.clone().requires_grad_()\n",
    "    ret_params = [params.clone()]\n",
    "    num_rejected = 0\n",
    "    \n",
    "    for n in range(num_samples):\n",
    "        momentum = gibbs(params)\n",
    "\n",
    "        ham = hamiltonian(params, momentum, log_prob_func, temperature)\n",
    "\n",
    "        leapfrog_params, leapfrog_momenta = leapfrog(params, momentum, log_prob_func, steps=num_steps_per_sample, step_size=step_size)\n",
    "\n",
    "        params = leapfrog_params[-1].detach().requires_grad_()\n",
    "        momentum = leapfrog_momenta[-1]\n",
    "        new_ham = hamiltonian(params, momentum, log_prob_func, temperature)\n",
    "\n",
    "        rho = min(0., acceptance(ham, new_ham))\n",
    "        \n",
    "        if rho >= torch.log(torch.rand(1)):\n",
    "            if n > burn:\n",
    "                ret_params.extend(leapfrog_params)\n",
    "        else:\n",
    "            num_rejected += 1\n",
    "            params = ret_params[-1]\n",
    "            if n > burn:\n",
    "                leapfrog_params = ret_params[-num_steps_per_sample:] ### Might want to remove grad as wastes memory\n",
    "                ret_params.extend(leapfrog_params) # append the current sample to the chain\n",
    "\n",
    "    return list(map(lambda t: t.detach(), ret_params))"
   ]
  },
  {
   "cell_type": "code",
   "execution_count": 459,
   "metadata": {},
   "outputs": [],
   "source": [
    "def gibbs(params):\n",
    "    dist = torch.distributions.Normal(torch.zeros_like(params), torch.ones_like(params))    \n",
    "    return dist.sample()"
   ]
  },
  {
   "cell_type": "code",
   "execution_count": 460,
   "metadata": {},
   "outputs": [],
   "source": [
    "def hamiltonian(params, momentum, log_prob_func, temperature):\n",
    "    log_prob = log_prob_func(params)\n",
    "    potential = -log_prob/temperature\n",
    "    kinetic = 0.5 * (momentum**2).sum(dim=1)\n",
    "    hamiltonian = potential + kinetic\n",
    "    return hamiltonian"
   ]
  },
  {
   "cell_type": "code",
   "execution_count": null,
   "metadata": {},
   "outputs": [],
   "source": []
  },
  {
   "cell_type": "code",
   "execution_count": null,
   "metadata": {},
   "outputs": [],
   "source": [
    "\n",
    "\n",
    "\n"
   ]
  },
  {
   "cell_type": "code",
   "execution_count": null,
   "metadata": {},
   "outputs": [],
   "source": []
  },
  {
   "cell_type": "code",
   "execution_count": 461,
   "metadata": {},
   "outputs": [],
   "source": [
    "nb_chain = 50\n",
    "nb_iter = 5000\n",
    "nb_inner = 5\n",
    "\n",
    "nb_leapfrog = 25\n",
    "step_size = .01\n",
    "\n",
    "temperature = torch.linspace(torch.tensor(1.0).log(), torch.tensor(100000.0).log(), nb_chain).exp()\n",
    "\n",
    "state = torch.rand((nb_chain,2))*0.00000001\n",
    "acceptance = torch.zeros(nb_chain)\n",
    "swapCount = torch.zeros((nb_chain,))\n",
    "history = torch.zeros((nb_iter, nb_chain, 2))\n",
    "history[0] = state"
   ]
  },
  {
   "cell_type": "code",
   "execution_count": 462,
   "metadata": {},
   "outputs": [],
   "source": [
    "for t in range(1, nb_iter):\n",
    "    state = state.detach().clone()\n",
    "    params = state.detach().clone().requires_grad_()\n",
    "    \n",
    "    momentum = gibbs(params)\n",
    "    ham = hamiltonian(params, momentum, log_prob_func, temperature)\n",
    "\n",
    "    leapfrog_params, leapfrog_momenta = leapfrog(params, momentum, log_prob_func, temperature, steps=nb_leapfrog, step_size=step_size)\n",
    "\n",
    "    params = leapfrog_params.detach().clone().requires_grad_()\n",
    "    momentum = leapfrog_momenta\n",
    "    new_ham = hamiltonian(params, momentum, log_prob_func, temperature)\n",
    "\n",
    "    rho = -new_ham/temperature + ham/temperature\n",
    "    accept = torch.rand(ham.shape).log() < rho\n",
    "    \n",
    "    state[accept,:] = params[accept,:]\n",
    "    history[t] = state.detach().clone()\n",
    "    \n",
    "    acceptance += accept*1.0\n",
    "    \n",
    "    # SWAP PHASE\n",
    "    if t % nb_inner == 0:\n",
    "        logProba = logtarget(state)\n",
    "        for j in np.random.permutation(nb_chain-1):\n",
    "            T_left = temperature[j]\n",
    "            T_right = temperature[j+1]\n",
    "            LP_left = logProba[j]\n",
    "            LP_right = logProba[j+1]\n",
    "\n",
    "            logA = LP_left/T_right + LP_right/T_left \\\n",
    "                 - LP_left/T_left - LP_right/T_right\n",
    "\n",
    "            R = torch.exp(logA).cpu()\n",
    "\n",
    "            if torch.rand(1)[0] < R:\n",
    "                tmp = state[j,:].detach().clone() \n",
    "                state[j,:] = state[j+1,:].detach().clone() \n",
    "                state[j+1,:] = tmp\n",
    "\n",
    "                tmp = logProba[j].detach().clone() \n",
    "                logProba[j] = logProba[j+1].detach().clone() \n",
    "                logProba[j+1] = tmp\n",
    "\n",
    "                swapCount[j] += 1"
   ]
  },
  {
   "cell_type": "code",
   "execution_count": 463,
   "metadata": {},
   "outputs": [
    {
     "data": {
      "text/plain": [
       "tensor([0.8774, 0.9282, 0.9350, 0.9660, 0.9874, 0.9782, 0.9882, 0.9842, 0.9884,\n",
       "        0.9910, 0.9898, 0.9894, 0.9930, 0.9990, 0.9996, 0.9996, 1.0000, 1.0000,\n",
       "        1.0000, 1.0000, 1.0000, 1.0000, 1.0000, 1.0000, 1.0000, 1.0000, 1.0000,\n",
       "        1.0000, 1.0000, 1.0000, 1.0000, 1.0000, 1.0000, 1.0000, 1.0000, 1.0000,\n",
       "        1.0000, 1.0000, 1.0000, 1.0000, 1.0000, 1.0000, 1.0000, 1.0000, 1.0000,\n",
       "        1.0000, 1.0000, 1.0000, 1.0000, 1.0000])"
      ]
     },
     "execution_count": 463,
     "metadata": {},
     "output_type": "execute_result"
    }
   ],
   "source": [
    "acceptance/t"
   ]
  },
  {
   "cell_type": "code",
   "execution_count": 464,
   "metadata": {},
   "outputs": [
    {
     "data": {
      "text/plain": [
       "tensor([875., 869., 898., 871., 880., 883., 901., 866., 886., 890., 901., 866.,\n",
       "        883., 886., 888., 872., 869., 897., 904., 882., 891., 885., 871., 872.,\n",
       "        871., 881., 868., 883., 882., 885., 863., 885., 876., 872., 865., 900.,\n",
       "        870., 878., 881., 876., 869., 871., 896., 891., 877., 893., 908., 919.,\n",
       "        913.,   0.])"
      ]
     },
     "execution_count": 464,
     "metadata": {},
     "output_type": "execute_result"
    }
   ],
   "source": [
    "swapCount"
   ]
  },
  {
   "cell_type": "code",
   "execution_count": 465,
   "metadata": {},
   "outputs": [
    {
     "data": {
      "text/plain": [
       "[<matplotlib.lines.Line2D at 0x7f8810202a10>]"
      ]
     },
     "execution_count": 465,
     "metadata": {},
     "output_type": "execute_result"
    },
    {
     "data": {
      "image/png": "[encoded data removed]",
      "text/plain": [
       "<Figure size 720x576 with 1 Axes>"
      ]
     },
     "metadata": {
      "needs_background": "light"
     },
     "output_type": "display_data"
    }
   ],
   "source": [
    "fig = plt.figure(figsize=(10,8))\n",
    "plt.plot(logtarget(history[:,0,:]).detach().clone().cpu().numpy())"
   ]
  },
  {
   "cell_type": "code",
   "execution_count": 466,
   "metadata": {},
   "outputs": [
    {
     "data": {
      "image/png": "[encoded data removed]",
      "text/plain": [
       "<Figure size 720x576 with 1 Axes>"
      ]
     },
     "metadata": {
      "needs_background": "light"
     },
     "output_type": "display_data"
    }
   ],
   "source": [
    "fig = plt.figure(figsize=(10,8))\n",
    "chain = 0\n",
    "plt.plot(history[:,chain,0].detach().clone().cpu().numpy(),\n",
    "         history[:,chain,1].detach().clone().cpu().numpy(), \n",
    "         linewidth=1, \n",
    "         alpha=0.5)\n",
    "plt.axis([-10, 10, -10, 10])\n",
    "plt.grid()"
   ]
  },
  {
   "cell_type": "code",
   "execution_count": 467,
   "metadata": {},
   "outputs": [
    {
     "data": {
      "image/png": "[encoded data removed]",
      "text/plain": [
       "<Figure size 720x576 with 1 Axes>"
      ]
     },
     "metadata": {
      "needs_background": "light"
     },
     "output_type": "display_data"
    }
   ],
   "source": [
    "fig = plt.figure(figsize=(10,8))\n",
    "chain = 0\n",
    "plt.scatter(history[100:,chain,0].detach().clone().cpu().numpy(),\n",
    "            history[100:,chain,1].detach().clone().cpu().numpy())\n",
    "plt.axis([-10, 10, -10, 10])\n",
    "plt.grid()"
   ]
  },
  {
   "cell_type": "code",
   "execution_count": 468,
   "metadata": {},
   "outputs": [
    {
     "data": {
      "text/plain": [
       "tensor([[[ 8.6581e-09,  2.4373e-09],\n",
       "         [ 5.6379e-09,  3.4321e-09],\n",
       "         [ 4.4070e-09,  7.1619e-09],\n",
       "         ...,\n",
       "         [ 8.2999e-10,  4.9855e-09],\n",
       "         [ 3.8464e-09,  3.4494e-09],\n",
       "         [ 3.6466e-09,  9.3999e-09]],\n",
       "\n",
       "        [[ 8.6581e-09,  2.4373e-09],\n",
       "         [ 5.6379e-09,  3.4321e-09],\n",
       "         [ 4.4070e-09,  7.1619e-09],\n",
       "         ...,\n",
       "         [ 2.7103e-01, -6.4470e-01],\n",
       "         [ 4.0814e-01, -9.6183e-02],\n",
       "         [ 1.9588e-01,  4.5230e-01]],\n",
       "\n",
       "        [[ 8.6581e-09,  2.4373e-09],\n",
       "         [ 5.6379e-09,  3.4321e-09],\n",
       "         [ 4.4070e-09,  7.1619e-09],\n",
       "         ...,\n",
       "         [ 2.2930e-01, -6.1255e-01],\n",
       "         [ 2.3669e-01,  1.7952e-01],\n",
       "         [-3.3434e-01,  7.2733e-01]],\n",
       "\n",
       "        ...,\n",
       "\n",
       "        [[-5.0201e+00,  5.0063e+00],\n",
       "         [-4.9849e+00, -4.9853e+00],\n",
       "         [-4.9958e+00, -4.9815e+00],\n",
       "         ...,\n",
       "         [-5.3365e+00,  4.9210e+00],\n",
       "         [-5.0029e+00,  6.2967e+00],\n",
       "         [ 6.4240e+00, -3.1314e+00]],\n",
       "\n",
       "        [[-5.0041e+00,  5.0085e+00],\n",
       "         [-5.0116e+00, -5.0017e+00],\n",
       "         [-4.9989e+00, -5.0212e+00],\n",
       "         ...,\n",
       "         [-5.2529e+00,  4.8266e+00],\n",
       "         [-4.9618e+00,  6.0794e+00],\n",
       "         [ 6.6336e+00, -2.9768e+00]],\n",
       "\n",
       "        [[-4.9952e+00,  5.0089e+00],\n",
       "         [-5.0034e+00, -4.9883e+00],\n",
       "         [-5.0102e+00, -5.0053e+00],\n",
       "         ...,\n",
       "         [-5.1273e+00,  5.0126e+00],\n",
       "         [-5.0767e+00,  6.1090e+00],\n",
       "         [ 6.1823e+00, -2.6348e+00]]])"
      ]
     },
     "execution_count": 468,
     "metadata": {},
     "output_type": "execute_result"
    }
   ],
   "source": [
    "history"
   ]
  },
  {
   "cell_type": "code",
   "execution_count": null,
   "metadata": {},
   "outputs": [],
   "source": []
  }
 ],
 "metadata": {
  "kernelspec": {
   "display_name": "Python 3",
   "language": "python",
   "name": "python3"
  },
  "language_info": {
   "codemirror_mode": {
    "name": "ipython",
    "version": 3
   },
   "file_extension": ".py",
   "mimetype": "text/x-python",
   "name": "python",
   "nbconvert_exporter": "python",
   "pygments_lexer": "ipython3",
   "version": "3.7.6"
  }
 },
 "nbformat": 4,
 "nbformat_minor": 2
}
