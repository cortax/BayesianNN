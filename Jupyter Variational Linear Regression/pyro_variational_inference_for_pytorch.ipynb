{
 "cells": [
  {
   "cell_type": "code",
   "execution_count": 11,
   "metadata": {},
   "outputs": [],
   "source": [
    "import pandas as pd\n",
    "import os\n",
    "import numpy as np\n",
    "import scipy as sp\n",
    "import torch\n",
    "import torch.nn as nn\n",
    "import torch.nn.functional as F"
   ]
  },
  {
   "cell_type": "code",
   "execution_count": 23,
   "metadata": {},
   "outputs": [],
   "source": [
    "import pyro\n",
    "import pyro.distributions as dist\n",
    "from pyro.infer.mcmc import MCMC, HMC, NUTS\n",
    "from pyro.infer.mcmc.api import MCMC\n",
    "import pyro.poutine as poutine\n",
    "from pyro.infer import EmpiricalMarginal, SVI, Trace_ELBO, TracePredictive, JitTrace_ELBO\n",
    "\n",
    "from pyro.infer.mcmc.util import predictive\n",
    "from pyro.distributions.util import sum_rightmost"
   ]
  },
  {
   "cell_type": "code",
   "execution_count": 13,
   "metadata": {},
   "outputs": [],
   "source": [
    "from scipy.stats import uniform, norm\n",
    "import seaborn as sns; sns.set()\n",
    "import matplotlib.pyplot as plt"
   ]
  },
  {
   "cell_type": "code",
   "execution_count": 5,
   "metadata": {},
   "outputs": [],
   "source": [
    "A = 1.2\n",
    "b = -0.3\n",
    "sigma = 0.2\n",
    "N = 100"
   ]
  },
  {
   "cell_type": "code",
   "execution_count": 6,
   "metadata": {},
   "outputs": [],
   "source": [
    "np.random.seed(0)\n",
    "X = torch.from_numpy(uniform.rvs(size=N))\n",
    "X.detach()\n",
    "X = X.float()"
   ]
  },
  {
   "cell_type": "code",
   "execution_count": 7,
   "metadata": {},
   "outputs": [],
   "source": [
    "e = torch.from_numpy(norm.rvs(loc=0, scale=sigma, size=N)).float()"
   ]
  },
  {
   "cell_type": "code",
   "execution_count": 8,
   "metadata": {},
   "outputs": [],
   "source": [
    "y = A*X + b + e"
   ]
  },
  {
   "cell_type": "code",
   "execution_count": 9,
   "metadata": {},
   "outputs": [],
   "source": [
    "y.detach()\n",
    "y = y.float()"
   ]
  },
  {
   "cell_type": "code",
   "execution_count": 15,
   "metadata": {},
   "outputs": [
    {
     "data": {
      "text/plain": [
       "<matplotlib.collections.PathCollection at 0x7f80a2d87a58>"
      ]
     },
     "execution_count": 15,
     "metadata": {},
     "output_type": "execute_result"
    },
    {
     "data": {
      "image/png": "[encoded data removed]",
      "text/plain": [
       "<Figure size 432x288 with 1 Axes>"
      ]
     },
     "metadata": {},
     "output_type": "display_data"
    }
   ],
   "source": [
    "plt.scatter(X.numpy(), y.numpy())"
   ]
  },
  {
   "cell_type": "code",
   "execution_count": null,
   "metadata": {},
   "outputs": [],
   "source": []
  },
  {
   "cell_type": "code",
   "execution_count": 18,
   "metadata": {},
   "outputs": [],
   "source": [
    "class NNModel(nn.Module):\n",
    "    def __init__(self):\n",
    "        super(NNModel, self).__init__() \n",
    "        self.linear = nn.Linear(1, 1) \n",
    "        \n",
    "    def forward(self, x):\n",
    "        output = self.linear(x)\n",
    "        return output"
   ]
  },
  {
   "cell_type": "code",
   "execution_count": 21,
   "metadata": {},
   "outputs": [],
   "source": [
    "softplus = nn.Softplus()"
   ]
  },
  {
   "cell_type": "code",
   "execution_count": 20,
   "metadata": {},
   "outputs": [],
   "source": [
    "def model(x, y):\n",
    "    # Create unit normal priors over the parameters\n",
    "    options = dict(dtype=x.dtype, device=x.device)\n",
    "    loc = torch.zeros(1, 1, **options)\n",
    "    scale = 2 * torch.ones(1, 1, **options)\n",
    "    bias_loc = torch.zeros(1, **options)\n",
    "    bias_scale = 2 * torch.ones(1, **options)\n",
    "    A_prior = Normal(loc, scale).to_event(1)\n",
    "    b_prior = Normal(bias_loc, bias_scale).to_event(1)\n",
    "    priors = {'linear.weight': A_prior, 'linear.bias': b_prior}\n",
    "    # lift module parameters to random variables sampled from the priors\n",
    "    lifted_module = pyro.random_module(\"module\", NNModel, priors)\n",
    "    # sample a regressor (which also samples w and b)\n",
    "    lifted_reg_model = lifted_module()\n",
    "\n",
    "    with pyro.plate(\"map\", len(y)):\n",
    "        # run the regressor forward conditioned on inputs\n",
    "        prediction_mean = lifted_reg_model(x).squeeze(-1)\n",
    "        pyro.sample(\"obs\", Normal(prediction_mean, 1),\n",
    "                    obs=y)"
   ]
  },
  {
   "cell_type": "code",
   "execution_count": 22,
   "metadata": {},
   "outputs": [],
   "source": [
    "def guide(x, y):\n",
    "    a_loc = torch.randn(1, 1, dtype=x.dtype, device=x.device)\n",
    "    a_log_sig = -3 + 0.05 * torch.randn(1, 1, dtype=x.dtype, device=x.device)\n",
    "    b_loc = torch.randn(1, dtype=x.dtype, device=x.device)\n",
    "    b_log_sig = -3 + 0.05 * torch.randn(1, dtype=x.dtype, device=x.device)\n",
    "    # register learnable params in the param store\n",
    "    mw_param = pyro.param(\"guide_mean_weight\", a_loc)\n",
    "    sw_param = softplus(pyro.param(\"guide_log_scale_weight\", a_log_sig))\n",
    "    mb_param = pyro.param(\"guide_mean_bias\", b_loc)\n",
    "    sb_param = softplus(pyro.param(\"guide_log_scale_bias\", b_log_sig))\n",
    "    # gaussian guide distributions for w and b\n",
    "    a_dist = Normal(mw_param, sw_param).to_event(1)\n",
    "    b_dist = Normal(mb_param, sb_param).to_event(1)\n",
    "    dists = {'linear.weight': a_dist, 'linear.bias': b_dist}\n",
    "    # overloading the parameters in the module with random samples from the guide distributions\n",
    "    lifted_module = pyro.random_module(\"module\", NNModel, dists)\n",
    "    # sample a regressor\n",
    "    return lifted_module()"
   ]
  },
  {
   "cell_type": "code",
   "execution_count": null,
   "metadata": {},
   "outputs": [],
   "source": []
  },
  {
   "cell_type": "code",
   "execution_count": null,
   "metadata": {},
   "outputs": [],
   "source": [
    "optim = Adam({\"lr\": 0.05})\n",
    "elbo = JitTrace_ELBO() if args.jit else Trace_ELBO()\n",
    "svi = SVI(model, guide, optim, loss=elbo)\n",
    "for j in range(10):\n",
    "    # get indices of each batch\n",
    "    all_batches = get_batch_indices(N, args.batch_size)\n",
    "    for ix, batch_start in enumerate(all_batches[:-1]):\n",
    "        batch_end = all_batches[ix + 1]\n",
    "        batch_data = data[batch_start: batch_end]\n",
    "        epoch_loss += svi.step(batch_data)\n",
    "    if j % 100 == 0:\n",
    "        print(\"epoch avg loss {}\".format(epoch_loss/float(N)))\n",
    "\n"
   ]
  }
 ],
 "metadata": {
  "kernelspec": {
   "display_name": "Python 3",
   "language": "python",
   "name": "python3"
  },
  "language_info": {
   "codemirror_mode": {
    "name": "ipython",
    "version": 3
   },
   "file_extension": ".py",
   "mimetype": "text/x-python",
   "name": "python",
   "nbconvert_exporter": "python",
   "pygments_lexer": "ipython3",
   "version": "3.7.3"
  }
 },
 "nbformat": 4,
 "nbformat_minor": 2
}
