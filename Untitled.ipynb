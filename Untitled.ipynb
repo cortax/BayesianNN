{
 "cells": [
  {
   "cell_type": "code",
   "execution_count": 1,
   "metadata": {},
   "outputs": [],
   "source": [
    "import numpy as np\n",
    "import torch\n",
    "from torch import nn\n",
    "import matplotlib\n",
    "import matplotlib.pyplot as plt\n",
    "from Tools.NNtools import *\n",
    "import tempfile\n",
    "import mlflow\n",
    "import Experiments.Foong_L1W50.setup as exp\n",
    "import argparse"
   ]
  },
  {
   "cell_type": "code",
   "execution_count": 15,
   "metadata": {},
   "outputs": [],
   "source": [
    "ensemble_size=5\n",
    "max_iter=10000\n",
    "learning_rate=0.01\n",
    "min_lr=0.0005\n",
    "patience=100\n",
    "lr_decay=0.9\n",
    "gamma_alpha=1.0\n",
    "gamma_beta=1.0\n",
    "seed=42\n",
    "device='cpu'"
   ]
  },
  {
   "cell_type": "code",
   "execution_count": 16,
   "metadata": {},
   "outputs": [],
   "source": [
    "seeding(seed)"
   ]
  },
  {
   "cell_type": "code",
   "execution_count": 17,
   "metadata": {},
   "outputs": [],
   "source": [
    "logposteriorpredictive = exp.get_logposteriorpredictive_fn(device)"
   ]
  },
  {
   "cell_type": "code",
   "execution_count": null,
   "metadata": {},
   "outputs": [],
   "source": []
  },
  {
   "cell_type": "code",
   "execution_count": 18,
   "metadata": {},
   "outputs": [],
   "source": [
    "logposterior = exp.get_logposterior_fn(device)\n",
    "model = exp.get_model(device)\n",
    "x_train, y_train = exp.get_training_data(device)\n",
    "x_validation, y_validation = exp.get_validation_data(device)\n",
    "x_test, y_test = exp.get_test_data(device)\n",
    "logtarget = lambda theta : logposterior(theta, model, x_train, y_train, 0.1 )"
   ]
  },
  {
   "cell_type": "code",
   "execution_count": 19,
   "metadata": {},
   "outputs": [],
   "source": [
    "ensemble = []\n",
    "for k in range(ensemble_size):\n",
    "    with mlflow.start_run(run_name='component', nested=True):\n",
    "        std = torch.distributions.Gamma(torch.tensor([gamma_alpha]), torch.tensor([gamma_beta])).sample()[0].float()\n",
    "        mlflow.set_tag('init_std', std.detach().clone().cpu().numpy()) \n",
    "        theta = torch.nn.Parameter( torch.empty([1,exp.param_count],device=device).normal_(std=std), requires_grad=True)\n",
    "        optimizer = torch.optim.Adam([theta], lr=learning_rate)\n",
    "        scheduler = torch.optim.lr_scheduler.ReduceLROnPlateau(optimizer, patience=patience, factor=lr_decay)\n",
    "\n",
    "        for t in range(max_iter-1):\n",
    "            optimizer.zero_grad()\n",
    "\n",
    "            L = -torch.mean(logtarget(theta))\n",
    "            L.backward()\n",
    "\n",
    "            lr = optimizer.param_groups[0]['lr']\n",
    "\n",
    "            scheduler.step(L.detach().clone().cpu().numpy())\n",
    "            optimizer.step()\n",
    "\n",
    "            if lr < min_lr:\n",
    "                break\n",
    "        ensemble.append(theta) "
   ]
  },
  {
   "cell_type": "code",
   "execution_count": 36,
   "metadata": {},
   "outputs": [
    {
     "data": {
      "text/plain": [
       "tensor([-0.8842], grad_fn=<DivBackward0>)"
      ]
     },
     "execution_count": 36,
     "metadata": {},
     "output_type": "execute_result"
    }
   ],
   "source": [
    "-logposteriorpredictive(ensemble, model, x_validation, y_validation, 0.1)/len(y_validation)"
   ]
  },
  {
   "cell_type": "code",
   "execution_count": 37,
   "metadata": {},
   "outputs": [
    {
     "data": {
      "text/plain": [
       "tensor([-0.9040], grad_fn=<DivBackward0>)"
      ]
     },
     "execution_count": 37,
     "metadata": {},
     "output_type": "execute_result"
    }
   ],
   "source": [
    "-logposteriorpredictive(ensemble, model, x_train, y_train, 0.1)/len(y_train)"
   ]
  },
  {
   "cell_type": "code",
   "execution_count": 38,
   "metadata": {},
   "outputs": [
    {
     "data": {
      "text/plain": [
       "tensor([14.8800], grad_fn=<DivBackward0>)"
      ]
     },
     "execution_count": 38,
     "metadata": {},
     "output_type": "execute_result"
    }
   ],
   "source": [
    "-logposteriorpredictive(ensemble, model, x_test, y_test, 0.1)/len(y_test)"
   ]
  },
  {
   "cell_type": "code",
   "execution_count": null,
   "metadata": {},
   "outputs": [],
   "source": []
  },
  {
   "cell_type": "code",
   "execution_count": null,
   "metadata": {},
   "outputs": [],
   "source": [
    "                    \n",
    "            with torch.no_grad():  \n",
    "                x_lin = torch.linspace(-2.0, 2.0).unsqueeze(1).to(device)\n",
    "                fig, ax = plt.subplots()\n",
    "                fig.set_size_inches(11.7, 8.27)\n",
    "                plt.xlim(-2, 2) \n",
    "                plt.ylim(-4, 4)\n",
    "                plt.grid(True, which='major', linewidth=0.5)\n",
    "                plt.title('Training set')\n",
    "                plt.scatter(x_train.cpu(), y_train.cpu())\n",
    "                set_all_parameters(model, theta)\n",
    "                y_pred = model(x_lin)\n",
    "                plt.plot(x_lin.detach().cpu().numpy(), y_pred.squeeze(0).detach().cpu().numpy(), alpha=1.0, linewidth=1.0, color='black')\n",
    "                res = 20\n",
    "                for r in range(res):\n",
    "                    mass = 1.0-(r+1)/res\n",
    "                    plt.fill_between(x_lin.detach().cpu().numpy().squeeze(), y_pred.squeeze(0).detach().cpu().numpy().squeeze()-3*0.1*((r+1)/res), y_pred.squeeze(0).detach().cpu().numpy().squeeze()+3*0.1*((r+1)/res), alpha=0.2*mass, color='lightblue')\n",
    "                fig.savefig(tempdir.name+'/training.png', dpi=4*fig.dpi)\n",
    "                mlflow.log_artifact(tempdir.name+'/training.png')\n",
    "                plt.close()\n",
    "\n",
    "                ensemble.append(theta.detach().clone())\n",
    "            \n",
    "    with torch.no_grad():\n",
    "        train_post = logposterior_ensemble(ensemble, model, x_validation, y_validation, 0.1)\n",
    "        mlflow.log_metric(\"training log posterior ensemble\", -float(train_post.detach().cpu())/y_train.shape[0])\n",
    "\n",
    "        val_post = logposterior_ensemble(ensemble, model, x_validation, y_validation, 0.1)\n",
    "        mlflow.log_metric(\"validation log posterior ensemble\", -float(val_post.detach().cpu())/y_validation.shape[0])\n",
    "\n",
    "        test_post = logposterior_ensemble(ensemble, model, x_test, y_test, 0.1)\n",
    "        mlflow.log_metric(\"test log posterior ensemble\", -float(test_post.detach().cpu())/y_test.shape[0])\n",
    "\n",
    "        tempdir = tempfile.TemporaryDirectory()\n",
    "\n",
    "        x_lin = torch.linspace(-2.0, 2.0).unsqueeze(1).to(device)\n",
    "        fig, ax = plt.subplots()\n",
    "        fig.set_size_inches(11.7, 8.27)\n",
    "        plt.xlim(-2, 2) \n",
    "        plt.ylim(-4, 4)\n",
    "        plt.grid(True, which='major', linewidth=0.5)\n",
    "        plt.title('Training set')\n",
    "        plt.scatter(x_train.cpu(), y_train.cpu())\n",
    "        for theta in ensemble:\n",
    "            set_all_parameters(model, theta)\n",
    "            y_pred = model(x_lin)\n",
    "            plt.plot(x_lin.detach().cpu().numpy(), y_pred.squeeze(0).detach().cpu().numpy(), alpha=1.0, linewidth=1.0, color='black')\n",
    "            res = 20\n",
    "            for r in range(res):\n",
    "                mass = 1.0-(r+1)/res\n",
    "                plt.fill_between(x_lin.detach().cpu().numpy().squeeze(), y_pred.squeeze(0).detach().cpu().numpy().squeeze()-3*0.1*((r+1)/res), y_pred.squeeze(0).detach().cpu().numpy().squeeze()+3*0.1*((r+1)/res), alpha=0.2*mass, color='lightblue')\n",
    "        fig.savefig(tempdir.name+'/training.png', dpi=4*fig.dpi)\n",
    "        mlflow.log_artifact(tempdir.name+'/training.png')\n",
    "        plt.close()\n",
    "\n",
    "        x_lin = torch.linspace(-2.0, 2.0).unsqueeze(1).to(device)\n",
    "        fig, ax = plt.subplots()\n",
    "        fig.set_size_inches(11.7, 8.27)\n",
    "        plt.xlim(-2, 2) \n",
    "        plt.ylim(-4, 4)\n",
    "        plt.grid(True, which='major', linewidth=0.5)\n",
    "        plt.title('Validation set')\n",
    "        plt.scatter(x_validation.cpu(), y_validation.cpu())\n",
    "        for theta in ensemble:\n",
    "            set_all_parameters(model, theta)\n",
    "            y_pred = model(x_lin)\n",
    "            plt.plot(x_lin.detach().cpu().numpy(), y_pred.squeeze(0).detach().cpu().numpy(), alpha=1.0, linewidth=1.0, color='black')\n",
    "            res = 20\n",
    "            for r in range(res):\n",
    "                mass = 1.0-(r+1)/res\n",
    "                plt.fill_between(x_lin.detach().cpu().numpy().squeeze(), y_pred.squeeze(0).detach().cpu().numpy().squeeze()-3*0.1*((r+1)/res), y_pred.squeeze(0).detach().cpu().numpy().squeeze()+3*0.1*((r+1)/res), alpha=0.2*mass, color='lightblue')\n",
    "        fig.savefig(tempdir.name+'/validation.png', dpi=4*fig.dpi)\n",
    "        mlflow.log_artifact(tempdir.name+'/validation.png')\n",
    "        plt.close()\n",
    "\n",
    "        x_lin = torch.linspace(-2.0, 2.0).unsqueeze(1).to(device)\n",
    "        fig, ax = plt.subplots()\n",
    "        fig.set_size_inches(11.7, 8.27)\n",
    "        plt.xlim(-2, 2) \n",
    "        plt.ylim(-4, 4)\n",
    "        plt.grid(True, which='major', linewidth=0.5)\n",
    "        plt.title('Test set')\n",
    "        plt.scatter(x_test.cpu(), y_test.cpu())\n",
    "        for theta in ensemble:\n",
    "            set_all_parameters(model, theta)\n",
    "            y_pred = model(x_lin)\n",
    "            plt.plot(x_lin.detach().cpu().numpy(), y_pred.squeeze(0).detach().cpu().numpy(), alpha=1.0, linewidth=1.0, color='black')\n",
    "            res = 20\n",
    "            for r in range(res):\n",
    "                mass = 1.0-(r+1)/res\n",
    "                plt.fill_between(x_lin.detach().cpu().numpy().squeeze(), y_pred.squeeze(0).detach().cpu().numpy().squeeze()-3*0.1*((r+1)/res), y_pred.squeeze(0).detach().cpu().numpy().squeeze()+3*0.1*((r+1)/res), alpha=0.2*mass, color='lightblue')\n",
    "        fig.savefig(tempdir.name+'/test.png', dpi=4*fig.dpi)\n",
    "        mlflow.log_artifact(tempdir.name+'/test.png')\n",
    "        plt.close()"
   ]
  },
  {
   "cell_type": "code",
   "execution_count": null,
   "metadata": {},
   "outputs": [],
   "source": []
  },
  {
   "cell_type": "code",
   "execution_count": null,
   "metadata": {},
   "outputs": [],
   "source": []
  },
  {
   "cell_type": "code",
   "execution_count": null,
   "metadata": {},
   "outputs": [],
   "source": [
    "if __name__== \"__main__\":\n",
    "    parser = argparse.ArgumentParser()\n",
    "    parser.add_argument(\"--ensemble_size\", type=int, default=1,\n",
    "                        help=\"number of model to train in the ensemble\")\n",
    "    parser.add_argument(\"--max_iter\", type=int, default=100000,\n",
    "                        help=\"maximum number of learning iterations\")\n",
    "    parser.add_argument(\"--learning_rate\", type=float, default=0.01,\n",
    "                        help=\"initial learning rate of the optimizer\")\n",
    "    parser.add_argument(\"--min_lr\", type=float, default=0.0005,\n",
    "                        help=\"minimum learning rate triggering the end of the optimization\")\n",
    "    parser.add_argument(\"--patience\", type=int, default=100,\n",
    "                        help=\"scheduler patience\")\n",
    "    parser.add_argument(\"--lr_decay\", type=float, default=0.9,\n",
    "                        help=\"scheduler multiplicative factor decreasing learning rate when patience reached\")\n",
    "    parser.add_argument(\"--gamma_alpha\", type=float, default=1.0,\n",
    "                        help=\"parameter controling std~Gamma(alpha,beta) feeding theta~initialization(std)\")\n",
    "    parser.add_argument(\"--gamma_beta\", type=float, default=1.0,\n",
    "                        help=\"parameter controling std~Gamma(alpha,beta) feeding theta~initialization(std)\")\n",
    "    parser.add_argument(\"--seed\", type=int, default=None,\n",
    "                        help=\"scheduler patience\")\n",
    "    parser.add_argument(\"--device\", type=str, default=None,\n",
    "                        help=\"force device to be used\")\n",
    "    args = parser.parse_args()\n",
    "\n",
    "    print(args)\n",
    "\n",
    "    if args.seed is None:\n",
    "        seed = np.random.randint(0,2**31)\n",
    "    else:\n",
    "        seed = args.seed\n",
    "\n",
    "    if args.device is None:\n",
    "        device = torch.device('cuda:0' if torch.cuda.is_available() else 'cpu')\n",
    "    else:\n",
    "        device = args.device\n",
    "\n",
    "    main(args.ensemble_size, args.max_iter, args.learning_rate, args.min_lr, args.patience, args.lr_decay, args.gamma_alpha, args.gamma_beta, seed=seed, device=device)"
   ]
  },
  {
   "cell_type": "code",
   "execution_count": null,
   "metadata": {},
   "outputs": [],
   "source": []
  },
  {
   "cell_type": "code",
   "execution_count": null,
   "metadata": {},
   "outputs": [],
   "source": []
  },
  {
   "cell_type": "code",
   "execution_count": null,
   "metadata": {},
   "outputs": [],
   "source": []
  },
  {
   "cell_type": "code",
   "execution_count": null,
   "metadata": {},
   "outputs": [],
   "source": []
  },
  {
   "cell_type": "code",
   "execution_count": null,
   "metadata": {},
   "outputs": [],
   "source": []
  },
  {
   "cell_type": "code",
   "execution_count": null,
   "metadata": {},
   "outputs": [],
   "source": []
  },
  {
   "cell_type": "code",
   "execution_count": null,
   "metadata": {},
   "outputs": [],
   "source": []
  },
  {
   "cell_type": "code",
   "execution_count": null,
   "metadata": {},
   "outputs": [],
   "source": []
  },
  {
   "cell_type": "code",
   "execution_count": null,
   "metadata": {},
   "outputs": [],
   "source": []
  },
  {
   "cell_type": "code",
   "execution_count": null,
   "metadata": {},
   "outputs": [],
   "source": []
  },
  {
   "cell_type": "code",
   "execution_count": null,
   "metadata": {},
   "outputs": [],
   "source": []
  },
  {
   "cell_type": "code",
   "execution_count": null,
   "metadata": {},
   "outputs": [],
   "source": []
  },
  {
   "cell_type": "code",
   "execution_count": null,
   "metadata": {},
   "outputs": [],
   "source": []
  },
  {
   "cell_type": "code",
   "execution_count": null,
   "metadata": {},
   "outputs": [],
   "source": []
  },
  {
   "cell_type": "code",
   "execution_count": null,
   "metadata": {},
   "outputs": [],
   "source": []
  },
  {
   "cell_type": "code",
   "execution_count": null,
   "metadata": {},
   "outputs": [],
   "source": []
  },
  {
   "cell_type": "code",
   "execution_count": null,
   "metadata": {},
   "outputs": [],
   "source": []
  }
 ],
 "metadata": {
  "kernelspec": {
   "display_name": "Python 3",
   "language": "python",
   "name": "python3"
  },
  "language_info": {
   "codemirror_mode": {
    "name": "ipython",
    "version": 3
   },
   "file_extension": ".py",
   "mimetype": "text/x-python",
   "name": "python",
   "nbconvert_exporter": "python",
   "pygments_lexer": "ipython3",
   "version": "3.7.5"
  }
 },
 "nbformat": 4,
 "nbformat_minor": 2
}
