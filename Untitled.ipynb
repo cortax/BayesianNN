{
 "cells": [
  {
   "cell_type": "code",
   "execution_count": 1,
   "metadata": {},
   "outputs": [],
   "source": [
    "import numpy as np\n",
    "import torch\n",
    "from torch import nn\n",
    "import matplotlib\n",
    "import matplotlib.pyplot as plt\n",
    "from Tools.NNtools import *\n",
    "import tempfile\n",
    "import mlflow\n",
    "import Experiments.Foong_L1W50.setup as exp"
   ]
  },
  {
   "cell_type": "code",
   "execution_count": null,
   "metadata": {},
   "outputs": [],
   "source": []
  },
  {
   "cell_type": "code",
   "execution_count": null,
   "metadata": {},
   "outputs": [],
   "source": [
    "def main(max_iter=100000, learning_rate=0.01, min_lr=0.0005, patience=100, lr_decay=0.9, gamma_alpha=1.0, gamma_beta=1.0, device='cpu'):\n",
    "    mlflow.set_experiment(exp.experiment_name)\n",
    "    \n",
    "    logposterior = exp.get_logposterior_fn(device)\n",
    "    model = exp.get_model(device)\n",
    "    x_train, y_train = exp.get_training_data(device)\n",
    "    logtarget = lambda theta : logposterior(theta, model, x_train, y_train, 0.1 )\n",
    "    \n",
    "    mlflow.log_param('gamma_alpha', gamma_alpha)\n",
    "    mlflow.log_param('gamma_beta', gamma_beta)\n",
    "    std = torch.distributions.Gamma(torch.tensor([gamma_alpha]), torch.tensor([gamma_beta])).sample()[0].float()\n",
    "    theta = torch.nn.Parameter( torch.empty([1,exp.param_count],device=device).normal_(std=std), requires_grad=True)\n",
    "    \n",
    "    mlflow.log_param('learning_rate', learning_rate)\n",
    "    optimizer = torch.optim.Adam([theta], lr=learning_rate)\n",
    "    \n",
    "    mlflow.log_param('patience', patience)\n",
    "    mlflow.log_param('lr_decay', lr_decay)\n",
    "    scheduler = torch.optim.lr_scheduler.ReduceLROnPlateau(optimizer, patience=patience, factor=lr_decay)\n",
    "    \n",
    "    mlflow.log_param('max_iter', max_iter)\n",
    "    mlflow.log_param('min_lr', min_lr)\n",
    "    \n",
    "    with mlflow.start_run(run_name='MAP'):\n",
    "        for t in range(max_iter):\n",
    "            optimizer.zero_grad()\n",
    "\n",
    "            L = -torch.mean(logtarget(theta))\n",
    "            L.backward()\n",
    "            mlflow.log_metric(\"training log posterior\", float(L.detach().cpu()))\n",
    "\n",
    "            lr = optimizer.param_groups[0]['lr']\n",
    "            mlflow.log_metric(\"learning rate\", float(lr.detach().cpu()))\n",
    "\n",
    "            scheduler.step(L.detach().clone().cpu().numpy())\n",
    "            optimizer.step()\n",
    "\n",
    "            if lr < min_lr:\n",
    "                break\n",
    "        \n",
    "        "
   ]
  },
  {
   "cell_type": "code",
   "execution_count": 8,
   "metadata": {},
   "outputs": [
    {
     "data": {
      "text/plain": [
       "88715175"
      ]
     },
     "execution_count": 8,
     "metadata": {},
     "output_type": "execute_result"
    }
   ],
   "source": []
  },
  {
   "cell_type": "code",
   "execution_count": 2,
   "metadata": {},
   "outputs": [
    {
     "data": {
      "text/plain": [
       "device(type='cuda', index=0)"
      ]
     },
     "execution_count": 2,
     "metadata": {},
     "output_type": "execute_result"
    }
   ],
   "source": [
    "device = torch.device('cuda:0' if torch.cuda.is_available() else 'cpu')\n",
    "device"
   ]
  },
  {
   "cell_type": "code",
   "execution_count": null,
   "metadata": {},
   "outputs": [],
   "source": [
    "x_validation, y_validation = exp.get_validation_data(device)\n",
    "x_test, y_test = exp.get_test_data(device)"
   ]
  },
  {
   "cell_type": "code",
   "execution_count": null,
   "metadata": {},
   "outputs": [],
   "source": [
    "max_iter=100000\n",
    "learning_rate=0.01\n",
    "min_lr=0.0005\n",
    "patience=100\n",
    "lr_decay=0.9\n",
    "gamma_alpha=1.0\n",
    "gamma_beta=1.0\n",
    "    \n",
    "    \n",
    "logposterior = exp.get_logposterior_fn(device)\n",
    "model = exp.get_model(device)\n",
    "x_train, y_train = exp.get_training_data(device)\n",
    "logtarget = lambda theta : logposterior(theta, model, x_train, y_train, 0.1 )\n",
    "\n",
    "std = torch.distributions.Gamma(torch.tensor([gamma_alpha]), torch.tensor([gamma_beta])).sample()[0].float()\n",
    "theta = torch.nn.Parameter( torch.empty([1,exp.param_count],device=device).normal_(std=std), requires_grad=True)\n",
    "\n",
    "optimizer = torch.optim.Adam([theta], lr=learning_rate)\n",
    "\n",
    "\n",
    "scheduler = torch.optim.lr_scheduler.ReduceLROnPlateau(optimizer, patience=patience, factor=lr_decay)\n",
    "\n",
    "\n",
    "\n",
    "for t in range(max_iter):\n",
    "    optimizer.zero_grad()\n",
    "\n",
    "    L = -torch.mean(logtarget(theta))\n",
    "    L.backward()\n",
    "    print(\"training log posterior\", float(L.detach().cpu()))\n",
    "\n",
    "    lr = optimizer.param_groups[0]['lr']\n",
    "\n",
    "    scheduler.step(L.detach().clone().cpu().numpy())\n",
    "    optimizer.step()\n",
    "\n",
    "    if lr < min_lr:\n",
    "        break\n",
    "\n"
   ]
  },
  {
   "cell_type": "code",
   "execution_count": null,
   "metadata": {},
   "outputs": [],
   "source": []
  },
  {
   "cell_type": "code",
   "execution_count": null,
   "metadata": {},
   "outputs": [],
   "source": []
  },
  {
   "cell_type": "code",
   "execution_count": null,
   "metadata": {},
   "outputs": [],
   "source": []
  },
  {
   "cell_type": "code",
   "execution_count": null,
   "metadata": {},
   "outputs": [],
   "source": [
    "logtarget(theta)"
   ]
  },
  {
   "cell_type": "code",
   "execution_count": null,
   "metadata": {},
   "outputs": [],
   "source": []
  },
  {
   "cell_type": "code",
   "execution_count": null,
   "metadata": {},
   "outputs": [],
   "source": []
  },
  {
   "cell_type": "code",
   "execution_count": null,
   "metadata": {},
   "outputs": [],
   "source": [
    "theta"
   ]
  },
  {
   "cell_type": "code",
   "execution_count": null,
   "metadata": {},
   "outputs": [],
   "source": [
    "tempdir = tempfile.TemporaryDirectory()"
   ]
  },
  {
   "cell_type": "code",
   "execution_count": null,
   "metadata": {},
   "outputs": [],
   "source": []
  },
  {
   "cell_type": "code",
   "execution_count": null,
   "metadata": {},
   "outputs": [],
   "source": []
  },
  {
   "cell_type": "code",
   "execution_count": null,
   "metadata": {},
   "outputs": [],
   "source": [
    "x_lin = torch.linspace(-2.0, 2.0).unsqueeze(1).to(device)\n",
    "# Sampling the distribution over Neural Networks 1000 times, and plotting with transparency to make it appear as a smooth distribution\n",
    "fig, ax = plt.subplots()\n",
    "fig.set_size_inches(11.7, 8.27)\n",
    "plt.xlim(-2, 2) \n",
    "plt.ylim(-1.5, 1.5)\n",
    "plt.grid(True, which='major', linewidth=0.5)\n",
    "plt.title('Training set')\n",
    "plt.scatter(x_train.cpu(), y_train.cpu())\n",
    "set_all_parameters(model, theta)\n",
    "y_pred = model(x_lin)\n",
    "plt.plot(x_lin.detach().cpu().numpy(), y_pred.squeeze(0).detach().cpu().numpy(), alpha=1.0, linewidth=1.0, color='black')\n",
    "res = 20\n",
    "for r in range(res):\n",
    "    mass = 1.0 - (r+1)/res\n",
    "    plt.fill_between(x_lin.detach().cpu().numpy().squeeze(), y_pred.squeeze(0).detach().cpu().numpy().squeeze()-3*0.1*((r+1)/res), y_pred.squeeze(0).detach().cpu().numpy().squeeze()+3*0.1*((r+1)/res), alpha=0.2*mass, color='lightblue')\n",
    "plt.show()\n"
   ]
  },
  {
   "cell_type": "code",
   "execution_count": null,
   "metadata": {},
   "outputs": [],
   "source": [
    "x_lin = torch.linspace(-2.0, 2.0).unsqueeze(1).to(device)\n",
    "# Sampling the distribution over Neural Networks 1000 times, and plotting with transparency to make it appear as a smooth distribution\n",
    "fig, ax = plt.subplots()\n",
    "fig.set_size_inches(11.7, 8.27)\n",
    "plt.xlim(-2, 2) \n",
    "plt.ylim(-4, 4) \n",
    "plt.title('Validation set')\n",
    "plt.grid(True, which='major', linewidth=0.5)\n",
    "plt.scatter(x_validation.cpu(), y_validation.cpu())\n",
    "set_all_parameters(model, theta)\n",
    "y_pred = model(x_lin)\n",
    "\n",
    "plt.plot(x_lin.detach().cpu().numpy(), y_pred.squeeze(0).detach().cpu().numpy(), alpha=1.0, linewidth=2.0, color='lightblue')"
   ]
  },
  {
   "cell_type": "code",
   "execution_count": null,
   "metadata": {},
   "outputs": [],
   "source": [
    "[[(1.0-(r+1)/res)**2 for r in range(res)]]"
   ]
  },
  {
   "cell_type": "code",
   "execution_count": null,
   "metadata": {},
   "outputs": [],
   "source": [
    "r=0"
   ]
  },
  {
   "cell_type": "code",
   "execution_count": null,
   "metadata": {},
   "outputs": [],
   "source": [
    "res"
   ]
  },
  {
   "cell_type": "code",
   "execution_count": null,
   "metadata": {},
   "outputs": [],
   "source": [
    "x_lin = torch.linspace(-2.0, 2.0).unsqueeze(1).to(device)\n",
    "# Sampling the distribution over Neural Networks 1000 times, and plotting with transparency to make it appear as a smooth distribution\n",
    "fig, ax = plt.subplots()\n",
    "fig.set_size_inches(11.7, 8.27)\n",
    "plt.xlim(-2, 2) \n",
    "plt.ylim(-4, 4)\n",
    "plt.grid(True, which='major', linewidth=0.5)\n",
    "plt.title('Test set')\n",
    "plt.scatter(x_test.cpu(), y_test.cpu())\n",
    "set_all_parameters(model, theta)\n",
    "y_pred = model(x_lin)\n",
    "\n",
    "plt.plot(x_lin.detach().cpu().numpy(), y_pred.squeeze(0).detach().cpu().numpy(), alpha=1.0, linewidth=2.0, color='lightblue')"
   ]
  },
  {
   "cell_type": "code",
   "execution_count": null,
   "metadata": {},
   "outputs": [],
   "source": [
    "y_test.shape"
   ]
  },
  {
   "cell_type": "code",
   "execution_count": null,
   "metadata": {},
   "outputs": [],
   "source": [
    "x_train, y_train = exp.get_training_data(device)\n",
    "x_validation, y_validation = exp.get_validation_data(device)\n",
    "x_test, y_test = exp.get_test_data(device)"
   ]
  },
  {
   "cell_type": "code",
   "execution_count": null,
   "metadata": {},
   "outputs": [],
   "source": [
    "y_test.shape[0]"
   ]
  },
  {
   "cell_type": "code",
   "execution_count": null,
   "metadata": {},
   "outputs": [],
   "source": [
    "mlflow.set_experiment(exp.experiment_name)"
   ]
  },
  {
   "cell_type": "code",
   "execution_count": null,
   "metadata": {},
   "outputs": [],
   "source": [
    "expdata = mlflow.get_experiment_by_name(exp.experiment_name)"
   ]
  },
  {
   "cell_type": "code",
   "execution_count": null,
   "metadata": {},
   "outputs": [],
   "source": [
    "expdata"
   ]
  },
  {
   "cell_type": "code",
   "execution_count": null,
   "metadata": {},
   "outputs": [],
   "source": []
  }
 ],
 "metadata": {
  "kernelspec": {
   "display_name": "Python 3",
   "language": "python",
   "name": "python3"
  },
  "language_info": {
   "codemirror_mode": {
    "name": "ipython",
    "version": 3
   },
   "file_extension": ".py",
   "mimetype": "text/x-python",
   "name": "python",
   "nbconvert_exporter": "python",
   "pygments_lexer": "ipython3",
   "version": "3.7.3"
  }
 },
 "nbformat": 4,
 "nbformat_minor": 2
}
