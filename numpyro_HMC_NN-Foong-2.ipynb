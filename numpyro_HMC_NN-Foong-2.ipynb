{
 "cells": [
  {
   "cell_type": "code",
   "execution_count": 1,
   "metadata": {},
   "outputs": [],
   "source": [
    "import matplotlib\n",
    "import matplotlib.pyplot as plt\n",
    "import numpy as onp\n",
    "\n",
    "import jax.numpy as np\n",
    "import jax.random as random\n",
    "from jax import vmap\n",
    "from jax.config import config as jax_config\n",
    "\n",
    "import numpyro.distributions as dist\n",
    "from numpyro.handlers import sample, seed, substitute, trace\n",
    "from numpyro.hmc_util import initialize_model\n",
    "from numpyro.mcmc import mcmc\n",
    "import numba.cuda as cuda\n",
    "import torch\n",
    "\n",
    "from sklearn.metrics import mean_squared_error\n",
    "from scipy.stats import uniform, norm\n",
    "import seaborn as sns; sns.set()\n",
    "import matplotlib.pyplot as plt\n",
    "\n",
    "from pyro.distributions import Normal, Uniform, Delta"
   ]
  },
  {
   "cell_type": "markdown",
   "metadata": {},
   "source": [
    "# Data generation"
   ]
  },
  {
   "cell_type": "code",
   "execution_count": 2,
   "metadata": {},
   "outputs": [
    {
     "data": {
      "text/plain": [
       "tensor([-0.6570, -0.7245, -0.9588, -0.9810, -0.6670, -0.6418, -0.6962, -0.6764,\n",
       "        -0.8321, -0.7921, -0.9410, -0.7858, -0.8423, -0.6901, -0.9420, -0.6968,\n",
       "        -0.8397, -0.6435, -0.7464, -0.7181, -0.8925, -0.6863, -0.9970, -0.9626,\n",
       "        -0.7214, -0.6529, -0.8176, -0.9393, -0.8629, -0.9029, -0.8639, -0.7188,\n",
       "        -0.8401, -0.9462, -0.9415, -0.7917, -0.7097, -0.7218, -0.7095, -0.8581,\n",
       "        -0.7376, -0.8269, -0.8498, -0.7242, -0.7946, -0.8528, -0.7972, -0.8760,\n",
       "        -0.9008, -0.9767, -0.7870, -0.6980, -0.9775, -0.9576, -0.9048, -0.7199,\n",
       "        -0.9251, -0.9545, -0.8504, -0.7609, -0.8192, -0.8881, -0.8782, -0.7324,\n",
       "        -0.8499, -0.9611, -0.7359, -0.7353, -0.8359, -0.8625, -0.7957, -0.7694,\n",
       "        -0.6673, -0.7836, -0.8370, -0.7156, -0.8956, -0.8038, -0.6598, -0.8864,\n",
       "        -0.6868, -0.8866, -0.7922, -0.9626, -0.8986, -0.7357, -0.9972, -0.9353,\n",
       "        -0.7453, -0.7845, -0.9601, -0.9019, -0.8524, -0.9830, -0.8710, -0.7516,\n",
       "        -0.6802, -0.6708, -0.8609, -0.7081,  0.8725,  0.6565,  0.8669,  0.6114,\n",
       "         1.0904,  0.7211,  0.8551,  1.0339,  0.5478,  0.9941,  0.5173,  0.7077,\n",
       "         0.6618,  1.0753,  0.9497,  0.9198,  0.8582,  1.0842,  0.4957,  1.0013,\n",
       "         0.8916,  0.9827,  0.7908,  1.0727,  0.8663,  0.8973,  0.5549,  0.5252,\n",
       "         1.0087,  0.5142,  1.0702,  1.0408,  1.0756,  0.5412,  0.7219,  0.6239,\n",
       "         0.6581,  1.0536,  1.0975,  0.9400,  1.0465,  1.0893,  0.6899,  1.0583,\n",
       "         0.7925,  0.6491,  0.8442,  0.8639,  0.6919,  0.5709,  0.9982,  0.7452,\n",
       "         0.5177,  0.8142,  0.5624,  1.0495,  0.7418,  0.6423,  1.0927,  0.5395,\n",
       "         0.9460,  0.8141,  0.6873,  0.8224,  0.6418,  0.5595,  0.8342,  0.5657,\n",
       "         0.5476,  0.7383,  0.8327,  0.9398,  0.7224,  0.4994,  0.7653,  0.5758,\n",
       "         1.0903,  0.7238,  0.6228,  0.7466,  1.0396,  0.8865,  1.0338,  0.7681,\n",
       "         0.7319,  0.7115,  0.8671,  0.6229,  0.7427,  0.9035,  0.8777,  0.9661,\n",
       "         0.5823,  0.5099,  0.7957,  0.8598,  0.7614,  1.0688,  0.7683,  0.8518])"
      ]
     },
     "execution_count": 2,
     "metadata": {},
     "output_type": "execute_result"
    }
   ],
   "source": [
    "sigma_noise = 0.1\n",
    "N = 200\n",
    "onp.random.seed(40)\n",
    "X1 = Uniform(torch.tensor([-1.0]), torch.tensor([-0.63])).sample(sample_shape=torch.Size([int(N/2)])).squeeze()\n",
    "X2 = Uniform(torch.tensor([0.45]), torch.tensor([1.1])).sample(sample_shape=torch.Size([int(N/2)])).squeeze()\n",
    "X = torch.cat((X1, X2), 0)\n",
    "X.detach()"
   ]
  },
  {
   "cell_type": "code",
   "execution_count": 3,
   "metadata": {},
   "outputs": [
    {
     "data": {
      "text/plain": [
       "tensor([-3.1494e-01, -5.1556e-01, -1.0628e+00, -9.0697e-01, -4.7740e-01,\n",
       "        -2.4172e-01, -1.7314e-01, -2.7984e-01, -7.4679e-01, -6.1005e-01,\n",
       "        -9.7888e-01, -6.7198e-01, -7.8183e-01, -2.9137e-01, -1.0866e+00,\n",
       "        -4.1790e-01, -8.7865e-01, -1.5234e-01, -5.9654e-01, -6.0819e-01,\n",
       "        -9.0234e-01, -3.5481e-01, -9.9574e-01, -8.6858e-01, -3.8530e-01,\n",
       "        -1.9704e-01, -6.2808e-01, -1.0142e+00, -1.0202e+00, -8.0894e-01,\n",
       "        -8.8149e-01, -5.1530e-01, -9.2045e-01, -1.0311e+00, -1.1184e+00,\n",
       "        -6.9372e-01, -5.9343e-01, -5.4914e-01, -4.4290e-01, -9.2362e-01,\n",
       "        -4.4233e-01, -7.0862e-01, -8.4884e-01, -5.4575e-01, -6.6742e-01,\n",
       "        -8.3603e-01, -7.2894e-01, -8.4171e-01, -9.6100e-01, -9.2976e-01,\n",
       "        -8.2022e-01, -4.4187e-01, -9.9650e-01, -1.1046e+00, -1.0035e+00,\n",
       "        -6.9055e-01, -8.3028e-01, -9.2907e-01, -6.3639e-01, -6.7575e-01,\n",
       "        -7.3273e-01, -9.3372e-01, -7.8021e-01, -5.4786e-01, -6.8800e-01,\n",
       "        -1.0999e+00, -4.7769e-01, -5.5717e-01, -9.3762e-01, -8.8373e-01,\n",
       "        -9.0711e-01, -6.2890e-01, -2.4088e-01, -7.9313e-01, -1.0138e+00,\n",
       "        -4.5485e-01, -8.5756e-01, -7.5485e-01, -1.8146e-01, -9.4242e-01,\n",
       "        -3.7691e-01, -8.3590e-01, -7.9975e-01, -9.1350e-01, -8.7010e-01,\n",
       "        -4.8159e-01, -1.0497e+00, -9.6638e-01, -7.2232e-01, -6.3282e-01,\n",
       "        -8.5793e-01, -1.1151e+00, -9.1363e-01, -1.1234e+00, -1.1852e+00,\n",
       "        -5.9527e-01, -5.1220e-01, -3.6942e-01, -7.9104e-01, -2.7327e-01,\n",
       "        -4.0641e-01, -1.0447e+00, -4.0353e-01, -1.1687e+00,  4.4703e-01,\n",
       "        -8.7175e-01, -3.9155e-01,  1.3236e-01, -9.9519e-01,  5.0150e-02,\n",
       "        -9.8053e-01, -7.5060e-01, -1.1105e+00,  3.2138e-01, -6.9754e-02,\n",
       "        -3.0621e-01, -5.5395e-01,  1.6821e-01, -1.0951e+00, -1.3404e-04,\n",
       "        -3.9431e-01, -2.9169e-03, -7.5433e-01,  4.0647e-01, -3.2934e-01,\n",
       "        -2.8721e-01, -9.3524e-01, -1.0930e+00,  4.4805e-02, -9.9497e-01,\n",
       "         7.0392e-01,  2.8393e-01,  4.0284e-01, -9.5270e-01, -8.7589e-01,\n",
       "        -1.0195e+00, -7.9500e-01,  3.1482e-01,  4.7096e-01, -1.4287e-01,\n",
       "         3.0078e-01,  3.9237e-01, -1.0030e+00,  4.0403e-01, -5.9013e-01,\n",
       "        -8.9085e-01, -4.5007e-01, -4.1530e-01, -1.1056e+00, -1.0623e+00,\n",
       "         3.8982e-02, -7.7941e-01, -1.0366e+00, -4.4772e-01, -1.1475e+00,\n",
       "         3.2723e-01, -8.9666e-01, -1.0801e+00,  3.6821e-01, -1.0018e+00,\n",
       "        -1.6069e-01, -5.2942e-01, -8.9727e-01, -5.8713e-01, -8.8260e-01,\n",
       "        -1.0490e+00, -3.5742e-01, -8.1997e-01, -1.0336e+00, -9.5279e-01,\n",
       "        -4.5461e-01,  1.4710e-04, -8.7935e-01, -1.0809e+00, -7.4388e-01,\n",
       "        -1.0253e+00,  4.7850e-01, -7.6187e-01, -1.1191e+00, -8.1593e-01,\n",
       "         7.2868e-02, -3.8030e-01,  2.7548e-01, -6.6271e-01, -8.6358e-01,\n",
       "        -7.0134e-01, -3.4193e-01, -9.0926e-01, -8.4768e-01, -4.0677e-01,\n",
       "        -2.1495e-01,  5.2158e-02, -1.2119e+00, -7.6397e-01, -7.7174e-01,\n",
       "        -4.4777e-01, -6.6761e-01,  3.0144e-01, -7.4278e-01, -6.2795e-01])"
      ]
     },
     "execution_count": 3,
     "metadata": {},
     "output_type": "execute_result"
    }
   ],
   "source": [
    "e = torch.from_numpy(norm.rvs(loc=0, scale=sigma_noise, size=N)).detach().float()\n",
    "y = torch.cos(4.0*(X+0.2)) + e\n",
    "y.detach()"
   ]
  },
  {
   "cell_type": "code",
   "execution_count": 4,
   "metadata": {},
   "outputs": [],
   "source": [
    "y = y.numpy()"
   ]
  },
  {
   "cell_type": "code",
   "execution_count": 5,
   "metadata": {},
   "outputs": [],
   "source": [
    "X = X.numpy()"
   ]
  },
  {
   "cell_type": "code",
   "execution_count": 6,
   "metadata": {},
   "outputs": [
    {
     "data": {
      "text/plain": [
       "(200,)"
      ]
     },
     "execution_count": 6,
     "metadata": {},
     "output_type": "execute_result"
    }
   ],
   "source": [
    "y.shape"
   ]
  },
  {
   "cell_type": "code",
   "execution_count": 7,
   "metadata": {},
   "outputs": [
    {
     "data": {
      "text/plain": [
       "<matplotlib.collections.PathCollection at 0x7fa210f8d278>"
      ]
     },
     "execution_count": 7,
     "metadata": {},
     "output_type": "execute_result"
    },
    {
     "data": {
      "image/png": "[encoded data removed]",
      "text/plain": [
       "<Figure size 432x288 with 1 Axes>"
      ]
     },
     "metadata": {
      "needs_background": "light"
     },
     "output_type": "display_data"
    }
   ],
   "source": [
    "plt.scatter(X,y)"
   ]
  },
  {
   "cell_type": "markdown",
   "metadata": {},
   "source": [
    "# Model"
   ]
  },
  {
   "cell_type": "code",
   "execution_count": 8,
   "metadata": {},
   "outputs": [],
   "source": [
    "def activation(x):\n",
    "    #ReLU: np.maximum(x, 0)\n",
    "    #TanH: np.tanh(x)\n",
    "    return np.tanh(x)"
   ]
  },
  {
   "cell_type": "code",
   "execution_count": 9,
   "metadata": {},
   "outputs": [],
   "source": [
    "def model(X, Y, dim_H):\n",
    "    \n",
    "    # dimensions of x and y\n",
    "    dim_x, dim_y = 1, 1\n",
    "    # layer 1\n",
    "    w1 = sample(\"w1\", dist.Normal(np.zeros((dim_x, dim_H)), np.ones((dim_x, dim_H))))  # D_X D_H\n",
    "    b1 = sample(\"b1\", dist.Normal(np.zeros((X.shape[0], dim_H)), np.ones((X.shape[0], dim_H))))\n",
    "    z1 = activation(np.matmul(X, w1) + b1)  # N D_H  <= first layer of activations\n",
    "#    print('Z1', z1.shape)\n",
    "    # layer 2\n",
    "    w2 = sample(\"w2\", dist.Normal(np.zeros((dim_H, 1)), np.ones((dim_H, 1))))  # D_X D_H\n",
    "    b2 = sample(\"b2\", dist.Normal(np.zeros((200, 1)), np.ones((200, 1))))\n",
    "  #  print('Z2', np.matmul(z1, w2).shape)\n",
    "    z2 = np.matmul(z1, w2) + b2  # N D_H  <= first layer of activations\n",
    "    \n",
    "    # prior on noise\n",
    "#    prec_obs = sample(\"prec_obs\", dist.Gamma(3.0, 1.0))\n",
    "    sigma_obs = 0.1\n",
    "\n",
    "    # observe data\n",
    "    sample(\"Y\", dist.Normal(z2, sigma_obs), obs=Y)"
   ]
  },
  {
   "cell_type": "markdown",
   "metadata": {},
   "source": [
    "# Inference"
   ]
  },
  {
   "cell_type": "code",
   "execution_count": 10,
   "metadata": {},
   "outputs": [],
   "source": [
    "def run_inference(model, data, mcmc_params, rng, dim_H):\n",
    "    init_params, potential_fn, constrain_fn = initialize_model(rng, model, data[0], data[1], dim_H)\n",
    "    samples = mcmc(mcmc_params[0], mcmc_params[1] , init_params, sampler='hmc', potential_fn=potential_fn, constrain_fn=constrain_fn)\n",
    "    return samples"
   ]
  },
  {
   "cell_type": "markdown",
   "metadata": {},
   "source": [
    "# Parameters visualization"
   ]
  },
  {
   "cell_type": "code",
   "execution_count": 11,
   "metadata": {},
   "outputs": [],
   "source": [
    "def plot_samples_params(samples):\n",
    "    w1_samples = samples['w1'].squeeze(-2)\n",
    "    b1_samples = samples['b1'].squeeze(-2)\n",
    "    plt.plot(w1_samples)\n",
    "    plt.plot(b1_samples)"
   ]
  },
  {
   "cell_type": "markdown",
   "metadata": {},
   "source": [
    "# Prediction"
   ]
  },
  {
   "cell_type": "code",
   "execution_count": 12,
   "metadata": {},
   "outputs": [],
   "source": [
    "def predict(model, rng, samples, X, dim_H):\n",
    "    model = substitute(seed(model, rng), samples)\n",
    "    model_trace = trace(model).get_trace(X=X, Y=None, dim_H=dim_H)\n",
    "    return model_trace['Y']['value']"
   ]
  },
  {
   "cell_type": "markdown",
   "metadata": {},
   "source": [
    "# MAIN"
   ]
  },
  {
   "cell_type": "markdown",
   "metadata": {},
   "source": [
    "## Data visualization"
   ]
  },
  {
   "cell_type": "code",
   "execution_count": 13,
   "metadata": {},
   "outputs": [],
   "source": [
    "data = [onp.expand_dims(X, axis=1), onp.expand_dims(y, axis=1)]"
   ]
  },
  {
   "cell_type": "markdown",
   "metadata": {},
   "source": [
    "## Run"
   ]
  },
  {
   "cell_type": "code",
   "execution_count": null,
   "metadata": {},
   "outputs": [
    {
     "name": "stderr",
     "output_type": "stream",
     "text": [
      "/home/mathieu/anaconda3/lib/python3.7/site-packages/jax/lib/xla_bridge.py:114: UserWarning: No GPU/TPU found, falling back to CPU.\n",
      "  warnings.warn('No GPU/TPU found, falling back to CPU.')\n",
      "sample:  37%|███▋      | 37/100 [00:35<00:41,  1.53it/s, 1023 steps of size 1.95e-03. acc. prob=0.94]"
     ]
    }
   ],
   "source": [
    "rng, rng_predict = random.split(random.PRNGKey(0))\n",
    "samples = run_inference(model=model, data=data, mcmc_params=[0, 100], rng=rng, dim_H=50)"
   ]
  },
  {
   "cell_type": "code",
   "execution_count": null,
   "metadata": {},
   "outputs": [],
   "source": [
    "samples.keys()"
   ]
  },
  {
   "cell_type": "markdown",
   "metadata": {},
   "source": [
    "## Visualization"
   ]
  },
  {
   "cell_type": "code",
   "execution_count": null,
   "metadata": {},
   "outputs": [],
   "source": [
    "loss = []\n",
    "Y_predict = predict(model, rng, samples, data[0], 1)\n",
    "for i in range(0, 99):\n",
    "    loss.append(mean_squared_error(Y_predict[i, :, i], data[1]))\n",
    "plt.plot(loss)"
   ]
  },
  {
   "cell_type": "code",
   "execution_count": null,
   "metadata": {},
   "outputs": [],
   "source": [
    "Y_predict.shape"
   ]
  },
  {
   "cell_type": "code",
   "execution_count": null,
   "metadata": {},
   "outputs": [],
   "source": [
    "vmap_args = (samples, random.split(rng_predict, 100))\n",
    "predictions = vmap(lambda samples, rng: predict(model, rng, samples, time_data[0] , 1))(*vmap_args)\n",
    "predictions = predictions[..., 0]"
   ]
  },
  {
   "cell_type": "code",
   "execution_count": null,
   "metadata": {},
   "outputs": [],
   "source": [
    "predictions"
   ]
  },
  {
   "cell_type": "code",
   "execution_count": null,
   "metadata": {},
   "outputs": [],
   "source": [
    "loss = []\n",
    "for i in range(0, 1000):\n",
    "    loss.append(mean_squared_error(predictions[i], time_data[1]))\n",
    "plt.plot(loss)"
   ]
  },
  {
   "cell_type": "code",
   "execution_count": null,
   "metadata": {},
   "outputs": [],
   "source": []
  }
 ],
 "metadata": {
  "kernelspec": {
   "display_name": "Python 3",
   "language": "python",
   "name": "python3"
  },
  "language_info": {
   "codemirror_mode": {
    "name": "ipython",
    "version": 3
   },
   "file_extension": ".py",
   "mimetype": "text/x-python",
   "name": "python",
   "nbconvert_exporter": "python",
   "pygments_lexer": "ipython3",
   "version": "3.7.1"
  }
 },
 "nbformat": 4,
 "nbformat_minor": 2
}
