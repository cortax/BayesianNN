{
 "cells": [
  {
   "cell_type": "code",
   "execution_count": 11,
   "metadata": {},
   "outputs": [],
   "source": [
    "import numpy as np\n",
    "import torch\n",
    "from torch.distributions import Uniform\n",
    "from scipy.stats import norm\n",
    "import pickle\n",
    "\n",
    "import matplotlib.pyplot as plt"
   ]
  },
  {
   "cell_type": "code",
   "execution_count": 343,
   "metadata": {},
   "outputs": [],
   "source": [
    "sigma_noise = 0.1\n",
    "N = 25\n",
    "M=60"
   ]
  },
  {
   "cell_type": "code",
   "execution_count": 325,
   "metadata": {},
   "outputs": [
    {
     "data": {
      "text/plain": [
       "(torch.Size([15, 1]), torch.Size([120]))"
      ]
     },
     "execution_count": 325,
     "metadata": {},
     "output_type": "execute_result"
    }
   ],
   "source": [
    "X_l=Uniform(torch.tensor([-1.0]), torch.tensor([-.5])).sample(sample_shape=torch.Size([int(M)])).squeeze()\n",
    "X_r=Uniform(torch.tensor([.5]), torch.tensor([1.0])).sample(sample_shape=torch.Size([int(M)])).squeeze()\n",
    "X_in=torch.cat([X_l,X_r])\n",
    "X.shape,X_in.shape\n"
   ]
  },
  {
   "cell_type": "code",
   "execution_count": 348,
   "metadata": {},
   "outputs": [],
   "source": [
    "\n",
    "\n",
    "X = Uniform(torch.tensor([-2.0]), torch.tensor([2.0])).sample(sample_shape=torch.Size([int(N)])).squeeze()\n",
    "\n",
    "\n"
   ]
  },
  {
   "cell_type": "code",
   "execution_count": 349,
   "metadata": {},
   "outputs": [],
   "source": [
    "e = torch.from_numpy(norm.rvs(loc=0, scale=sigma_noise, size=N)).float()\n",
    "y = torch.cos(4.0*(X+0.2)) + e\n",
    "\n",
    "e_in = torch.from_numpy(norm.rvs(loc=0, scale=sigma_noise, size=2*M)).float()\n",
    "y_in = torch.cos(4.0*(X_in+0.2)) + e_in\n",
    "\n"
   ]
  },
  {
   "cell_type": "code",
   "execution_count": 357,
   "metadata": {},
   "outputs": [
    {
     "data": {
      "text/plain": [
       "(-3.0, 3.0)"
      ]
     },
     "execution_count": 357,
     "metadata": {},
     "output_type": "execute_result"
    },
    {
     "data": {
      "image/png": "[encoded data removed]",
      "text/plain": [
       "<Figure size 432x288 with 1 Axes>"
      ]
     },
     "metadata": {
      "needs_background": "light"
     },
     "output_type": "display_data"
    }
   ],
   "source": [
    "%matplotlib inline\n",
    "plt.scatter(X_in,y_in)\n",
    "\n",
    "plt.scatter(X,y)\n",
    "plt.xlim(-2.,2.)\n",
    "plt.ylim(-3.,3.)"
   ]
  },
  {
   "cell_type": "code",
   "execution_count": 352,
   "metadata": {},
   "outputs": [],
   "source": [
    "torch.save((X.unsqueeze(-1),y),'New_toy_data/foong_train_sparse.pt')"
   ]
  },
  {
   "cell_type": "code",
   "execution_count": 353,
   "metadata": {},
   "outputs": [],
   "source": [
    "torch.save((X_in.unsqueeze(-1),y_in),'New_toy_data/foong_train_out.pt')"
   ]
  },
  {
   "cell_type": "code",
   "execution_count": 354,
   "metadata": {},
   "outputs": [],
   "source": [
    "X_train_mixed=torch.cat([X.unsqueeze(-1),X_in.unsqueeze(-1)], dim=0)\n",
    "y_train_mixed=torch.cat([y,y_in], dim=0)"
   ]
  },
  {
   "cell_type": "code",
   "execution_count": 355,
   "metadata": {},
   "outputs": [],
   "source": [
    "torch.save((X_train_mixed,y_train_mixed),'New_toy_data/foong_train_mixed.pt')"
   ]
  },
  {
   "cell_type": "code",
   "execution_count": 282,
   "metadata": {},
   "outputs": [
    {
     "data": {
      "text/plain": [
       "<matplotlib.collections.PathCollection at 0x7f141d8fb8b0>"
      ]
     },
     "execution_count": 282,
     "metadata": {},
     "output_type": "execute_result"
    },
    {
     "data": {
      "image/png": "[encoded data removed]",
      "text/plain": [
       "<Figure size 432x288 with 1 Axes>"
      ]
     },
     "metadata": {
      "needs_background": "light"
     },
     "output_type": "display_data"
    }
   ],
   "source": [
    "plt.scatter(X_train_mixed,y_train_mixed)"
   ]
  },
  {
   "cell_type": "code",
   "execution_count": 321,
   "metadata": {},
   "outputs": [],
   "source": [
    "X, y=torch.load('New_toy_data/foong_train_sparse.pt')"
   ]
  },
  {
   "cell_type": "code",
   "execution_count": 323,
   "metadata": {},
   "outputs": [
    {
     "data": {
      "text/plain": [
       "torch.Size([15, 1])"
      ]
     },
     "execution_count": 323,
     "metadata": {},
     "output_type": "execute_result"
    },
    {
     "data": {
      "image/png": "[encoded data removed]",
      "text/plain": [
       "<Figure size 432x288 with 1 Axes>"
      ]
     },
     "metadata": {
      "needs_background": "light"
     },
     "output_type": "display_data"
    }
   ],
   "source": [
    "plt.scatter(X,y)\n",
    "plt.xlim(-2.,2.)\n",
    "plt.ylim(-3.,3.)\n",
    "X.shape"
   ]
  },
  {
   "cell_type": "code",
   "execution_count": 103,
   "metadata": {},
   "outputs": [
    {
     "data": {
      "text/plain": [
       "torch.Size([2000, 1])"
      ]
     },
     "execution_count": 103,
     "metadata": {},
     "output_type": "execute_result"
    }
   ],
   "source": [
    "X_validation.shape"
   ]
  },
  {
   "cell_type": "code",
   "execution_count": 108,
   "metadata": {},
   "outputs": [
    {
     "data": {
      "text/plain": [
       "(tensor(-0.9992), tensor(1.0990))"
      ]
     },
     "execution_count": 108,
     "metadata": {},
     "output_type": "execute_result"
    }
   ],
   "source": [
    "X_validation.min(), X_validation.max()"
   ]
  },
  {
   "cell_type": "markdown",
   "metadata": {},
   "source": [
    "# Model #\n",
    "\n",
    "$$\n",
    "y = \\cos(4.0*(X+0.2)) + \\epsilon, \\quad \\text{with $\\epsilon \\sim \\mathcal{N}(0., 0.1)$}\n",
    "$$\n",
    "\n",
    "\n",
    "# sparse data #\n",
    "\n",
    "train: 25 samples from uniform $[-2,2]$\n",
    "\n",
    "validation: 15 samples from uniform $[-2,2]$\n",
    "\n",
    "# out of distribution data #\n",
    "\n",
    "train: 60 samples from uniform $[-1.,-.5]$ and 60 from uniform $[.5,1.]$.\n",
    "\n",
    "validation: 30 samples, 15 from uniform $[-1.,-.5]$ and 15 from uniform $[.5,1.]$.\n",
    "\n",
    "\n",
    "# mixed data #\n",
    "train: union of the training sets from sparse and OOD data. 145 samples\n",
    "\n",
    "validation: union of the two validation sets.\n",
    "\n",
    "\n",
    "# test data #\n",
    "test: 600 samples from $[-2,2]$"
   ]
  },
  {
   "cell_type": "code",
   "execution_count": null,
   "metadata": {},
   "outputs": [],
   "source": []
  }
 ],
 "metadata": {
  "kernelspec": {
   "display_name": "Python 3",
   "language": "python",
   "name": "python3"
  },
  "language_info": {
   "codemirror_mode": {
    "name": "ipython",
    "version": 3
   },
   "file_extension": ".py",
   "mimetype": "text/x-python",
   "name": "python",
   "nbconvert_exporter": "python",
   "pygments_lexer": "ipython3",
   "version": "3.8.2"
  }
 },
 "nbformat": 4,
 "nbformat_minor": 4
}
