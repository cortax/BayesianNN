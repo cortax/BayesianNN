{
 "cells": [
  {
   "cell_type": "code",
   "execution_count": 2,
   "metadata": {},
   "outputs": [],
   "source": [
    "import numpy as np\n",
    "import torch\n"
   ]
  },
  {
   "cell_type": "code",
   "execution_count": 5,
   "metadata": {},
   "outputs": [
    {
     "data": {
      "text/plain": [
       "((768, 8), (768,))"
      ]
     },
     "execution_count": 5,
     "metadata": {},
     "output_type": "execute_result"
    }
   ],
   "source": [
    "def load_data(txt):\n",
    "\n",
    "#    data = np.loadtxt(txt + '/' + txt + '.txt')\n",
    "    data = np.genfromtxt(txt + '/' + txt + '.csv', delimiter='')\n",
    "\n",
    "    # Les targets sont à la fin. \n",
    "    X = data[:, range(data.shape[1] - 1) ]\n",
    "    y = data[:, data.shape[1] - 1]\n",
    "    \n",
    "    # Les targets sont au début. \n",
    "#    X = data[:, 0:]\n",
    "#    y = data[:, 0]\n",
    "    data=X,y\n",
    "    torch.save(data, txt + '/data.pt' )\n",
    "    return data\n",
    "\n",
    "X,y=load_data('energy')\n",
    "X.shape, y.shape"
   ]
  },
  {
   "cell_type": "code",
   "execution_count": 6,
   "metadata": {},
   "outputs": [
    {
     "data": {
      "text/plain": [
       "(array([  0.98, 514.5 , 294.  , 110.25,   7.  ,   2.  ,   0.  ,   0.  ]),\n",
       " 15.55)"
      ]
     },
     "execution_count": 6,
     "metadata": {},
     "output_type": "execute_result"
    }
   ],
   "source": [
    "X[0], y[0]"
   ]
  },
  {
   "cell_type": "code",
   "execution_count": 5,
   "metadata": {},
   "outputs": [],
   "source": [
    "data=torch.load('concrete/data.pt')"
   ]
  },
  {
   "cell_type": "code",
   "execution_count": 6,
   "metadata": {},
   "outputs": [
    {
     "data": {
      "text/plain": [
       "(array([[ 540. ,    0. ,    0. , ..., 1040. ,  676. ,   28. ],\n",
       "        [ 540. ,    0. ,    0. , ..., 1055. ,  676. ,   28. ],\n",
       "        [ 332.5,  142.5,    0. , ...,  932. ,  594. ,  270. ],\n",
       "        ...,\n",
       "        [ 148.5,  139.4,  108.6, ...,  892.4,  780. ,   28. ],\n",
       "        [ 159.1,  186.7,    0. , ...,  989.6,  788.9,   28. ],\n",
       "        [ 260.9,  100.5,   78.3, ...,  864.5,  761.5,   28. ]]),\n",
       " array([79.99, 61.89, 40.27, ..., 23.7 , 32.77, 32.4 ]))"
      ]
     },
     "execution_count": 6,
     "metadata": {},
     "output_type": "execute_result"
    }
   ],
   "source": [
    "data"
   ]
  },
  {
   "cell_type": "code",
   "execution_count": null,
   "metadata": {},
   "outputs": [],
   "source": []
  }
 ],
 "metadata": {
  "kernelspec": {
   "display_name": "Python 3",
   "language": "python",
   "name": "python3"
  },
  "language_info": {
   "codemirror_mode": {
    "name": "ipython",
    "version": 3
   },
   "file_extension": ".py",
   "mimetype": "text/x-python",
   "name": "python",
   "nbconvert_exporter": "python",
   "pygments_lexer": "ipython3",
   "version": "3.8.2"
  }
 },
 "nbformat": 4,
 "nbformat_minor": 2
}
