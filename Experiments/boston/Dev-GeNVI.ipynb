{
 "cells": [
  {
   "cell_type": "code",
   "execution_count": 3,
   "metadata": {},
   "outputs": [],
   "source": [
    "import torch\n",
    "from torch import nn\n",
    "import math\n",
    "\n",
    "from sklearn.preprocessing import StandardScaler\n"
   ]
  },
  {
   "cell_type": "code",
   "execution_count": 4,
   "metadata": {},
   "outputs": [
    {
     "data": {
      "text/plain": [
       "device(type='cpu')"
      ]
     },
     "execution_count": 4,
     "metadata": {},
     "output_type": "execute_result"
    }
   ],
   "source": [
    "# Find what device to work with\n",
    "device = torch.device('cuda:1' if torch.cuda.is_available() else 'cpu')\n",
    "device"
   ]
  },
  {
   "cell_type": "code",
   "execution_count": 6,
   "metadata": {},
   "outputs": [],
   "source": [
    "ens=[torch.rand(10),torch.rand(10)]"
   ]
  },
  {
   "cell_type": "code",
   "execution_count": 7,
   "metadata": {},
   "outputs": [
    {
     "data": {
      "text/plain": [
       "tensor([[0.7225, 0.3041, 0.1289, 0.7356, 0.5725, 0.9177, 0.4071, 0.6804, 0.2379,\n",
       "         0.7089],\n",
       "        [0.5517, 0.4859, 0.6030, 0.4225, 0.6662, 0.0266, 0.1302, 0.9302, 0.6602,\n",
       "         0.5498]])"
      ]
     },
     "execution_count": 7,
     "metadata": {},
     "output_type": "execute_result"
    }
   ],
   "source": [
    "torch.stack(ens)"
   ]
  },
  {
   "cell_type": "code",
   "execution_count": 3,
   "metadata": {},
   "outputs": [
    {
     "ename": "NameError",
     "evalue": "name 'y_train' is not defined",
     "output_type": "error",
     "traceback": [
      "\u001b[0;31m---------------------------------------------------------------------------\u001b[0m",
      "\u001b[0;31mNameError\u001b[0m                                 Traceback (most recent call last)",
      "\u001b[0;32m<ipython-input-3-620d858f6e59>\u001b[0m in \u001b[0;36m<module>\u001b[0;34m\u001b[0m\n\u001b[0;32m----> 1\u001b[0;31m \u001b[0mtorch\u001b[0m\u001b[0;34m.\u001b[0m\u001b[0mstd_mean\u001b[0m\u001b[0;34m(\u001b[0m\u001b[0my_train\u001b[0m\u001b[0;34m)\u001b[0m\u001b[0;34m\u001b[0m\u001b[0;34m\u001b[0m\u001b[0m\n\u001b[0m",
      "\u001b[0;31mNameError\u001b[0m: name 'y_train' is not defined"
     ]
    }
   ],
   "source": [
    "torch.std_mean(y_train)"
   ]
  },
  {
   "cell_type": "code",
   "execution_count": 15,
   "metadata": {},
   "outputs": [],
   "source": [
    "splitting_index=0\n"
   ]
  },
  {
   "cell_type": "code",
   "execution_count": 16,
   "metadata": {},
   "outputs": [],
   "source": [
    "def normalize(X_train, y_train, X_test, y_test,device):\n",
    "\n",
    "    scaler_X = StandardScaler()\n",
    "    scaler_y = StandardScaler()\n",
    "\n",
    "    X_train = torch.as_tensor(scaler_X.fit_transform(X_train)).float().to(device)\n",
    "    y_train_un=y_train.clone().float().to(device)\n",
    "    y_train = torch.as_tensor(scaler_y.fit_transform(y_train)).float().to(device)\n",
    "   \n",
    "    \n",
    "    inverse_scaler_y = lambda t: torch.as_tensor(scaler_y.inverse_transform(t.cpu())).to(device)\n",
    "\n",
    "    X_test = torch.as_tensor(scaler_X.transform(X_test)).float().to(device)\n",
    "    y_test_un=y_test.float().to(device)\n",
    "    return X_train, y_train, y_train_un, X_test, y_test_un,  inverse_scaler_y\n",
    "\n",
    "def get_data(splitting_index,device):\n",
    "    X_train = torch.load('data/boston_X_train_('+str(splitting_index)+').pt')\n",
    "    y_train = torch.load('data/boston_y_train_('+str(splitting_index)+').pt')\n",
    "    X_test = torch.load('data/boston_X_test_('+str(splitting_index)+').pt')\n",
    "    y_test=torch.load('data/boston_y_test_('+str(splitting_index)+').pt')\n",
    "    return normalize(X_train, y_train, X_test, y_test,device)\n"
   ]
  },
  {
   "cell_type": "code",
   "execution_count": 17,
   "metadata": {},
   "outputs": [],
   "source": [
    "X_train, y_train, y_train_un, X_test, y_test_un, inverse_scaler_y = get_data(splitting_index, device)"
   ]
  },
  {
   "cell_type": "code",
   "execution_count": 12,
   "metadata": {},
   "outputs": [
    {
     "data": {
      "text/plain": [
       "(tensor(9.4673), tensor(22.6422))"
      ]
     },
     "execution_count": 12,
     "metadata": {},
     "output_type": "execute_result"
    }
   ],
   "source": [
    "torch.std_mean(inv_transform_y(y_train))"
   ]
  },
  {
   "cell_type": "code",
   "execution_count": 26,
   "metadata": {},
   "outputs": [
    {
     "data": {
      "text/plain": [
       "(tensor(9.3169), tensor(22.6514))"
      ]
     },
     "execution_count": 26,
     "metadata": {},
     "output_type": "execute_result"
    }
   ],
   "source": [
    "torch.std_mean(inverse_scaler_y(y_train))"
   ]
  },
  {
   "cell_type": "code",
   "execution_count": 71,
   "metadata": {},
   "outputs": [],
   "source": [
    "sigma=2*torch.rand(10)\n",
    "mu=torch.ones(10)"
   ]
  },
  {
   "cell_type": "code",
   "execution_count": 75,
   "metadata": {},
   "outputs": [],
   "source": [
    "eps=torch.ones(5,10)"
   ]
  },
  {
   "cell_type": "code",
   "execution_count": 76,
   "metadata": {},
   "outputs": [],
   "source": [
    "x=mu+sigma*eps"
   ]
  },
  {
   "cell_type": "code",
   "execution_count": 78,
   "metadata": {},
   "outputs": [
    {
     "data": {
      "text/plain": [
       "torch.Size([5, 10])"
      ]
     },
     "execution_count": 78,
     "metadata": {},
     "output_type": "execute_result"
    }
   ],
   "source": [
    "x.shape"
   ]
  },
  {
   "cell_type": "code",
   "execution_count": 29,
   "metadata": {},
   "outputs": [
    {
     "data": {
      "text/plain": [
       "tensor([[-0.1649,  0.0182,  1.2446, -0.0914, -0.1124, -1.9149,  0.9961,  0.2815,\n",
       "          1.1738,  0.9133]])"
      ]
     },
     "execution_count": 29,
     "metadata": {},
     "output_type": "execute_result"
    }
   ],
   "source": [
    "x"
   ]
  },
  {
   "cell_type": "code",
   "execution_count": 30,
   "metadata": {},
   "outputs": [
    {
     "data": {
      "text/plain": [
       "tensor([[0.3404, 1.4651, 1.1931, 0.1822, 0.8562, 1.1128, 0.9860, 1.0481, 0.9739,\n",
       "         0.9267]])"
      ]
     },
     "execution_count": 30,
     "metadata": {},
     "output_type": "execute_result"
    }
   ],
   "source": [
    "x/eps"
   ]
  },
  {
   "cell_type": "code",
   "execution_count": 31,
   "metadata": {},
   "outputs": [
    {
     "data": {
      "text/plain": [
       "tensor([0.3404, 1.4651, 1.1931, 0.1822, 0.8562, 1.1128, 0.9860, 1.0481, 0.9739,\n",
       "        0.9267])"
      ]
     },
     "execution_count": 31,
     "metadata": {},
     "output_type": "execute_result"
    }
   ],
   "source": [
    "sigma"
   ]
  },
  {
   "cell_type": "code",
   "execution_count": 79,
   "metadata": {},
   "outputs": [],
   "source": [
    "class MeanFieldVariationalDistribution(nn.Module):\n",
    "    def __init__(self, nb_dim, std_init=1., sigma=1.0, device='cpu'):\n",
    "        super(MeanFieldVariationalDistribution, self).__init__()\n",
    "        self.device = device\n",
    "        self.nb_dim = nb_dim\n",
    "        self.rho = nn.Parameter(torch.log(torch.exp(sigma*torch.ones(nb_dim, device=device)) - 1), requires_grad=True)\n",
    "        self.mu = nn.Parameter(std_init*torch.randn(nb_dim, device=device), requires_grad=True)\n",
    "  \n",
    "        \n",
    "    @property\n",
    "    def sigma(self):\n",
    "        return self._rho_to_sigma(self.rho)\n",
    "        \n",
    "    def forward(self, n=1):\n",
    "        sigma = self._rho_to_sigma(self.rho)\n",
    "        epsilon = torch.randn(size=(n,self.nb_dim)).to(self.device)\n",
    "        return self.mu + sigma *epsilon\n",
    "    \n",
    "    def _rho_to_sigma(self, rho):\n",
    "        sigma = torch.log(1 + torch.exp(rho))\n",
    "        return sigma\n",
    "\n",
    "    \n",
    "    def log_prob(self, x):\n",
    "        S = self.sigma\n",
    "        mu = self.mu\n",
    "        dim=self.nb_dim\n",
    "        n_x=x.shape[0]\n",
    "        H=S.view(dim,1,1).inverse().view(1,1,dim)\n",
    "        d=((x-mu.view(1,dim))**2).view(n_x,dim)\n",
    "        const=0.5*S.log().sum()+0.5*dim*torch.tensor(2*math.pi).log()\n",
    "        return -0.5*(H*d).sum(2).squeeze()-const\n",
    "\n",
    "\n",
    "class MeanFieldVariationalMixtureDistribution(nn.Module):\n",
    "    def __init__(self, nb_comp, dim,std_init=1.,sigma=1.0, device='cpu'):\n",
    "        super(MeanFieldVariationalMixtureDistribution, self).__init__()\n",
    "        self.nb_comp=nb_comp\n",
    "        self.output_dim=dim\n",
    "        self.components= nn.ModuleList([MeanFieldVariationalDistribution(dim, std_init,sigma, device) for i in range(nb_comp)]).to(device)  \n",
    "        self.device = device\n",
    "        \n",
    "    def sample(self, n=1):\n",
    "        return torch.stack([self.components[c](n) for c in range(self.nb_comp)])\n",
    "\n",
    "    \n",
    "    def forward(self, n=1):\n",
    "        d = torch.distributions.multinomial.Multinomial(n, torch.ones(self.nb_comp))\n",
    "        m = d.sample()\n",
    "        return torch.cat([self.components[c](int(m[c])) for c in range(self.nb_comp)])\n",
    "            \n",
    "    def log_prob(self, x):\n",
    "        lp= torch.stack([self.components[c].log_prob(x) for c in range(self.nb_comp)],dim=0)\n",
    "        return torch.logsumexp(lp,dim=0)-torch.as_tensor(float(self.nb_comp)).log()\n",
    "\n",
    " "
   ]
  },
  {
   "cell_type": "code",
   "execution_count": 80,
   "metadata": {},
   "outputs": [],
   "source": [
    "MFVI=MeanFieldVariationalMixtureDistribution(2,5)"
   ]
  },
  {
   "cell_type": "code",
   "execution_count": 87,
   "metadata": {},
   "outputs": [
    {
     "data": {
      "text/plain": [
       "tensor([-5.3028, -5.3028, -5.3028], grad_fn=<SubBackward0>)"
      ]
     },
     "execution_count": 87,
     "metadata": {},
     "output_type": "execute_result"
    }
   ],
   "source": [
    "x=torch.zeros(3,5)\n",
    "MFVI.log_prob(x)"
   ]
  },
  {
   "cell_type": "code",
   "execution_count": 92,
   "metadata": {},
   "outputs": [],
   "source": [
    "p1=torch.distributions.multivariate_normal.MultivariateNormal(MFVI.components[0].mu,covariance_matrix=torch.eye(5))\n",
    "p2=torch.distributions.multivariate_normal.MultivariateNormal(MFVI.components[1].mu,covariance_matrix=torch.eye(5))"
   ]
  },
  {
   "cell_type": "code",
   "execution_count": 95,
   "metadata": {},
   "outputs": [
    {
     "data": {
      "text/plain": [
       "tensor([-5.3028, -5.3028, -5.3028], grad_fn=<LogBackward>)"
      ]
     },
     "execution_count": 95,
     "metadata": {},
     "output_type": "execute_result"
    }
   ],
   "source": [
    "torch.log(0.5*(p1.log_prob(x).exp()+p2.log_prob(x).exp()))"
   ]
  },
  {
   "cell_type": "code",
   "execution_count": 15,
   "metadata": {},
   "outputs": [],
   "source": [
    "theta=prior.sample((1,1000)).squeeze()\n",
    "theta_=MFVI(1000).detach()"
   ]
  },
  {
   "cell_type": "code",
   "execution_count": 16,
   "metadata": {},
   "outputs": [
    {
     "data": {
      "text/plain": [
       "<matplotlib.collections.PathCollection at 0x1a2b47fd50>"
      ]
     },
     "execution_count": 16,
     "metadata": {},
     "output_type": "execute_result"
    },
    {
     "data": {
      "image/png": "[encoded data removed]",
      "text/plain": [
       "<Figure size 432x288 with 1 Axes>"
      ]
     },
     "metadata": {
      "needs_background": "light"
     },
     "output_type": "display_data"
    }
   ],
   "source": [
    "import matplotlib.pyplot as plt\n",
    "%matplotlib inline\n",
    "plt.scatter(theta[:,0],theta[:,1])\n",
    "plt.scatter(theta_[:,0],theta_[:,1])"
   ]
  },
  {
   "cell_type": "code",
   "execution_count": 57,
   "metadata": {},
   "outputs": [],
   "source": [
    "def NNE(theta,k=1):\n",
    "    \"\"\"\n",
    "    Parameters:\n",
    "        theta (Tensor): Samples, NbExemples X NbDimensions   \n",
    "        k (Int): ordinal number\n",
    "\n",
    "    Returns:\n",
    "        (Float) k-Nearest Neighbour Estimation of the entropy of theta  \n",
    "    \n",
    "    \"\"\"\n",
    "    nb_samples=theta.shape[0]\n",
    "    dim=theta.shape[1]\n",
    "    D=torch.cdist(theta,theta)\n",
    "    a = torch.topk(D, k=k+1, dim=0, largest=False, sorted=True)[0][k].clamp(torch.finfo().eps,float('inf')).to(device)\n",
    "    d=torch.as_tensor(float(dim),device=device)\n",
    "    K=torch.as_tensor(float(k),device=device)\n",
    "    N=torch.as_tensor(float(nb_samples),device=device)\n",
    "    pi=torch.as_tensor(math.pi,device=device)\n",
    "    lcd = d/2.*pi.log() - torch.lgamma(1. + d/2.0)\n",
    "    return  - torch.digamma(K) + lcd + d/nb_samples*torch.sum(torch.log(a))+torch.log(N)#+torch.digamma(N)"
   ]
  },
  {
   "cell_type": "code",
   "execution_count": 77,
   "metadata": {},
   "outputs": [
    {
     "data": {
      "text/plain": [
       "tensor(56.0667)"
      ]
     },
     "execution_count": 77,
     "metadata": {},
     "output_type": "execute_result"
    }
   ],
   "source": [
    "dim=60\n",
    "p=torch.distributions.multivariate_normal.MultivariateNormal(torch.randn(dim),covariance_matrix=torch.diagflat(torch.rand(dim).abs()))\n",
    "p.entropy()\n"
   ]
  },
  {
   "cell_type": "code",
   "execution_count": 82,
   "metadata": {},
   "outputs": [
    {
     "data": {
      "text/plain": [
       "tensor(69.1525)"
      ]
     },
     "execution_count": 82,
     "metadata": {},
     "output_type": "execute_result"
    }
   ],
   "source": [
    "NNE(p.sample((1,10000)).squeeze(),1)"
   ]
  },
  {
   "cell_type": "code",
   "execution_count": 60,
   "metadata": {},
   "outputs": [
    {
     "data": {
      "text/plain": [
       "tensor(4.6002)"
      ]
     },
     "execution_count": 60,
     "metadata": {},
     "output_type": "execute_result"
    }
   ],
   "source": [
    "torch.digamma(torch.tensor(float(100)))"
   ]
  },
  {
   "cell_type": "code",
   "execution_count": 55,
   "metadata": {},
   "outputs": [
    {
     "data": {
      "text/plain": [
       "4.605170185988092"
      ]
     },
     "execution_count": 55,
     "metadata": {},
     "output_type": "execute_result"
    }
   ],
   "source": [
    "import numpy as np\n",
    "np.log(100)"
   ]
  },
  {
   "cell_type": "code",
   "execution_count": null,
   "metadata": {},
   "outputs": [],
   "source": []
  }
 ],
 "metadata": {
  "kernelspec": {
   "display_name": "Python 3",
   "language": "python",
   "name": "python3"
  },
  "language_info": {
   "codemirror_mode": {
    "name": "ipython",
    "version": 3
   },
   "file_extension": ".py",
   "mimetype": "text/x-python",
   "name": "python",
   "nbconvert_exporter": "python",
   "pygments_lexer": "ipython3",
   "version": "3.7.4"
  }
 },
 "nbformat": 4,
 "nbformat_minor": 2
}
