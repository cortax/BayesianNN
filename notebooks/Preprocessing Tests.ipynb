{
 "cells": [
  {
   "cell_type": "code",
   "execution_count": 2,
   "metadata": {},
   "outputs": [],
   "source": [
    "import pandas as pd\n",
    "import os\n",
    "import glob\n",
    "import numpy as np\n"
   ]
  },
  {
   "cell_type": "code",
   "execution_count": null,
   "metadata": {},
   "outputs": [],
   "source": [
    "df = pd.read_csv(\"../DataBombardier/flight_test_1.csv\")"
   ]
  },
  {
   "cell_type": "code",
   "execution_count": null,
   "metadata": {
    "scrolled": false
   },
   "outputs": [],
   "source": [
    "df.head()"
   ]
  },
  {
   "cell_type": "code",
   "execution_count": null,
   "metadata": {
    "scrolled": true
   },
   "outputs": [],
   "source": [
    "df = df.drop('Description', axis=1)"
   ]
  },
  {
   "cell_type": "code",
   "execution_count": null,
   "metadata": {},
   "outputs": [],
   "source": [
    "df = df.set_index('TIME OF DAY IN SECONDS')"
   ]
  },
  {
   "cell_type": "code",
   "execution_count": null,
   "metadata": {},
   "outputs": [],
   "source": [
    "data_units = df.iloc[0]\n",
    "data_units.name = 'Unit'\n",
    "data_units"
   ]
  },
  {
   "cell_type": "code",
   "execution_count": null,
   "metadata": {},
   "outputs": [],
   "source": [
    "data_label_type = df.iloc[1]\n",
    "data_label_type.name = 'Type'\n",
    "data_label_type"
   ]
  },
  {
   "cell_type": "code",
   "execution_count": null,
   "metadata": {},
   "outputs": [],
   "source": [
    "df = df.iloc[3:]\n",
    "df.head()"
   ]
  },
  {
   "cell_type": "code",
   "execution_count": null,
   "metadata": {},
   "outputs": [],
   "source": [
    "df = df.reset_index()\n",
    "df.head()"
   ]
  },
  {
   "cell_type": "code",
   "execution_count": null,
   "metadata": {},
   "outputs": [],
   "source": [
    "df.describe()"
   ]
  },
  {
   "cell_type": "code",
   "execution_count": null,
   "metadata": {},
   "outputs": [],
   "source": [
    "df.info()"
   ]
  },
  {
   "cell_type": "code",
   "execution_count": null,
   "metadata": {},
   "outputs": [],
   "source": []
  },
  {
   "cell_type": "code",
   "execution_count": null,
   "metadata": {},
   "outputs": [],
   "source": [
    "nparray = df.to_numpy()\n",
    "nparray"
   ]
  },
  {
   "cell_type": "code",
   "execution_count": null,
   "metadata": {},
   "outputs": [],
   "source": []
  },
  {
   "cell_type": "code",
   "execution_count": 3,
   "metadata": {},
   "outputs": [],
   "source": [
    "csv_stringLoader = \"../DataBombardier/flight_test_*.csv\""
   ]
  },
  {
   "cell_type": "code",
   "execution_count": 4,
   "metadata": {},
   "outputs": [],
   "source": [
    "def sortKeyFunc(s):\n",
    "    return int(os.path.basename(s)[12:-4])"
   ]
  },
  {
   "cell_type": "code",
   "execution_count": 9,
   "metadata": {},
   "outputs": [],
   "source": [
    "def bomb_csv_to_df(csv_stringLoader):\n",
    "    list_df = []\n",
    "    list_data_units = []\n",
    "    list_data_label_type = []\n",
    "    allFiles = sorted(glob.glob(csv_stringLoader), key=sortKeyFunc)\n",
    "\n",
    "    for files in allFiles:\n",
    "        print('Loading:{}'.format(files))\n",
    "        df = pd.read_csv(files)\n",
    "        df = df.drop('Description', axis=1)\n",
    "        df = df.set_index('TIME OF DAY IN SECONDS')\n",
    "\n",
    "        data_units = df.iloc[0]\n",
    "        data_units.name = 'Unit'\n",
    "\n",
    "        data_label_type = df.iloc[1]\n",
    "        data_label_type.name = 'Type'\n",
    "\n",
    "        df = df.iloc[3:]    \n",
    "\n",
    "        list_df.append(df)\n",
    "        list_data_units.append(data_units)\n",
    "        list_data_label_type.append(data_label_type)\n",
    "        \n",
    "    return list_df, list_data_units, list_data_label_type"
   ]
  },
  {
   "cell_type": "code",
   "execution_count": 10,
   "metadata": {},
   "outputs": [
    {
     "name": "stdout",
     "output_type": "stream",
     "text": [
      "Loading:../DataBombardier\\flight_test_1.csv\n",
      "Loading:../DataBombardier\\flight_test_2.csv\n",
      "Loading:../DataBombardier\\flight_test_3.csv\n",
      "Loading:../DataBombardier\\flight_test_4.csv\n",
      "Loading:../DataBombardier\\flight_test_5.csv\n",
      "Loading:../DataBombardier\\flight_test_6.csv\n",
      "Loading:../DataBombardier\\flight_test_7.csv\n",
      "Loading:../DataBombardier\\flight_test_8.csv\n",
      "Loading:../DataBombardier\\flight_test_9.csv\n",
      "Loading:../DataBombardier\\flight_test_10.csv\n",
      "Loading:../DataBombardier\\flight_test_11.csv\n",
      "Loading:../DataBombardier\\flight_test_12.csv\n",
      "Loading:../DataBombardier\\flight_test_13.csv\n"
     ]
    }
   ],
   "source": [
    "list_df, list_data_units, list_data_label_type = bomb_csv_to_df(csv_stringLoader)"
   ]
  },
  {
   "cell_type": "code",
   "execution_count": 11,
   "metadata": {},
   "outputs": [],
   "source": [
    "df = list_df[0]"
   ]
  },
  {
   "cell_type": "code",
   "execution_count": 12,
   "metadata": {},
   "outputs": [
    {
     "data": {
      "text/html": [
       "<div>\n",
       "<style scoped>\n",
       "    .dataframe tbody tr th:only-of-type {\n",
       "        vertical-align: middle;\n",
       "    }\n",
       "\n",
       "    .dataframe tbody tr th {\n",
       "        vertical-align: top;\n",
       "    }\n",
       "\n",
       "    .dataframe thead th {\n",
       "        text-align: right;\n",
       "    }\n",
       "</style>\n",
       "<table border=\"1\" class=\"dataframe\">\n",
       "  <thead>\n",
       "    <tr style=\"text-align: right;\">\n",
       "      <th></th>\n",
       "      <th>1st Cooling Sys MASS FLOW</th>\n",
       "      <th>2nd Cooling Sys MASS FLOW</th>\n",
       "      <th>ACS_Zone_Actual_Temperature</th>\n",
       "      <th>Outside Air Temperature_OAT</th>\n",
       "      <th>Pressure Altitude</th>\n",
       "      <th>Mach</th>\n",
       "      <th>1st AVIONICS BAY BULK TEMP</th>\n",
       "      <th>2nd AVIONICS BAY BULK TEMP</th>\n",
       "      <th>1st Underfloor flow</th>\n",
       "      <th>2nd Underfloor flow</th>\n",
       "    </tr>\n",
       "    <tr>\n",
       "      <th>TIME OF DAY IN SECONDS</th>\n",
       "      <th></th>\n",
       "      <th></th>\n",
       "      <th></th>\n",
       "      <th></th>\n",
       "      <th></th>\n",
       "      <th></th>\n",
       "      <th></th>\n",
       "      <th></th>\n",
       "      <th></th>\n",
       "      <th></th>\n",
       "    </tr>\n",
       "  </thead>\n",
       "  <tbody>\n",
       "    <tr>\n",
       "      <th>17902</th>\n",
       "      <td>5.119134</td>\n",
       "      <td>17.831211</td>\n",
       "      <td>29.709884</td>\n",
       "      <td>26.150728</td>\n",
       "      <td>2365.0</td>\n",
       "      <td>0.008851</td>\n",
       "      <td>35.240755</td>\n",
       "      <td>33.76746076717663</td>\n",
       "      <td>8.652254</td>\n",
       "      <td>15.141995</td>\n",
       "    </tr>\n",
       "    <tr>\n",
       "      <th>17904</th>\n",
       "      <td>5.129402</td>\n",
       "      <td>17.793621</td>\n",
       "      <td>29.709884</td>\n",
       "      <td>26.17243</td>\n",
       "      <td>2364.0</td>\n",
       "      <td>0.008205</td>\n",
       "      <td>35.250933</td>\n",
       "      <td>33.78781427556584</td>\n",
       "      <td>8.712825</td>\n",
       "      <td>15.125606</td>\n",
       "    </tr>\n",
       "    <tr>\n",
       "      <th>17906</th>\n",
       "      <td>5.144212</td>\n",
       "      <td>17.751606</td>\n",
       "      <td>29.623075</td>\n",
       "      <td>26.194133</td>\n",
       "      <td>2365.0</td>\n",
       "      <td>0.008917</td>\n",
       "      <td>35.233968</td>\n",
       "      <td>33.77085186112588</td>\n",
       "      <td>8.806761</td>\n",
       "      <td>15.103295</td>\n",
       "    </tr>\n",
       "    <tr>\n",
       "      <th>17908</th>\n",
       "      <td>5.146977</td>\n",
       "      <td>17.708962</td>\n",
       "      <td>29.623075</td>\n",
       "      <td>26.194133</td>\n",
       "      <td>2364.0</td>\n",
       "      <td>0.009194</td>\n",
       "      <td>35.244148</td>\n",
       "      <td>33.78781427556584</td>\n",
       "      <td>8.886403</td>\n",
       "      <td>15.09978</td>\n",
       "    </tr>\n",
       "    <tr>\n",
       "      <th>17910</th>\n",
       "      <td>5.144015</td>\n",
       "      <td>17.684005</td>\n",
       "      <td>29.623075</td>\n",
       "      <td>26.183282</td>\n",
       "      <td>2364.0</td>\n",
       "      <td>0.005896</td>\n",
       "      <td>35.227183</td>\n",
       "      <td>33.79120814739258</td>\n",
       "      <td>8.932443</td>\n",
       "      <td>15.097211</td>\n",
       "    </tr>\n",
       "  </tbody>\n",
       "</table>\n",
       "</div>"
      ],
      "text/plain": [
       "                       1st Cooling Sys MASS FLOW 2nd Cooling Sys MASS FLOW  \\\n",
       "TIME OF DAY IN SECONDS                                                       \n",
       "17902                                   5.119134                 17.831211   \n",
       "17904                                   5.129402                 17.793621   \n",
       "17906                                   5.144212                 17.751606   \n",
       "17908                                   5.146977                 17.708962   \n",
       "17910                                   5.144015                 17.684005   \n",
       "\n",
       "                       ACS_Zone_Actual_Temperature  \\\n",
       "TIME OF DAY IN SECONDS                               \n",
       "17902                                    29.709884   \n",
       "17904                                    29.709884   \n",
       "17906                                    29.623075   \n",
       "17908                                    29.623075   \n",
       "17910                                    29.623075   \n",
       "\n",
       "                       Outside Air Temperature_OAT Pressure Altitude  \\\n",
       "TIME OF DAY IN SECONDS                                                 \n",
       "17902                                    26.150728            2365.0   \n",
       "17904                                     26.17243            2364.0   \n",
       "17906                                    26.194133            2365.0   \n",
       "17908                                    26.194133            2364.0   \n",
       "17910                                    26.183282            2364.0   \n",
       "\n",
       "                            Mach 1st AVIONICS BAY BULK TEMP  \\\n",
       "TIME OF DAY IN SECONDS                                        \n",
       "17902                   0.008851                  35.240755   \n",
       "17904                   0.008205                  35.250933   \n",
       "17906                   0.008917                  35.233968   \n",
       "17908                   0.009194                  35.244148   \n",
       "17910                   0.005896                  35.227183   \n",
       "\n",
       "                       2nd AVIONICS BAY BULK TEMP 1st Underfloor flow  \\\n",
       "TIME OF DAY IN SECONDS                                                  \n",
       "17902                           33.76746076717663            8.652254   \n",
       "17904                           33.78781427556584            8.712825   \n",
       "17906                           33.77085186112588            8.806761   \n",
       "17908                           33.78781427556584            8.886403   \n",
       "17910                           33.79120814739258            8.932443   \n",
       "\n",
       "                       2nd Underfloor flow  \n",
       "TIME OF DAY IN SECONDS                      \n",
       "17902                            15.141995  \n",
       "17904                            15.125606  \n",
       "17906                            15.103295  \n",
       "17908                             15.09978  \n",
       "17910                            15.097211  "
      ]
     },
     "execution_count": 12,
     "metadata": {},
     "output_type": "execute_result"
    }
   ],
   "source": [
    "df.head()"
   ]
  },
  {
   "cell_type": "code",
   "execution_count": null,
   "metadata": {},
   "outputs": [],
   "source": []
  }
 ],
 "metadata": {
  "kernelspec": {
   "display_name": "Python 3",
   "language": "python",
   "name": "python3"
  },
  "language_info": {
   "codemirror_mode": {
    "name": "ipython",
    "version": 3
   },
   "file_extension": ".py",
   "mimetype": "text/x-python",
   "name": "python",
   "nbconvert_exporter": "python",
   "pygments_lexer": "ipython3",
   "version": "3.7.3"
  }
 },
 "nbformat": 4,
 "nbformat_minor": 2
}
