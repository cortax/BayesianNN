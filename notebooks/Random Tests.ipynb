{
 "cells": [
  {
   "cell_type": "code",
   "execution_count": 51,
   "metadata": {},
   "outputs": [],
   "source": [
    "import torch\n",
    "\n",
    "output = torch.Tensor([[16.5518, 1],\n",
    "        [16.5009, 2],\n",
    "        [ 8.6765, 3],\n",
    "        [ 6.5219, 4],\n",
    "        [ 3.1040, 5],\n",
    "        [17.0505, 6],\n",
    "        [19.9075, 7],\n",
    "        [10.3289, 8],\n",
    "        [8.5198, 9],\n",
    "        [ 3.9703, 0]])"
   ]
  },
  {
   "cell_type": "code",
   "execution_count": 63,
   "metadata": {},
   "outputs": [
    {
     "data": {
      "text/plain": [
       "tensor([0, 0, 0, 0, 1, 0, 0, 0, 1, 0])"
      ]
     },
     "execution_count": 63,
     "metadata": {},
     "output_type": "execute_result"
    }
   ],
   "source": [
    "output.max(dim=1)[1]"
   ]
  },
  {
   "cell_type": "code",
   "execution_count": 58,
   "metadata": {},
   "outputs": [],
   "source": [
    "predmax = []\n",
    "prednomax = []\n",
    "for out in output:\n",
    "    predmax.append(max(out).cpu().numpy().tolist())\n",
    "    prednomax.append(out.cpu().numpy().tolist())"
   ]
  },
  {
   "cell_type": "code",
   "execution_count": 59,
   "metadata": {},
   "outputs": [
    {
     "data": {
      "text/plain": [
       "[16.551799774169922,\n",
       " 16.500900268554688,\n",
       " 8.67650032043457,\n",
       " 6.521900177001953,\n",
       " 5.0,\n",
       " 17.050500869750977,\n",
       " 19.907499313354492,\n",
       " 10.328900337219238,\n",
       " 9.0,\n",
       " 3.9702999591827393]"
      ]
     },
     "execution_count": 59,
     "metadata": {},
     "output_type": "execute_result"
    }
   ],
   "source": [
    "predmax"
   ]
  },
  {
   "cell_type": "code",
   "execution_count": 60,
   "metadata": {},
   "outputs": [
    {
     "data": {
      "text/plain": [
       "[[16.551799774169922, 1.0],\n",
       " [16.500900268554688, 2.0],\n",
       " [8.67650032043457, 3.0],\n",
       " [6.521900177001953, 4.0],\n",
       " [3.1040000915527344, 5.0],\n",
       " [17.050500869750977, 6.0],\n",
       " [19.907499313354492, 7.0],\n",
       " [10.328900337219238, 8.0],\n",
       " [8.519800186157227, 9.0],\n",
       " [3.9702999591827393, 0.0]]"
      ]
     },
     "execution_count": 60,
     "metadata": {},
     "output_type": "execute_result"
    }
   ],
   "source": [
    "prednomax"
   ]
  },
  {
   "cell_type": "code",
   "execution_count": null,
   "metadata": {},
   "outputs": [],
   "source": []
  }
 ],
 "metadata": {
  "kernelspec": {
   "display_name": "Python 3",
   "language": "python",
   "name": "python3"
  },
  "language_info": {
   "codemirror_mode": {
    "name": "ipython",
    "version": 3
   },
   "file_extension": ".py",
   "mimetype": "text/x-python",
   "name": "python",
   "nbconvert_exporter": "python",
   "pygments_lexer": "ipython3",
   "version": "3.7.3"
  }
 },
 "nbformat": 4,
 "nbformat_minor": 2
}
