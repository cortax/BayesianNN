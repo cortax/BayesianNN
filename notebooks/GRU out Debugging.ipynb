{
 "cells": [
  {
   "cell_type": "code",
   "execution_count": 256,
   "metadata": {
    "collapsed": true
   },
   "outputs": [],
   "source": [
    "import torch\n",
    "import torch.nn as nn\n",
    "#from torch.nn.utils.rnn import pack_padded_sequence\n",
    "\n",
    "class GatedRecurrentUnitOutputNet(nn.Module):\n",
    "    def __init__(self, input_size, output_size, \n",
    "                        window_size, hidden_size, num_layers, \n",
    "                        target_type_string='Regression',\n",
    "                        bias=True, batch_first=True, \n",
    "                        bidirectional=False,\n",
    "                        dropout_hidden=0, dropout_output=0):\n",
    "        super().__init__()\n",
    "        self.bidirectional = bidirectional\n",
    "        self.seq_len = window_size\n",
    "        self.hidden_size = hidden_size\n",
    "        self.num_layers = num_layers\n",
    "        \n",
    "        self.gru = nn.GRU(input_size=input_size, \n",
    "                            hidden_size=hidden_size, \n",
    "                            num_layers=num_layers, \n",
    "                            bias=bias, \n",
    "                            batch_first=batch_first, \n",
    "                            dropout=dropout_hidden, \n",
    "                            bidirectional=bidirectional)\n",
    "        self.output_dropout_layer = nn.Dropout(dropout_output)\n",
    "\n",
    "        \n",
    "        self.predict_layer = nn.Linear(hidden_size * window_size * (bidirectional + 1), output_size) #(seq_len * num_directions * hidden_size)\n",
    "        \n",
    "        self.target_type_string = target_type_string\n",
    "        if target_type_string=='Regression':\n",
    "            self.loss_function = nn.MSELoss()\n",
    "        elif target_type_string=='Classification':\n",
    "            self.loss_function = nn.CrossEntropyLoss()\n",
    "             \n",
    "    def forward(self, input):\n",
    "        #print('batch:', input)\n",
    "        #print(input.size())\n",
    "        #print(input[0])\n",
    "        #print(input[0][0])\n",
    "        gru_out, h_n = self.gru(input) #shape gru_out: (batch, seq_len, num_directions * hidden_size)\n",
    "        #print('gru_out:', gru_out)\n",
    "        #print('gru_out size:', gru_out.size(0), gru_out.size(1), gru_out.size(2))\n",
    "        h_n_view = gru_out.contiguous().view(input.size(0), -1) #shape: (batch, seq_len*num_directions * hidden_size)\n",
    "        #print('h_n_view:', h_n_view)\n",
    "        #print('h_n_view size:', h_n_view.size(0), h_n_view.size(1))\n",
    "        out_dropout = self.output_dropout_layer(h_n_view)\n",
    "        predict = self.predict_layer(out_dropout) #predict est vertical\n",
    "        #print('predict:', predict)\n",
    "        #print('predict size:', predict.size())\n",
    "        return predict"
   ]
  },
  {
   "cell_type": "code",
   "execution_count": 257,
   "metadata": {},
   "outputs": [],
   "source": [
    "input_size = 2\n",
    "output_size = 1\n",
    "window_size = 2\n",
    "hidden_size = 5\n",
    "num_layers = 3\n",
    "target_type_string='Regression'\n",
    "bias=True\n",
    "batch_first=True\n",
    "bidirectional=True\n",
    "dropout_hidden=0\n",
    "dropout_output=0"
   ]
  },
  {
   "cell_type": "code",
   "execution_count": 258,
   "metadata": {
    "collapsed": true
   },
   "outputs": [],
   "source": [
    "gru = GatedRecurrentUnitOutputNet(input_size, output_size, \n",
    "                                window_size, hidden_size, num_layers, \n",
    "                                target_type_string,\n",
    "                                bias, batch_first, \n",
    "                                bidirectional,\n",
    "                                dropout_hidden, dropout_output)"
   ]
  },
  {
   "cell_type": "code",
   "execution_count": 259,
   "metadata": {
    "collapsed": true
   },
   "outputs": [],
   "source": [
    "inputs = [[[7.9018e-04, 1.2779e-01],[7.9018e-04, 1.2779e-01]],\n",
    "        [[5.2380e-04, 1.9846e-01],[5.2380e-04, 1.9846e-01]],\n",
    "        [[8.2390e-04, 2.8946e-01],[8.2390e-04, 2.8946e-01]],\n",
    "        [[5.9300e-04, 1.0390e-01],[5.9300e-04, 1.0390e-01]]]"
   ]
  },
  {
   "cell_type": "code",
   "execution_count": 260,
   "metadata": {},
   "outputs": [
    {
     "data": {
      "text/plain": [
       "torch.Size([4, 2, 2])"
      ]
     },
     "execution_count": 260,
     "metadata": {},
     "output_type": "execute_result"
    }
   ],
   "source": [
    "torch.Tensor(inputs).size()"
   ]
  },
  {
   "cell_type": "code",
   "execution_count": 262,
   "metadata": {},
   "outputs": [
    {
     "name": "stdout",
     "output_type": "stream",
     "text": [
      "0.002070188522338867\n"
     ]
    }
   ],
   "source": [
    "import time\n",
    "start = time.time() #start of epoch time\n",
    "gru(torch.Tensor(inputs))\n",
    "end = time.time() #end of epoch time\n",
    "total = end-start\n",
    "print(total)"
   ]
  },
  {
   "cell_type": "code",
   "execution_count": null,
   "metadata": {
    "collapsed": true
   },
   "outputs": [],
   "source": []
  }
 ],
 "metadata": {
  "kernelspec": {
   "display_name": "Python 3",
   "language": "python",
   "name": "python3"
  },
  "language_info": {
   "codemirror_mode": {
    "name": "ipython",
    "version": 3
   },
   "file_extension": ".py",
   "mimetype": "text/x-python",
   "name": "python",
   "nbconvert_exporter": "python",
   "pygments_lexer": "ipython3",
   "version": "3.6.8"
  }
 },
 "nbformat": 4,
 "nbformat_minor": 2
}
