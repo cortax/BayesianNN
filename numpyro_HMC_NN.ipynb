{
 "cells": [
  {
   "cell_type": "code",
   "execution_count": 1,
   "metadata": {},
   "outputs": [],
   "source": [
    "import matplotlib\n",
    "import matplotlib.pyplot as plt\n",
    "import numpy as onp\n",
    "\n",
    "import jax.numpy as np\n",
    "import jax.random as random\n",
    "from jax import vmap\n",
    "from jax.config import config as jax_config\n",
    "\n",
    "import numpyro.distributions as dist\n",
    "from numpyro.handlers import sample, seed, substitute, trace\n",
    "from numpyro.hmc_util import initialize_model\n",
    "from numpyro.mcmc import mcmc\n",
    "import numba.cuda as cuda\n",
    "import torch\n",
    "\n",
    "from sklearn.metrics import mean_squared_error"
   ]
  },
  {
   "cell_type": "markdown",
   "metadata": {},
   "source": [
    "# Data generation"
   ]
  },
  {
   "cell_type": "code",
   "execution_count": 2,
   "metadata": {},
   "outputs": [],
   "source": [
    "def get_linear_data(N, params, rng):\n",
    "    onp.random.seed(0)\n",
    "    X = onp.random.uniform(low=rng[0], high=rng[1], size=N)\n",
    "    noise = onp.random.normal(loc=0, scale=params[0], size=N)\n",
    "    Y = params[1] * X + params[2] + noise\n",
    "    return X, Y"
   ]
  },
  {
   "cell_type": "code",
   "execution_count": 3,
   "metadata": {},
   "outputs": [],
   "source": [
    "def get_quadradic_data(N, params, rng):\n",
    "    onp.random.seed(0)\n",
    "    X = onp.random.uniform(low=rng[0], high=rng[1], size=N)\n",
    "    noise = onp.random.normal(loc=0, scale=params[0], size=N)\n",
    "    Y = params[1] * onp.power(X, 2) + params[2] * X + params[3] + noise\n",
    "    return X, Y"
   ]
  },
  {
   "cell_type": "markdown",
   "metadata": {},
   "source": [
    "# Model"
   ]
  },
  {
   "cell_type": "code",
   "execution_count": 4,
   "metadata": {},
   "outputs": [],
   "source": [
    "def activation(x):\n",
    "    #ReLU: np.maximum(x, 0, x)\n",
    "    #TanH: np.tanh(x)\n",
    "    return np.tanh(x)"
   ]
  },
  {
   "cell_type": "code",
   "execution_count": 5,
   "metadata": {},
   "outputs": [],
   "source": [
    "def model(X, Y, dim_H):\n",
    "    \n",
    "    # dimensions of x and y\n",
    "    dim_x, dim_y = X.shape[1], 1\n",
    "    \n",
    "    # layer 1\n",
    "    w1 = sample(\"w1\", dist.Normal(np.zeros((dim_x, dim_H)), np.ones((dim_x, dim_H))))  # D_X D_H\n",
    "    b1 = sample(\"b1\", dist.Normal(np.zeros((dim_x, dim_H)), np.ones((dim_x, dim_H))))\n",
    "    z1 = activation(np.matmul(X, w1)) + b1  # N D_H  <= first layer of activations\n",
    "    \n",
    "    # layer 2\n",
    "    w2 = sample(\"w2\", dist.Normal(np.zeros((dim_x, dim_H)), np.ones((dim_H, dim_y))))  # D_X D_H\n",
    "    b2 = sample(\"b2\", dist.Normal(np.zeros((dim_x, dim_H)), np.ones((dim_H, dim_y))))\n",
    "    z2 = activation(np.matmul(z1, w2)) + b1  # N D_H  <= first layer of activations\n",
    "    \n",
    "    # prior on noise\n",
    "#    prec_obs = sample(\"prec_obs\", dist.Gamma(3.0, 1.0))\n",
    "    sigma_obs = 0.2\n",
    "\n",
    "    # observe data\n",
    "    sample(\"Y\", dist.Normal(z2, sigma_obs), obs=Y)"
   ]
  },
  {
   "cell_type": "markdown",
   "metadata": {},
   "source": [
    "# Inference"
   ]
  },
  {
   "cell_type": "code",
   "execution_count": 6,
   "metadata": {},
   "outputs": [],
   "source": [
    "def run_inference(model, data, mcmc_params, rng, dim_H):\n",
    "    init_params, potential_fn, constrain_fn = initialize_model(rng, model, data[0], data[1], dim_H)\n",
    "    samples = mcmc(mcmc_params[0], mcmc_params[1] , init_params, sampler='hmc', potential_fn=potential_fn, constrain_fn=constrain_fn)\n",
    "    return samples"
   ]
  },
  {
   "cell_type": "markdown",
   "metadata": {},
   "source": [
    "# Parameters visualization"
   ]
  },
  {
   "cell_type": "code",
   "execution_count": 7,
   "metadata": {},
   "outputs": [],
   "source": [
    "def plot_samples_params(samples):\n",
    "    w1_samples = samples['w1'].squeeze(-2)\n",
    "    b1_samples = samples['b1'].squeeze(-2)\n",
    "    plt.plot(w1_samples)\n",
    "    plt.plot(b1_samples)"
   ]
  },
  {
   "cell_type": "markdown",
   "metadata": {},
   "source": [
    "# Prediction"
   ]
  },
  {
   "cell_type": "code",
   "execution_count": 8,
   "metadata": {},
   "outputs": [],
   "source": [
    "def predict(model, rng, samples, X, dim_H):\n",
    "    model = substitute(seed(model, rng), samples)\n",
    "    model_trace = trace(model).get_trace(X=X, Y=None, dim_H=dim_H)\n",
    "    return model_trace['Y']['value']"
   ]
  },
  {
   "cell_type": "markdown",
   "metadata": {},
   "source": [
    "# Loss visualization"
   ]
  },
  {
   "cell_type": "code",
   "execution_count": 9,
   "metadata": {},
   "outputs": [],
   "source": [
    "def plot_loss(model, rng, samples, X, dim_H, Y):\n",
    "    loss = []\n",
    "    Y_predict = predict(model, rng, samples, X, dim_H)\n",
    "    for i in range(0, 299):\n",
    "        loss.append(mean_squared_error(Y_predict[i, :, i], Y))\n",
    "    plt.plot(loss)"
   ]
  },
  {
   "cell_type": "markdown",
   "metadata": {},
   "source": [
    "# MAIN"
   ]
  },
  {
   "cell_type": "markdown",
   "metadata": {},
   "source": [
    "## Data visualization"
   ]
  },
  {
   "cell_type": "code",
   "execution_count": 10,
   "metadata": {},
   "outputs": [],
   "source": [
    "X_lin_data, Y_lin_data = get_linear_data(N=100, params=[0.2, 1.2, -0.3], rng=[0, 1])\n",
    "X_quad_data, Y_quad_data = get_quadradic_data(N=100, params=[0.2, 10.2, -10.3, 1], rng=[0, 1])\n",
    "lin_data = [onp.expand_dims(X_lin_data, axis=1), onp.expand_dims(Y_lin_data, axis=1)]\n",
    "quad_data = [onp.expand_dims(X_quad_data, axis=1), onp.expand_dims(Y_quad_data, axis=1)]"
   ]
  },
  {
   "cell_type": "code",
   "execution_count": 11,
   "metadata": {},
   "outputs": [
    {
     "data": {
      "text/plain": [
       "<matplotlib.collections.PathCollection at 0x7f684e177c18>"
      ]
     },
     "execution_count": 11,
     "metadata": {},
     "output_type": "execute_result"
    },
    {
     "data": {
      "image/png": "[encoded data removed]",
      "text/plain": [
       "<Figure size 432x288 with 1 Axes>"
      ]
     },
     "metadata": {
      "needs_background": "light"
     },
     "output_type": "display_data"
    }
   ],
   "source": [
    "plt.scatter(X_lin_data, Y_lin_data)\n",
    "plt.scatter(X_quad_data, Y_quad_data)"
   ]
  },
  {
   "cell_type": "markdown",
   "metadata": {},
   "source": [
    "## Run"
   ]
  },
  {
   "cell_type": "code",
   "execution_count": 12,
   "metadata": {},
   "outputs": [
    {
     "name": "stderr",
     "output_type": "stream",
     "text": [
      "/home/mathieu/anaconda3/lib/python3.7/site-packages/jax/lib/xla_bridge.py:114: UserWarning: No GPU/TPU found, falling back to CPU.\n",
      "  warnings.warn('No GPU/TPU found, falling back to CPU.')\n",
      "sample: 100%|██████████| 300/300 [00:13<00:00, 22.21it/s, 1 steps of size 3.12e-02. acc. prob=0.32] \n"
     ]
    },
    {
     "name": "stdout",
     "output_type": "stream",
     "text": [
      "\n",
      "\n",
      "                mean       std    median      5.0%     95.0%     n_eff     r_hat\n",
      "   b1[0,0]     -0.98      0.20     -0.96     -0.99     -0.92     40.70      1.01\n",
      "   b2[0,0]     -0.64      0.49     -0.78     -1.36      0.05      4.11      1.84\n",
      "   w1[0,0]      5.29      1.28      5.56      5.14      6.03     16.94      1.10\n",
      "   w2[0,0]     -2.42      0.30     -2.51     -2.68     -2.20     12.24      1.14\n",
      "\n",
      "\n"
     ]
    }
   ],
   "source": [
    "rng, rng_predict = random.split(random.PRNGKey(0))\n",
    "samples = run_inference(model=model, data=quad_data, mcmc_params=[0, 500], rng=rng, dim_H=5)"
   ]
  },
  {
   "cell_type": "markdown",
   "metadata": {},
   "source": [
    "## Visualization"
   ]
  },
  {
   "cell_type": "code",
   "execution_count": 13,
   "metadata": {},
   "outputs": [
    {
     "data": {
      "image/png": "[encoded data removed]",
      "text/plain": [
       "<Figure size 432x288 with 1 Axes>"
      ]
     },
     "metadata": {
      "needs_background": "light"
     },
     "output_type": "display_data"
    }
   ],
   "source": [
    "plot_samples_params(samples)"
   ]
  },
  {
   "cell_type": "code",
   "execution_count": 14,
   "metadata": {},
   "outputs": [
    {
     "data": {
      "image/png": "[encoded data removed]",
      "text/plain": [
       "<Figure size 432x288 with 1 Axes>"
      ]
     },
     "metadata": {
      "needs_background": "light"
     },
     "output_type": "display_data"
    }
   ],
   "source": [
    "plot_loss(model, rng, samples, quad_data[0], 1, Y_quad_data)"
   ]
  }
 ],
 "metadata": {
  "kernelspec": {
   "display_name": "Python 3",
   "language": "python",
   "name": "python3"
  },
  "language_info": {
   "codemirror_mode": {
    "name": "ipython",
    "version": 3
   },
   "file_extension": ".py",
   "mimetype": "text/x-python",
   "name": "python",
   "nbconvert_exporter": "python",
   "pygments_lexer": "ipython3",
   "version": "3.7.1"
  }
 },
 "nbformat": 4,
 "nbformat_minor": 2
}
