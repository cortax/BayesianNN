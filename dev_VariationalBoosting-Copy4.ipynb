{
 "cells": [
  {
   "cell_type": "code",
   "execution_count": 1,
   "metadata": {},
   "outputs": [],
   "source": [
    "import numpy as np\n",
    "\n",
    "import torch\n",
    "from torch import nn\n",
    "from torch import functional as F\n",
    "\n",
    "from livelossplot import PlotLosses\n",
    "\n",
    "import matplotlib.pyplot as plt\n",
    "plt.style.use('ggplot')"
   ]
  },
  {
   "cell_type": "code",
   "execution_count": 2,
   "metadata": {},
   "outputs": [],
   "source": [
    "from Inference import BBVI "
   ]
  },
  {
   "cell_type": "code",
   "execution_count": 3,
   "metadata": {},
   "outputs": [],
   "source": [
    "from Inference.BBVI import VariationalNetwork"
   ]
  },
  {
   "cell_type": "code",
   "execution_count": 4,
   "metadata": {},
   "outputs": [
    {
     "data": {
      "text/plain": [
       "device(type='cuda', index=0)"
      ]
     },
     "execution_count": 4,
     "metadata": {},
     "output_type": "execute_result"
    }
   ],
   "source": [
    "device = torch.device('cuda:0' if torch.cuda.is_available() else 'cpu')\n",
    "device"
   ]
  },
  {
   "cell_type": "code",
   "execution_count": 5,
   "metadata": {},
   "outputs": [],
   "source": [
    "sigma_noise = 0.1\n",
    "data = torch.load('Data/foong_data.pt')\n",
    "x_data = data[0].to(device)\n",
    "y_data = data[1].to(device)\n",
    "y_data = y_data.unsqueeze(-1)"
   ]
  },
  {
   "cell_type": "code",
   "execution_count": null,
   "metadata": {},
   "outputs": [],
   "source": []
  },
  {
   "cell_type": "code",
   "execution_count": 6,
   "metadata": {},
   "outputs": [],
   "source": [
    "class MixtureVariationalNetwork(nn.Module):\n",
    "    def __init__(self, input_size, output_size, layer_width, nb_layers, device=None):\n",
    "        super(MixtureVariationalNetwork, self).__init__()\n",
    "        \n",
    "        self.layer_width = layer_width\n",
    "        self.input_size = input_size\n",
    "        self.output_size = output_size\n",
    "        self.nb_layers = nb_layers\n",
    "        self.device = device\n",
    "        \n",
    "        self.components = []\n",
    "        self.pi = torch.tensor([], device=device)\n",
    "        \n",
    "    def add_component(self, component, proportion):\n",
    "        #todo check compatibility with other components\n",
    "        component.requires_grad_rhos(False)\n",
    "        component.requires_grad_mus(False)\n",
    "        self.components.append(component)\n",
    "        proportion = proportion.to(self.device)\n",
    "        self.pi = torch.cat((self.pi*(1-proportion), proportion.unsqueeze(0)))\n",
    "        self.pi.require_grad = False\n",
    "        \n",
    "    def sample_parameters(self, M=1, new_component=None, new_proportion=torch.tensor(0.0)):\n",
    "        npi = torch.tensor([1.0-new_proportion, new_proportion], device=self.device)\n",
    "        D = torch.distributions.multinomial.Multinomial(M, npi)\n",
    "        m_oldnew = D.sample()\n",
    "\n",
    "        S = []\n",
    "        if int(m_oldnew[0]) > 0:\n",
    "            D_old = torch.distributions.multinomial.Multinomial(int(m_oldnew[0]), self.pi)\n",
    "            m = D_old.sample()\n",
    "            for j in range(len(self.pi)):\n",
    "                t = self.components[j].sample_parameters(int(m[j]))\n",
    "                if int(m[j]) > 0: \n",
    "                    S.append(t)\n",
    "            S.append(self.sample_parameters(int(m_oldnew[0])))\n",
    "        if int(m_oldnew[1]) > 0:\n",
    "            S.append(new_component.sample_parameters(int(m_oldnew[1])))\n",
    "\n",
    "        return ([torch.cat([c[0][k] for c in S]) for k in range(self.nb_layers)], [torch.cat([c[1][k] for c in S]) for k in range(self.nb_layers)])\n",
    "\n",
    "        #D = torch.distributions.multinomial.Multinomial(M, self.pi)\n",
    "        #m = D.sample()\n",
    "        #S = []\n",
    "        #for j in range(len(self.pi)):\n",
    "        #    t = self.components[j].sample_parameters(int(m[j]))\n",
    "        #    if int(m[j]) > 0: \n",
    "        #        S.append(t)\n",
    "        #return ([torch.cat([c[0][k] for c in S]) for k in range(self.nb_layers)], [torch.cat([c[1][k] for c in S]) for k in range(self.nb_layers)])\n",
    "    \n",
    "    def q_log_pdf(self, layered_w_samples, layered_bias_samples):\n",
    "        log_q = [c.q_log_pdf(layered_w_samples, layered_bias_samples) for c in self.components]\n",
    "        return torch.logsumexp(torch.stack(log_q) + torch.log(self.pi).unsqueeze(0).t(), dim=0)\n",
    "\n",
    "    def prior_log_pdf(self, layered_w_samples, layered_bias_samples):\n",
    "        log_prior = [c.prior_log_pdf(layered_w_samples, layered_bias_samples) for c in self.components]\n",
    "        return torch.logsumexp(torch.stack(log_prior) + torch.log(self.pi).unsqueeze(0).t(), dim=0)\n",
    "    \n",
    "    def full_elbo(self, x_data, y_data, n_samples_ELBO, sigma_noise, new_component=None, new_unscaled_proportion=None):\n",
    "        (layered_w_samples_XC, layered_bias_samples_XC) = self.sample_parameters(n_samples_ELBO, new_component, new_unscaled_proportion)\n",
    "        \n",
    "        \n",
    "        return (layered_w_samples_XC, layered_bias_samples_XC)\n",
    "        \n",
    "    def compute_elbo(self, x_data, y_data, n_samples_ELBO, sigma_noise, new_component=None, new_proportion=None):\n",
    "        # sample X^(c)\n",
    "        (layered_w_samples_XC, layered_bias_samples_XC) = self.sample_parameters(n_samples_ELBO)\n",
    "\n",
    "        LP_XC = self.prior_log_pdf(layered_w_samples_XC, layered_bias_samples_XC)\n",
    "        y_pred_XC = self.forward(x_data)\n",
    "        LL_XC = self._log_norm(y_pred_XC, y_data, torch.tensor(sigma_noise).to(self.device))\n",
    "        posterior_XC = torch.sum(LP_XC.unsqueeze(-1).unsqueeze(-1) + LL_XC, dim=[1,2])\n",
    "\n",
    "        qC_log_XC = self.q_log_pdf(layered_w_samples_XC, layered_bias_samples_XC)\n",
    "        \n",
    "        if new_component is None:\n",
    "            return torch.mean(qC_log_XC - posterior_XC)\n",
    "        \n",
    "        p = torch.sigmoid(new_proportion)\n",
    "        \n",
    "        qN_log_XC = new_component.q_log_pdf(layered_w_samples_XC, layered_bias_samples_XC)\n",
    "        qCN_log_XC = torch.logsumexp(torch.stack([torch.log(torch.tensor(1.0, device=self.device)-p) + qC_log_XC, torch.log(p) + qN_log_XC],dim=0),dim=0)\n",
    "        \n",
    "        # sample X_(c+1)\n",
    "        (layered_w_samples_XN, layered_bias_samples_XN) = new_component.sample_parameters(n_samples_ELBO)\n",
    "        \n",
    "        LP_XN = new_component.prior_log_pdf(layered_w_samples_XN, layered_bias_samples_XN)\n",
    "        y_pred_XN = new_component.forward(x_data)\n",
    "        LL_XN = new_component._log_norm(y_pred_XN, y_data, torch.tensor(sigma_noise).to(self.device))\n",
    "        posterior_XN = torch.sum(LP_XN.unsqueeze(-1).unsqueeze(-1) + LL_XN, dim=[1,2])\n",
    "\n",
    "        qC_log_XN = self.q_log_pdf(layered_w_samples_XN, layered_bias_samples_XN)\n",
    "        \n",
    "        qN_log_XN = new_component.q_log_pdf(layered_w_samples_XN, layered_bias_samples_XN)\n",
    "        qCN_log_XN = torch.logsumexp(torch.stack([torch.log(torch.tensor(1.0, device=self.device)-p) + qC_log_XN, torch.log(p) + qN_log_XN],dim=0),dim=0)\n",
    "        \n",
    "        L = (torch.tensor(1.0, device=self.device)-p) * (posterior_XC.mean() - qCN_log_XC.mean()) + p * (posterior_XN.mean() - qCN_log_XN.mean()) \n",
    "        \n",
    "        return -L\n",
    "    \n",
    "    def requires_grad_rhos(self, v = False):\n",
    "        for k in range(len(self.components)):\n",
    "            self.components[k].requires_grad_rhos(v)\n",
    "        \n",
    "    def requires_grad_mus(self, v = False):\n",
    "        for k in range(len(self.components)):\n",
    "            self.components[k].requires_grad_mus(v)\n",
    "    \n",
    "    def forward(self, x):\n",
    "        return torch.cat([self.components[k].forward(x_data) for k in range(len(self.components))],dim=0)\n",
    "    \n",
    "\n",
    "    def _log_norm(self, x, mu, std):\n",
    "        return -0.5 * torch.log(2*np.pi*std**2) -(0.5 * (1/(std**2))* (x-mu)**2)"
   ]
  },
  {
   "cell_type": "code",
   "execution_count": null,
   "metadata": {},
   "outputs": [],
   "source": []
  },
  {
   "cell_type": "code",
   "execution_count": 7,
   "metadata": {},
   "outputs": [],
   "source": [
    "c1 = VariationalNetwork(1, 1, 20, 2, device=device)"
   ]
  },
  {
   "cell_type": "code",
   "execution_count": 8,
   "metadata": {},
   "outputs": [],
   "source": [
    "mix = MixtureVariationalNetwork(1, 1, 20, 2, device=device)"
   ]
  },
  {
   "cell_type": "code",
   "execution_count": 9,
   "metadata": {},
   "outputs": [],
   "source": [
    "mix.add_component(c1, torch.tensor(1.0))"
   ]
  },
  {
   "cell_type": "code",
   "execution_count": null,
   "metadata": {},
   "outputs": [],
   "source": []
  },
  {
   "cell_type": "code",
   "execution_count": 10,
   "metadata": {},
   "outputs": [],
   "source": [
    "new_component = VariationalNetwork(1, 1, 20, 2, device=device)"
   ]
  },
  {
   "cell_type": "code",
   "execution_count": 11,
   "metadata": {},
   "outputs": [],
   "source": [
    "new_unscaled_proportion = nn.Parameter(torch.tensor(0.0, requires_grad=True, device=device))\n",
    "new_proportion = torch.sigmoid(new_unscaled_proportion)"
   ]
  },
  {
   "cell_type": "code",
   "execution_count": null,
   "metadata": {},
   "outputs": [],
   "source": []
  },
  {
   "cell_type": "code",
   "execution_count": null,
   "metadata": {},
   "outputs": [],
   "source": [
    "mix.sample_parameters(M=1, new_component=new_component, new_proportion=new_proportion)"
   ]
  },
  {
   "cell_type": "code",
   "execution_count": null,
   "metadata": {},
   "outputs": [],
   "source": [
    "self = mix\n",
    "M = 1"
   ]
  },
  {
   "cell_type": "code",
   "execution_count": null,
   "metadata": {},
   "outputs": [],
   "source": [
    "npi = torch.tensor([1.0-new_proportion, new_proportion], device=self.device)\n",
    "D = torch.distributions.multinomial.Multinomial(M, npi)\n",
    "m_oldnew = D.sample()\n",
    "m_oldnew"
   ]
  },
  {
   "cell_type": "code",
   "execution_count": null,
   "metadata": {},
   "outputs": [],
   "source": [
    "S = []\n",
    "if int(m_oldnew[0]) > 0:\n",
    "    S.append(self.sample_parameters(int(m_oldnew[0])))\n",
    "if int(m_oldnew[1]) > 0:\n",
    "    S.append(new_component.sample_parameters(int(m_oldnew[1])))\n",
    "\n",
    "([torch.cat([c[0][k] for c in S]) for k in range(self.nb_layers)], [torch.cat([c[1][k] for c in S]) for k in range(self.nb_layers)])"
   ]
  },
  {
   "cell_type": "code",
   "execution_count": null,
   "metadata": {},
   "outputs": [],
   "source": [
    "int(m_oldnew[1]) > 0"
   ]
  },
  {
   "cell_type": "code",
   "execution_count": null,
   "metadata": {},
   "outputs": [],
   "source": [
    "int(m_oldnew[0]) > 0"
   ]
  },
  {
   "cell_type": "code",
   "execution_count": null,
   "metadata": {},
   "outputs": [],
   "source": [
    "self.sample_parameters(int(m_oldnew[0]))"
   ]
  },
  {
   "cell_type": "code",
   "execution_count": null,
   "metadata": {},
   "outputs": [],
   "source": []
  },
  {
   "cell_type": "code",
   "execution_count": null,
   "metadata": {},
   "outputs": [],
   "source": []
  },
  {
   "cell_type": "code",
   "execution_count": null,
   "metadata": {},
   "outputs": [],
   "source": []
  },
  {
   "cell_type": "code",
   "execution_count": null,
   "metadata": {},
   "outputs": [],
   "source": []
  },
  {
   "cell_type": "code",
   "execution_count": null,
   "metadata": {},
   "outputs": [],
   "source": []
  },
  {
   "cell_type": "code",
   "execution_count": null,
   "metadata": {},
   "outputs": [],
   "source": []
  },
  {
   "cell_type": "code",
   "execution_count": null,
   "metadata": {},
   "outputs": [],
   "source": []
  },
  {
   "cell_type": "code",
   "execution_count": null,
   "metadata": {},
   "outputs": [],
   "source": []
  },
  {
   "cell_type": "code",
   "execution_count": null,
   "metadata": {},
   "outputs": [],
   "source": []
  }
 ],
 "metadata": {
  "kernelspec": {
   "display_name": "Python 3",
   "language": "python",
   "name": "python3"
  },
  "language_info": {
   "codemirror_mode": {
    "name": "ipython",
    "version": 3
   },
   "file_extension": ".py",
   "mimetype": "text/x-python",
   "name": "python",
   "nbconvert_exporter": "python",
   "pygments_lexer": "ipython3",
   "version": "3.7.3"
  }
 },
 "nbformat": 4,
 "nbformat_minor": 2
}
