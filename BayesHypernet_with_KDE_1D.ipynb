{
 "cells": [
  {
   "cell_type": "code",
   "execution_count": 7,
   "metadata": {},
   "outputs": [],
   "source": [
    "import torch\n",
    "from torch import nn\n",
    "from torch import functional as F\n",
    "import matplotlib.pyplot as plt\n",
    "import numpy as np\n",
    "from livelossplot import PlotLosses\n",
    "from Tools.NNtools import *\n",
    "import seaborn as sns, numpy as np\n",
    "import functools\n",
    "from scipy.spatial.distance import squareform\n",
    "import math"
   ]
  },
  {
   "cell_type": "markdown",
   "metadata": {},
   "source": [
    "### IMPORTS"
   ]
  },
  {
   "cell_type": "code",
   "execution_count": 8,
   "metadata": {},
   "outputs": [],
   "source": [
    "from Inference.Variational import MeanFieldVariationalDistribution"
   ]
  },
  {
   "cell_type": "code",
   "execution_count": 9,
   "metadata": {},
   "outputs": [],
   "source": [
    "class VariationalGenerativeNetwork(nn.Module):\n",
    "    def __init__(self, nntransform, lat_dim, mu=0.0, sigma=1.0, device='cpu'):\n",
    "        super(VariationalGenerativeNetwork, self).__init__()\n",
    "        self.device = device\n",
    "        self.lat_dim = lat_dim\n",
    "        \n",
    "        self.mfvar = MeanFieldVariationalDistribution(lat_dim,mu,sigma, device)\n",
    "        self.nntransform = nntransform\n",
    "        \n",
    "          \n",
    "    def sample(self, n=1):\n",
    "        return self.nntransform(self.mfvar.sample(n))"
   ]
  },
  {
   "cell_type": "code",
   "execution_count": 10,
   "metadata": {},
   "outputs": [],
   "source": [
    "def show_variational_posterior_predictive(q):\n",
    "    x_test = torch.linspace(-2.0, 2.0).unsqueeze(1).to(device)\n",
    "    # Sampling the distribution over Neural Networks 1000 times, and plotting with transparency to make it appear as a smooth distribution\n",
    "    fig, ax = plt.subplots()\n",
    "    fig.set_size_inches(11.7, 8.27)\n",
    "    plt.xlim(-2, 2) \n",
    "    plt.ylim(-4, 4) \n",
    "    plt.scatter(x_data.cpu(), y_data.cpu())\n",
    "    for _ in range(1000):\n",
    "        z = q.sample()\n",
    "        set_all_parameters(model, z)\n",
    "        y_test = model(x_test)\n",
    "\n",
    "        plt.plot(x_test.detach().cpu().numpy(), y_test.squeeze(0).detach().cpu().numpy(), alpha=0.05, linewidth=1, color='lightblue')"
   ]
  },
  {
   "cell_type": "code",
   "execution_count": 11,
   "metadata": {},
   "outputs": [
    {
     "data": {
      "text/plain": [
       "device(type='cuda', index=2)"
      ]
     },
     "execution_count": 11,
     "metadata": {},
     "output_type": "execute_result"
    }
   ],
   "source": [
    "# Find what device to work with\n",
    "device = torch.device('cuda:2' if torch.cuda.is_available() else 'cpu')\n",
    "device "
   ]
  },
  {
   "cell_type": "code",
   "execution_count": 12,
   "metadata": {},
   "outputs": [],
   "source": [
    "torch.set_default_dtype(torch.float64)"
   ]
  },
  {
   "cell_type": "markdown",
   "metadata": {},
   "source": [
    "# Model principal"
   ]
  },
  {
   "cell_type": "code",
   "execution_count": 13,
   "metadata": {},
   "outputs": [],
   "source": [
    "mixture = [torch.distributions.normal.Normal(torch.tensor(-4.5, device=device), torch.tensor(2.0, device=device)),\n",
    "           torch.distributions.normal.Normal(torch.tensor(-2.0, device=device), torch.tensor(1.0, device=device)),\n",
    "           torch.distributions.normal.Normal(torch.tensor(-4.0, device=device), torch.tensor(0.4, device=device)),\n",
    "           torch.distributions.normal.Normal(torch.tensor(-1.0, device=device), torch.tensor(0.4, device=device)),\n",
    "           torch.distributions.normal.Normal(torch.tensor(-0.5, device=device), torch.tensor(0.15, device=device)),\n",
    "           torch.distributions.normal.Normal(torch.tensor(5.0, device=device), torch.tensor(0.25, device=device)),\n",
    "           torch.distributions.normal.Normal(torch.tensor(5.5, device=device), torch.tensor(0.95, device=device))]\n",
    "proportions = torch.tensor([0.28,0.3,0.02,0.03,0.03,0.17,0.17], device=device)"
   ]
  },
  {
   "cell_type": "code",
   "execution_count": 14,
   "metadata": {},
   "outputs": [],
   "source": [
    "mixture = [torch.distributions.normal.Normal(torch.tensor(-3.5, device=device), torch.tensor(1.0, device=device)),\n",
    "           torch.distributions.normal.Normal(torch.tensor(3.5, device=device), torch.tensor(1.0, device=device))]\n",
    "proportions = torch.tensor([0.25,0.75], device=device)"
   ]
  },
  {
   "cell_type": "code",
   "execution_count": 539,
   "metadata": {},
   "outputs": [],
   "source": [
    "#def logposterior(x):\n",
    "#    v = [None]*len(mixture)\n",
    "#    for j in range(len(mixture)):\n",
    "#        v[j] = mixture[j].log_prob(x) + proportions[j].log()\n",
    "#    return torch.logsumexp(torch.stack(v), dim=0)"
   ]
  },
  {
   "cell_type": "code",
   "execution_count": 540,
   "metadata": {},
   "outputs": [],
   "source": [
    "#def logposterior(x):\n",
    "#    return -x**8/4.0 - torch.tensor(2.2398542383262745).log()"
   ]
  },
  {
   "cell_type": "code",
   "execution_count": 15,
   "metadata": {},
   "outputs": [],
   "source": [
    "beta = 1.5\n",
    "mu = -6.0\n",
    "def logposterior(x):\n",
    "    z = (x-mu)/beta\n",
    "    return -(z+torch.exp(-z)) - torch.tensor(beta).log()"
   ]
  },
  {
   "cell_type": "code",
   "execution_count": 16,
   "metadata": {},
   "outputs": [],
   "source": [
    "#np.trapz(logposterior(x_lin).exp().squeeze().detach().cpu().numpy(), dx=0.01)"
   ]
  },
  {
   "cell_type": "code",
   "execution_count": 17,
   "metadata": {},
   "outputs": [
    {
     "data": {
      "image/png": "[encoded data removed]",
      "text/plain": [
       "<Figure size 432x288 with 1 Axes>"
      ]
     },
     "metadata": {
      "needs_background": "light"
     },
     "output_type": "display_data"
    }
   ],
   "source": [
    "%matplotlib inline\n",
    "\n",
    "x_lin = torch.arange(-10, 10.0, 0.01).unsqueeze(-1).to(device)\n",
    "plt.plot(x_lin.detach().cpu().numpy(), logposterior(x_lin).exp().detach().cpu().numpy())\n",
    "plt.show()"
   ]
  },
  {
   "cell_type": "markdown",
   "metadata": {},
   "source": [
    "# Modèle génératif: Hypernet autoencodeur"
   ]
  },
  {
   "cell_type": "code",
   "execution_count": 13,
   "metadata": {},
   "outputs": [],
   "source": []
  },
  {
   "cell_type": "code",
   "execution_count": 14,
   "metadata": {},
   "outputs": [],
   "source": [
    "def LinSigmoid(x):\n",
    "    return 1/(1+(math.e**-x)) + 0.05*x"
   ]
  },
  {
   "cell_type": "code",
   "execution_count": 15,
   "metadata": {},
   "outputs": [],
   "source": [
    "def LinTanh(x):\n",
    "    return torch.tanh(x) + 0.05*x"
   ]
  },
  {
   "cell_type": "code",
   "execution_count": 642,
   "metadata": {},
   "outputs": [],
   "source": [
    "def LinELU(x):\n",
    "    return torch.nn.functional.elu(x) + 0.01*x + 1.0"
   ]
  },
  {
   "cell_type": "code",
   "execution_count": 17,
   "metadata": {},
   "outputs": [],
   "source": [
    "def RBF(x):\n",
    "    return torch.exp(-x**2)"
   ]
  },
  {
   "cell_type": "code",
   "execution_count": 509,
   "metadata": {},
   "outputs": [],
   "source": [
    "def RectifiedQuad(x):\n",
    "    return nn.functional.relu(x)**2"
   ]
  },
  {
   "cell_type": "code",
   "execution_count": 616,
   "metadata": {},
   "outputs": [],
   "source": [
    "def swish(x, beta = 1):\n",
    "    return (x * torch.sigmoid(beta * x))"
   ]
  },
  {
   "cell_type": "code",
   "execution_count": 643,
   "metadata": {},
   "outputs": [
    {
     "data": {
      "text/plain": [
       "[<matplotlib.lines.Line2D at 0x7f426cee5490>]"
      ]
     },
     "execution_count": 643,
     "metadata": {},
     "output_type": "execute_result"
    },
    {
     "data": {
      "image/png": "[encoded data removed]",
      "text/plain": [
       "<Figure size 432x288 with 1 Axes>"
      ]
     },
     "metadata": {
      "needs_background": "light"
     },
     "output_type": "display_data"
    }
   ],
   "source": [
    "plt.plot(x_lin.detach().cpu().numpy(), LinELU(x_lin).detach().cpu().numpy())"
   ]
  },
  {
   "cell_type": "code",
   "execution_count": null,
   "metadata": {},
   "outputs": [],
   "source": []
  },
  {
   "cell_type": "code",
   "execution_count": null,
   "metadata": {},
   "outputs": [],
   "source": []
  },
  {
   "cell_type": "code",
   "execution_count": 18,
   "metadata": {},
   "outputs": [
    {
     "data": {
      "text/plain": [
       "Parameter containing:\n",
       "tensor([0.5413, 0.5413, 0.5413, 0.5413, 0.5413, 0.5413, 0.5413, 0.5413, 0.5413,\n",
       "        0.5413], device='cuda:2')"
      ]
     },
     "execution_count": 18,
     "metadata": {},
     "output_type": "execute_result"
    }
   ],
   "source": [
    "class Net(nn.Module):\n",
    "    def __init__(self,lat_dim, H):\n",
    "        super(Net, self).__init__()\n",
    "        self.L1 = nn.Linear(lat_dim, H)\n",
    "        self.L2 = nn.Linear(H, H)\n",
    "        self.L3 = nn.Linear(H, H)\n",
    "        self.L4 = nn.Linear(H, 1)\n",
    "\n",
    "    def forward(self, input):\n",
    "        h = nn.functional.relu(self.L1(input))\n",
    "        h = nn.functional.relu(self.L2(h))\n",
    "        h = nn.functional.relu(self.L3(h))\n",
    "        h = self.L4(h)\n",
    "        return h\n",
    "    \n",
    "lat_dim = 10\n",
    "H = 50\n",
    "nntransform = Net(lat_dim,H)\n",
    "nntransform.to(device)\n",
    "\n",
    "def init_weights(m):\n",
    "    if type(m) == nn.Linear:\n",
    "        #torch.nn.init.normal_(m.weight, mean=0.0, std=0.2)\n",
    "        #torch.nn.init.normal_(m.bias, mean=0.0, std=0.2)\n",
    "        torch.nn.init.xavier_uniform_(m.weight)\n",
    "        torch.nn.init.uniform_(m.bias)\n",
    "        \n",
    "\n",
    "nntransform.apply(init_weights)\n",
    "\n",
    "q = VariationalGenerativeNetwork(nntransform, lat_dim, mu=0.0, sigma=1.0, device=device)\n",
    "q.mfvar.mu.requires_grad_(False)\n",
    "q.mfvar.rho.requires_grad_(False)"
   ]
  },
  {
   "cell_type": "code",
   "execution_count": null,
   "metadata": {},
   "outputs": [],
   "source": []
  },
  {
   "cell_type": "code",
   "execution_count": 675,
   "metadata": {},
   "outputs": [
    {
     "data": {
      "text/plain": [
       "Parameter containing:\n",
       "tensor([0.5413, 0.5413, 0.5413, 0.5413, 0.5413, 0.5413, 0.5413, 0.5413, 0.5413,\n",
       "        0.5413], device='cuda:2')"
      ]
     },
     "execution_count": 675,
     "metadata": {},
     "output_type": "execute_result"
    }
   ],
   "source": [
    "class PolynomialNet(nn.Module):\n",
    "    def __init__(self,lat_dim, H):\n",
    "        super(PolynomialNet, self).__init__()\n",
    "        self.L1 = nn.Linear(lat_dim, H)\n",
    "        self.L2 = nn.Linear(2*H, H)\n",
    "        self.L3 = nn.Linear(2*H, H)\n",
    "        self.L4 = nn.Linear(2*H, 1)\n",
    "\n",
    "    def forward(self, input):\n",
    "        h = torch.cat([nn.functional.relu(self.L1(input)), nn.functional.relu(self.L1(input))**2], dim=1) \n",
    "        h = torch.cat([nn.functional.relu(self.L2(h)), nn.functional.relu(self.L2(h))**2], dim=1) \n",
    "        h = torch.cat([nn.functional.relu(self.L3(h)), nn.functional.relu(self.L3(h))**2], dim=1) \n",
    "        h = self.L4(h)\n",
    "        return h\n",
    "    \n",
    "lat_dim = 10\n",
    "H = 50\n",
    "nntransform = PolynomialNet(lat_dim,H)\n",
    "nntransform.to(device)\n",
    "\n",
    "def init_weights(m):\n",
    "    if type(m) == nn.Linear:\n",
    "        #torch.nn.init.normal_(m.weight, mean=0.0, std=0.2)\n",
    "        #torch.nn.init.normal_(m.bias, mean=0.0, std=0.2)\n",
    "        torch.nn.init.xavier_uniform_(m.weight)\n",
    "        torch.nn.init.uniform_(m.bias)\n",
    "        \n",
    "\n",
    "nntransform.apply(init_weights)\n",
    "\n",
    "q = VariationalGenerativeNetwork(nntransform, lat_dim, mu=0.0, sigma=1.0, device=device)\n",
    "q.mfvar.mu.requires_grad_(False)\n",
    "q.mfvar.rho.requires_grad_(False)"
   ]
  },
  {
   "cell_type": "code",
   "execution_count": null,
   "metadata": {},
   "outputs": [],
   "source": []
  },
  {
   "cell_type": "code",
   "execution_count": null,
   "metadata": {},
   "outputs": [],
   "source": []
  },
  {
   "cell_type": "code",
   "execution_count": 554,
   "metadata": {},
   "outputs": [
    {
     "data": {
      "text/plain": [
       "Parameter containing:\n",
       "tensor([4.9932, 4.9932, 4.9932, 4.9932, 4.9932, 4.9932, 4.9932, 4.9932, 4.9932,\n",
       "        4.9932], device='cuda:2')"
      ]
     },
     "execution_count": 554,
     "metadata": {},
     "output_type": "execute_result"
    }
   ],
   "source": [
    "class DenseBlockEncoder(torch.nn.Module):\n",
    "    def __init__(self, wSequence, activation):\n",
    "        super().__init__()\n",
    "        self.fullyConnectedList = nn.ModuleList()\n",
    "        self.activation = activation\n",
    "        for j in range(len(wSequence) - 1):\n",
    "            self.fullyConnectedList.append(nn.Linear(sum(wSequence[:j + 1]), wSequence[j + 1]))\n",
    "\n",
    "    def forward(self, *inputs):\n",
    "        hidden, = inputs\n",
    "        for j in range(len(self.fullyConnectedList) - 1):\n",
    "            layer = self.fullyConnectedList[j]\n",
    "            hidden = self.activation(torch.cat([layer(hidden), hidden], dim=1))\n",
    "        layer = self.fullyConnectedList[-1]\n",
    "        hidden = layer(hidden)\n",
    "        return hidden\n",
    "\n",
    "lat_dim = 10\n",
    "H = 20\n",
    "nntransform = DenseBlockEncoder([lat_dim,H,H,H,H,1], nn.functional.relu)\n",
    "nntransform.to(device)\n",
    "\n",
    "def init_weights(m):\n",
    "    if type(m) == nn.Linear:\n",
    "        #torch.nn.init.normal_(m.weight, mean=0.0, std=0.2)\n",
    "        #torch.nn.init.normal_(m.bias, mean=0.0, std=0.2)\n",
    "        torch.nn.init.xavier_uniform_(m.weight)\n",
    "        torch.nn.init.uniform_(m.bias)\n",
    "        \n",
    "\n",
    "nntransform.apply(init_weights)\n",
    "\n",
    "q = VariationalGenerativeNetwork(nntransform, lat_dim, mu=0.0, sigma=5.0, device=device)\n",
    "q.mfvar.mu.requires_grad_(False)\n",
    "q.mfvar.rho.requires_grad_(False)"
   ]
  },
  {
   "cell_type": "code",
   "execution_count": null,
   "metadata": {},
   "outputs": [],
   "source": []
  },
  {
   "cell_type": "code",
   "execution_count": null,
   "metadata": {},
   "outputs": [],
   "source": []
  },
  {
   "cell_type": "code",
   "execution_count": null,
   "metadata": {},
   "outputs": [],
   "source": []
  },
  {
   "cell_type": "code",
   "execution_count": null,
   "metadata": {},
   "outputs": [],
   "source": []
  },
  {
   "cell_type": "code",
   "execution_count": 19,
   "metadata": {},
   "outputs": [
    {
     "data": {
      "image/png": "[encoded data removed]",
      "text/plain": [
       "<Figure size 432x288 with 1 Axes>"
      ]
     },
     "metadata": {
      "needs_background": "light"
     },
     "output_type": "display_data"
    }
   ],
   "source": [
    "#x_lin = torch.arange(-10, 10.0, 0.01).unsqueeze(-1)\n",
    "#plt.plot(x_lin.detach().cpu().numpy(), logposterior(x_lin).exp().detach().cpu().numpy())\n",
    "with torch.no_grad():\n",
    "    X = q.sample(1000000)\n",
    "ax = sns.distplot(X.detach().cpu().numpy(), bins=100, kde=False)"
   ]
  },
  {
   "cell_type": "code",
   "execution_count": null,
   "metadata": {},
   "outputs": [],
   "source": []
  },
  {
   "cell_type": "markdown",
   "metadata": {},
   "source": [
    "# Training #"
   ]
  },
  {
   "cell_type": "code",
   "execution_count": 21,
   "metadata": {},
   "outputs": [],
   "source": [
    "N_ELBO = 1200"
   ]
  },
  {
   "cell_type": "code",
   "execution_count": 22,
   "metadata": {},
   "outputs": [],
   "source": [
    "optimizer = torch.optim.Adagrad(q.parameters(), lr=0.01)"
   ]
  },
  {
   "cell_type": "code",
   "execution_count": 23,
   "metadata": {},
   "outputs": [],
   "source": [
    "#scheduler = torch.optim.lr_scheduler.ReduceLROnPlateau(optimizer, patience=200, factor=0.1)"
   ]
  },
  {
   "cell_type": "code",
   "execution_count": 24,
   "metadata": {},
   "outputs": [],
   "source": [
    "scheduler = torch.optim.lr_scheduler.ExponentialLR(optimizer, gamma=0.999)"
   ]
  },
  {
   "cell_type": "code",
   "execution_count": 25,
   "metadata": {},
   "outputs": [],
   "source": [
    "%matplotlib inline\n",
    "liveloss = PlotLosses()"
   ]
  },
  {
   "cell_type": "code",
   "execution_count": null,
   "metadata": {},
   "outputs": [],
   "source": []
  },
  {
   "cell_type": "code",
   "execution_count": 26,
   "metadata": {},
   "outputs": [
    {
     "data": {
      "image/png": "[encoded data removed]",
      "text/plain": [
       "<Figure size 432x288 with 1 Axes>"
      ]
     },
     "metadata": {
      "needs_background": "light"
     },
     "output_type": "display_data"
    },
    {
     "data": {
      "image/png": "[encoded data removed]",
      "text/plain": [
       "<Figure size 864x864 with 3 Axes>"
      ]
     },
     "metadata": {
      "needs_background": "light"
     },
     "output_type": "display_data"
    },
    {
     "name": "stdout",
     "output_type": "stream",
     "text": [
      "KL:\n",
      "training   (min:    1.668, max:    5.956, cur:    1.679)\n",
      "\n",
      "learning rate:\n",
      "training   (min:    0.000, max:    0.010, cur:    0.000)\n",
      "\n",
      "Entropy:\n",
      "training   (min:   -1.335, max:    0.389, cur:    0.294)\n"
     ]
    },
    {
     "ename": "KeyboardInterrupt",
     "evalue": "",
     "output_type": "error",
     "traceback": [
      "\u001b[0;31m---------------------------------------------------------------------------\u001b[0m",
      "\u001b[0;31mKeyboardInterrupt\u001b[0m                         Traceback (most recent call last)",
      "\u001b[0;32m<ipython-input-26-3ccc2feca46a>\u001b[0m in \u001b[0;36m<module>\u001b[0;34m\u001b[0m\n\u001b[1;32m     21\u001b[0m     \u001b[0mL\u001b[0m \u001b[0;34m=\u001b[0m \u001b[0;34m-\u001b[0m\u001b[0mExpectedPosterior\u001b[0m\u001b[0;34m-\u001b[0m\u001b[0mEntropy\u001b[0m\u001b[0;34m\u001b[0m\u001b[0;34m\u001b[0m\u001b[0m\n\u001b[1;32m     22\u001b[0m \u001b[0;34m\u001b[0m\u001b[0m\n\u001b[0;32m---> 23\u001b[0;31m     \u001b[0;32mif\u001b[0m \u001b[0;32mnot\u001b[0m \u001b[0mtorch\u001b[0m\u001b[0;34m.\u001b[0m\u001b[0misfinite\u001b[0m\u001b[0;34m(\u001b[0m\u001b[0mL\u001b[0m\u001b[0;34m)\u001b[0m\u001b[0;34m:\u001b[0m\u001b[0;34m\u001b[0m\u001b[0;34m\u001b[0m\u001b[0m\n\u001b[0m\u001b[1;32m     24\u001b[0m         \u001b[0;32mbreak\u001b[0m\u001b[0;34m\u001b[0m\u001b[0;34m\u001b[0m\u001b[0m\n\u001b[1;32m     25\u001b[0m \u001b[0;34m\u001b[0m\u001b[0m\n",
      "\u001b[0;31mKeyboardInterrupt\u001b[0m: "
     ]
    },
    {
     "data": {
      "image/png": "[encoded data removed]",
      "text/plain": [
       "<Figure size 432x288 with 1 Axes>"
      ]
     },
     "metadata": {
      "needs_background": "light"
     },
     "output_type": "display_data"
    }
   ],
   "source": [
    "for t in range(100000):\n",
    "    logs = {}\n",
    "    optimizer.zero_grad()\n",
    "    \n",
    "    X = q.sample(N_ELBO)\n",
    "    ExpectedPosterior = logposterior(X).mean()\n",
    "\n",
    "    D = torch.nn.functional.pdist(X,p=2.0)\n",
    "    #m = torch.zeros((N_ELBO-1, N_ELBO), device=device)\n",
    "    #tril_indices = torch.tril_indices(row=N_ELBO, col=N_ELBO, offset=-1)\n",
    "    #m[tril_indices[0]-1, tril_indices[1]] = D\n",
    "    #m[tril_indices[1], tril_indices[0]] = D\n",
    "    #(s,_) = torch.min(m,dim=0)\n",
    "    #s = s[s>0.0]\n",
    "\n",
    "    #Entropy = torch.mean(torch.log(s*torch.tensor(len(s),device=device).float())) \\\n",
    "    #        + torch.tensor(2.0, device=device).log() + torch.tensor(0.57721, device=device)\n",
    "    \n",
    "    Entropy = torch.log(D).mean()\n",
    "    \n",
    "    L = -ExpectedPosterior-Entropy\n",
    "    \n",
    "    if not torch.isfinite(L):\n",
    "        break\n",
    "    \n",
    "    L.backward(retain_graph=True)\n",
    "    torch.nn.utils.clip_grad_value_(q.parameters(), 0.1)\n",
    "    \n",
    "    optimizer.step()\n",
    "    \n",
    "    with torch.no_grad():\n",
    "        learning_rate = optimizer.param_groups[0]['lr']\n",
    "\n",
    "        scheduler.step() #L.detach().clone().cpu().numpy())\n",
    "\n",
    "        logs['KL'] = L.detach().clone().cpu().numpy()\n",
    "        logs['learning rate'] = learning_rate\n",
    "        logs['Entropy'] = Entropy.detach().clone().cpu().numpy()\n",
    "        liveloss.update(logs)\n",
    "\n",
    "        if t % 25 == 0:\n",
    "            liveloss.draw()\n",
    "            x_lin = torch.arange(-10, 10.0, 0.01).unsqueeze(-1)\n",
    "            plt.plot(x_lin.detach().cpu().numpy(), logposterior(x_lin).exp().detach().cpu().numpy())\n",
    "            with torch.no_grad():\n",
    "                X = q.sample(1000000)\n",
    "            ax = sns.distplot(X.detach().cpu().numpy(), bins=1000, kde=False, norm_hist=True)\n",
    "            ax.set_xlim(-10,10)\n",
    "\n",
    "    if learning_rate < 0.00001:\n",
    "        break"
   ]
  },
  {
   "cell_type": "markdown",
   "metadata": {},
   "source": [
    "# Résultats #"
   ]
  },
  {
   "cell_type": "code",
   "execution_count": null,
   "metadata": {},
   "outputs": [],
   "source": [
    "list(q.named_parameters())"
   ]
  },
  {
   "cell_type": "code",
   "execution_count": null,
   "metadata": {},
   "outputs": [],
   "source": [
    "torch.sum(torch.log(s*N_ELBO))/N_ELBO "
   ]
  },
  {
   "cell_type": "code",
   "execution_count": null,
   "metadata": {},
   "outputs": [],
   "source": []
  },
  {
   "cell_type": "code",
   "execution_count": null,
   "metadata": {},
   "outputs": [],
   "source": []
  },
  {
   "cell_type": "code",
   "execution_count": null,
   "metadata": {},
   "outputs": [],
   "source": []
  },
  {
   "cell_type": "code",
   "execution_count": null,
   "metadata": {},
   "outputs": [],
   "source": []
  },
  {
   "cell_type": "code",
   "execution_count": null,
   "metadata": {},
   "outputs": [],
   "source": [
    "%matplotlib inline\n",
    "with torch.no_grad():\n",
    "    X = q.sample(1000000)\n",
    "ax = sns.distplot(X.detach().numpy(), bins=100, kde=False)\n",
    "ax.set_xlim(-10,10)"
   ]
  },
  {
   "cell_type": "code",
   "execution_count": null,
   "metadata": {},
   "outputs": [],
   "source": [
    "%matplotlib inline\n",
    "\n",
    "x_lin = torch.arange(-10, 10.0, 0.01).unsqueeze(-1)\n",
    "plt.plot(x_lin.detach().cpu().numpy(), logposterior(x_lin).exp().detach().cpu().numpy())\n",
    "plt.show()"
   ]
  },
  {
   "cell_type": "code",
   "execution_count": null,
   "metadata": {},
   "outputs": [],
   "source": []
  },
  {
   "cell_type": "code",
   "execution_count": null,
   "metadata": {},
   "outputs": [],
   "source": [
    "import math"
   ]
  },
  {
   "cell_type": "code",
   "execution_count": null,
   "metadata": {},
   "outputs": [],
   "source": [
    "import math\n",
    "def f(x):\n",
    "    return torch.sin(x)+x"
   ]
  },
  {
   "cell_type": "code",
   "execution_count": null,
   "metadata": {},
   "outputs": [],
   "source": [
    "%matplotlib inline\n",
    "\n",
    "x_lin = torch.arange(-10, 10.0, 0.01).unsqueeze(-1)\n",
    "plt.plot(x_lin.detach().cpu().numpy(), f(x_lin).detach().cpu().numpy())\n",
    "plt.show()"
   ]
  },
  {
   "cell_type": "code",
   "execution_count": null,
   "metadata": {},
   "outputs": [],
   "source": []
  }
 ],
 "metadata": {
  "kernelspec": {
   "display_name": "Python 3",
   "language": "python",
   "name": "python3"
  },
  "language_info": {
   "codemirror_mode": {
    "name": "ipython",
    "version": 3
   },
   "file_extension": ".py",
   "mimetype": "text/x-python",
   "name": "python",
   "nbconvert_exporter": "python",
   "pygments_lexer": "ipython3",
   "version": "3.7.5"
  }
 },
 "nbformat": 4,
 "nbformat_minor": 2
}
