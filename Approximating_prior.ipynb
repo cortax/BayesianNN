{
 "cells": [
  {
   "cell_type": "code",
   "execution_count": 1,
   "metadata": {
    "scrolled": true
   },
   "outputs": [
    {
     "name": "stdout",
     "output_type": "stream",
     "text": [
      "1.4.0\n"
     ]
    }
   ],
   "source": [
    "import numpy as np\n",
    "import math\n",
    "import torch\n",
    "from torch import nn\n",
    "\n",
    "import scipy.stats as stats\n",
    "import matplotlib\n",
    "import matplotlib.pyplot as plt\n",
    "\n",
    "from tempfile import TemporaryDirectory\n",
    "\n",
    "from Inference.FuNNeVI import FuNNeVI\n",
    "from Models import BigGenerator, SLPGenerator\n",
    "from Tools import KL\n",
    "\n",
    "from tqdm import trange\n",
    "\n",
    "print(torch.__version__)\n"
   ]
  },
  {
   "cell_type": "code",
   "execution_count": 2,
   "metadata": {
    "scrolled": true
   },
   "outputs": [
    {
     "data": {
      "text/plain": [
       "device(type='cuda', index=0)"
      ]
     },
     "execution_count": 2,
     "metadata": {},
     "output_type": "execute_result"
    }
   ],
   "source": [
    "device = torch.device('cuda:0' if torch.cuda.is_available() else 'cpu')\n",
    "device"
   ]
  },
  {
   "cell_type": "code",
   "execution_count": 3,
   "metadata": {
    "scrolled": true
   },
   "outputs": [],
   "source": [
    "from Experiments.foong import Setup\n",
    "setup=Setup(device)\n",
    "model=setup._model"
   ]
  },
  {
   "cell_type": "code",
   "execution_count": 4,
   "metadata": {},
   "outputs": [],
   "source": [
    "class FuNNeVI():\n",
    "    def __init__(self, loglikelihood, prior, projection, n_samples_FU, ratio_ood, p,\n",
    "                 kNNE, n_samples_KL, n_samples_LL,\n",
    "                 max_iter, learning_rate, min_lr, patience, lr_decay,\n",
    "                 device,  temp_dir, save_best=True, rho=1.):\n",
    "        self.loglikelihood=loglikelihood\n",
    "        self.prior=prior\n",
    "        self.projection=projection\n",
    "        self.n_samples_FU=n_samples_FU\n",
    "        self.ratio_ood=ratio_ood\n",
    "        self.kNNE=kNNE\n",
    "        self.n_samples_KL=n_samples_KL\n",
    "        self.n_samples_LL=n_samples_LL\n",
    "        self.max_iter = max_iter\n",
    "        self.learning_rate = learning_rate\n",
    "        self.min_lr = min_lr\n",
    "        self.patience = patience\n",
    "        self.lr_decay = lr_decay\n",
    "        self.device = device\n",
    "    \n",
    "        self.save_best=save_best\n",
    "        self._best_score=float('inf')\n",
    "        \n",
    "        self.p=p\n",
    "        self.rho=rho \n",
    "\n",
    "        self.tempdir_name = temp_dir\n",
    "\n",
    "    def _save_best_model(self, GeN, epoch, score,ED,LP):\n",
    "        if score < self._best_score:\n",
    "            torch.save({\n",
    "                'epoch': epoch,\n",
    "                'state_dict': GeN.state_dict(),\n",
    "                'ELBO': score,\n",
    "                'ED':ED,\n",
    "                'LP':LP\n",
    "            }, self.tempdir_name+'/best.pt')\n",
    "            self._best_score=score\n",
    "\n",
    "    def ELBO(self,GeN,m_MCL=100,n_LL=1000):\n",
    "        #compute ELBO of GeN accurately\n",
    "        \n",
    "        theta=GeN(self.n_samples_KL)\n",
    "        theta_prior=self.prior(self.n_samples_KL)\n",
    "        theta_proj=torch.Tensor(m_MCL, self.n_samples_KL, self.n_samples_FU).to(self.device)\n",
    "        theta_prior_proj=torch.Tensor(m_MCL, self.n_samples_KL, self.n_samples_FU).to(self.device)\n",
    "        for i in range(m_MCL):\n",
    "            theta_proj[i], theta_prior_proj[i] = self.projection(theta, theta_prior, self.n_samples_FU, self.ratio_ood)\n",
    "        \n",
    "        K=batchKL(theta_proj, theta_prior_proj,k=self.kNNE,device=self.device,p=self.p)\n",
    "        LL = self.loglikelihood(GeN(n_LL)).mean()\n",
    "        L = K - LL\n",
    "        return L\n",
    "    \n",
    "    def _KL(self,GeN):\n",
    "        \n",
    "        theta=GeN(self.n_samples_KL) #variationnel\n",
    "        theta_prior=self.prior(self.n_samples_KL) #prior\n",
    "\n",
    "        theta_proj, theta_prior_proj = self.projection(theta, theta_prior, self.n_samples_FU, self.ratio_ood)\n",
    "\n",
    "        K=KL(theta_proj, theta_prior_proj,k=self.kNNE,device=self.device,p=self.p)\n",
    "        return K\n",
    "\n",
    "        \n",
    "             \n",
    "    def _get_best_model(self, GeN):\n",
    "        best= torch.load(self.tempdir_name+'/best.pt')\n",
    "        GeN.load_state_dict(best['state_dict'])\n",
    "        return best['epoch'], [best['ELBO'], best['ED'], best['LP']]\n",
    "\n",
    "    def run(self, GeN, show_fn=None):\n",
    "        optimizer = torch.optim.Adam(GeN.parameters(), lr=self.learning_rate)\n",
    "        scheduler = torch.optim.lr_scheduler.ReduceLROnPlateau(optimizer, patience=self.patience, factor=self.lr_decay)\n",
    "\n",
    "        self.score_elbo = []\n",
    "        self.score_KL = []\n",
    "        self.score_LL = []\n",
    "        self.score_lr = []\n",
    "        with trange(self.max_iter) as tr:\n",
    "            for t in tr:\n",
    "                optimizer.zero_grad()\n",
    "                \"\"\"\n",
    "                theta=GeN(self.n_samples_KL)\n",
    "                theta_prior=self.prior(self.n_samples_KL)\n",
    "\n",
    "                theta_proj, theta_prior_proj=self.projection(theta, theta_prior, self.n_samples_FU, self.ratio_ood)\n",
    "                K=KL(theta_proj, theta_prior_proj,k=self.kNNE,device=self.device)\n",
    "\n",
    "                LL = self.loglikelihood(GeN(self.n_samples_LL)).mean()\n",
    "                L = K - LL\n",
    "                \"\"\"\n",
    "                #TODO explore hyperparameter lambda*K\n",
    "                K = self._KL(GeN) #KL(Q_var,Prior)\n",
    "                L=self.rho*K\n",
    "                L.backward()\n",
    "\n",
    "                lr = optimizer.param_groups[0]['lr']\n",
    "\n",
    "                #scheduler.step(L.item())\n",
    "                scheduler.step(K.item())\n",
    "\n",
    "                tr.set_postfix(KL=K.item(), lr=lr)\n",
    "\n",
    "                if lr < self.min_lr:\n",
    "                    break\n",
    "\n",
    "                optimizer.step()\n",
    "\n",
    "            \n",
    "        best_epoch, scores =self._get_best_model(GeN)\n",
    "        return best_epoch, scores"
   ]
  },
  {
   "cell_type": "markdown",
   "metadata": {},
   "source": [
    "# Target density #"
   ]
  },
  {
   "cell_type": "code",
   "execution_count": 19,
   "metadata": {
    "scrolled": true
   },
   "outputs": [
    {
     "data": {
      "text/plain": [
       "(120, 151)"
      ]
     },
     "execution_count": 19,
     "metadata": {},
     "output_type": "execute_result"
    }
   ],
   "source": [
    "loglikelihood=setup.loglikelihood\n",
    "projection=setup.projection\n",
    "size_sample=setup.n_train_samples\n",
    "param_count=setup.param_count\n",
    "model=setup._model\n",
    "\n",
    "\n",
    "def prior(n):\n",
    "    return .6*torch.randn(size=(n,param_count), device=device)\n",
    "\n",
    "size_sample,param_count"
   ]
  },
  {
   "cell_type": "code",
   "execution_count": 20,
   "metadata": {},
   "outputs": [
    {
     "data": {
      "image/png": "[encoded data removed]",
      "text/plain": [
       "<Figure size 432x288 with 1 Axes>"
      ]
     },
     "metadata": {
      "needs_background": "light"
     },
     "output_type": "display_data"
    }
   ],
   "source": [
    "fig=setup.makePlotCI(prior(1000),device)"
   ]
  },
  {
   "cell_type": "code",
   "execution_count": 7,
   "metadata": {},
   "outputs": [
    {
     "data": {
      "text/plain": [
       "Sequential(\n",
       "  (0): Linear(in_features=5, out_features=20, bias=True)\n",
       "  (1): ReLU(inplace=True)\n",
       "  (2): Linear(in_features=20, out_features=40, bias=True)\n",
       "  (3): ReLU(inplace=True)\n",
       "  (4): Linear(in_features=40, out_features=151, bias=True)\n",
       ")"
      ]
     },
     "execution_count": 7,
     "metadata": {},
     "output_type": "execute_result"
    }
   ],
   "source": [
    "G=BigGenerator(5, param_count,device).to(device)\n",
    "G.model"
   ]
  },
  {
   "cell_type": "code",
   "execution_count": 8,
   "metadata": {},
   "outputs": [
    {
     "data": {
      "text/plain": [
       "Parameter containing:\n",
       "tensor([-1.2359,  1.1070,  0.8026,  0.6186,  0.6702, -1.2444,  0.3772, -0.5285,\n",
       "         0.0264, -1.0326, -0.0681,  0.2674, -1.5580,  0.3571, -0.1968,  1.2860,\n",
       "         1.4666, -0.4019,  1.0011, -0.0747, -1.6915, -0.2796, -0.3680, -0.1787,\n",
       "        -0.0628,  0.4419,  1.0361, -0.0125,  0.2155, -0.7182,  1.0813,  0.1936,\n",
       "        -0.9250,  0.2095, -0.6337, -2.2554, -0.5097,  0.8329,  0.2420,  0.8009,\n",
       "        -0.2252, -1.1190,  2.6534,  1.0794, -0.3654, -0.0429, -1.0529,  1.0399,\n",
       "        -1.5243, -1.1999,  0.0381, -0.4411, -0.7119, -1.1737,  0.2336, -0.1422,\n",
       "         0.6054, -1.0605, -0.8098,  0.8181, -0.4593, -0.2835,  0.3569, -0.2406,\n",
       "        -1.7027, -0.1147, -0.7458, -1.0671, -0.0565,  0.3355, -0.9516, -0.9286,\n",
       "         0.8920, -0.0081,  1.3621,  0.0986,  0.9138, -0.3043, -0.7476, -0.1783,\n",
       "         0.7313,  0.3689, -1.1960,  0.6108,  1.4275, -0.6605,  0.0089, -0.7859,\n",
       "        -0.7595, -1.6739,  0.3292, -0.8961, -1.0499,  0.8641, -1.7498, -0.3983,\n",
       "        -0.3178, -1.8846, -0.1446, -0.7688, -0.9112,  0.1709,  0.5363, -0.8758,\n",
       "         0.2055,  1.1215,  1.7722,  0.8824,  0.9114, -0.0817, -0.1237, -0.2464,\n",
       "         0.1708,  1.3253,  0.0333,  1.0093, -2.1509,  0.1386, -0.2582, -0.1953,\n",
       "         1.1866,  1.0295, -1.1243,  0.8986, -0.8064,  0.7445,  0.9735, -0.4930,\n",
       "         0.6301,  0.7476,  0.1822,  3.0239, -0.6833,  1.0437, -0.4368, -0.3949,\n",
       "         0.8206, -1.0592, -0.7394, -1.2916, -1.5041, -1.0368,  0.3838, -0.0606,\n",
       "        -0.6881, -0.0127, -1.5856, -0.1668, -0.8916,  1.1803,  0.2124],\n",
       "       device='cuda:0', requires_grad=True)"
      ]
     },
     "execution_count": 8,
     "metadata": {},
     "output_type": "execute_result"
    }
   ],
   "source": [
    "\n",
    "torch.nn.init.normal_(G.model[4].weight,mean=0., std=1.)\n",
    "torch.nn.init.normal_(G.model[4].bias,mean=0., std=1.)"
   ]
  },
  {
   "cell_type": "code",
   "execution_count": 12,
   "metadata": {},
   "outputs": [
    {
     "data": {
      "image/png": "[encoded data removed]",
      "text/plain": [
       "<Figure size 432x288 with 1 Axes>"
      ]
     },
     "metadata": {
      "needs_background": "light"
     },
     "output_type": "display_data"
    }
   ],
   "source": [
    "fig=setup.makePlotCI(G(1000).detach(),device)"
   ]
  },
  {
   "cell_type": "markdown",
   "metadata": {},
   "source": [
    "# Generative Network #"
   ]
  },
  {
   "cell_type": "code",
   "execution_count": 10,
   "metadata": {
    "scrolled": true
   },
   "outputs": [
    {
     "name": "stderr",
     "output_type": "stream",
     "text": [
      " 68%|██████▊   | 6769/10000 [01:01<00:29, 110.86it/s, KL=-1.28, lr=7.81e-5]  \n"
     ]
    },
    {
     "ename": "KeyboardInterrupt",
     "evalue": "",
     "output_type": "error",
     "traceback": [
      "\u001b[0;31m---------------------------------------------------------------------------\u001b[0m",
      "\u001b[0;31mKeyboardInterrupt\u001b[0m                         Traceback (most recent call last)",
      "\u001b[0;32m<ipython-input-10-b65fd477953c>\u001b[0m in \u001b[0;36m<module>\u001b[0;34m\u001b[0m\n\u001b[1;32m      5\u001b[0m                           device=device, temp_dir=temp_dir, save_best=False)\n\u001b[1;32m      6\u001b[0m \u001b[0;34m\u001b[0m\u001b[0m\n\u001b[0;32m----> 7\u001b[0;31m     \u001b[0mthe_epoch\u001b[0m\u001b[0;34m,\u001b[0m \u001b[0mthe_scores\u001b[0m \u001b[0;34m=\u001b[0m \u001b[0moptimizer\u001b[0m\u001b[0;34m.\u001b[0m\u001b[0mrun\u001b[0m\u001b[0;34m(\u001b[0m\u001b[0mG\u001b[0m\u001b[0;34m)\u001b[0m\u001b[0;34m\u001b[0m\u001b[0;34m\u001b[0m\u001b[0m\n\u001b[0m",
      "\u001b[0;32m<ipython-input-4-540f32c0ad05>\u001b[0m in \u001b[0;36mrun\u001b[0;34m(self, GeN, show_fn)\u001b[0m\n\u001b[1;32m     92\u001b[0m                 \"\"\"\n\u001b[1;32m     93\u001b[0m                 \u001b[0;31m#TODO explore hyperparameter lambda*K\u001b[0m\u001b[0;34m\u001b[0m\u001b[0;34m\u001b[0m\u001b[0;34m\u001b[0m\u001b[0m\n\u001b[0;32m---> 94\u001b[0;31m                 \u001b[0mK\u001b[0m \u001b[0;34m=\u001b[0m \u001b[0mself\u001b[0m\u001b[0;34m.\u001b[0m\u001b[0m_KL\u001b[0m\u001b[0;34m(\u001b[0m\u001b[0mGeN\u001b[0m\u001b[0;34m)\u001b[0m \u001b[0;31m#KL(Q_var,Prior)\u001b[0m\u001b[0;34m\u001b[0m\u001b[0;34m\u001b[0m\u001b[0m\n\u001b[0m\u001b[1;32m     95\u001b[0m                 \u001b[0mL\u001b[0m\u001b[0;34m=\u001b[0m\u001b[0mself\u001b[0m\u001b[0;34m.\u001b[0m\u001b[0mrho\u001b[0m\u001b[0;34m*\u001b[0m\u001b[0mK\u001b[0m\u001b[0;34m\u001b[0m\u001b[0;34m\u001b[0m\u001b[0m\n\u001b[1;32m     96\u001b[0m                 \u001b[0mL\u001b[0m\u001b[0;34m.\u001b[0m\u001b[0mbackward\u001b[0m\u001b[0;34m(\u001b[0m\u001b[0;34m)\u001b[0m\u001b[0;34m\u001b[0m\u001b[0;34m\u001b[0m\u001b[0m\n",
      "\u001b[0;32m<ipython-input-4-540f32c0ad05>\u001b[0m in \u001b[0;36m_KL\u001b[0;34m(self, GeN)\u001b[0m\n\u001b[1;32m     58\u001b[0m         \u001b[0mtheta_prior\u001b[0m\u001b[0;34m=\u001b[0m\u001b[0mself\u001b[0m\u001b[0;34m.\u001b[0m\u001b[0mprior\u001b[0m\u001b[0;34m(\u001b[0m\u001b[0mself\u001b[0m\u001b[0;34m.\u001b[0m\u001b[0mn_samples_KL\u001b[0m\u001b[0;34m)\u001b[0m \u001b[0;31m#prior\u001b[0m\u001b[0;34m\u001b[0m\u001b[0;34m\u001b[0m\u001b[0m\n\u001b[1;32m     59\u001b[0m \u001b[0;34m\u001b[0m\u001b[0m\n\u001b[0;32m---> 60\u001b[0;31m         \u001b[0mtheta_proj\u001b[0m\u001b[0;34m,\u001b[0m \u001b[0mtheta_prior_proj\u001b[0m \u001b[0;34m=\u001b[0m \u001b[0mself\u001b[0m\u001b[0;34m.\u001b[0m\u001b[0mprojection\u001b[0m\u001b[0;34m(\u001b[0m\u001b[0mtheta\u001b[0m\u001b[0;34m,\u001b[0m \u001b[0mtheta_prior\u001b[0m\u001b[0;34m,\u001b[0m \u001b[0mself\u001b[0m\u001b[0;34m.\u001b[0m\u001b[0mn_samples_FU\u001b[0m\u001b[0;34m,\u001b[0m \u001b[0mself\u001b[0m\u001b[0;34m.\u001b[0m\u001b[0mratio_ood\u001b[0m\u001b[0;34m)\u001b[0m\u001b[0;34m\u001b[0m\u001b[0;34m\u001b[0m\u001b[0m\n\u001b[0m\u001b[1;32m     61\u001b[0m \u001b[0;34m\u001b[0m\u001b[0m\n\u001b[1;32m     62\u001b[0m         \u001b[0mK\u001b[0m\u001b[0;34m=\u001b[0m\u001b[0mKL\u001b[0m\u001b[0;34m(\u001b[0m\u001b[0mtheta_proj\u001b[0m\u001b[0;34m,\u001b[0m \u001b[0mtheta_prior_proj\u001b[0m\u001b[0;34m,\u001b[0m\u001b[0mk\u001b[0m\u001b[0;34m=\u001b[0m\u001b[0mself\u001b[0m\u001b[0;34m.\u001b[0m\u001b[0mkNNE\u001b[0m\u001b[0;34m,\u001b[0m\u001b[0mdevice\u001b[0m\u001b[0;34m=\u001b[0m\u001b[0mself\u001b[0m\u001b[0;34m.\u001b[0m\u001b[0mdevice\u001b[0m\u001b[0;34m,\u001b[0m\u001b[0mp\u001b[0m\u001b[0;34m=\u001b[0m\u001b[0mself\u001b[0m\u001b[0;34m.\u001b[0m\u001b[0mp\u001b[0m\u001b[0;34m)\u001b[0m\u001b[0;34m\u001b[0m\u001b[0;34m\u001b[0m\u001b[0m\n",
      "\u001b[0;32m~/BayesianNN/Experiments/foong/__init__.py\u001b[0m in \u001b[0;36mprojection\u001b[0;34m(self, theta0, theta1, n_samples, ratio_ood)\u001b[0m\n\u001b[1;32m    141\u001b[0m         \u001b[0;31m#compute projection on both paramters with model\u001b[0m\u001b[0;34m\u001b[0m\u001b[0;34m\u001b[0m\u001b[0;34m\u001b[0m\u001b[0m\n\u001b[1;32m    142\u001b[0m         \u001b[0mtheta0_proj\u001b[0m\u001b[0;34m=\u001b[0m\u001b[0mself\u001b[0m\u001b[0;34m.\u001b[0m\u001b[0m_model\u001b[0m\u001b[0;34m(\u001b[0m\u001b[0mX\u001b[0m\u001b[0;34m,\u001b[0m \u001b[0mtheta0\u001b[0m\u001b[0;34m)\u001b[0m\u001b[0;34m.\u001b[0m\u001b[0msqueeze\u001b[0m\u001b[0;34m(\u001b[0m\u001b[0;36m2\u001b[0m\u001b[0;34m)\u001b[0m\u001b[0;34m\u001b[0m\u001b[0;34m\u001b[0m\u001b[0m\n\u001b[0;32m--> 143\u001b[0;31m         \u001b[0mtheta1_proj\u001b[0m\u001b[0;34m=\u001b[0m\u001b[0mself\u001b[0m\u001b[0;34m.\u001b[0m\u001b[0m_model\u001b[0m\u001b[0;34m(\u001b[0m\u001b[0mX\u001b[0m\u001b[0;34m,\u001b[0m \u001b[0mtheta1\u001b[0m\u001b[0;34m)\u001b[0m\u001b[0;34m.\u001b[0m\u001b[0msqueeze\u001b[0m\u001b[0;34m(\u001b[0m\u001b[0;36m2\u001b[0m\u001b[0;34m)\u001b[0m\u001b[0;34m\u001b[0m\u001b[0;34m\u001b[0m\u001b[0m\n\u001b[0m\u001b[1;32m    144\u001b[0m         \u001b[0;32mreturn\u001b[0m \u001b[0mtheta0_proj\u001b[0m\u001b[0;34m,\u001b[0m \u001b[0mtheta1_proj\u001b[0m\u001b[0;34m\u001b[0m\u001b[0;34m\u001b[0m\u001b[0m\n\u001b[1;32m    145\u001b[0m \u001b[0;34m\u001b[0m\u001b[0m\n",
      "\u001b[0;32m~/BayesianNN/Models/__init__.py\u001b[0m in \u001b[0;36mmlp\u001b[0;34m(x, theta, input_dim, layerwidth, nb_layers, activation)\u001b[0m\n\u001b[1;32m     44\u001b[0m         \u001b[0mtheta\u001b[0m \u001b[0;34m=\u001b[0m \u001b[0mtheta\u001b[0m\u001b[0;34m.\u001b[0m\u001b[0msplit\u001b[0m\u001b[0;34m(\u001b[0m\u001b[0msplit_sizes\u001b[0m\u001b[0;34m,\u001b[0m \u001b[0mdim\u001b[0m\u001b[0;34m=\u001b[0m\u001b[0;36m1\u001b[0m\u001b[0;34m)\u001b[0m\u001b[0;34m\u001b[0m\u001b[0;34m\u001b[0m\u001b[0m\n\u001b[1;32m     45\u001b[0m         \u001b[0minput_x\u001b[0m \u001b[0;34m=\u001b[0m \u001b[0mx\u001b[0m\u001b[0;34m.\u001b[0m\u001b[0mview\u001b[0m\u001b[0;34m(\u001b[0m\u001b[0mnb_x\u001b[0m\u001b[0;34m,\u001b[0m \u001b[0minput_dim\u001b[0m\u001b[0;34m,\u001b[0m \u001b[0;36m1\u001b[0m\u001b[0;34m)\u001b[0m\u001b[0;34m\u001b[0m\u001b[0;34m\u001b[0m\u001b[0m\n\u001b[0;32m---> 46\u001b[0;31m         m = torch.matmul(theta[0].view(\n\u001b[0m\u001b[1;32m     47\u001b[0m             nb_theta, 1, layerwidth, input_dim), input_x)\n\u001b[1;32m     48\u001b[0m         \u001b[0mm\u001b[0m \u001b[0;34m=\u001b[0m \u001b[0mm\u001b[0m\u001b[0;34m.\u001b[0m\u001b[0madd\u001b[0m\u001b[0;34m(\u001b[0m\u001b[0mtheta\u001b[0m\u001b[0;34m[\u001b[0m\u001b[0;36m1\u001b[0m\u001b[0;34m]\u001b[0m\u001b[0;34m.\u001b[0m\u001b[0mreshape\u001b[0m\u001b[0;34m(\u001b[0m\u001b[0mnb_theta\u001b[0m\u001b[0;34m,\u001b[0m \u001b[0;36m1\u001b[0m\u001b[0;34m,\u001b[0m \u001b[0mlayerwidth\u001b[0m\u001b[0;34m,\u001b[0m \u001b[0;36m1\u001b[0m\u001b[0;34m)\u001b[0m\u001b[0;34m)\u001b[0m\u001b[0;34m\u001b[0m\u001b[0;34m\u001b[0m\u001b[0m\n",
      "\u001b[0;31mKeyboardInterrupt\u001b[0m: "
     ]
    }
   ],
   "source": [
    "\n",
    "with TemporaryDirectory() as temp_dir:\n",
    "    optimizer = FuNNeVI(loglikelihood, prior, projection, n_samples_FU=20, ratio_ood=1., p=2,\n",
    "                          kNNE=1, n_samples_KL=1000, n_samples_LL=5, \n",
    "                          max_iter=10000, learning_rate=0.005, min_lr=1e-7, patience=600, lr_decay=0.5,\n",
    "                          device=device, temp_dir=temp_dir, save_best=False)\n",
    "\n",
    "    the_epoch, the_scores = optimizer.run(G)"
   ]
  },
  {
   "cell_type": "code",
   "execution_count": null,
   "metadata": {},
   "outputs": [],
   "source": []
  }
 ],
 "metadata": {
  "kernelspec": {
   "display_name": "Python 3",
   "language": "python",
   "name": "python3"
  },
  "language_info": {
   "codemirror_mode": {
    "name": "ipython",
    "version": 3
   },
   "file_extension": ".py",
   "mimetype": "text/x-python",
   "name": "python",
   "nbconvert_exporter": "python",
   "pygments_lexer": "ipython3",
   "version": "3.8.2"
  }
 },
 "nbformat": 4,
 "nbformat_minor": 2
}
