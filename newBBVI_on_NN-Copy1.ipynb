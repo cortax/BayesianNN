{
 "cells": [
  {
   "cell_type": "markdown",
   "metadata": {},
   "source": [
    "### IMPORTS"
   ]
  },
  {
   "cell_type": "code",
   "execution_count": 1,
   "metadata": {},
   "outputs": [],
   "source": [
    "from Inference import BBVI "
   ]
  },
  {
   "cell_type": "code",
   "execution_count": 2,
   "metadata": {},
   "outputs": [],
   "source": [
    "from Inference.Variational import MeanFieldVariationalDistribution"
   ]
  },
  {
   "cell_type": "code",
   "execution_count": 3,
   "metadata": {},
   "outputs": [],
   "source": [
    "import torch\n",
    "from torch import nn\n",
    "from torch import functional as F\n",
    "import matplotlib.pyplot as plt\n",
    "import numpy as np\n",
    "from livelossplot import PlotLosses"
   ]
  },
  {
   "cell_type": "code",
   "execution_count": null,
   "metadata": {},
   "outputs": [],
   "source": []
  },
  {
   "cell_type": "code",
   "execution_count": 4,
   "metadata": {},
   "outputs": [],
   "source": [
    "def gaussian_entropy(sigma):\n",
    "    return 0.5 * q.sigma.shape[0] * (1.0 + torch.log(2*torch.tensor(np.pi))) + torch.sum(torch.log(sigma))"
   ]
  },
  {
   "cell_type": "code",
   "execution_count": 5,
   "metadata": {},
   "outputs": [],
   "source": [
    "def _log_norm(x, mu, std):\n",
    "        return -0.5 * torch.log(2*np.pi*std**2) -(0.5 * (1/(std**2))* (x-mu)**2)"
   ]
  },
  {
   "cell_type": "code",
   "execution_count": 6,
   "metadata": {},
   "outputs": [
    {
     "data": {
      "text/plain": [
       "device(type='cuda', index=0)"
      ]
     },
     "execution_count": 6,
     "metadata": {},
     "output_type": "execute_result"
    }
   ],
   "source": [
    "# Find what device to work with\n",
    "device = torch.device('cuda:0' if torch.cuda.is_available() else 'cpu')\n",
    "device"
   ]
  },
  {
   "cell_type": "code",
   "execution_count": 7,
   "metadata": {},
   "outputs": [],
   "source": [
    "# load data and make it in proper shape\n",
    "data = torch.load('data/foong_data.pt')\n",
    "x_data = data[0].to(device)\n",
    "y_data = data[1].to(device)\n",
    "y_data = y_data.unsqueeze(-1)"
   ]
  },
  {
   "cell_type": "code",
   "execution_count": 8,
   "metadata": {},
   "outputs": [],
   "source": [
    "# load data and make it in proper shape\n",
    "data_val = torch.load('data/foong_data_validation.pt')\n",
    "x_data_val = data_val[0].to(device)\n",
    "y_data_val = data_val[1].to(device)\n",
    "y_data_val = y_data_val.unsqueeze(-1)"
   ]
  },
  {
   "cell_type": "code",
   "execution_count": 1,
   "metadata": {},
   "outputs": [],
   "source": [
    "import GPUtil"
   ]
  },
  {
   "cell_type": "code",
   "execution_count": 3,
   "metadata": {},
   "outputs": [
    {
     "name": "stdout",
     "output_type": "stream",
     "text": [
      "| ID | GPU | MEM |\n",
      "------------------\n",
      "|  0 | 12% | 71% |\n"
     ]
    }
   ],
   "source": [
    "GPUtil.showUtilization()"
   ]
  },
  {
   "cell_type": "code",
   "execution_count": 4,
   "metadata": {},
   "outputs": [
    {
     "ename": "NameError",
     "evalue": "name 'torch' is not defined",
     "output_type": "error",
     "traceback": [
      "\u001b[1;31m---------------------------------------------------------------------------\u001b[0m",
      "\u001b[1;31mNameError\u001b[0m                                 Traceback (most recent call last)",
      "\u001b[1;32m<ipython-input-4-c05f0310bcfd>\u001b[0m in \u001b[0;36m<module>\u001b[1;34m\u001b[0m\n\u001b[1;32m----> 1\u001b[1;33m \u001b[0mtorch\u001b[0m\u001b[1;33m.\u001b[0m\u001b[0mcuda\u001b[0m\u001b[1;33m.\u001b[0m\u001b[0mmemory_allocated\u001b[0m\u001b[1;33m(\u001b[0m\u001b[0mdevice\u001b[0m\u001b[1;33m=\u001b[0m\u001b[0mdevice\u001b[0m\u001b[1;33m)\u001b[0m\u001b[1;33m\u001b[0m\u001b[1;33m\u001b[0m\u001b[0m\n\u001b[0m",
      "\u001b[1;31mNameError\u001b[0m: name 'torch' is not defined"
     ]
    }
   ],
   "source": [
    "torch.cuda.memory_allocated(device=device)"
   ]
  },
  {
   "cell_type": "code",
   "execution_count": null,
   "metadata": {},
   "outputs": [],
   "source": []
  },
  {
   "cell_type": "code",
   "execution_count": 13,
   "metadata": {},
   "outputs": [],
   "source": [
    "def logprior(x):\n",
    "    return prior.log_prob(x)"
   ]
  },
  {
   "cell_type": "code",
   "execution_count": 14,
   "metadata": {},
   "outputs": [],
   "source": [
    "def loglikelihood(x):\n",
    "    Net.set_parameters(x)\n",
    "    y_pred = Net(x_data)\n",
    "    L = _log_norm(y_pred, y_data, torch.tensor([0.1],device=device))\n",
    "    return torch.sum(L, dim=[1,2]).unsqueeze(-1)"
   ]
  },
  {
   "cell_type": "code",
   "execution_count": 15,
   "metadata": {},
   "outputs": [],
   "source": [
    "def logposterior(x):\n",
    "    return logprior(x) + loglikelihood(x)"
   ]
  },
  {
   "cell_type": "code",
   "execution_count": null,
   "metadata": {},
   "outputs": [],
   "source": []
  },
  {
   "cell_type": "code",
   "execution_count": 29,
   "metadata": {},
   "outputs": [],
   "source": [
    "def train():\n",
    "    def logprior(x):\n",
    "        return prior.log_prob(x)\n",
    "    \n",
    "    def loglikelihood(x):\n",
    "        Net.set_parameters(x)\n",
    "        y_pred = Net(x_data)\n",
    "        L = _log_norm(y_pred, y_data, torch.tensor([0.1],device=device))\n",
    "        return torch.sum(L, dim=[1,2]).unsqueeze(-1)\n",
    "    \n",
    "    def predictive_loglikelihood(x):\n",
    "        Net.set_parameters(x)\n",
    "        y_pred_val = Net(x_data_val)\n",
    "        L = _log_norm(y_pred_val, y_data_val, torch.tensor([0.1],device=device))\n",
    "        return torch.sum(L, dim=[1,2]).unsqueeze(-1)\n",
    "    \n",
    "    def logposterior(x):\n",
    "        return logprior(x) + loglikelihood(x)\n",
    "    \n",
    "    Net = BBVI.VariationalNetwork(input_size=1, output_size=1, layer_width=50, nb_layers=4, device=device)\n",
    "    \n",
    "    param_count = int(Net.count_parameters()/2)\n",
    "    \n",
    "    prior = MeanFieldVariationalDistribution(param_count, sigma=0.5, device=device)\n",
    "    prior.mu.requires_grad = False\n",
    "    prior.rho.requires_grad = False\n",
    "    \n",
    "    q = MeanFieldVariationalDistribution(param_count, sigma=0.0001, device=device)\n",
    "    q.mu = nn.Parameter(prior.sample()[0,:].detach().clone().to(device), requires_grad=True) \n",
    "    \n",
    "    q.rho.requires_grad = True\n",
    "    q.mu.requires_grad = True\n",
    "    \n",
    "    n_samples_ELBO = 100\n",
    "    \n",
    "    optimizer = torch.optim.Adam(q.parameters(), lr=0.01)\n",
    "    scheduler = torch.optim.lr_scheduler.ReduceLROnPlateau(optimizer, patience=50, factor=0.5)\n",
    "    \n",
    "    \n",
    "    liveloss = PlotLosses()\n",
    "    for t in range(10000):\n",
    "        logs = {}\n",
    "        optimizer.zero_grad()\n",
    "\n",
    "        z = q.sample(n_samples_ELBO)\n",
    "        LQ = q.log_prob(z)\n",
    "        LP = logposterior(z)\n",
    "        L = (LQ - 1000*LP).mean()\n",
    "        \n",
    "        with torch.no_grad():\n",
    "            LL = predictive_loglikelihood(z).mean().detach().clone()\n",
    "\n",
    "        L.backward()\n",
    "\n",
    "        learning_rate = optimizer.param_groups[0]['lr']\n",
    "\n",
    "        scheduler.step(L.detach().clone().cpu().numpy())\n",
    "        logs['ELBO'] = L.detach().clone().cpu().numpy()\n",
    "        logs['learning rate'] = learning_rate\n",
    "        logs['memory'] = torch.cuda.memory_allocated(device=device)\n",
    "        logs['predictive likelihood'] = LL.detach().clone().cpu().numpy()\n",
    "        liveloss.update(logs)\n",
    "\n",
    "        if t % 10 == 0:\n",
    "            liveloss.draw()\n",
    "\n",
    "        optimizer.step()\n",
    "\n",
    "        if learning_rate < 0.00001:\n",
    "            break\n",
    "    return q"
   ]
  },
  {
   "cell_type": "code",
   "execution_count": null,
   "metadata": {},
   "outputs": [],
   "source": []
  },
  {
   "cell_type": "code",
   "execution_count": 30,
   "metadata": {},
   "outputs": [
    {
     "data": {
      "image/png": "[encoded data removed]",
      "text/plain": [
       "<Figure size 864x864 with 4 Axes>"
      ]
     },
     "metadata": {
      "needs_background": "light"
     },
     "output_type": "display_data"
    },
    {
     "name": "stdout",
     "output_type": "stream",
     "text": [
      "ELBO:\n",
      "training   (min: 1078382.500, max: 140621920.000, cur: 1078579.750)\n",
      "\n",
      "learning rate:\n",
      "training   (min:    0.000, max:    0.010, cur:    0.000)\n",
      "\n",
      "memory:\n",
      "training   (min: 2843136.000, max: 2929152.000, cur: 2929152.000)\n",
      "\n",
      "predictive likelihood:\n",
      "training   (min: -1330061.250, max: 1773.000, cur: 1750.191)\n"
     ]
    }
   ],
   "source": [
    "%matplotlib inline\n",
    "q = train()"
   ]
  },
  {
   "cell_type": "code",
   "execution_count": null,
   "metadata": {},
   "outputs": [],
   "source": []
  },
  {
   "cell_type": "code",
   "execution_count": null,
   "metadata": {},
   "outputs": [],
   "source": [
    "q.mu.detach_()\n",
    "q.rho.detach_()"
   ]
  },
  {
   "cell_type": "code",
   "execution_count": null,
   "metadata": {},
   "outputs": [],
   "source": []
  },
  {
   "cell_type": "code",
   "execution_count": null,
   "metadata": {},
   "outputs": [],
   "source": []
  },
  {
   "cell_type": "code",
   "execution_count": null,
   "metadata": {},
   "outputs": [],
   "source": []
  },
  {
   "cell_type": "code",
   "execution_count": null,
   "metadata": {},
   "outputs": [],
   "source": [
    "q.rho.requires_grad = True\n",
    "q.mu.requires_grad = False"
   ]
  },
  {
   "cell_type": "code",
   "execution_count": null,
   "metadata": {},
   "outputs": [],
   "source": [
    "q.rho.requires_grad = False\n",
    "q.mu.requires_grad = True"
   ]
  },
  {
   "cell_type": "code",
   "execution_count": null,
   "metadata": {},
   "outputs": [],
   "source": [
    "dir()"
   ]
  },
  {
   "cell_type": "code",
   "execution_count": null,
   "metadata": {},
   "outputs": [],
   "source": []
  },
  {
   "cell_type": "code",
   "execution_count": null,
   "metadata": {},
   "outputs": [],
   "source": [
    "def marginal_loglikelihood(nb_samples, q, x, y):\n",
    "    z = q.sample(nb_samples)\n",
    "    Net = BBVI.VariationalNetwork(input_size=1, output_size=1, layer_width=50, nb_layers=4, device=device)\n",
    "    param_count = int(Net.count_parameters()/2)\n",
    "    \n",
    "    prior = MeanFieldVariationalDistribution(param_count, sigma=0.5, device=device)\n",
    "    prior.mu.requires_grad = False\n",
    "    prior.rho.requires_grad = False\n",
    "    \n",
    "    Net.set_parameters(z)\n",
    "    y_pred = Net(x)\n",
    "    L = _log_norm(y_pred, y, torch.tensor([0.1],device=device))\n",
    "    loglikelihood = torch.sum(L, dim=[1,2]).unsqueeze(-1)\n",
    "\n",
    "    logprior = prior.log_prob(z)\n",
    "    return (logprior + loglikelihood).mean()"
   ]
  },
  {
   "cell_type": "code",
   "execution_count": null,
   "metadata": {},
   "outputs": [],
   "source": [
    "marginal_loglikelihood(1000, q, x_data_val, y_data_val)"
   ]
  },
  {
   "cell_type": "code",
   "execution_count": null,
   "metadata": {},
   "outputs": [],
   "source": [
    "Net = None"
   ]
  },
  {
   "cell_type": "code",
   "execution_count": null,
   "metadata": {},
   "outputs": [],
   "source": []
  },
  {
   "cell_type": "code",
   "execution_count": 31,
   "metadata": {},
   "outputs": [],
   "source": [
    "x_test = torch.linspace(-2.0, 2.0).unsqueeze(1).to(device)"
   ]
  },
  {
   "cell_type": "code",
   "execution_count": 32,
   "metadata": {},
   "outputs": [
    {
     "data": {
      "image/png": "[encoded data removed]",
      "text/plain": [
       "<Figure size 842.4x595.44 with 1 Axes>"
      ]
     },
     "metadata": {
      "needs_background": "light"
     },
     "output_type": "display_data"
    }
   ],
   "source": [
    "# Sampling the distribution over Neural Networks 1000 times, and plotting with transparency to make it appear as a smooth distribution\n",
    "fig, ax = plt.subplots()\n",
    "fig.set_size_inches(11.7, 8.27)\n",
    "plt.xlim(-2, 2) \n",
    "plt.ylim(-4, 4) \n",
    "plt.scatter(x_data.cpu(), y_data.cpu())\n",
    "for _ in range(1000):\n",
    "    z = q.sample()\n",
    "    Net = BBVI.VariationalNetwork(input_size=1, output_size=1, layer_width=50, nb_layers=4, device=device)\n",
    "    Net.set_parameters(z)\n",
    "\n",
    "    y_test = Net.forward(x_test)\n",
    "    plt.plot(x_test.detach().cpu().numpy(), y_test.squeeze(0).detach().cpu().numpy(), alpha=0.05, linewidth=1, color='lightblue')"
   ]
  },
  {
   "cell_type": "code",
   "execution_count": null,
   "metadata": {},
   "outputs": [],
   "source": [
    "# Sampling the distribution over Neural Networks 1000 times, and plotting with transparency to make it appear as a smooth distribution\n",
    "fig, ax = plt.subplots()\n",
    "fig.set_size_inches(11.7, 8.27)\n",
    "plt.scatter(x_data.cpu(), y_data.cpu())\n",
    "for _ in range(1000):\n",
    "    z = prior.sample()\n",
    "    Net.set_parameters(z)\n",
    "\n",
    "    y_test = Net.forward(x_test)\n",
    "    plt.plot(x_test.detach().cpu().numpy(), y_test.squeeze(0).detach().cpu().numpy(), alpha=0.05, linewidth=1, color='lightblue')"
   ]
  },
  {
   "cell_type": "code",
   "execution_count": null,
   "metadata": {},
   "outputs": [],
   "source": []
  },
  {
   "cell_type": "code",
   "execution_count": null,
   "metadata": {},
   "outputs": [],
   "source": []
  }
 ],
 "metadata": {
  "kernelspec": {
   "display_name": "Python 3",
   "language": "python",
   "name": "python3"
  },
  "language_info": {
   "codemirror_mode": {
    "name": "ipython",
    "version": 3
   },
   "file_extension": ".py",
   "mimetype": "text/x-python",
   "name": "python",
   "nbconvert_exporter": "python",
   "pygments_lexer": "ipython3",
   "version": "3.7.3"
  }
 },
 "nbformat": 4,
 "nbformat_minor": 2
}
