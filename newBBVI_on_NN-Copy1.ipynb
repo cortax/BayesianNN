{
 "cells": [
  {
   "cell_type": "markdown",
   "metadata": {},
   "source": [
    "### IMPORTS"
   ]
  },
  {
   "cell_type": "code",
   "execution_count": 1,
   "metadata": {},
   "outputs": [],
   "source": [
    "from Inference.Variational import MeanFieldVariationalDistribution"
   ]
  },
  {
   "cell_type": "code",
   "execution_count": 2,
   "metadata": {},
   "outputs": [],
   "source": [
    "import torch\n",
    "from torch import nn\n",
    "from torch import functional as F\n",
    "import matplotlib.pyplot as plt\n",
    "import numpy as np\n",
    "from livelossplot import PlotLosses\n",
    "from Tools.NNtools import *"
   ]
  },
  {
   "cell_type": "code",
   "execution_count": 3,
   "metadata": {},
   "outputs": [
    {
     "data": {
      "text/plain": [
       "device(type='cuda', index=0)"
      ]
     },
     "execution_count": 3,
     "metadata": {},
     "output_type": "execute_result"
    }
   ],
   "source": [
    "# Find what device to work with\n",
    "device = torch.device('cuda:0' if torch.cuda.is_available() else 'cpu')\n",
    "device"
   ]
  },
  {
   "cell_type": "code",
   "execution_count": 4,
   "metadata": {},
   "outputs": [],
   "source": [
    "def gaussian_entropy(sigma):\n",
    "    return 0.5 * q.sigma.shape[0] * (1.0 + torch.log(2*torch.tensor(np.pi))) + torch.sum(torch.log(sigma))"
   ]
  },
  {
   "cell_type": "code",
   "execution_count": 5,
   "metadata": {},
   "outputs": [],
   "source": [
    "def _log_norm(x, mu, std):\n",
    "        return -0.5 * torch.log(2*np.pi*std**2) -(0.5 * (1/(std**2))* (x-mu)**2)"
   ]
  },
  {
   "cell_type": "code",
   "execution_count": null,
   "metadata": {},
   "outputs": [],
   "source": []
  },
  {
   "cell_type": "code",
   "execution_count": 6,
   "metadata": {},
   "outputs": [],
   "source": [
    "model = nn.Sequential(\n",
    "                nn.Linear(1, 10),\n",
    "                nn.Tanh(),\n",
    "                nn.Linear(10, 20),\n",
    "                nn.Tanh(),\n",
    "                nn.Linear(20, 1),\n",
    "                )"
   ]
  },
  {
   "cell_type": "code",
   "execution_count": 7,
   "metadata": {},
   "outputs": [
    {
     "data": {
      "text/plain": [
       "Sequential(\n",
       "  (0): Linear(in_features=1, out_features=10, bias=True)\n",
       "  (1): Tanh()\n",
       "  (2): Linear(in_features=10, out_features=20, bias=True)\n",
       "  (3): Tanh()\n",
       "  (4): Linear(in_features=20, out_features=1, bias=True)\n",
       ")"
      ]
     },
     "execution_count": 7,
     "metadata": {},
     "output_type": "execute_result"
    }
   ],
   "source": [
    "model.to(device)"
   ]
  },
  {
   "cell_type": "code",
   "execution_count": null,
   "metadata": {},
   "outputs": [],
   "source": []
  },
  {
   "cell_type": "code",
   "execution_count": 8,
   "metadata": {},
   "outputs": [],
   "source": [
    "# load data and make it in proper shape\n",
    "data = torch.load('data/foong_data.pt')\n",
    "x_data = data[0].to(device)\n",
    "y_data = data[1].to(device)\n",
    "y_data = y_data.unsqueeze(-1)"
   ]
  },
  {
   "cell_type": "code",
   "execution_count": 9,
   "metadata": {},
   "outputs": [],
   "source": [
    "# load data and make it in proper shape\n",
    "data_val = torch.load('data/foong_data_validation.pt')\n",
    "x_data_val = data_val[0].to(device)\n",
    "y_data_val = data_val[1].to(device)\n",
    "y_data_val = y_data_val.unsqueeze(-1)"
   ]
  },
  {
   "cell_type": "code",
   "execution_count": null,
   "metadata": {},
   "outputs": [],
   "source": []
  },
  {
   "cell_type": "code",
   "execution_count": 10,
   "metadata": {},
   "outputs": [],
   "source": [
    "param_count = get_param(model).shape[0]"
   ]
  },
  {
   "cell_type": "code",
   "execution_count": 11,
   "metadata": {},
   "outputs": [],
   "source": [
    "prior = MeanFieldVariationalDistribution(param_count, sigma=1.0, device=device)\n",
    "prior.mu.requires_grad = False\n",
    "prior.rho.requires_grad = False"
   ]
  },
  {
   "cell_type": "code",
   "execution_count": 12,
   "metadata": {},
   "outputs": [],
   "source": [
    "def logprior(x):\n",
    "    return prior.log_prob(x)"
   ]
  },
  {
   "cell_type": "code",
   "execution_count": 13,
   "metadata": {},
   "outputs": [],
   "source": [
    "def loglikelihood(theta, model, x, y, sigma_noise):\n",
    "    set_param(model, theta)\n",
    "    y_pred = model(x)\n",
    "    L = _log_norm(y_pred, y, torch.tensor([sigma_noise],device=device))\n",
    "    return torch.sum(L).unsqueeze(-1)"
   ]
  },
  {
   "cell_type": "code",
   "execution_count": 14,
   "metadata": {},
   "outputs": [],
   "source": [
    "def logposterior(theta, model, x, y, sigma_noise):\n",
    "    return logprior(theta) + loglikelihood(theta, model, x, y, sigma_noise)"
   ]
  },
  {
   "cell_type": "code",
   "execution_count": null,
   "metadata": {},
   "outputs": [],
   "source": []
  },
  {
   "cell_type": "code",
   "execution_count": 15,
   "metadata": {},
   "outputs": [],
   "source": [
    "q = MeanFieldVariationalDistribution(param_count, sigma=0.0001, device=device)\n",
    "q.mu = nn.Parameter(prior.sample()[0,:].detach().clone().to(device), requires_grad=True) \n",
    "\n",
    "q.rho.requires_grad = False\n",
    "q.mu.requires_grad = True"
   ]
  },
  {
   "cell_type": "code",
   "execution_count": null,
   "metadata": {},
   "outputs": [],
   "source": []
  },
  {
   "cell_type": "code",
   "execution_count": 58,
   "metadata": {},
   "outputs": [],
   "source": [
    "theta = q.sample()"
   ]
  },
  {
   "cell_type": "code",
   "execution_count": 59,
   "metadata": {},
   "outputs": [
    {
     "data": {
      "text/plain": [
       "tensor([[ 1.2050e-04,  7.9208e-02, -8.4977e-05,  9.1194e-05, -6.1342e-05,\n",
       "         -2.9123e-05,  5.1749e-03, -1.4512e-03, -3.4449e-04, -6.8910e-01,\n",
       "          1.2016e-04, -1.0615e-04,  2.2181e-04, -7.9637e-05, -8.7739e-06,\n",
       "         -3.4229e-02,  1.4964e-04, -8.7872e-02,  1.9428e-04,  6.4098e-05,\n",
       "         -6.3019e-05, -1.1021e-04,  5.9306e-05, -1.2236e-02, -2.6770e-05,\n",
       "          5.6745e-04, -2.4523e-04, -1.4410e-04, -3.6802e-04,  1.7714e-04,\n",
       "          1.8862e-02, -7.6364e-02,  2.7637e-05,  6.1804e-05,  1.9858e-05,\n",
       "          9.1319e-02, -1.2965e-03,  1.2030e-02, -1.6995e-01, -8.8457e-05,\n",
       "          9.6465e-02,  2.7228e-05,  1.5638e-04,  1.0298e-01,  2.3329e-01,\n",
       "          1.2082e-04,  3.7065e-05,  2.8988e-02,  7.2223e-05,  1.9424e-02,\n",
       "          3.9656e-02,  1.9942e-02,  4.2244e-01, -1.6611e-05, -5.5483e-05,\n",
       "          7.1733e-05, -2.1670e-04, -5.6706e-02, -5.7100e-05,  1.0148e-04,\n",
       "          1.4847e-01,  5.4335e-05,  1.0041e-04, -5.4781e-01, -4.7334e-03,\n",
       "         -5.7059e-05,  5.7464e-05, -2.8373e-05,  4.5594e-05,  1.1081e+00,\n",
       "         -1.3717e-04,  6.2927e-05,  1.7027e-01, -7.1297e-06,  1.6032e-02,\n",
       "          3.1911e-01,  4.3348e-05,  2.6459e-04, -5.5264e-02,  5.4599e-02,\n",
       "         -4.9978e-03,  2.7210e-01, -7.9206e-06,  1.0292e-01,  6.9527e-05,\n",
       "         -1.0132e-04,  3.2947e-05,  5.9499e-01,  7.8694e-05,  9.3301e-05,\n",
       "         -1.0231e+00, -3.0675e-05,  2.3388e-04,  1.2572e-02,  8.5691e-02,\n",
       "          1.8760e-04, -1.1024e-02, -1.8863e-04, -1.2032e-04, -1.3539e-05,\n",
       "         -2.0881e-05, -8.6368e-05,  7.0944e-05, -1.0422e-04, -1.3090e-01,\n",
       "          1.2605e-04,  5.2925e-05, -9.0636e-05,  1.3825e-01,  1.8704e-01,\n",
       "          1.7565e-04,  1.6643e-05,  5.5430e-04,  1.0900e-04, -1.1071e-04,\n",
       "         -1.9450e-04,  4.9712e-05, -4.0472e-01,  1.4274e-04,  8.5185e-06,\n",
       "         -8.4929e-03,  1.5254e-01,  2.9014e-05,  7.1779e-05,  5.7300e-05,\n",
       "          2.8639e-01,  5.7264e-01, -7.1166e-01, -6.6446e-05,  1.3090e-04,\n",
       "         -3.7504e-04, -1.7189e-01, -9.5051e-03, -3.4414e-02,  1.5165e-04,\n",
       "         -2.7567e-04,  1.3578e-04, -1.0772e-04,  1.3193e-04,  6.8677e-03,\n",
       "         -9.4442e-05, -6.5375e-02, -3.8250e-04,  1.2741e-01,  5.9192e-06,\n",
       "          5.2857e-04,  1.5969e-02,  1.6412e-05, -5.9975e-02,  7.0753e-01,\n",
       "         -7.3331e-05, -1.9801e-05,  3.8930e-05,  1.9324e-04,  1.3421e-03,\n",
       "          7.4736e-02,  9.6916e-01,  2.3965e-04, -1.3981e-05, -1.1452e-04,\n",
       "          1.4149e-01, -5.0965e-04,  4.0898e-05,  7.1864e-05, -1.1755e-04,\n",
       "         -4.0169e-01, -4.3779e-03, -2.1178e-04,  1.5562e-04, -1.0101e-01,\n",
       "          5.2484e-02, -5.2476e-05, -1.6217e-04,  4.0946e-05, -5.7183e-04,\n",
       "         -1.9870e-04, -9.4304e-05, -1.3084e-04, -3.4625e-02,  8.2295e-02,\n",
       "         -7.4737e-05, -5.2039e-03,  7.9866e-02, -1.5822e-05, -3.5399e-01,\n",
       "         -3.5134e-04, -3.2109e-01,  8.0638e-05, -3.4422e-04, -3.2237e-02,\n",
       "          4.1686e-05,  1.6791e-02,  3.3553e-02,  1.5089e-04, -2.4391e-05,\n",
       "         -5.5604e-02,  1.8985e-02, -3.4567e-05, -3.4669e-02, -3.4722e-05,\n",
       "          9.8410e-05,  5.6860e-04,  4.9786e-03,  1.1994e-04,  4.1572e-01,\n",
       "          6.2606e-01, -1.9347e-04, -5.6954e-05, -1.2789e-04,  3.0201e-05,\n",
       "         -2.0061e-04,  3.6789e-01,  2.2451e-06,  1.6329e-04,  1.2684e-04,\n",
       "         -1.4669e-02, -6.7520e-05, -1.9334e-01, -1.8908e-04,  1.0764e-01,\n",
       "          2.0371e-04,  4.8837e-05,  5.1135e-05, -9.0667e-06, -1.1269e-04,\n",
       "         -3.3580e-01, -4.9082e-03,  1.0482e-04, -6.5904e-02,  2.0275e-05,\n",
       "         -8.1865e-03,  1.2562e-02,  2.6507e-02,  2.9642e-04, -1.4222e-02,\n",
       "         -2.9753e-04,  1.0735e-04, -1.3726e-01, -7.0929e-03,  1.4601e-05,\n",
       "         -1.7993e-01,  9.0415e-05,  4.6706e-05, -6.1289e-01,  4.7780e-05,\n",
       "          1.2180e-04, -2.1781e-04, -5.1368e-04, -2.0756e-04, -6.6498e-05,\n",
       "         -2.5187e-02,  5.0530e-02,  1.5692e-04,  6.8004e-05, -8.4164e-05,\n",
       "          2.9900e-07,  2.5769e-06,  4.7852e-05, -9.7931e-05,  7.8754e-03,\n",
       "         -1.6464e-01]], device='cuda:0', grad_fn=<AddBackward0>)"
      ]
     },
     "execution_count": 59,
     "metadata": {},
     "output_type": "execute_result"
    }
   ],
   "source": [
    "theta"
   ]
  },
  {
   "cell_type": "code",
   "execution_count": 64,
   "metadata": {},
   "outputs": [],
   "source": [
    "S = [p.shape for p in model.parameters()]\n",
    "I = [0] + list(np.cumsum([s.numel() for s in S]))"
   ]
  },
  {
   "cell_type": "code",
   "execution_count": 79,
   "metadata": {},
   "outputs": [],
   "source": [
    "P = [p for p in model.parameters()]"
   ]
  },
  {
   "cell_type": "code",
   "execution_count": 80,
   "metadata": {},
   "outputs": [],
   "source": [
    "i = 2"
   ]
  },
  {
   "cell_type": "code",
   "execution_count": 81,
   "metadata": {},
   "outputs": [
    {
     "data": {
      "text/plain": [
       "Parameter containing:\n",
       "tensor([[-6.3019e-05, -1.1021e-04,  5.9306e-05, -1.2236e-02, -2.6770e-05,\n",
       "          5.6745e-04, -2.4523e-04, -1.4410e-04, -3.6802e-04,  1.7714e-04],\n",
       "        [ 1.8862e-02, -7.6364e-02,  2.7637e-05,  6.1804e-05,  1.9858e-05,\n",
       "          9.1319e-02, -1.2965e-03,  1.2030e-02, -1.6995e-01, -8.8457e-05],\n",
       "        [ 9.6465e-02,  2.7228e-05,  1.5638e-04,  1.0298e-01,  2.3329e-01,\n",
       "          1.2082e-04,  3.7065e-05,  2.8988e-02,  7.2223e-05,  1.9424e-02],\n",
       "        [ 3.9656e-02,  1.9942e-02,  4.2244e-01, -1.6611e-05, -5.5483e-05,\n",
       "          7.1733e-05, -2.1670e-04, -5.6706e-02, -5.7100e-05,  1.0148e-04],\n",
       "        [ 1.4847e-01,  5.4335e-05,  1.0041e-04, -5.4781e-01, -4.7334e-03,\n",
       "         -5.7059e-05,  5.7464e-05, -2.8373e-05,  4.5594e-05,  1.1081e+00],\n",
       "        [-1.3717e-04,  6.2927e-05,  1.7027e-01, -7.1297e-06,  1.6032e-02,\n",
       "          3.1911e-01,  4.3348e-05,  2.6459e-04, -5.5264e-02,  5.4599e-02],\n",
       "        [-4.9978e-03,  2.7210e-01, -7.9206e-06,  1.0292e-01,  6.9527e-05,\n",
       "         -1.0132e-04,  3.2947e-05,  5.9499e-01,  7.8694e-05,  9.3301e-05],\n",
       "        [-1.0231e+00, -3.0675e-05,  2.3388e-04,  1.2572e-02,  8.5691e-02,\n",
       "          1.8760e-04, -1.1024e-02, -1.8863e-04, -1.2032e-04, -1.3539e-05],\n",
       "        [-2.0881e-05, -8.6368e-05,  7.0944e-05, -1.0422e-04, -1.3090e-01,\n",
       "          1.2605e-04,  5.2925e-05, -9.0636e-05,  1.3825e-01,  1.8704e-01],\n",
       "        [ 1.7565e-04,  1.6643e-05,  5.5430e-04,  1.0900e-04, -1.1071e-04,\n",
       "         -1.9450e-04,  4.9712e-05, -4.0472e-01,  1.4274e-04,  8.5185e-06],\n",
       "        [-8.4929e-03,  1.5254e-01,  2.9014e-05,  7.1779e-05,  5.7300e-05,\n",
       "          2.8639e-01,  5.7264e-01, -7.1166e-01, -6.6446e-05,  1.3090e-04],\n",
       "        [-3.7504e-04, -1.7189e-01, -9.5051e-03, -3.4414e-02,  1.5165e-04,\n",
       "         -2.7567e-04,  1.3578e-04, -1.0772e-04,  1.3193e-04,  6.8677e-03],\n",
       "        [-9.4442e-05, -6.5375e-02, -3.8250e-04,  1.2741e-01,  5.9192e-06,\n",
       "          5.2857e-04,  1.5969e-02,  1.6412e-05, -5.9975e-02,  7.0753e-01],\n",
       "        [-7.3331e-05, -1.9801e-05,  3.8930e-05,  1.9324e-04,  1.3421e-03,\n",
       "          7.4736e-02,  9.6916e-01,  2.3965e-04, -1.3981e-05, -1.1452e-04],\n",
       "        [ 1.4149e-01, -5.0965e-04,  4.0898e-05,  7.1864e-05, -1.1755e-04,\n",
       "         -4.0169e-01, -4.3779e-03, -2.1178e-04,  1.5562e-04, -1.0101e-01],\n",
       "        [ 5.2484e-02, -5.2476e-05, -1.6217e-04,  4.0946e-05, -5.7183e-04,\n",
       "         -1.9870e-04, -9.4304e-05, -1.3084e-04, -3.4625e-02,  8.2295e-02],\n",
       "        [-7.4737e-05, -5.2039e-03,  7.9866e-02, -1.5822e-05, -3.5399e-01,\n",
       "         -3.5134e-04, -3.2109e-01,  8.0638e-05, -3.4422e-04, -3.2237e-02],\n",
       "        [ 4.1686e-05,  1.6791e-02,  3.3553e-02,  1.5089e-04, -2.4391e-05,\n",
       "         -5.5604e-02,  1.8985e-02, -3.4567e-05, -3.4669e-02, -3.4722e-05],\n",
       "        [ 9.8410e-05,  5.6860e-04,  4.9786e-03,  1.1994e-04,  4.1572e-01,\n",
       "          6.2606e-01, -1.9347e-04, -5.6954e-05, -1.2789e-04,  3.0201e-05],\n",
       "        [-2.0061e-04,  3.6789e-01,  2.2451e-06,  1.6329e-04,  1.2684e-04,\n",
       "         -1.4669e-02, -6.7520e-05, -1.9334e-01, -1.8908e-04,  1.0764e-01]],\n",
       "       device='cuda:0', requires_grad=True)"
      ]
     },
     "execution_count": 81,
     "metadata": {},
     "output_type": "execute_result"
    }
   ],
   "source": [
    "torch.nn.Parameter(torch.reshape(theta[0,I[i]:I[i+1]], S[i]))"
   ]
  },
  {
   "cell_type": "code",
   "execution_count": 87,
   "metadata": {},
   "outputs": [
    {
     "data": {
      "text/plain": [
       "Parameter containing:\n",
       "tensor([[-6.3019e-05, -1.1021e-04,  5.9306e-05, -1.2236e-02, -2.6770e-05,\n",
       "          5.6745e-04, -2.4523e-04, -1.4410e-04, -3.6802e-04,  1.7714e-04],\n",
       "        [ 1.8862e-02, -7.6364e-02,  2.7637e-05,  6.1804e-05,  1.9858e-05,\n",
       "          9.1319e-02, -1.2965e-03,  1.2030e-02, -1.6995e-01, -8.8457e-05],\n",
       "        [ 9.6465e-02,  2.7228e-05,  1.5638e-04,  1.0298e-01,  2.3329e-01,\n",
       "          1.2082e-04,  3.7065e-05,  2.8988e-02,  7.2223e-05,  1.9424e-02],\n",
       "        [ 3.9656e-02,  1.9942e-02,  4.2244e-01, -1.6611e-05, -5.5483e-05,\n",
       "          7.1733e-05, -2.1670e-04, -5.6706e-02, -5.7100e-05,  1.0148e-04],\n",
       "        [ 1.4847e-01,  5.4335e-05,  1.0041e-04, -5.4781e-01, -4.7334e-03,\n",
       "         -5.7059e-05,  5.7464e-05, -2.8373e-05,  4.5594e-05,  1.1081e+00],\n",
       "        [-1.3717e-04,  6.2927e-05,  1.7027e-01, -7.1297e-06,  1.6032e-02,\n",
       "          3.1911e-01,  4.3348e-05,  2.6459e-04, -5.5264e-02,  5.4599e-02],\n",
       "        [-4.9978e-03,  2.7210e-01, -7.9206e-06,  1.0292e-01,  6.9527e-05,\n",
       "         -1.0132e-04,  3.2947e-05,  5.9499e-01,  7.8694e-05,  9.3301e-05],\n",
       "        [-1.0231e+00, -3.0675e-05,  2.3388e-04,  1.2572e-02,  8.5691e-02,\n",
       "          1.8760e-04, -1.1024e-02, -1.8863e-04, -1.2032e-04, -1.3539e-05],\n",
       "        [-2.0881e-05, -8.6368e-05,  7.0944e-05, -1.0422e-04, -1.3090e-01,\n",
       "          1.2605e-04,  5.2925e-05, -9.0636e-05,  1.3825e-01,  1.8704e-01],\n",
       "        [ 1.7565e-04,  1.6643e-05,  5.5430e-04,  1.0900e-04, -1.1071e-04,\n",
       "         -1.9450e-04,  4.9712e-05, -4.0472e-01,  1.4274e-04,  8.5185e-06],\n",
       "        [-8.4929e-03,  1.5254e-01,  2.9014e-05,  7.1779e-05,  5.7300e-05,\n",
       "          2.8639e-01,  5.7264e-01, -7.1166e-01, -6.6446e-05,  1.3090e-04],\n",
       "        [-3.7504e-04, -1.7189e-01, -9.5051e-03, -3.4414e-02,  1.5165e-04,\n",
       "         -2.7567e-04,  1.3578e-04, -1.0772e-04,  1.3193e-04,  6.8677e-03],\n",
       "        [-9.4442e-05, -6.5375e-02, -3.8250e-04,  1.2741e-01,  5.9192e-06,\n",
       "          5.2857e-04,  1.5969e-02,  1.6412e-05, -5.9975e-02,  7.0753e-01],\n",
       "        [-7.3331e-05, -1.9801e-05,  3.8930e-05,  1.9324e-04,  1.3421e-03,\n",
       "          7.4736e-02,  9.6916e-01,  2.3965e-04, -1.3981e-05, -1.1452e-04],\n",
       "        [ 1.4149e-01, -5.0965e-04,  4.0898e-05,  7.1864e-05, -1.1755e-04,\n",
       "         -4.0169e-01, -4.3779e-03, -2.1178e-04,  1.5562e-04, -1.0101e-01],\n",
       "        [ 5.2484e-02, -5.2476e-05, -1.6217e-04,  4.0946e-05, -5.7183e-04,\n",
       "         -1.9870e-04, -9.4304e-05, -1.3084e-04, -3.4625e-02,  8.2295e-02],\n",
       "        [-7.4737e-05, -5.2039e-03,  7.9866e-02, -1.5822e-05, -3.5399e-01,\n",
       "         -3.5134e-04, -3.2109e-01,  8.0638e-05, -3.4422e-04, -3.2237e-02],\n",
       "        [ 4.1686e-05,  1.6791e-02,  3.3553e-02,  1.5089e-04, -2.4391e-05,\n",
       "         -5.5604e-02,  1.8985e-02, -3.4567e-05, -3.4669e-02, -3.4722e-05],\n",
       "        [ 9.8410e-05,  5.6860e-04,  4.9786e-03,  1.1994e-04,  4.1572e-01,\n",
       "          6.2606e-01, -1.9347e-04, -5.6954e-05, -1.2789e-04,  3.0201e-05],\n",
       "        [-2.0061e-04,  3.6789e-01,  2.2451e-06,  1.6329e-04,  1.2684e-04,\n",
       "         -1.4669e-02, -6.7520e-05, -1.9334e-01, -1.8908e-04,  1.0764e-01]],\n",
       "       device='cuda:0', grad_fn=<NotImplemented>)"
      ]
     },
     "execution_count": 87,
     "metadata": {},
     "output_type": "execute_result"
    }
   ],
   "source": [
    "P[i]"
   ]
  },
  {
   "cell_type": "code",
   "execution_count": 83,
   "metadata": {},
   "outputs": [
    {
     "data": {
      "text/plain": [
       "Parameter containing:\n",
       "tensor([[ 8.8864e-05,  2.6104e-04,  1.4859e-04, -1.2262e-02, -8.1558e-05,\n",
       "          6.2325e-04, -3.1478e-04, -1.8654e-04, -4.5879e-05,  5.9376e-05],\n",
       "        [ 1.8785e-02, -7.6552e-02,  1.4259e-05,  2.0822e-04, -8.2391e-05,\n",
       "          9.1598e-02, -1.1354e-03,  1.2242e-02, -1.6994e-01, -1.3897e-04],\n",
       "        [ 9.6589e-02,  1.1475e-04,  2.0821e-05,  1.0300e-01,  2.3326e-01,\n",
       "          3.6796e-05,  3.1299e-05,  2.9096e-02,  1.1366e-04,  1.9292e-02],\n",
       "        [ 3.9589e-02,  2.0036e-02,  4.2225e-01,  5.4407e-05,  7.4636e-05,\n",
       "          7.9495e-05, -1.4665e-05, -5.6916e-02,  6.5493e-05,  1.8050e-04],\n",
       "        [ 1.4844e-01, -1.2049e-05,  2.8429e-05, -5.4780e-01, -4.5208e-03,\n",
       "          2.3438e-05, -9.5868e-05,  1.6055e-04,  7.5991e-05,  1.1081e+00],\n",
       "        [-7.8174e-05, -3.3062e-05,  1.7030e-01,  2.0031e-06,  1.5973e-02,\n",
       "          3.1884e-01,  9.2476e-05, -4.7512e-05, -5.5452e-02,  5.4750e-02],\n",
       "        [-5.1302e-03,  2.7218e-01,  9.1690e-05,  1.0265e-01, -1.6494e-05,\n",
       "          7.9105e-05, -1.7240e-04,  5.9526e-01,  7.3778e-05,  1.0486e-04],\n",
       "        [-1.0232e+00,  3.7558e-05,  3.8873e-04,  1.2662e-02,  8.5563e-02,\n",
       "          8.9832e-05, -1.1331e-02, -4.3474e-05, -7.5036e-05,  1.3190e-04],\n",
       "        [ 1.8014e-04,  1.2877e-05, -1.6159e-04, -1.3219e-04, -1.3083e-01,\n",
       "          2.3590e-04, -1.7249e-04,  1.1209e-05,  1.3830e-01,  1.8695e-01],\n",
       "        [ 8.0696e-05, -2.0006e-04,  5.7985e-04,  7.6577e-05, -1.6839e-04,\n",
       "         -5.8663e-06,  7.8099e-05, -4.0456e-01,  2.2665e-04,  4.4399e-05],\n",
       "        [-8.5699e-03,  1.5261e-01,  1.0515e-04,  1.3446e-04,  4.6674e-05,\n",
       "          2.8625e-01,  5.7243e-01, -7.1146e-01,  2.5533e-05, -1.1977e-04],\n",
       "        [-2.2442e-04, -1.7169e-01, -9.1219e-03, -3.4548e-02, -5.2023e-05,\n",
       "         -8.3320e-05, -4.0856e-05, -8.3904e-05,  1.1194e-04,  6.6511e-03],\n",
       "        [-8.4310e-05, -6.5214e-02, -1.3103e-04,  1.2739e-01,  2.5604e-05,\n",
       "          3.4132e-04,  1.5901e-02, -9.5014e-07, -6.0091e-02,  7.0750e-01],\n",
       "        [ 1.8148e-05, -3.3218e-07,  1.0199e-04,  1.4708e-05,  1.3232e-03,\n",
       "          7.4704e-02,  9.6896e-01,  6.3679e-06,  1.3659e-04, -2.4414e-04],\n",
       "        [ 1.4161e-01, -5.7723e-04, -3.2122e-04,  1.3533e-04,  5.6475e-05,\n",
       "         -4.0165e-01, -4.3321e-03,  2.3448e-05, -1.0025e-04, -1.0104e-01],\n",
       "        [ 5.2550e-02, -1.0613e-05, -2.4943e-04,  8.0894e-05, -6.1964e-04,\n",
       "         -1.9154e-04, -5.2256e-05, -2.1099e-04, -3.4571e-02,  8.2210e-02],\n",
       "        [-3.1087e-04, -5.3462e-03,  7.9859e-02,  4.8990e-05, -3.5401e-01,\n",
       "         -3.2103e-04, -3.2123e-01, -5.1513e-05, -1.3227e-04, -3.2151e-02],\n",
       "        [ 4.4248e-05,  1.6804e-02,  3.3716e-02, -8.0801e-05, -5.9535e-05,\n",
       "         -5.5642e-02,  1.9008e-02,  4.2405e-05, -3.4682e-02,  1.8925e-04],\n",
       "        [-9.2104e-05,  5.4436e-04,  4.9520e-03, -7.4700e-05,  4.1574e-01,\n",
       "          6.2627e-01, -2.0095e-04,  1.5986e-04, -6.6104e-05, -1.6885e-04],\n",
       "        [ 5.8151e-05,  3.6790e-01,  6.0618e-05, -7.6219e-05,  9.7159e-05,\n",
       "         -1.4592e-02,  1.5718e-05, -1.9312e-01,  2.3939e-04,  1.0765e-01]],\n",
       "       device='cuda:0')"
      ]
     },
     "execution_count": 83,
     "metadata": {},
     "output_type": "execute_result"
    }
   ],
   "source": [
    "model.apply"
   ]
  },
  {
   "cell_type": "code",
   "execution_count": 84,
   "metadata": {},
   "outputs": [
    {
     "data": {
      "text/plain": [
       "Parameter containing:\n",
       "tensor([[-6.3019e-05, -1.1021e-04,  5.9306e-05, -1.2236e-02, -2.6770e-05,\n",
       "          5.6745e-04, -2.4523e-04, -1.4410e-04, -3.6802e-04,  1.7714e-04],\n",
       "        [ 1.8862e-02, -7.6364e-02,  2.7637e-05,  6.1804e-05,  1.9858e-05,\n",
       "          9.1319e-02, -1.2965e-03,  1.2030e-02, -1.6995e-01, -8.8457e-05],\n",
       "        [ 9.6465e-02,  2.7228e-05,  1.5638e-04,  1.0298e-01,  2.3329e-01,\n",
       "          1.2082e-04,  3.7065e-05,  2.8988e-02,  7.2223e-05,  1.9424e-02],\n",
       "        [ 3.9656e-02,  1.9942e-02,  4.2244e-01, -1.6611e-05, -5.5483e-05,\n",
       "          7.1733e-05, -2.1670e-04, -5.6706e-02, -5.7100e-05,  1.0148e-04],\n",
       "        [ 1.4847e-01,  5.4335e-05,  1.0041e-04, -5.4781e-01, -4.7334e-03,\n",
       "         -5.7059e-05,  5.7464e-05, -2.8373e-05,  4.5594e-05,  1.1081e+00],\n",
       "        [-1.3717e-04,  6.2927e-05,  1.7027e-01, -7.1297e-06,  1.6032e-02,\n",
       "          3.1911e-01,  4.3348e-05,  2.6459e-04, -5.5264e-02,  5.4599e-02],\n",
       "        [-4.9978e-03,  2.7210e-01, -7.9206e-06,  1.0292e-01,  6.9527e-05,\n",
       "         -1.0132e-04,  3.2947e-05,  5.9499e-01,  7.8694e-05,  9.3301e-05],\n",
       "        [-1.0231e+00, -3.0675e-05,  2.3388e-04,  1.2572e-02,  8.5691e-02,\n",
       "          1.8760e-04, -1.1024e-02, -1.8863e-04, -1.2032e-04, -1.3539e-05],\n",
       "        [-2.0881e-05, -8.6368e-05,  7.0944e-05, -1.0422e-04, -1.3090e-01,\n",
       "          1.2605e-04,  5.2925e-05, -9.0636e-05,  1.3825e-01,  1.8704e-01],\n",
       "        [ 1.7565e-04,  1.6643e-05,  5.5430e-04,  1.0900e-04, -1.1071e-04,\n",
       "         -1.9450e-04,  4.9712e-05, -4.0472e-01,  1.4274e-04,  8.5185e-06],\n",
       "        [-8.4929e-03,  1.5254e-01,  2.9014e-05,  7.1779e-05,  5.7300e-05,\n",
       "          2.8639e-01,  5.7264e-01, -7.1166e-01, -6.6446e-05,  1.3090e-04],\n",
       "        [-3.7504e-04, -1.7189e-01, -9.5051e-03, -3.4414e-02,  1.5165e-04,\n",
       "         -2.7567e-04,  1.3578e-04, -1.0772e-04,  1.3193e-04,  6.8677e-03],\n",
       "        [-9.4442e-05, -6.5375e-02, -3.8250e-04,  1.2741e-01,  5.9192e-06,\n",
       "          5.2857e-04,  1.5969e-02,  1.6412e-05, -5.9975e-02,  7.0753e-01],\n",
       "        [-7.3331e-05, -1.9801e-05,  3.8930e-05,  1.9324e-04,  1.3421e-03,\n",
       "          7.4736e-02,  9.6916e-01,  2.3965e-04, -1.3981e-05, -1.1452e-04],\n",
       "        [ 1.4149e-01, -5.0965e-04,  4.0898e-05,  7.1864e-05, -1.1755e-04,\n",
       "         -4.0169e-01, -4.3779e-03, -2.1178e-04,  1.5562e-04, -1.0101e-01],\n",
       "        [ 5.2484e-02, -5.2476e-05, -1.6217e-04,  4.0946e-05, -5.7183e-04,\n",
       "         -1.9870e-04, -9.4304e-05, -1.3084e-04, -3.4625e-02,  8.2295e-02],\n",
       "        [-7.4737e-05, -5.2039e-03,  7.9866e-02, -1.5822e-05, -3.5399e-01,\n",
       "         -3.5134e-04, -3.2109e-01,  8.0638e-05, -3.4422e-04, -3.2237e-02],\n",
       "        [ 4.1686e-05,  1.6791e-02,  3.3553e-02,  1.5089e-04, -2.4391e-05,\n",
       "         -5.5604e-02,  1.8985e-02, -3.4567e-05, -3.4669e-02, -3.4722e-05],\n",
       "        [ 9.8410e-05,  5.6860e-04,  4.9786e-03,  1.1994e-04,  4.1572e-01,\n",
       "          6.2606e-01, -1.9347e-04, -5.6954e-05, -1.2789e-04,  3.0201e-05],\n",
       "        [-2.0061e-04,  3.6789e-01,  2.2451e-06,  1.6329e-04,  1.2684e-04,\n",
       "         -1.4669e-02, -6.7520e-05, -1.9334e-01, -1.8908e-04,  1.0764e-01]],\n",
       "       device='cuda:0', grad_fn=<NotImplemented>)"
      ]
     },
     "execution_count": 84,
     "metadata": {},
     "output_type": "execute_result"
    }
   ],
   "source": [
    "P[i].set_(torch.reshape(theta[0,I[i]:I[i+1]], S[i]))"
   ]
  },
  {
   "cell_type": "code",
   "execution_count": null,
   "metadata": {},
   "outputs": [],
   "source": []
  },
  {
   "cell_type": "code",
   "execution_count": null,
   "metadata": {},
   "outputs": [],
   "source": []
  },
  {
   "cell_type": "code",
   "execution_count": null,
   "metadata": {},
   "outputs": [],
   "source": []
  },
  {
   "cell_type": "code",
   "execution_count": 16,
   "metadata": {},
   "outputs": [],
   "source": [
    "n_samples_ELBO = 10\n",
    "    \n",
    "optimizer = torch.optim.Adam(q.parameters(), lr=0.01)\n",
    "scheduler = torch.optim.lr_scheduler.ReduceLROnPlateau(optimizer, patience=50, factor=0.5)"
   ]
  },
  {
   "cell_type": "code",
   "execution_count": null,
   "metadata": {},
   "outputs": [],
   "source": []
  },
  {
   "cell_type": "code",
   "execution_count": 17,
   "metadata": {},
   "outputs": [
    {
     "data": {
      "image/png": "[encoded data removed]",
      "text/plain": [
       "<Figure size 864x576 with 2 Axes>"
      ]
     },
     "metadata": {
      "needs_background": "light"
     },
     "output_type": "display_data"
    },
    {
     "name": "stdout",
     "output_type": "stream",
     "text": [
      "ELBO:\n",
      "training   (min: 4053.943, max: 179587.094, cur: 5479.330)\n",
      "\n",
      "learning rate:\n",
      "training   (min:    0.005, max:    0.010, cur:    0.005)\n"
     ]
    },
    {
     "ename": "KeyboardInterrupt",
     "evalue": "",
     "output_type": "error",
     "traceback": [
      "\u001b[1;31m---------------------------------------------------------------------------\u001b[0m",
      "\u001b[1;31mKeyboardInterrupt\u001b[0m                         Traceback (most recent call last)",
      "\u001b[1;32m<ipython-input-17-4184122f91a6>\u001b[0m in \u001b[0;36m<module>\u001b[1;34m\u001b[0m\n\u001b[0;32m     16\u001b[0m     \u001b[1;31m#    LL = predictive_loglikelihood(z).mean().detach().clone()\u001b[0m\u001b[1;33m\u001b[0m\u001b[1;33m\u001b[0m\u001b[1;33m\u001b[0m\u001b[0m\n\u001b[0;32m     17\u001b[0m \u001b[1;33m\u001b[0m\u001b[0m\n\u001b[1;32m---> 18\u001b[1;33m     \u001b[0mL\u001b[0m\u001b[1;33m.\u001b[0m\u001b[0mbackward\u001b[0m\u001b[1;33m(\u001b[0m\u001b[1;33m)\u001b[0m\u001b[1;33m\u001b[0m\u001b[1;33m\u001b[0m\u001b[0m\n\u001b[0m\u001b[0;32m     19\u001b[0m \u001b[1;33m\u001b[0m\u001b[0m\n\u001b[0;32m     20\u001b[0m     \u001b[0mlearning_rate\u001b[0m \u001b[1;33m=\u001b[0m \u001b[0moptimizer\u001b[0m\u001b[1;33m.\u001b[0m\u001b[0mparam_groups\u001b[0m\u001b[1;33m[\u001b[0m\u001b[1;36m0\u001b[0m\u001b[1;33m]\u001b[0m\u001b[1;33m[\u001b[0m\u001b[1;34m'lr'\u001b[0m\u001b[1;33m]\u001b[0m\u001b[1;33m\u001b[0m\u001b[1;33m\u001b[0m\u001b[0m\n",
      "\u001b[1;32m~\\Anaconda3\\envs\\MachineLearningV1\\lib\\site-packages\\torch\\tensor.py\u001b[0m in \u001b[0;36mbackward\u001b[1;34m(self, gradient, retain_graph, create_graph)\u001b[0m\n\u001b[0;32m    100\u001b[0m                 \u001b[0mproducts\u001b[0m\u001b[1;33m.\u001b[0m \u001b[0mDefaults\u001b[0m \u001b[0mto\u001b[0m\u001b[0;31m \u001b[0m\u001b[0;31m`\u001b[0m\u001b[0;31m`\u001b[0m\u001b[1;32mFalse\u001b[0m\u001b[0;31m`\u001b[0m\u001b[0;31m`\u001b[0m\u001b[1;33m.\u001b[0m\u001b[1;33m\u001b[0m\u001b[1;33m\u001b[0m\u001b[0m\n\u001b[0;32m    101\u001b[0m         \"\"\"\n\u001b[1;32m--> 102\u001b[1;33m         \u001b[0mtorch\u001b[0m\u001b[1;33m.\u001b[0m\u001b[0mautograd\u001b[0m\u001b[1;33m.\u001b[0m\u001b[0mbackward\u001b[0m\u001b[1;33m(\u001b[0m\u001b[0mself\u001b[0m\u001b[1;33m,\u001b[0m \u001b[0mgradient\u001b[0m\u001b[1;33m,\u001b[0m \u001b[0mretain_graph\u001b[0m\u001b[1;33m,\u001b[0m \u001b[0mcreate_graph\u001b[0m\u001b[1;33m)\u001b[0m\u001b[1;33m\u001b[0m\u001b[1;33m\u001b[0m\u001b[0m\n\u001b[0m\u001b[0;32m    103\u001b[0m \u001b[1;33m\u001b[0m\u001b[0m\n\u001b[0;32m    104\u001b[0m     \u001b[1;32mdef\u001b[0m \u001b[0mregister_hook\u001b[0m\u001b[1;33m(\u001b[0m\u001b[0mself\u001b[0m\u001b[1;33m,\u001b[0m \u001b[0mhook\u001b[0m\u001b[1;33m)\u001b[0m\u001b[1;33m:\u001b[0m\u001b[1;33m\u001b[0m\u001b[1;33m\u001b[0m\u001b[0m\n",
      "\u001b[1;32m~\\Anaconda3\\envs\\MachineLearningV1\\lib\\site-packages\\torch\\autograd\\__init__.py\u001b[0m in \u001b[0;36mbackward\u001b[1;34m(tensors, grad_tensors, retain_graph, create_graph, grad_variables)\u001b[0m\n\u001b[0;32m     88\u001b[0m     Variable._execution_engine.run_backward(\n\u001b[0;32m     89\u001b[0m         \u001b[0mtensors\u001b[0m\u001b[1;33m,\u001b[0m \u001b[0mgrad_tensors\u001b[0m\u001b[1;33m,\u001b[0m \u001b[0mretain_graph\u001b[0m\u001b[1;33m,\u001b[0m \u001b[0mcreate_graph\u001b[0m\u001b[1;33m,\u001b[0m\u001b[1;33m\u001b[0m\u001b[1;33m\u001b[0m\u001b[0m\n\u001b[1;32m---> 90\u001b[1;33m         allow_unreachable=True)  # allow_unreachable flag\n\u001b[0m\u001b[0;32m     91\u001b[0m \u001b[1;33m\u001b[0m\u001b[0m\n\u001b[0;32m     92\u001b[0m \u001b[1;33m\u001b[0m\u001b[0m\n",
      "\u001b[1;31mKeyboardInterrupt\u001b[0m: "
     ]
    }
   ],
   "source": [
    "liveloss = PlotLosses()\n",
    "for t in range(10000):\n",
    "    logs = {}\n",
    "    optimizer.zero_grad()\n",
    "\n",
    "    listDIV = []\n",
    "    for i in range(n_samples_ELBO):\n",
    "        z = q.sample(1)\n",
    "        LQ = q.log_prob(z)\n",
    "        LP = logposterior(z, model, x_data, y_data, sigma_noise=0.1)\n",
    "        listDIV.append((LQ - LP))\n",
    "\n",
    "    L = torch.stack(listDIV).mean()\n",
    "\n",
    "    #with torch.no_grad():\n",
    "    #    LL = predictive_loglikelihood(z).mean().detach().clone()\n",
    "\n",
    "    L.backward()\n",
    "\n",
    "    learning_rate = optimizer.param_groups[0]['lr']\n",
    "\n",
    "    scheduler.step(L.detach().clone().cpu().numpy())\n",
    "    logs['ELBO'] = L.detach().clone().cpu().numpy()\n",
    "    logs['learning rate'] = learning_rate\n",
    "    #logs['memory'] = torch.cuda.memory_allocated(device=device)\n",
    "    #logs['predictive likelihood'] = LL.detach().clone().cpu().numpy()\n",
    "    liveloss.update(logs)\n",
    "\n",
    "    if t % 10 == 0:\n",
    "        liveloss.draw()\n",
    "\n",
    "    optimizer.step()\n",
    "\n",
    "    if learning_rate < 0.00001:\n",
    "        break"
   ]
  },
  {
   "cell_type": "code",
   "execution_count": null,
   "metadata": {},
   "outputs": [],
   "source": []
  },
  {
   "cell_type": "code",
   "execution_count": null,
   "metadata": {},
   "outputs": [],
   "source": []
  },
  {
   "cell_type": "code",
   "execution_count": 18,
   "metadata": {},
   "outputs": [],
   "source": [
    "x_test = torch.linspace(-2.0, 2.0).unsqueeze(1).to(device)"
   ]
  },
  {
   "cell_type": "code",
   "execution_count": 19,
   "metadata": {},
   "outputs": [
    {
     "data": {
      "image/png": "[encoded data removed]",
      "text/plain": [
       "<Figure size 842.4x595.44 with 1 Axes>"
      ]
     },
     "metadata": {
      "needs_background": "light"
     },
     "output_type": "display_data"
    }
   ],
   "source": [
    "# Sampling the distribution over Neural Networks 1000 times, and plotting with transparency to make it appear as a smooth distribution\n",
    "fig, ax = plt.subplots()\n",
    "fig.set_size_inches(11.7, 8.27)\n",
    "plt.xlim(-2, 2) \n",
    "plt.ylim(-4, 4) \n",
    "plt.scatter(x_data.cpu(), y_data.cpu())\n",
    "for _ in range(1000):\n",
    "    z = q.sample()\n",
    "    set_param(model, z)\n",
    "    y_test = model(x_test)\n",
    "\n",
    "    plt.plot(x_test.detach().cpu().numpy(), y_test.squeeze(0).detach().cpu().numpy(), alpha=0.05, linewidth=1, color='lightblue')"
   ]
  },
  {
   "cell_type": "code",
   "execution_count": null,
   "metadata": {},
   "outputs": [],
   "source": [
    "# Sampling the distribution over Neural Networks 1000 times, and plotting with transparency to make it appear as a smooth distribution\n",
    "fig, ax = plt.subplots()\n",
    "fig.set_size_inches(11.7, 8.27)\n",
    "plt.scatter(x_data.cpu(), y_data.cpu())\n",
    "for _ in range(1000):\n",
    "    z = prior.sample()\n",
    "    set_param(model, z)\n",
    "    y_test = model(x_test)\n",
    "\n",
    "    plt.plot(x_test.detach().cpu().numpy(), y_test.squeeze(0).detach().cpu().numpy(), alpha=0.05, linewidth=1, color='lightblue')"
   ]
  },
  {
   "cell_type": "code",
   "execution_count": null,
   "metadata": {},
   "outputs": [],
   "source": []
  },
  {
   "cell_type": "code",
   "execution_count": null,
   "metadata": {},
   "outputs": [],
   "source": []
  }
 ],
 "metadata": {
  "kernelspec": {
   "display_name": "Python 3",
   "language": "python",
   "name": "python3"
  },
  "language_info": {
   "codemirror_mode": {
    "name": "ipython",
    "version": 3
   },
   "file_extension": ".py",
   "mimetype": "text/x-python",
   "name": "python",
   "nbconvert_exporter": "python",
   "pygments_lexer": "ipython3",
   "version": "3.7.3"
  }
 },
 "nbformat": 4,
 "nbformat_minor": 2
}
